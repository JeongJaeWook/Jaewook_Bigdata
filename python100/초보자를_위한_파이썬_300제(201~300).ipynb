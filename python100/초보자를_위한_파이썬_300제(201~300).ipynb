{
  "nbformat": 4,
  "nbformat_minor": 0,
  "metadata": {
    "colab": {
      "name": "초보자를_위한_파이썬_300제(201~300)",
      "provenance": [],
      "collapsed_sections": [],
      "authorship_tag": "ABX9TyN73QCrF/SfFudDmc8KCG1P",
      "include_colab_link": true
    },
    "kernelspec": {
      "name": "python3",
      "display_name": "Python 3"
    }
  },
  "cells": [
    {
      "cell_type": "markdown",
      "metadata": {
        "id": "view-in-github",
        "colab_type": "text"
      },
      "source": [
        "<a href=\"https://colab.research.google.com/github/JeongJaeWook/Portfolio-Lotto/blob/master/python100/%EC%B4%88%EB%B3%B4%EC%9E%90%EB%A5%BC_%EC%9C%84%ED%95%9C_%ED%8C%8C%EC%9D%B4%EC%8D%AC_300%EC%A0%9C(201~300).ipynb\" target=\"_parent\"><img src=\"https://colab.research.google.com/assets/colab-badge.svg\" alt=\"Open In Colab\"/></a>"
      ]
    },
    {
      "cell_type": "markdown",
      "metadata": {
        "id": "0xLPyal5_e43"
      },
      "source": [
        "## 09. 파이썬 함수\r\n",
        "함수란 자주 사용하는 코드에 대한 이름표입니다. 변수가 어떤 값을 바인딩하는 것처럼 함수는 어떤 코드를 바인딩합니다."
      ]
    },
    {
      "cell_type": "code",
      "metadata": {
        "id": "tgQfXD9I_g0e",
        "colab": {
          "base_uri": "https://localhost:8080/"
        },
        "outputId": "439c1bcf-e396-411a-ae7b-3a03112f4477"
      },
      "source": [
        "# 201\r\n",
        "# \"비트코인\" 문자열을 화면에 출력하는 print_coin() 함수를 정의하라.\r\n",
        "\r\n",
        "def print_coint():\r\n",
        "  print(\"비트코인\")\r\n",
        "\r\n",
        "print_coint() #202"
      ],
      "execution_count": 1,
      "outputs": [
        {
          "output_type": "stream",
          "text": [
            "비트코인\n"
          ],
          "name": "stdout"
        }
      ]
    },
    {
      "cell_type": "code",
      "metadata": {
        "colab": {
          "base_uri": "https://localhost:8080/"
        },
        "id": "jvaOeEdiBmKF",
        "outputId": "25980fc7-2721-403b-f311-f37635c84357"
      },
      "source": [
        "for a in range(10): #203\r\n",
        "  print_coint()"
      ],
      "execution_count": 2,
      "outputs": [
        {
          "output_type": "stream",
          "text": [
            "비트코인\n",
            "비트코인\n",
            "비트코인\n",
            "비트코인\n",
            "비트코인\n",
            "비트코인\n",
            "비트코인\n",
            "비트코인\n",
            "비트코인\n",
            "비트코인\n"
          ],
          "name": "stdout"
        }
      ]
    },
    {
      "cell_type": "code",
      "metadata": {
        "colab": {
          "base_uri": "https://localhost:8080/"
        },
        "id": "q_DtcfJ9BtC8",
        "outputId": "f2361c4b-9ea6-4eb8-8236-e95c6ce6e044"
      },
      "source": [
        "def print_coins():\r\n",
        "  print(\"비트코인\"*100)\r\n",
        "\r\n",
        "print_coins()"
      ],
      "execution_count": 3,
      "outputs": [
        {
          "output_type": "stream",
          "text": [
            "비트코인비트코인비트코인비트코인비트코인비트코인비트코인비트코인비트코인비트코인비트코인비트코인비트코인비트코인비트코인비트코인비트코인비트코인비트코인비트코인비트코인비트코인비트코인비트코인비트코인비트코인비트코인비트코인비트코인비트코인비트코인비트코인비트코인비트코인비트코인비트코인비트코인비트코인비트코인비트코인비트코인비트코인비트코인비트코인비트코인비트코인비트코인비트코인비트코인비트코인비트코인비트코인비트코인비트코인비트코인비트코인비트코인비트코인비트코인비트코인비트코인비트코인비트코인비트코인비트코인비트코인비트코인비트코인비트코인비트코인비트코인비트코인비트코인비트코인비트코인비트코인비트코인비트코인비트코인비트코인비트코인비트코인비트코인비트코인비트코인비트코인비트코인비트코인비트코인비트코인비트코인비트코인비트코인비트코인비트코인비트코인비트코인비트코인비트코인비트코인\n"
          ],
          "name": "stdout"
        }
      ]
    },
    {
      "cell_type": "code",
      "metadata": {
        "id": "jBc0G-lfB49t"
      },
      "source": [
        "#205\r\n",
        "\r\n",
        "#선언보다 실행을 더 위에다가 해서\r\n",
        "# 즉, 함수가 정의되기 전에 호출되어서 에러가 발생합니다."
      ],
      "execution_count": 4,
      "outputs": []
    },
    {
      "cell_type": "code",
      "metadata": {
        "colab": {
          "base_uri": "https://localhost:8080/"
        },
        "id": "_HKHxcfnCDGV",
        "outputId": "9441280a-312a-48a5-9157-ffc201f241b3"
      },
      "source": [
        "# 206\r\n",
        "# 아래 코드의 실행 결과를 예측하라.\r\n",
        "\r\n",
        "def message() :\r\n",
        "    print(\"A\")\r\n",
        "    print(\"B\")\r\n",
        "\r\n",
        "message()\r\n",
        "print(\"C\")\r\n",
        "message()\r\n",
        "\r\n",
        "# A\r\n",
        "# B\r\n",
        "# C\r\n",
        "# A\r\n",
        "# B"
      ],
      "execution_count": 5,
      "outputs": [
        {
          "output_type": "stream",
          "text": [
            "A\n",
            "B\n",
            "C\n",
            "A\n",
            "B\n"
          ],
          "name": "stdout"
        }
      ]
    },
    {
      "cell_type": "code",
      "metadata": {
        "colab": {
          "base_uri": "https://localhost:8080/"
        },
        "id": "enOjhFrUCJNd",
        "outputId": "c6750bb4-7af9-4f19-99b2-8ee3fe72fb6d"
      },
      "source": [
        "# 207\r\n",
        "# 아래 코드의 실행 결과를 예측하라. (읽기 어려운 코드의 예입니다.)\r\n",
        "\r\n",
        "print(\"A\")\r\n",
        "\r\n",
        "def message() :\r\n",
        "    print(\"B\")\r\n",
        "\r\n",
        "print(\"C\")\r\n",
        "message()\r\n",
        "\r\n",
        "\r\n",
        "# A\r\n",
        "# C\r\n",
        "# B"
      ],
      "execution_count": 6,
      "outputs": [
        {
          "output_type": "stream",
          "text": [
            "A\n",
            "C\n",
            "B\n"
          ],
          "name": "stdout"
        }
      ]
    },
    {
      "cell_type": "code",
      "metadata": {
        "colab": {
          "base_uri": "https://localhost:8080/"
        },
        "id": "jfS_aCH8CRwO",
        "outputId": "b26f5ecf-adbd-443f-b59d-62728b30a4eb"
      },
      "source": [
        "# 208\r\n",
        "# 아래 코드의 실행 결과를 예측하라. (읽기 어려운 코드의 예입니다.)\r\n",
        "\r\n",
        "print(\"A\")\r\n",
        "def message1() :\r\n",
        "    print(\"B\")\r\n",
        "print(\"C\")\r\n",
        "def message2() :\r\n",
        "    print(\"D\")\r\n",
        "message1()\r\n",
        "print(\"E\")\r\n",
        "message2()\r\n",
        "\r\n",
        "\r\n",
        "# A C B E D"
      ],
      "execution_count": 7,
      "outputs": [
        {
          "output_type": "stream",
          "text": [
            "A\n",
            "C\n",
            "B\n",
            "E\n",
            "D\n"
          ],
          "name": "stdout"
        }
      ]
    },
    {
      "cell_type": "code",
      "metadata": {
        "colab": {
          "base_uri": "https://localhost:8080/"
        },
        "id": "7AJhL5glCXmg",
        "outputId": "adb431bc-8a54-4139-fb44-9a1c72a9dad3"
      },
      "source": [
        "# 209\r\n",
        "# 아래 코드의 실행 결과를 예측하라.\r\n",
        "\r\n",
        "def message1():\r\n",
        "    print(\"A\")\r\n",
        "\r\n",
        "def message2():\r\n",
        "    print(\"B\")\r\n",
        "    message1()\r\n",
        "\r\n",
        "message2()\r\n"
      ],
      "execution_count": 8,
      "outputs": [
        {
          "output_type": "stream",
          "text": [
            "B\n",
            "A\n"
          ],
          "name": "stdout"
        }
      ]
    },
    {
      "cell_type": "code",
      "metadata": {
        "colab": {
          "base_uri": "https://localhost:8080/"
        },
        "id": "yBarDfylCbyX",
        "outputId": "780fd5de-ed97-4004-c485-5ad6a6683749"
      },
      "source": [
        "# 210\r\n",
        "# 아래 코드의 실행 결과를 예측하라.\r\n",
        "\r\n",
        "def message1():\r\n",
        "    print(\"A\")\r\n",
        "\r\n",
        "def message2():\r\n",
        "    print(\"B\")\r\n",
        "\r\n",
        "def message3():\r\n",
        "    for i in range (3) :\r\n",
        "        message2()\r\n",
        "        print(\"C\")\r\n",
        "    message1()\r\n",
        "\r\n",
        "message3()\r\n",
        "\r\n",
        "\r\n",
        "# B C B C B C A"
      ],
      "execution_count": 9,
      "outputs": [
        {
          "output_type": "stream",
          "text": [
            "B\n",
            "C\n",
            "B\n",
            "C\n",
            "B\n",
            "C\n",
            "A\n"
          ],
          "name": "stdout"
        }
      ]
    },
    {
      "cell_type": "code",
      "metadata": {
        "colab": {
          "base_uri": "https://localhost:8080/"
        },
        "id": "R4E5Mu4cCxyX",
        "outputId": "183092de-7f2b-435a-db75-70a7d6c00dfa"
      },
      "source": [
        "# 211\r\n",
        "# 함수의 호출 결과를 예측하라.\r\n",
        "\r\n",
        "def 함수(문자열) :\r\n",
        "    print(문자열)\r\n",
        "\r\n",
        "함수(\"안녕\")\r\n",
        "함수(\"Hi\")"
      ],
      "execution_count": 10,
      "outputs": [
        {
          "output_type": "stream",
          "text": [
            "안녕\n",
            "Hi\n"
          ],
          "name": "stdout"
        }
      ]
    },
    {
      "cell_type": "code",
      "metadata": {
        "colab": {
          "base_uri": "https://localhost:8080/"
        },
        "id": "vi1zxb64EDr-",
        "outputId": "37faab38-be1e-485b-ceca-b424b226e260"
      },
      "source": [
        "# 212\r\n",
        "# 함수의 호출 결과를 예측하라.\r\n",
        "\r\n",
        "def 함수(a, b) :\r\n",
        "    print(a + b)\r\n",
        "\r\n",
        "함수(3, 4)\r\n",
        "함수(7, 8)"
      ],
      "execution_count": 11,
      "outputs": [
        {
          "output_type": "stream",
          "text": [
            "7\n",
            "15\n"
          ],
          "name": "stdout"
        }
      ]
    },
    {
      "cell_type": "code",
      "metadata": {
        "id": "E8hmjM0tEGlF"
      },
      "source": [
        "# 213\r\n",
        "# 아래와 같은 에러가 발생하는 원인을 설명하라.\r\n",
        "\r\n",
        "def 함수(문자열) :\r\n",
        "    print(문자열)\r\n",
        "함수()\r\n",
        "TypeError: 함수() missing 1 required positional argument: '문자열'\r\n",
        "\r\n",
        "#인자가 있어야 하는데 없어서"
      ],
      "execution_count": null,
      "outputs": []
    },
    {
      "cell_type": "code",
      "metadata": {
        "id": "xrnghqB6EOf4"
      },
      "source": [
        "# 214\r\n",
        "# 아래와 같은 에러가 발생하는 원인을 설명하라.\r\n",
        "\r\n",
        "def 함수(a, b) :\r\n",
        "    print(a + b)\r\n",
        "\r\n",
        "함수(\"안녕\", 3)\r\n",
        "TypeError: must be str, not int\r\n",
        "\r\n",
        "정의된 함수는 같은 타입의 두 개의 값을 입력 받아 덧셈 연산을 적용하려는 의도로 설계됐습니다. \r\n",
        "하지만 함수를 호출 할때 문자열과 숫자를 입력해서 문자열과 숫자는 더할 수 없다는 에러가 발생합니다."
      ],
      "execution_count": null,
      "outputs": []
    },
    {
      "cell_type": "code",
      "metadata": {
        "colab": {
          "base_uri": "https://localhost:8080/"
        },
        "id": "-hAb1kK5ESav",
        "outputId": "60973a30-4632-42bb-b268-aedbcefcbb97"
      },
      "source": [
        "# 215\r\n",
        "# 하나의 문자를 입력받아 문자열 끝에 \":D\" 스마일 문자열을 이어 붙여 출력하는 print_with_smile 함수를 정의하라.\r\n",
        "\r\n",
        "def print_with_smile(s):\r\n",
        "  print(s + \":D\")\r\n",
        "\r\n",
        "print_with_smile(\"하이\") #216"
      ],
      "execution_count": 12,
      "outputs": [
        {
          "output_type": "stream",
          "text": [
            "하이:D\n"
          ],
          "name": "stdout"
        }
      ]
    },
    {
      "cell_type": "code",
      "metadata": {
        "colab": {
          "base_uri": "https://localhost:8080/"
        },
        "id": "amjJTvdfEhQ_",
        "outputId": "f1b3f0a4-48e7-45d8-8241-738bf6a16897"
      },
      "source": [
        "# 217\r\n",
        "# 현재 가격을 입력 받아 상한가 (30%)를 출력하는 print_upper_price 함수를 정의하라.\r\n",
        "\r\n",
        "def print_upper_price(price):\r\n",
        "  print(price*1.3)\r\n",
        "print_upper_price(50000)"
      ],
      "execution_count": 14,
      "outputs": [
        {
          "output_type": "stream",
          "text": [
            "65000.0\n"
          ],
          "name": "stdout"
        }
      ]
    },
    {
      "cell_type": "code",
      "metadata": {
        "id": "xYzCzGuEEqic"
      },
      "source": [
        "def print_sum(a,b):\r\n",
        "  print(a+b)"
      ],
      "execution_count": 15,
      "outputs": []
    },
    {
      "cell_type": "code",
      "metadata": {
        "id": "z_fsTZI1E0sk"
      },
      "source": [
        "# 219\r\n",
        "# 두 개의 숫자를 입력받아 합/차/곱/나눗셈을 출력하는 print_arithmetic_operation 함수를 작성하라.\r\n",
        "\r\n",
        "def print_arithmetic_operation(a, b):\r\n",
        "    print(a, \"+\", b, \"=\", a + b)\r\n",
        "    print(a, \"-\", b, \"=\", a - b)\r\n",
        "    print(a, \"*\", b, \"=\", a * b)\r\n",
        "    print(a, \"/\", b, \"=\", a / b)"
      ],
      "execution_count": 17,
      "outputs": []
    },
    {
      "cell_type": "code",
      "metadata": {
        "colab": {
          "base_uri": "https://localhost:8080/"
        },
        "id": "XaiHkGREE2ws",
        "outputId": "1c66b1c8-7037-4175-850f-b1d86b2fc3b8"
      },
      "source": [
        "# 220\r\n",
        "# 세 개의 숫자를 입력받아 가장 큰수를 출력하는 print_max 함수를 정의하라. 단 if 문을 사용해서 수를 비교하라.\r\n",
        "\r\n",
        "def print_max(a,b,c):\r\n",
        "  temp = a\r\n",
        "  if a < b:\r\n",
        "    temp = b\r\n",
        "    if b < c:\r\n",
        "      temp = c\r\n",
        "  else:\r\n",
        "    if a < c:\r\n",
        "      temp = c\r\n",
        "  print(temp)\r\n",
        "\r\n",
        "print_max(3,2,1)"
      ],
      "execution_count": 20,
      "outputs": [
        {
          "output_type": "stream",
          "text": [
            "3\n"
          ],
          "name": "stdout"
        }
      ]
    },
    {
      "cell_type": "code",
      "metadata": {
        "colab": {
          "base_uri": "https://localhost:8080/"
        },
        "id": "e3p57wFvFSa8",
        "outputId": "0a58a0a2-af1a-45b2-a434-5ae74788a457"
      },
      "source": [
        "def print_max(a, b, c) :\r\n",
        "    max_val = 0\r\n",
        "    if a > max_val :\r\n",
        "        max_val = a\r\n",
        "    if b > max_val :\r\n",
        "        max_val = b\r\n",
        "    if c > max_val :\r\n",
        "        max_val = c\r\n",
        "    print(max_val)\r\n",
        "print_max(3, 2, 1)"
      ],
      "execution_count": 24,
      "outputs": [
        {
          "output_type": "stream",
          "text": [
            "3\n"
          ],
          "name": "stdout"
        }
      ]
    },
    {
      "cell_type": "code",
      "metadata": {
        "colab": {
          "base_uri": "https://localhost:8080/"
        },
        "id": "Mna0EWwxGBuS",
        "outputId": "8dbd750d-8b2c-42a1-aa46-331446a62210"
      },
      "source": [
        "# 221\r\n",
        "# 입력된 문자열을 역순으로 출력하는 print_reverse 함수를 정의하라.\r\n",
        "\r\n",
        "def print_reverse(s):\r\n",
        "  print(s[::-1])\r\n",
        "\r\n",
        "print_reverse(\"python\")"
      ],
      "execution_count": 28,
      "outputs": [
        {
          "output_type": "stream",
          "text": [
            "nohtyp\n"
          ],
          "name": "stdout"
        }
      ]
    },
    {
      "cell_type": "code",
      "metadata": {
        "colab": {
          "base_uri": "https://localhost:8080/",
          "height": 35
        },
        "id": "S3fENUjJGDXt",
        "outputId": "5d676559-4251-4710-ef1a-883a3a0d3f23"
      },
      "source": [
        "#@title List를 문자열로 만들어주는 함수 \"\".Join(a)\n",
        "a = ['a','b','c']\n",
        "\n",
        "b = \"\".join(a)\n",
        "b"
      ],
      "execution_count": 33,
      "outputs": [
        {
          "output_type": "execute_result",
          "data": {
            "application/vnd.google.colaboratory.intrinsic+json": {
              "type": "string"
            },
            "text/plain": [
              "'abc'"
            ]
          },
          "metadata": {
            "tags": []
          },
          "execution_count": 33
        }
      ]
    },
    {
      "cell_type": "code",
      "metadata": {
        "colab": {
          "base_uri": "https://localhost:8080/"
        },
        "id": "BeGyBZ0KGw_l",
        "outputId": "d084b89a-9dca-42b7-d402-1e5af83312aa"
      },
      "source": [
        "# 222\r\n",
        "# 성적 리스트를 입력 받아 평균을 출력하는 print_score 함수를 정의하라.\r\n",
        "\r\n",
        "def print_score(score_list):\r\n",
        "  total = 0\r\n",
        "  평균 = 1\r\n",
        "  for a in range(len(score_list)):\r\n",
        "    total += score_list[a]\r\n",
        "  평균 = total / len(score_list)\r\n",
        "\r\n",
        "  print(평균)\r\n",
        "\r\n",
        "print_score ([1, 2, 3])"
      ],
      "execution_count": 36,
      "outputs": [
        {
          "output_type": "stream",
          "text": [
            "2.0\n"
          ],
          "name": "stdout"
        }
      ]
    },
    {
      "cell_type": "code",
      "metadata": {
        "id": "wngMjGK5IAKN"
      },
      "source": [
        "def print_score(score_list) :\r\n",
        "    print(sum(score_list)/len(score_list))"
      ],
      "execution_count": 37,
      "outputs": []
    },
    {
      "cell_type": "code",
      "metadata": {
        "colab": {
          "base_uri": "https://localhost:8080/"
        },
        "id": "EDPZu0InINSU",
        "outputId": "85b0b3cf-936e-41a4-c8da-1f50f94473df"
      },
      "source": [
        "# 223\r\n",
        "# 하나의 리스트를 입력받아 짝수만 화면에 출력하는 print_even 함수를 정의하라.\r\n",
        "\r\n",
        "\r\n",
        "\r\n",
        "def print_even(alist):\r\n",
        "  for a in alist:\r\n",
        "    if a % 2 ==0:\r\n",
        "      print(a)\r\n",
        "\r\n",
        "print_even ([1, 3, 2, 10, 12, 11, 15])"
      ],
      "execution_count": 39,
      "outputs": [
        {
          "output_type": "stream",
          "text": [
            "2\n",
            "10\n",
            "12\n"
          ],
          "name": "stdout"
        }
      ]
    },
    {
      "cell_type": "code",
      "metadata": {
        "colab": {
          "base_uri": "https://localhost:8080/"
        },
        "id": "TpLNvqzeIjfE",
        "outputId": "5d9b36d4-7fed-437d-e0e0-c1c607992c4c"
      },
      "source": [
        "# 224\r\n",
        "# 하나의 딕셔너리를 입력받아 딕셔너리의 key 값을 화면에 출력하는 print_keys 함수를 정의하라.\r\n",
        "\r\n",
        "def print_keys(a):\r\n",
        "  print(list(a.keys()))\r\n",
        "\r\n",
        "print_keys ({\"이름\":\"김말똥\", \"나이\":30, \"성별\":0})"
      ],
      "execution_count": 42,
      "outputs": [
        {
          "output_type": "stream",
          "text": [
            "['이름', '나이', '성별']\n"
          ],
          "name": "stdout"
        }
      ]
    },
    {
      "cell_type": "code",
      "metadata": {
        "colab": {
          "base_uri": "https://localhost:8080/"
        },
        "id": "BgGlJNFuJDDF",
        "outputId": "7dffafd3-c00e-4325-e88b-25721e8253d1"
      },
      "source": [
        "225\r\n",
        "# my_dict에는 날짜를 키값으로 OHLC가 리스트로 저장돼 있다.\r\n",
        "\r\n",
        "my_dict = {\"10/26\" : [100, 130, 100, 100],\r\n",
        "           \"10/27\" : [10, 12, 10, 11]}\r\n",
        "# my_dict와 날짜 키값을 입력받아 OHLC 리스트를 출력하는 print_value_by_key 함수를 정의하라.\r\n",
        "\r\n",
        "print(my_dict[\"10/26\"])\r\n",
        "\r\n",
        "\r\n",
        "# print_value_by_key  (my_dict, \"10/26\")\r\n",
        "\r\n",
        "def print_value_by_key(a,b):\r\n",
        "\r\n",
        "  my_dict = {\"10/26\" : [100, 130, 100, 100],\r\n",
        "           \"10/27\" : [10, 12, 10, 11]}\r\n",
        "  print(a[b])\r\n",
        "\r\n",
        "print_value_by_key  (my_dict, \"10/26\")"
      ],
      "execution_count": 46,
      "outputs": [
        {
          "output_type": "stream",
          "text": [
            "[100, 130, 100, 100]\n",
            "[100, 130, 100, 100]\n"
          ],
          "name": "stdout"
        }
      ]
    },
    {
      "cell_type": "code",
      "metadata": {
        "colab": {
          "base_uri": "https://localhost:8080/",
          "height": 35
        },
        "id": "6X9F288ZJamV",
        "outputId": "610c8fb2-b767-4214-e30b-bfc1db3127e5"
      },
      "source": [
        "# 226\r\n",
        "# 입력 문자열을 한 줄에 다섯글자씩 출력하는 print_5xn(string) 함수를 작성하라.\r\n",
        "\r\n",
        "# print_5xn(\"아이엠어보이유알어걸\")\r\n",
        "\r\n",
        "stra = \"아이엠어보이유알어걸\"\r\n",
        "stra[5]"
      ],
      "execution_count": 50,
      "outputs": [
        {
          "output_type": "execute_result",
          "data": {
            "application/vnd.google.colaboratory.intrinsic+json": {
              "type": "string"
            },
            "text/plain": [
              "'이'"
            ]
          },
          "metadata": {
            "tags": []
          },
          "execution_count": 50
        }
      ]
    },
    {
      "cell_type": "code",
      "metadata": {
        "colab": {
          "base_uri": "https://localhost:8080/"
        },
        "id": "ikEVyevSKLxo",
        "outputId": "e5139461-c703-4e2d-fccd-cd99d472b048"
      },
      "source": [
        "def print_5xn(line):\r\n",
        "    chunk_num = int(len(line) / 5) #10 -> 2\r\n",
        "    print(chunk_num)\r\n",
        "    for x in range(chunk_num + 1) :\r\n",
        "        print(line[x * 5: x * 5 + 5])\r\n",
        "\r\n",
        "print_5xn(\"아이엠어보이유알어걸\")"
      ],
      "execution_count": 51,
      "outputs": [
        {
          "output_type": "stream",
          "text": [
            "2\n",
            "아이엠어보\n",
            "이유알어걸\n",
            "\n"
          ],
          "name": "stdout"
        }
      ]
    },
    {
      "cell_type": "code",
      "metadata": {
        "colab": {
          "base_uri": "https://localhost:8080/"
        },
        "id": "0wpTMmE3jd-P",
        "outputId": "9985b075-45eb-4424-b679-40029f1819f1"
      },
      "source": [
        "# 227\r\n",
        "# 문자열과 한줄에 출력될 글자 수를 입력을 받아 한 줄에 입력된 글자 수만큼 출력하는 print_mxn(string) 함수를 작성하라.\r\n",
        "\r\n",
        "def print_mxn(string,num):\r\n",
        "  chunk_num = int(len(string)/3)\r\n",
        "  for x in range(chunk_num+1):\r\n",
        "    print(string[x*num:x*num+num])\r\n",
        "  \r\n",
        "print_mxn(\"아이엠어보이유알어걸\", 3)"
      ],
      "execution_count": 54,
      "outputs": [
        {
          "output_type": "stream",
          "text": [
            "아이엠\n",
            "어보이\n",
            "유알어\n",
            "걸\n"
          ],
          "name": "stdout"
        }
      ]
    },
    {
      "cell_type": "code",
      "metadata": {
        "colab": {
          "base_uri": "https://localhost:8080/"
        },
        "id": "P7nXKDGqnwq0",
        "outputId": "26c6d717-399c-42eb-dfbb-1020e49db0ed"
      },
      "source": [
        "# 228\r\n",
        "# 연봉을 입력받아 월급을 계산하는 calc_monthly_salary(annual_salary) 함수를 정의하라. \r\n",
        "# 회사는 연봉을 12개월로 나누어 분할 지급하며, 이 때 1원 미만은 버림한다.\r\n",
        "\r\n",
        "def calc_monthly_salary(annual_salary):\r\n",
        "  print(int(annual_salary/12))\r\n",
        "\r\n",
        "calc_monthly_salary(12000000)"
      ],
      "execution_count": 59,
      "outputs": [
        {
          "output_type": "stream",
          "text": [
            "1000000\n"
          ],
          "name": "stdout"
        }
      ]
    },
    {
      "cell_type": "code",
      "metadata": {
        "colab": {
          "base_uri": "https://localhost:8080/"
        },
        "id": "-3-Npb_0oy5l",
        "outputId": "4f4096e1-59f3-4ef9-b33a-60cfd9e02db2"
      },
      "source": [
        "# 229\r\n",
        "# 아래 코드의 실행 결과를 예측하라.\r\n",
        "\r\n",
        "def my_print (a, b) :\r\n",
        "    print(\"왼쪽:\", a)\r\n",
        "    print(\"오른쪽:\", b)\r\n",
        "\r\n",
        "my_print(a=100, b=200)"
      ],
      "execution_count": 60,
      "outputs": [
        {
          "output_type": "stream",
          "text": [
            "왼쪽: 100\n",
            "오른쪽: 200\n"
          ],
          "name": "stdout"
        }
      ]
    },
    {
      "cell_type": "code",
      "metadata": {
        "colab": {
          "base_uri": "https://localhost:8080/"
        },
        "id": "2_ZLK_2gpDG0",
        "outputId": "dfc7f45c-e63c-498a-8711-ba79d8bcc791"
      },
      "source": [
        "# 230\r\n",
        "# 아래 코드의 실행 결과를 예측하라.\r\n",
        "\r\n",
        "def my_print (a, b) :\r\n",
        "    print(\"왼쪽:\", a)\r\n",
        "    print(\"오른쪽:\", b)\r\n",
        "\r\n",
        "my_print(b=100, a=200)"
      ],
      "execution_count": 62,
      "outputs": [
        {
          "output_type": "stream",
          "text": [
            "왼쪽: 200\n",
            "오른쪽: 100\n"
          ],
          "name": "stdout"
        }
      ]
    },
    {
      "cell_type": "code",
      "metadata": {
        "colab": {
          "base_uri": "https://localhost:8080/",
          "height": 208
        },
        "id": "CyZTHiEcpJ49",
        "outputId": "6b56d2d9-ed9d-4c0f-c932-32aa2cd3152e"
      },
      "source": [
        "# 231\r\n",
        "# 아래 코드를 실행한 결과를 예상하라.\r\n",
        "\r\n",
        "def n_plus_1 (n) :\r\n",
        "    result = n + 1\r\n",
        "\r\n",
        "n_plus_1(3)\r\n",
        "print (result)"
      ],
      "execution_count": 63,
      "outputs": [
        {
          "output_type": "error",
          "ename": "NameError",
          "evalue": "ignored",
          "traceback": [
            "\u001b[0;31m---------------------------------------------------------------------------\u001b[0m",
            "\u001b[0;31mNameError\u001b[0m                                 Traceback (most recent call last)",
            "\u001b[0;32m<ipython-input-63-d1b5593b45a2>\u001b[0m in \u001b[0;36m<module>\u001b[0;34m()\u001b[0m\n\u001b[1;32m      6\u001b[0m \u001b[0;34m\u001b[0m\u001b[0m\n\u001b[1;32m      7\u001b[0m \u001b[0mn_plus_1\u001b[0m\u001b[0;34m(\u001b[0m\u001b[0;36m3\u001b[0m\u001b[0;34m)\u001b[0m\u001b[0;34m\u001b[0m\u001b[0;34m\u001b[0m\u001b[0m\n\u001b[0;32m----> 8\u001b[0;31m \u001b[0mprint\u001b[0m \u001b[0;34m(\u001b[0m\u001b[0mresult\u001b[0m\u001b[0;34m)\u001b[0m\u001b[0;34m\u001b[0m\u001b[0;34m\u001b[0m\u001b[0m\n\u001b[0m",
            "\u001b[0;31mNameError\u001b[0m: name 'result' is not defined"
          ]
        }
      ]
    },
    {
      "cell_type": "code",
      "metadata": {
        "colab": {
          "base_uri": "https://localhost:8080/",
          "height": 35
        },
        "id": "STc9Ew8cqsPf",
        "outputId": "17d72db9-97b7-4362-c2f3-86d529d25de9"
      },
      "source": [
        "# 232\r\n",
        "# 문자열 하나를 입력받아 인터넷 주소를 반환하는 make_url 함수를 정의하라.\r\n",
        "\r\n",
        "def make_url(s):\r\n",
        "  url = f\"www.{s}.com\"\r\n",
        "  url = \"www.\" + s + \".com\"\r\n",
        "  return url\r\n",
        "\r\n",
        "make_url(\"naver\")\r\n"
      ],
      "execution_count": 65,
      "outputs": [
        {
          "output_type": "execute_result",
          "data": {
            "application/vnd.google.colaboratory.intrinsic+json": {
              "type": "string"
            },
            "text/plain": [
              "'www.naver.com'"
            ]
          },
          "metadata": {
            "tags": []
          },
          "execution_count": 65
        }
      ]
    },
    {
      "cell_type": "code",
      "metadata": {
        "colab": {
          "base_uri": "https://localhost:8080/"
        },
        "id": "NTW72ZWYrBss",
        "outputId": "f3b20241-aa44-46e6-ce1a-f77aff773377"
      },
      "source": [
        "# 233\r\n",
        "# 문자열을 입력받아 각 문자들로 구성된 리스트로 반환하는 make_list 함수를 정의하라.\r\n",
        "\r\n",
        "def make_list (string) :\r\n",
        "    return list(string)\r\n",
        "\r\n",
        "make_list(\"abcd\")\r\n"
      ],
      "execution_count": 66,
      "outputs": [
        {
          "output_type": "execute_result",
          "data": {
            "text/plain": [
              "['a', 'b', 'c', 'd']"
            ]
          },
          "metadata": {
            "tags": []
          },
          "execution_count": 66
        }
      ]
    },
    {
      "cell_type": "code",
      "metadata": {
        "id": "sWrvsgqBrgNs"
      },
      "source": [
        "# 234\r\n",
        "# 숫자로 구성된 하나의 리스트를 입력받아, 짝수들을 추출하여 리스트로 반환하는 pickup_even 함수를 구현하라.\r\n",
        "\r\n",
        "\r\n",
        "def pickup_even(items):\r\n",
        "    result = []\r\n",
        "    for item in items:\r\n",
        "        if item % 2 == 0:\r\n",
        "            result.append(item)\r\n",
        "    return result"
      ],
      "execution_count": 71,
      "outputs": []
    },
    {
      "cell_type": "code",
      "metadata": {
        "colab": {
          "base_uri": "https://localhost:8080/"
        },
        "id": "7dFc7LxdrtAV",
        "outputId": "3bf2fd60-451b-40d6-89dc-74457051d684"
      },
      "source": [
        "# 235\r\n",
        "# 콤마가 포함된 문자열 숫자를 입력받아 정수로 변환하는 convert_int 함수를 정의하라.\r\n",
        "\r\n",
        "def convert_int(s):\r\n",
        "  result = \"\"\r\n",
        "  for a in s.split(','):\r\n",
        "    result += a\r\n",
        "  return result\r\n",
        "print(convert_int(\"1,234,567\"))"
      ],
      "execution_count": 70,
      "outputs": [
        {
          "output_type": "stream",
          "text": [
            "1234567\n"
          ],
          "name": "stdout"
        }
      ]
    },
    {
      "cell_type": "code",
      "metadata": {
        "id": "WHlGaQJasAQd"
      },
      "source": [
        "def convert_int (string) :\r\n",
        "    return int(string.replace(',', ''))"
      ],
      "execution_count": 72,
      "outputs": []
    },
    {
      "cell_type": "code",
      "metadata": {
        "colab": {
          "base_uri": "https://localhost:8080/"
        },
        "id": "D9dbUjV5sHUl",
        "outputId": "2dd0d475-d2d4-4866-926c-3ce7b4a84b35"
      },
      "source": [
        "# 236\r\n",
        "# 아래 코드의 실행 결과를 예측하라.\r\n",
        "\r\n",
        "def 함수(num) :\r\n",
        "    return num + 4\r\n",
        "\r\n",
        "a = 함수(10) #14\r\n",
        "b = 함수(a) #18\r\n",
        "c = 함수(b) #22\r\n",
        "print(c)"
      ],
      "execution_count": 74,
      "outputs": [
        {
          "output_type": "stream",
          "text": [
            "22\n"
          ],
          "name": "stdout"
        }
      ]
    },
    {
      "cell_type": "code",
      "metadata": {
        "colab": {
          "base_uri": "https://localhost:8080/"
        },
        "id": "vz0hGotksOyF",
        "outputId": "ef555e16-baad-46b5-aa34-2ea4a4e5eda3"
      },
      "source": [
        "# 237\r\n",
        "# 아래 코드의 실행 결과를 예측하라.\r\n",
        "\r\n",
        "def 함수(num) :\r\n",
        "    return num + 4\r\n",
        "\r\n",
        "c = 함수(함수(함수(10)))\r\n",
        "print(c) #22"
      ],
      "execution_count": 75,
      "outputs": [
        {
          "output_type": "stream",
          "text": [
            "22\n"
          ],
          "name": "stdout"
        }
      ]
    },
    {
      "cell_type": "code",
      "metadata": {
        "colab": {
          "base_uri": "https://localhost:8080/"
        },
        "id": "C1S029KtsWnV",
        "outputId": "d1cbc7cc-ac69-4db4-c6cb-5799b9ee6851"
      },
      "source": [
        "# 238\r\n",
        "# 아래 코드의 실행 결과를 예측하라.\r\n",
        "\r\n",
        "def 함수1(num) :\r\n",
        "    return num + 4\r\n",
        "\r\n",
        "def 함수2(num) :\r\n",
        "    return num * 10\r\n",
        "\r\n",
        "a = 함수1(10) #14\r\n",
        "c = 함수2(a) #140\r\n",
        "print(c) #"
      ],
      "execution_count": 77,
      "outputs": [
        {
          "output_type": "stream",
          "text": [
            "140\n"
          ],
          "name": "stdout"
        }
      ]
    },
    {
      "cell_type": "code",
      "metadata": {
        "colab": {
          "base_uri": "https://localhost:8080/"
        },
        "id": "cUZdMZSJsjsW",
        "outputId": "3cbbb440-f98e-49ba-c726-cd2eb70d249e"
      },
      "source": [
        "# 239\r\n",
        "# 아래 코드의 실행 결과를 예측하라.\r\n",
        "\r\n",
        "def 함수1(num) :\r\n",
        "    return num + 4\r\n",
        "\r\n",
        "def 함수2(num) :\r\n",
        "    num = num + 2\r\n",
        "    return 함수1(num)\r\n",
        "\r\n",
        "c = 함수2(10) \r\n",
        "print(c)#16"
      ],
      "execution_count": 78,
      "outputs": [
        {
          "output_type": "stream",
          "text": [
            "16\n"
          ],
          "name": "stdout"
        }
      ]
    },
    {
      "cell_type": "code",
      "metadata": {
        "colab": {
          "base_uri": "https://localhost:8080/"
        },
        "id": "U5kpv5gRsol2",
        "outputId": "486f73b3-c06b-4bfd-8e4a-5769dc21efb6"
      },
      "source": [
        "# 240\r\n",
        "# 아래 코드의 실행 결과를 예측하라.\r\n",
        "\r\n",
        "def 함수0(num) :\r\n",
        "    return num * 2\r\n",
        "\r\n",
        "def 함수1(num) :\r\n",
        "    return 함수0(num + 2)\r\n",
        "\r\n",
        "def 함수2(num) :\r\n",
        "    num = num + 10\r\n",
        "    return 함수1(num)\r\n",
        "\r\n",
        "c = 함수2(2)\r\n",
        "print(c) #28"
      ],
      "execution_count": 79,
      "outputs": [
        {
          "output_type": "stream",
          "text": [
            "28\n"
          ],
          "name": "stdout"
        }
      ]
    },
    {
      "cell_type": "code",
      "metadata": {
        "id": "KFBk8hwQsvAt"
      },
      "source": [
        ""
      ],
      "execution_count": null,
      "outputs": []
    },
    {
      "cell_type": "markdown",
      "metadata": {
        "id": "p4pehJTYsxrl"
      },
      "source": [
        "## 10. 파이썬 모듈\r\n",
        "파이썬 모듈은 파이썬 파일을 의미합니다. 파이썬은 다양한 분야별로 모듈을 제공합니다. 프로그램 구현에 필요한 모듈의 기초 사용법을 알아봅시다.\r\n",
        "\r\n"
      ]
    },
    {
      "cell_type": "code",
      "metadata": {
        "colab": {
          "base_uri": "https://localhost:8080/"
        },
        "id": "Fi37Ngx1szk9",
        "outputId": "0db5ad31-ae1d-4e0f-cded-012cd2aeb669"
      },
      "source": [
        "# datetime 모듈\r\n",
        "import datetime\r\n",
        "print(datetime.datetime.now())\r\n",
        "print(type(datetime.datetime.now()))\r\n",
        "print('*'*100,'\\n')\r\n",
        "\r\n",
        "#timedelta\r\n",
        "now = datetime.datetime.now()\r\n",
        "for day in range(5,0,-1):\r\n",
        "  delta = datetime.timedelta(days=day)\r\n",
        "  date = now - delta\r\n",
        "  print(date)\r\n",
        "print('*'*100,'\\n')\r\n",
        "\r\n",
        "#strftime\r\n",
        "now = datetime.datetime.now()\r\n",
        "print(now.strftime(\"%H:%M:%S\"))\r\n",
        "print('*'*100,'\\n')\r\n",
        "\r\n",
        "#strptime\r\n",
        "day = \"2020-05-04\"\r\n",
        "ret = datetime.datetime.strptime(day, \"%Y-%m-%d\")\r\n",
        "print(ret, type(ret))\r\n",
        "print('*'*100,'\\n')\r\n",
        "\r\n"
      ],
      "execution_count": 92,
      "outputs": [
        {
          "output_type": "stream",
          "text": [
            "2020-12-26 11:03:58.399440\n",
            "<class 'datetime.datetime'>\n",
            "**************************************************************************************************** \n",
            "\n",
            "2020-12-21 11:03:58.400295\n",
            "2020-12-22 11:03:58.400295\n",
            "2020-12-23 11:03:58.400295\n",
            "2020-12-24 11:03:58.400295\n",
            "2020-12-25 11:03:58.400295\n",
            "**************************************************************************************************** \n",
            "\n",
            "11:03:58\n",
            "**************************************************************************************************** \n",
            "\n",
            "2020-05-04 00:00:00 <class 'datetime.datetime'>\n"
          ],
          "name": "stdout"
        }
      ]
    },
    {
      "cell_type": "code",
      "metadata": {
        "colab": {
          "base_uri": "https://localhost:8080/",
          "height": 316
        },
        "id": "z79EmYbOs-3t",
        "outputId": "043a6bf9-5f69-45b8-d0af-7a0cfd8e0e8d"
      },
      "source": [
        "# 246 sleep 함수\r\n",
        "# time 모듈, datetime 모듈을 사용해서 1초에 한 번 현재 시간을 출력하는 코드를 작성하세요.\r\n",
        "import time\r\n",
        "import datetime\r\n",
        "\r\n",
        "\r\n",
        "while True:\r\n",
        "    now = datetime.datetime.now()\r\n",
        "    print(now)\r\n",
        "    time.sleep(1)"
      ],
      "execution_count": 93,
      "outputs": [
        {
          "output_type": "stream",
          "text": [
            "2020-12-26 11:04:31.111938\n",
            "2020-12-26 11:04:32.114115\n",
            "2020-12-26 11:04:33.115911\n",
            "2020-12-26 11:04:34.117255\n",
            "2020-12-26 11:04:35.118701\n",
            "2020-12-26 11:04:36.120073\n"
          ],
          "name": "stdout"
        },
        {
          "output_type": "error",
          "ename": "KeyboardInterrupt",
          "evalue": "ignored",
          "traceback": [
            "\u001b[0;31m---------------------------------------------------------------------------\u001b[0m",
            "\u001b[0;31mKeyboardInterrupt\u001b[0m                         Traceback (most recent call last)",
            "\u001b[0;32m<ipython-input-93-1ee4032556ff>\u001b[0m in \u001b[0;36m<module>\u001b[0;34m()\u001b[0m\n\u001b[1;32m      6\u001b[0m     \u001b[0mnow\u001b[0m \u001b[0;34m=\u001b[0m \u001b[0mdatetime\u001b[0m\u001b[0;34m.\u001b[0m\u001b[0mdatetime\u001b[0m\u001b[0;34m.\u001b[0m\u001b[0mnow\u001b[0m\u001b[0;34m(\u001b[0m\u001b[0;34m)\u001b[0m\u001b[0;34m\u001b[0m\u001b[0;34m\u001b[0m\u001b[0m\n\u001b[1;32m      7\u001b[0m     \u001b[0mprint\u001b[0m\u001b[0;34m(\u001b[0m\u001b[0mnow\u001b[0m\u001b[0;34m)\u001b[0m\u001b[0;34m\u001b[0m\u001b[0;34m\u001b[0m\u001b[0m\n\u001b[0;32m----> 8\u001b[0;31m     \u001b[0mtime\u001b[0m\u001b[0;34m.\u001b[0m\u001b[0msleep\u001b[0m\u001b[0;34m(\u001b[0m\u001b[0;36m1\u001b[0m\u001b[0;34m)\u001b[0m\u001b[0;34m\u001b[0m\u001b[0;34m\u001b[0m\u001b[0m\n\u001b[0m",
            "\u001b[0;31mKeyboardInterrupt\u001b[0m: "
          ]
        }
      ]
    },
    {
      "cell_type": "code",
      "metadata": {
        "id": "U2x-IGoSuKlM"
      },
      "source": [
        "# 247 모듈 임포트\r\n",
        "# 모듈을 임포트하는 4가지 방식에 대해 설명해보세요.\r\n",
        "\r\n",
        "import os             #os.rename()  #가장 권장하는 방식 모듈마다 동일한 함수가 있을 수 있어서...!\r\n",
        "from os import rename #rename()\r\n",
        "from os import *      #getcwd(),rename(),.....\r\n",
        "import os as myos     #myos.getcwd()"
      ],
      "execution_count": null,
      "outputs": []
    },
    {
      "cell_type": "code",
      "metadata": {
        "colab": {
          "base_uri": "https://localhost:8080/"
        },
        "id": "EeHp4-Z7uTWg",
        "outputId": "52b79317-8dee-4f66-bcad-c6e026538ffb"
      },
      "source": [
        "# 248 os 모듈\r\n",
        "# os 모듈의 getcwd 함수를 호출하여 현재 디렉터리의 경로를 화면에 출력해보세요.\r\n",
        "\r\n",
        "import os\r\n",
        "ret = os.getcwd()\r\n",
        "print(ret, type(ret))"
      ],
      "execution_count": 94,
      "outputs": [
        {
          "output_type": "stream",
          "text": [
            "/content <class 'str'>\n"
          ],
          "name": "stdout"
        }
      ]
    },
    {
      "cell_type": "code",
      "metadata": {
        "id": "zhxi-xpcuVN0"
      },
      "source": [
        "249 rename 함수\r\n",
        "바탕화면에 텍스트 파일을 하나 생성한 후 os 모듈의 rename 함수를 호출하여 해당 파일의 이름을 변경해보세요.\r\n",
        "\r\n",
        "\r\n",
        "import os\r\n",
        "os.rename(\"C:/Users/hyunh/Desktop/before.txt\", \"C:/Users/hyunh/Desktop/after.txt\")"
      ],
      "execution_count": null,
      "outputs": []
    },
    {
      "cell_type": "code",
      "metadata": {
        "colab": {
          "base_uri": "https://localhost:8080/"
        },
        "id": "P3gWm3-RuckN",
        "outputId": "5c445f4e-98b7-48aa-a47a-cd46fa656b35"
      },
      "source": [
        "# 250 numpy\r\n",
        "# numpy 모듈의 arange 함수를 사용해서 0.0 부터 5.0까지 0.1씩 증가하는 값을 화면에 출력해보세요.\r\n",
        "\r\n",
        "import numpy\r\n",
        "for i in numpy.arange(0.0,5.0,0.1):\r\n",
        "  print(i)"
      ],
      "execution_count": 96,
      "outputs": [
        {
          "output_type": "stream",
          "text": [
            "0.0\n",
            "0.1\n",
            "0.2\n",
            "0.30000000000000004\n",
            "0.4\n",
            "0.5\n",
            "0.6000000000000001\n",
            "0.7000000000000001\n",
            "0.8\n",
            "0.9\n",
            "1.0\n",
            "1.1\n",
            "1.2000000000000002\n",
            "1.3\n",
            "1.4000000000000001\n",
            "1.5\n",
            "1.6\n",
            "1.7000000000000002\n",
            "1.8\n",
            "1.9000000000000001\n",
            "2.0\n",
            "2.1\n",
            "2.2\n",
            "2.3000000000000003\n",
            "2.4000000000000004\n",
            "2.5\n",
            "2.6\n",
            "2.7\n",
            "2.8000000000000003\n",
            "2.9000000000000004\n",
            "3.0\n",
            "3.1\n",
            "3.2\n",
            "3.3000000000000003\n",
            "3.4000000000000004\n",
            "3.5\n",
            "3.6\n",
            "3.7\n",
            "3.8000000000000003\n",
            "3.9000000000000004\n",
            "4.0\n",
            "4.1000000000000005\n",
            "4.2\n",
            "4.3\n",
            "4.4\n",
            "4.5\n",
            "4.6000000000000005\n",
            "4.7\n",
            "4.800000000000001\n",
            "4.9\n"
          ],
          "name": "stdout"
        }
      ]
    },
    {
      "cell_type": "code",
      "metadata": {
        "id": "hz98Bg4eujLd"
      },
      "source": [
        ""
      ],
      "execution_count": null,
      "outputs": []
    }
  ]
}