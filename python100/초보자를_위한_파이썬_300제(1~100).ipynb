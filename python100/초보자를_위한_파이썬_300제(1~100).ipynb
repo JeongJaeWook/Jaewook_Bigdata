{
  "nbformat": 4,
  "nbformat_minor": 0,
  "metadata": {
    "colab": {
      "name": "초보자를 위한 파이썬 300제(1~100)",
      "provenance": [],
      "collapsed_sections": [],
      "authorship_tag": "ABX9TyMHYsqfRzx0Qq32kgtt+nB2"
    },
    "kernelspec": {
      "name": "python3",
      "display_name": "Python 3"
    }
  },
  "cells": [
    {
      "cell_type": "markdown",
      "metadata": {
        "id": "dd2LoCz-Lpx8"
      },
      "source": [
        "## 01 파이썬 시작하기 (1~10)\r\n",
        "\r\n"
      ]
    },
    {
      "cell_type": "code",
      "metadata": {
        "colab": {
          "base_uri": "https://localhost:8080/"
        },
        "id": "DThmX7DqJ6O0",
        "outputId": "207ef50c-0787-4b33-c61f-09772c72af0b"
      },
      "source": [
        "#1. 화면에 Hello World 문자열을 출력하세요.\r\n",
        "print(\"Hello World\")"
      ],
      "execution_count": null,
      "outputs": [
        {
          "output_type": "stream",
          "text": [
            "hello World\n"
          ],
          "name": "stdout"
        }
      ]
    },
    {
      "cell_type": "code",
      "metadata": {
        "colab": {
          "base_uri": "https://localhost:8080/"
        },
        "id": "-4C063QpKFuG",
        "outputId": "80df2565-4047-4c0e-bdf5-8ad6aa475ec6"
      },
      "source": [
        "#2. 화면에 Mary's cosmetics을 출력하세요. (중간에 '가 있음에 주의하세요)\r\n",
        "print(\"Mary's cosmetics\")"
      ],
      "execution_count": null,
      "outputs": [
        {
          "output_type": "stream",
          "text": [
            "Mary's cosmetics\n"
          ],
          "name": "stdout"
        }
      ]
    },
    {
      "cell_type": "code",
      "metadata": {
        "colab": {
          "base_uri": "https://localhost:8080/"
        },
        "id": "q05tybz_KL-2",
        "outputId": "8aaa3451-30e9-440f-8a84-024f716367d6"
      },
      "source": [
        "#3. 화면에 아래 문장을 출력하세요. (중간에 \"가 있음에 주의하세요.)\r\n",
        "#신씨가 소리질렀다. \"도둑이야\".\r\n",
        "print('신씨가 소리질렀다. \"도둑이야\".' )"
      ],
      "execution_count": null,
      "outputs": [
        {
          "output_type": "stream",
          "text": [
            "신씨가 소리질렀다. \"도둑이야\".\n"
          ],
          "name": "stdout"
        }
      ]
    },
    {
      "cell_type": "code",
      "metadata": {
        "colab": {
          "base_uri": "https://localhost:8080/"
        },
        "id": "o-vtYijEKUzm",
        "outputId": "4413c1c2-4c23-4199-ebe5-8fd6ac25d135"
      },
      "source": [
        "#4. 화면에 \"C:\\Windows\"를 출력하세요.\r\n",
        "print(\"C:\\Windows\")"
      ],
      "execution_count": null,
      "outputs": [
        {
          "output_type": "stream",
          "text": [
            "C:\\Windows\n"
          ],
          "name": "stdout"
        }
      ]
    },
    {
      "cell_type": "code",
      "metadata": {
        "colab": {
          "base_uri": "https://localhost:8080/"
        },
        "id": "iEohnwRsKEO8",
        "outputId": "37943e64-cdde-41c7-aa47-c5c30b389460"
      },
      "source": [
        "#5. 다음 코드를 실행해보고 \\t와 \\n의 역할을 설명해보세요.\r\n",
        "#print(\"안녕하세요.\\n만나서\\t\\t반갑습니다.\")\r\n",
        "# \\n : 한줄 띄우기\r\n",
        "# \\t : tab만큼 띄우기\r\n",
        "print(\"안녕하세요.\\n만나서\\t\\t반갑습니다.\")"
      ],
      "execution_count": null,
      "outputs": [
        {
          "output_type": "stream",
          "text": [
            "안녕하세요.\n",
            "만나서\t\t반갑습니다.\n"
          ],
          "name": "stdout"
        }
      ]
    },
    {
      "cell_type": "code",
      "metadata": {
        "colab": {
          "base_uri": "https://localhost:8080/"
        },
        "id": "jJ2XswgMKqGU",
        "outputId": "b6e6a65e-5073-44f3-880a-d692753692f0"
      },
      "source": [
        "#6. 여러줄  출력\r\n",
        "#함수에 두 개의 단어를 입력한 예제입니다. 아래 코드의 출력 결과를 예상해봅시다.\r\n",
        "print (\"오늘은\", \"일요일\")"
      ],
      "execution_count": null,
      "outputs": [
        {
          "output_type": "stream",
          "text": [
            "오늘은 일요일\n"
          ],
          "name": "stdout"
        }
      ]
    },
    {
      "cell_type": "code",
      "metadata": {
        "colab": {
          "base_uri": "https://localhost:8080/"
        },
        "id": "WqL1UGDmK1ed",
        "outputId": "89601310-e6fa-4c09-807c-74fbd2d25e61"
      },
      "source": [
        "# print() 함수를 사용하여 다음과 같이 출력하세요.\r\n",
        "\r\n",
        "# naver;kakao;sk;samsung\r\n",
        "\r\n",
        "#7.\r\n",
        "print(\"naver\",\"kakao\",\"sk\",\"samsung\", sep=';')\r\n",
        "\r\n",
        "#8.\r\n",
        "print(\"naver\",\"kakao\",\"sk\",\"samsung\", sep='/')"
      ],
      "execution_count": null,
      "outputs": [
        {
          "output_type": "stream",
          "text": [
            "naver;kakao;sk;samsung\n",
            "naver/kakao/sk/samsung\n"
          ],
          "name": "stdout"
        }
      ]
    },
    {
      "cell_type": "code",
      "metadata": {
        "colab": {
          "base_uri": "https://localhost:8080/"
        },
        "id": "WwbFskomLGks",
        "outputId": "be92cb34-8121-4a3d-f8b4-faa40b408514"
      },
      "source": [
        "#009\r\n",
        "# print 줄바꿈\r\n",
        "# 다음 코드를 수정하여 줄바꿈이 없이 출력하세요. (힌트: end='') print 함수는 두 번 사용합니다. 세미콜론 (;)은 한줄에 여러 개의 명령을 작성하기 위해 사용합니다.\r\n",
        "\r\n",
        "print(\"first\",end=\"\");print(\"second\")"
      ],
      "execution_count": null,
      "outputs": [
        {
          "output_type": "stream",
          "text": [
            "firstsecond\n"
          ],
          "name": "stdout"
        }
      ]
    },
    {
      "cell_type": "code",
      "metadata": {
        "colab": {
          "base_uri": "https://localhost:8080/"
        },
        "id": "KgZNkpz6LXNc",
        "outputId": "a6331948-802d-4b07-c8b7-2f994783ee78"
      },
      "source": [
        "#10 연산 결과 출력\r\n",
        "print(5/3)"
      ],
      "execution_count": null,
      "outputs": [
        {
          "output_type": "stream",
          "text": [
            "1.6666666666666667\n"
          ],
          "name": "stdout"
        }
      ]
    },
    {
      "cell_type": "markdown",
      "metadata": {
        "id": "Y8QlTsBjLvS8"
      },
      "source": [
        "## 02. 파이썬 변수(11~20)"
      ]
    },
    {
      "cell_type": "code",
      "metadata": {
        "colab": {
          "base_uri": "https://localhost:8080/"
        },
        "id": "KMVeFD3QLws_",
        "outputId": "72c43336-761d-4f93-9b43-18c592468b09"
      },
      "source": [
        "#11\r\n",
        "# 변수 사용하기\r\n",
        "# 삼성전자라는 변수로 50,000원을 바인딩해보세요. 삼성전자 주식 10주를 보유하고 있을 때 총 평가금액을 출력하세요.\r\n",
        "\r\n",
        "samsungjunja = 50000\r\n",
        "total_jusic = samsungjunja * 10\r\n",
        "print(total_jusic)"
      ],
      "execution_count": null,
      "outputs": [
        {
          "output_type": "stream",
          "text": [
            "500000\n"
          ],
          "name": "stdout"
        }
      ]
    },
    {
      "cell_type": "code",
      "metadata": {
        "colab": {
          "base_uri": "https://localhost:8080/"
        },
        "id": "VKlyUSEGL_ed",
        "outputId": "054d1a22-1644-462c-abda-ae068888a954"
      },
      "source": [
        "#12\r\n",
        "# 다음 표는 삼성전자의 일부 투자정보입니다. 변수를 사용해서 시가총액, 현재가, PER 등을 바인딩해보세요.\r\n",
        "\r\n",
        "# 항목\t값\r\n",
        "# 시가총액\t298조\r\n",
        "# 현재가\t50,000원\r\n",
        "# PER\t15.79\r\n",
        "\r\n",
        "samsung_siga = 298000000000000\r\n",
        "samsung_now = 50000\r\n",
        "samsung_per = 15.79\r\n",
        "\r\n",
        "print(\"시가총액\", type(samsung_siga))\r\n",
        "print(\"현재가\", type(samsung_now))\r\n",
        "print(\"PER\", type(samsung_per))"
      ],
      "execution_count": null,
      "outputs": [
        {
          "output_type": "stream",
          "text": [
            "시가총액 <class 'int'>\n",
            "현재가 <class 'int'>\n",
            "PER <class 'float'>\n"
          ],
          "name": "stdout"
        }
      ]
    },
    {
      "cell_type": "code",
      "metadata": {
        "colab": {
          "base_uri": "https://localhost:8080/"
        },
        "id": "FjsxRYAtMO1V",
        "outputId": "69f358a4-ff9a-4d81-fb51-f4864eeee934"
      },
      "source": [
        "#13\r\n",
        "# 변수 s와 t에는 각각 문자열이 바인딩 되어있습니다.\r\n",
        "\r\n",
        "# >> s = \"hello\"\r\n",
        "# >> t = \"python\"\r\n",
        "# 두 변수를 이용하여 아래와 같이 출력해보세요.\r\n",
        "\r\n",
        "# 실행 예:\r\n",
        "# hello! python\r\n",
        "\r\n",
        "s = \"hello\"\r\n",
        "t = \"python\"\r\n",
        "print(s + \"!\" , t)\r\n"
      ],
      "execution_count": null,
      "outputs": [
        {
          "output_type": "stream",
          "text": [
            "hello! python\n"
          ],
          "name": "stdout"
        }
      ]
    },
    {
      "cell_type": "code",
      "metadata": {
        "colab": {
          "base_uri": "https://localhost:8080/"
        },
        "id": "vz5kuV1hMi5c",
        "outputId": "19f405d0-18f3-4ba6-ef95-6d9024b2b7d3"
      },
      "source": [
        "#14\r\n",
        "print(2 + 2*3)"
      ],
      "execution_count": null,
      "outputs": [
        {
          "output_type": "stream",
          "text": [
            "8\n"
          ],
          "name": "stdout"
        }
      ]
    },
    {
      "cell_type": "code",
      "metadata": {
        "colab": {
          "base_uri": "https://localhost:8080/",
          "height": 262
        },
        "id": "lYHf8d8EMumV",
        "outputId": "58ca0d0e-c3f1-45bd-9054-0a7f419e2fbb"
      },
      "source": [
        "#15\r\n",
        "#015 type 함수\r\n",
        "# type() 함수는 데이터 타입을 판별합니다. 변수 a에는 128 숫자가 바인딩돼 있어 type 함수가 int (정수)형임을 알려줍니다.\r\n",
        "\r\n",
        "# >> a = 128\r\n",
        "# >> print (type(a))\r\n",
        "# <class 'int'>\r\n",
        "# 아래 변수에 바인딩된 값의 타입을 판별해보세요.\r\n",
        "a = \"132\"\r\n",
        "print(type(a))\r\n",
        "print(a+1, type(a)) #must be str, not int"
      ],
      "execution_count": null,
      "outputs": [
        {
          "output_type": "stream",
          "text": [
            "<class 'str'>\n"
          ],
          "name": "stdout"
        },
        {
          "output_type": "error",
          "ename": "TypeError",
          "evalue": "ignored",
          "traceback": [
            "\u001b[0;31m---------------------------------------------------------------------------\u001b[0m",
            "\u001b[0;31mTypeError\u001b[0m                                 Traceback (most recent call last)",
            "\u001b[0;32m<ipython-input-34-35f58b22ccbf>\u001b[0m in \u001b[0;36m<module>\u001b[0;34m()\u001b[0m\n\u001b[1;32m      9\u001b[0m \u001b[0ma\u001b[0m \u001b[0;34m=\u001b[0m \u001b[0;34m\"132\"\u001b[0m\u001b[0;34m\u001b[0m\u001b[0;34m\u001b[0m\u001b[0m\n\u001b[1;32m     10\u001b[0m \u001b[0mprint\u001b[0m\u001b[0;34m(\u001b[0m\u001b[0mtype\u001b[0m\u001b[0;34m(\u001b[0m\u001b[0ma\u001b[0m\u001b[0;34m)\u001b[0m\u001b[0;34m)\u001b[0m\u001b[0;34m\u001b[0m\u001b[0;34m\u001b[0m\u001b[0m\n\u001b[0;32m---> 11\u001b[0;31m \u001b[0mprint\u001b[0m\u001b[0;34m(\u001b[0m\u001b[0ma\u001b[0m\u001b[0;34m+\u001b[0m\u001b[0;36m1\u001b[0m\u001b[0;34m,\u001b[0m \u001b[0mtype\u001b[0m\u001b[0;34m(\u001b[0m\u001b[0ma\u001b[0m\u001b[0;34m)\u001b[0m\u001b[0;34m)\u001b[0m \u001b[0;31m#must be str, not int\u001b[0m\u001b[0;34m\u001b[0m\u001b[0;34m\u001b[0m\u001b[0m\n\u001b[0m\u001b[1;32m     12\u001b[0m \u001b[0;34m\u001b[0m\u001b[0m\n\u001b[1;32m     13\u001b[0m \u001b[0;34m\u001b[0m\u001b[0m\n",
            "\u001b[0;31mTypeError\u001b[0m: must be str, not int"
          ]
        }
      ]
    },
    {
      "cell_type": "code",
      "metadata": {
        "colab": {
          "base_uri": "https://localhost:8080/"
        },
        "id": "WCYZJmWUMywk",
        "outputId": "0469a991-b072-4c50-ee2f-ded895d817fe"
      },
      "source": [
        "#16 문자열을 정수로 변환\r\n",
        "num_str = \"720\"  #형변환\r\n",
        "num_int = int(num_str)\r\n",
        "print(num_int+1, type(num_int))"
      ],
      "execution_count": null,
      "outputs": [
        {
          "output_type": "stream",
          "text": [
            "721 <class 'int'>\n"
          ],
          "name": "stdout"
        }
      ]
    },
    {
      "cell_type": "code",
      "metadata": {
        "colab": {
          "base_uri": "https://localhost:8080/"
        },
        "id": "thJJpp58NSmU",
        "outputId": "5b25b384-8fd0-4c6a-d16f-b37234e6b69a"
      },
      "source": [
        "#17 정수를 문자열 100으로 변환\r\n",
        "num = 100\r\n",
        "type(str(num))"
      ],
      "execution_count": null,
      "outputs": [
        {
          "output_type": "execute_result",
          "data": {
            "text/plain": [
              "str"
            ]
          },
          "metadata": {
            "tags": []
          },
          "execution_count": 36
        }
      ]
    },
    {
      "cell_type": "code",
      "metadata": {
        "colab": {
          "base_uri": "https://localhost:8080/"
        },
        "id": "zughdyBiOLqr",
        "outputId": "4abbac2d-a2c0-4864-8319-410cc8ea2050"
      },
      "source": [
        "#018 문자열을 실수로 변환\r\n",
        "num2 = \"15.79\"\r\n",
        "print(type(float(num2)))\r\n",
        "\r\n",
        "# 019 문자열을 정수로 변환\r\n",
        "num3 = \"2020\"\r\n",
        "print(int(num3)-1)\r\n",
        "print(type(int(num3)))"
      ],
      "execution_count": null,
      "outputs": [
        {
          "output_type": "stream",
          "text": [
            "<class 'float'>\n",
            "2019\n",
            "<class 'int'>\n"
          ],
          "name": "stdout"
        }
      ]
    },
    {
      "cell_type": "code",
      "metadata": {
        "colab": {
          "base_uri": "https://localhost:8080/"
        },
        "id": "kDo7kKA3OUSM",
        "outputId": "5e136ea9-04ed-418b-bc73-4ffad4a2112f"
      },
      "source": [
        "#020 파이썬 계산\r\n",
        "#에이컨이 월 48,584원에 무이자 36개월의 조건으로 홈쇼핑에서 판매되고 있습니다. 총 금액은 계산한 후 이를 화면에 출력해보세요. (변수사용하기)\r\n",
        "\r\n",
        "aircon = 48584\r\n",
        "mon = 36\r\n",
        "\r\n",
        "total = aircon * mon\r\n",
        "total"
      ],
      "execution_count": null,
      "outputs": [
        {
          "output_type": "execute_result",
          "data": {
            "text/plain": [
              "1749024"
            ]
          },
          "metadata": {
            "tags": []
          },
          "execution_count": 44
        }
      ]
    },
    {
      "cell_type": "code",
      "metadata": {
        "colab": {
          "base_uri": "https://localhost:8080/"
        },
        "id": "gYXbszVSOyFU",
        "outputId": "0eca645e-9e51-409a-fbea-a1ea6dcc9b1b"
      },
      "source": [
        "#??? 한글이 되네???????????????\r\n",
        "월 = 48584\r\n",
        "총금액 = 월 * 36\r\n",
        "print(총금액)"
      ],
      "execution_count": null,
      "outputs": [
        {
          "output_type": "stream",
          "text": [
            "1749024\n"
          ],
          "name": "stdout"
        }
      ]
    },
    {
      "cell_type": "code",
      "metadata": {
        "id": "g-8zWi9pPAWb"
      },
      "source": [
        ""
      ],
      "execution_count": null,
      "outputs": []
    },
    {
      "cell_type": "markdown",
      "metadata": {
        "id": "svhhzEEoPegx"
      },
      "source": [
        "## 03. 파이썬 문자열"
      ]
    },
    {
      "cell_type": "code",
      "metadata": {
        "colab": {
          "base_uri": "https://localhost:8080/"
        },
        "id": "Qnai6WFmQHrP",
        "outputId": "698b8c6c-1f1d-4a48-9181-5be28c802163"
      },
      "source": [
        "#021 문자열 인덱싱\r\n",
        "letters = 'python'\r\n",
        "print(letters[0],letters[2])\r\n",
        "\r\n",
        "#022 문자열 슬라이싱\r\n",
        "#자동차 번호가 다음과 같을 때 뒤에 4자리만 출력하세요.\r\n",
        "license_plate = \"24가 2210\"\r\n",
        "print(license_plate[-4:])"
      ],
      "execution_count": null,
      "outputs": [
        {
          "output_type": "stream",
          "text": [
            "p t\n",
            "2210\n"
          ],
          "name": "stdout"
        }
      ]
    },
    {
      "cell_type": "code",
      "metadata": {
        "colab": {
          "base_uri": "https://localhost:8080/",
          "height": 35
        },
        "id": "2y_mirmnPhKD",
        "outputId": "c9574e35-2f89-4b08-e723-ae43f4d5b04d"
      },
      "source": [
        "#@title 이거 내가 몰랐다!!!!!\n",
        "#023 문자열 인덱싱 ##이거 몰랐다\n",
        "#아래의 문자열에서 '홀' 만 출력하세요.\n",
        "#>> string = \"홀짝홀짝홀짝\"\n",
        "\n",
        "#슬라이싱할 때 시작인덱스:끝인덱스:오프셋을 지정할 수 있습니다.\n",
        "string = \"홀짝홀짝홀짝\"\n",
        "string[::2]\n"
      ],
      "execution_count": null,
      "outputs": [
        {
          "output_type": "execute_result",
          "data": {
            "application/vnd.google.colaboratory.intrinsic+json": {
              "type": "string"
            },
            "text/plain": [
              "'홀홀홀'"
            ]
          },
          "metadata": {
            "tags": []
          },
          "execution_count": 63
        }
      ]
    },
    {
      "cell_type": "code",
      "metadata": {
        "colab": {
          "base_uri": "https://localhost:8080/"
        },
        "id": "yT4XADgJR6UE",
        "outputId": "7c5e0dbe-0cad-4b61-d1f8-f38d2da45c0f"
      },
      "source": [
        "#24 문자열 슬라이싱\r\n",
        "#문자열을 거꾸로 뒤집어 출력하세요.\r\n",
        "string = \"PYTHON\"\r\n",
        "print(string[::-1])"
      ],
      "execution_count": null,
      "outputs": [
        {
          "output_type": "stream",
          "text": [
            "NOHTYP\n"
          ],
          "name": "stdout"
        }
      ]
    },
    {
      "cell_type": "code",
      "metadata": {
        "colab": {
          "base_uri": "https://localhost:8080/"
        },
        "id": "W2t5hzacS2Is",
        "outputId": "3d4c2eed-faf3-45da-fcd3-f68a85c2a2a8"
      },
      "source": [
        "#025 문자열 치환\r\n",
        "#아래의 전화번호에서 하이푼 ('-')을 제거하고 출력하세요.\r\n",
        "phone_number = \"010-1111-2222\"\r\n",
        "\r\n",
        "print(phone_number.replace(\"-\",' '))\r\n",
        "\r\n",
        "#026 문자열 다루기\r\n",
        "#25번 문제의 전화번호를 아래와 같이 모두 붙여 출력하세요.\r\n",
        "print(phone_number.replace(\"-\",''))"
      ],
      "execution_count": null,
      "outputs": [
        {
          "output_type": "stream",
          "text": [
            "010 1111 2222\n",
            "01011112222\n"
          ],
          "name": "stdout"
        }
      ]
    },
    {
      "cell_type": "code",
      "metadata": {
        "colab": {
          "base_uri": "https://localhost:8080/",
          "height": 35
        },
        "id": "QkHFMGO1TmEL",
        "outputId": "cd406001-0f54-4b2e-ec8f-4d21e2a49292"
      },
      "source": [
        "#@title 이것도 모르겠네2 - 아... split\n",
        "\n",
        "#027 문자열 다루기\n",
        "url = \"http://sharebook.kr\"\n",
        "\n",
        "url.split('.')[1]\n",
        "\n"
      ],
      "execution_count": null,
      "outputs": [
        {
          "output_type": "execute_result",
          "data": {
            "application/vnd.google.colaboratory.intrinsic+json": {
              "type": "string"
            },
            "text/plain": [
              "'kr'"
            ]
          },
          "metadata": {
            "tags": []
          },
          "execution_count": 71
        }
      ]
    },
    {
      "cell_type": "code",
      "metadata": {
        "colab": {
          "base_uri": "https://localhost:8080/",
          "height": 244
        },
        "id": "Vlnh801UUQpr",
        "outputId": "9aaff33e-8e98-45e6-f40c-51a475c5e630"
      },
      "source": [
        "#028 문자열은 immutable\r\n",
        "# 아래 코드의 실행 결과를 예상해보세요.\r\n",
        "\r\n",
        "# >> lang = 'python'\r\n",
        "# >> lang[0] = 'P'\r\n",
        "# >> print(lang)\r\n",
        "\r\n",
        "lang = 'python'\r\n",
        "lang[0] = 'P'\r\n",
        "print(lang)\r\n",
        "\r\n",
        "#아.. 문자열은 수정할 수 없다!!!! 오키오키"
      ],
      "execution_count": null,
      "outputs": [
        {
          "output_type": "error",
          "ename": "TypeError",
          "evalue": "ignored",
          "traceback": [
            "\u001b[0;31m---------------------------------------------------------------------------\u001b[0m",
            "\u001b[0;31mTypeError\u001b[0m                                 Traceback (most recent call last)",
            "\u001b[0;32m<ipython-input-75-2ab8ded05e49>\u001b[0m in \u001b[0;36m<module>\u001b[0;34m()\u001b[0m\n\u001b[1;32m      7\u001b[0m \u001b[0;34m\u001b[0m\u001b[0m\n\u001b[1;32m      8\u001b[0m \u001b[0mlang\u001b[0m \u001b[0;34m=\u001b[0m \u001b[0;34m'python'\u001b[0m\u001b[0;34m\u001b[0m\u001b[0;34m\u001b[0m\u001b[0m\n\u001b[0;32m----> 9\u001b[0;31m \u001b[0mlang\u001b[0m\u001b[0;34m[\u001b[0m\u001b[0;36m0\u001b[0m\u001b[0;34m]\u001b[0m \u001b[0;34m=\u001b[0m \u001b[0;34m'P'\u001b[0m\u001b[0;34m\u001b[0m\u001b[0;34m\u001b[0m\u001b[0m\n\u001b[0m\u001b[1;32m     10\u001b[0m \u001b[0mprint\u001b[0m\u001b[0;34m(\u001b[0m\u001b[0mlang\u001b[0m\u001b[0;34m)\u001b[0m\u001b[0;34m\u001b[0m\u001b[0;34m\u001b[0m\u001b[0m\n\u001b[1;32m     11\u001b[0m \u001b[0;34m\u001b[0m\u001b[0m\n",
            "\u001b[0;31mTypeError\u001b[0m: 'str' object does not support item assignment"
          ]
        }
      ]
    },
    {
      "cell_type": "code",
      "metadata": {
        "colab": {
          "base_uri": "https://localhost:8080/"
        },
        "id": "mlodHMZNUeQC",
        "outputId": "7502f2dd-fd35-4836-a3c3-1157b3bb84ca"
      },
      "source": [
        "#@title 문자열은 변경 안되는 것도 이제 알았다!!!\n",
        "\n",
        "#replace 사용해도 똑같음\n",
        "\n",
        "string = 'abcdfe2a354a32a'\n",
        "print(string.replace('a','A'))\n",
        "\n",
        "#30 replace 메서드\n",
        "string2 = 'abcd'\n",
        "string2.replace('b', 'B')\n",
        "print(string2.replace('b', 'B')) # 새로운 문자열 객체를 리턴해줄 뿐\n",
        "print(string2) # 원래는 바뀌지 않음."
      ],
      "execution_count": null,
      "outputs": [
        {
          "output_type": "stream",
          "text": [
            "Abcdfe2A354A32A\n",
            "aBcd\n",
            "abcd\n"
          ],
          "name": "stdout"
        }
      ]
    },
    {
      "cell_type": "code",
      "metadata": {
        "colab": {
          "base_uri": "https://localhost:8080/"
        },
        "id": "1PnZ1bWVUwLC",
        "outputId": "fdead3d5-2b9d-4248-8471-ac532a248254"
      },
      "source": [
        "#031 문자열 합치기\r\n",
        "#아래 코드의 실행 결과를 예상해보세요.\r\n",
        "\r\n",
        "a = \"3\"\r\n",
        "b = \"4\"\r\n",
        "print(a + b)\r\n"
      ],
      "execution_count": null,
      "outputs": [
        {
          "output_type": "stream",
          "text": [
            "34\n"
          ],
          "name": "stdout"
        }
      ]
    },
    {
      "cell_type": "code",
      "metadata": {
        "colab": {
          "base_uri": "https://localhost:8080/"
        },
        "id": "N6YwbrRYHb45",
        "outputId": "c8ada120-c8d6-432e-d662-5748f48e55b4"
      },
      "source": [
        "#032 문자열 곱하기\r\n",
        "#아래 코드의 실행 결과를 예상해보세요.\r\n",
        "\r\n",
        "print(\"Hi\" * 3)"
      ],
      "execution_count": null,
      "outputs": [
        {
          "output_type": "stream",
          "text": [
            "HiHiHi\n"
          ],
          "name": "stdout"
        }
      ]
    },
    {
      "cell_type": "code",
      "metadata": {
        "colab": {
          "base_uri": "https://localhost:8080/"
        },
        "id": "lXd5kUO_HgdB",
        "outputId": "a04f3722-e408-42be-ca7b-397084823a5a"
      },
      "source": [
        "# 033 문자열 곱하기\r\n",
        "# 화면에 '-'를 80개 출력하세요.\r\n",
        "\r\n",
        "print('-'*80)"
      ],
      "execution_count": null,
      "outputs": [
        {
          "output_type": "stream",
          "text": [
            "--------------------------------------------------------------------------------\n"
          ],
          "name": "stdout"
        }
      ]
    },
    {
      "cell_type": "code",
      "metadata": {
        "colab": {
          "base_uri": "https://localhost:8080/"
        },
        "id": "adehqT0GHlHB",
        "outputId": "b6377d74-8310-4bc9-de4d-33222656d496"
      },
      "source": [
        "#034 문자열 곱하기\r\n",
        "# 변수에 다음과 같은 문자열이 바인딩되어 있습니다.\r\n",
        "\r\n",
        "# >>> t1 = 'python'\r\n",
        "# >>> t2 = 'java'\r\n",
        "# 변수에 문자열 더하기와 문자열 곱하기를 사용해서 아래와 같이 출력해보세요.\r\n",
        "\r\n",
        "# 실행 예:\r\n",
        "# python java python java python java python java\r\n",
        "t1 = 'python'\r\n",
        "t2 = 'java'\r\n",
        "print( (t1 + ' ' + t2 + \" \")*5 , sep = \"\")"
      ],
      "execution_count": null,
      "outputs": [
        {
          "output_type": "stream",
          "text": [
            "python java python java python java python java python java \n"
          ],
          "name": "stdout"
        }
      ]
    },
    {
      "cell_type": "code",
      "metadata": {
        "colab": {
          "base_uri": "https://localhost:8080/"
        },
        "id": "euZwCt1yHwZJ",
        "outputId": "f20d526f-ef74-4c06-cf5a-fe6512de63d6"
      },
      "source": [
        "# 035 문자열 출력\r\n",
        "# 변수에 다음과 같이 문자열과 정수가 바인딩되어 있을 때 % formatting을 사용해서 다음과 같이 출력해보세요.\r\n",
        "# 이름: 김민수 나이: 10\r\n",
        "# 이름: 이철희 나이: 13\r\n",
        "\r\n",
        "name1 = \"김민수\" \r\n",
        "age1 = 10\r\n",
        "name2 = \"이철희\"\r\n",
        "age2 = 13\r\n",
        "\r\n",
        "print(\"이름: %s  나이: %d\" % (name1, age1))"
      ],
      "execution_count": null,
      "outputs": [
        {
          "output_type": "stream",
          "text": [
            "이름: 김민수  나이: 10\n"
          ],
          "name": "stdout"
        }
      ]
    },
    {
      "cell_type": "code",
      "metadata": {
        "colab": {
          "base_uri": "https://localhost:8080/"
        },
        "id": "k-4nnWbMIYTI",
        "outputId": "70947ff7-1ca4-4a3c-9534-73d0ddf45a3a"
      },
      "source": [
        "# 036 문자열 출력\r\n",
        "# 문자열의 format( ) 메서드를 사용해서 035번 문제를 다시 풀어보세요.\r\n",
        "print(\"이름:{} 나이:{}\" .format(name2,age2))\r\n"
      ],
      "execution_count": null,
      "outputs": [
        {
          "output_type": "stream",
          "text": [
            "이름:이철희 나이:13\n"
          ],
          "name": "stdout"
        }
      ]
    },
    {
      "cell_type": "code",
      "metadata": {
        "colab": {
          "base_uri": "https://localhost:8080/"
        },
        "id": "_RVmMhtuIkSh",
        "outputId": "29c31502-e035-44ef-af3c-4bf4e7fbb114"
      },
      "source": [
        "# 037 문자열 출력\r\n",
        "# 파이썬 3.6부터 지원하는 f-string을 사용해서 035번 문제를 다시 풀어보세요.\r\n",
        "print(f\"이름: {name1} 나이: {age1}\")"
      ],
      "execution_count": null,
      "outputs": [
        {
          "output_type": "stream",
          "text": [
            "이름: 김민수 나이: 10\n"
          ],
          "name": "stdout"
        }
      ]
    },
    {
      "cell_type": "code",
      "metadata": {
        "colab": {
          "base_uri": "https://localhost:8080/"
        },
        "id": "lIMU-AfwIzpB",
        "outputId": "01bf32ca-76a7-41dc-d65a-c17e140c9d8a"
      },
      "source": [
        "#038 컴마 제거하기\r\n",
        "#삼성전자의 상장주식수가 다음과 같습니다. 컴마를 제거한 후 이를 정수 타입으로 변환해보세요.\r\n",
        "\r\n",
        "상장주식수 = \"5,969,782,550\"\r\n",
        "\r\n",
        "int(상장주식수.replace(',',''))\r\n",
        "\r\n",
        "#->이때 숫자 형태의 문자열에 컴마가 있는 경우 바로 변환된지 않습니다. 먼저 문자열의 replace 메서드로 컴마를 제거한 후 변환해야합니다."
      ],
      "execution_count": null,
      "outputs": [
        {
          "output_type": "execute_result",
          "data": {
            "text/plain": [
              "5969782550"
            ]
          },
          "metadata": {
            "tags": []
          },
          "execution_count": 102
        }
      ]
    },
    {
      "cell_type": "code",
      "metadata": {
        "colab": {
          "base_uri": "https://localhost:8080/",
          "height": 53
        },
        "id": "Ctww4rJLJ2CH",
        "outputId": "681a8206-d3af-468d-ce54-6edb39f3c0f6"
      },
      "source": [
        "# 039 문자열 슬라이싱\r\n",
        "# 다음과 같은 문자열에서 '2020/03'만 출력하세요.\r\n",
        "\r\n",
        "분기 = \"2020/03(E) (IFRS연결)\"\r\n",
        "\r\n",
        "print(분기[:7])\r\n",
        "분기.split('(')[0]"
      ],
      "execution_count": null,
      "outputs": [
        {
          "output_type": "stream",
          "text": [
            "2020/03\n"
          ],
          "name": "stdout"
        },
        {
          "output_type": "execute_result",
          "data": {
            "application/vnd.google.colaboratory.intrinsic+json": {
              "type": "string"
            },
            "text/plain": [
              "'2020/03'"
            ]
          },
          "metadata": {
            "tags": []
          },
          "execution_count": 105
        }
      ]
    },
    {
      "cell_type": "code",
      "metadata": {
        "colab": {
          "base_uri": "https://localhost:8080/",
          "height": 35
        },
        "id": "1vvPhK-PKs95",
        "outputId": "7fa3e994-4b49-4865-cc16-9658be2bf467"
      },
      "source": [
        "# 040 strip 메서드\r\n",
        "# 문자열의 좌우의 공백이 있을 때 이를 제거해보세요.\r\n",
        "# 이 때도 원본 데이터는 유지.\r\n",
        "\r\n",
        "data = \"   삼성전자    \"\r\n",
        "data1 = data.strip()\r\n",
        "data"
      ],
      "execution_count": null,
      "outputs": [
        {
          "output_type": "execute_result",
          "data": {
            "application/vnd.google.colaboratory.intrinsic+json": {
              "type": "string"
            },
            "text/plain": [
              "'   삼성전자    '"
            ]
          },
          "metadata": {
            "tags": []
          },
          "execution_count": 108
        }
      ]
    },
    {
      "cell_type": "code",
      "metadata": {
        "colab": {
          "base_uri": "https://localhost:8080/",
          "height": 35
        },
        "id": "-Hj25eI-K2RZ",
        "outputId": "e62749be-b896-4212-c292-77463b3a8395"
      },
      "source": [
        "#041 upper 메서드\r\n",
        "\r\n",
        "ticker = \"btc_krw\"\r\n",
        "ticker.upper() #041\r\n",
        "ticker.lower() #042\r\n",
        "ticker.capitalize() #03"
      ],
      "execution_count": null,
      "outputs": [
        {
          "output_type": "execute_result",
          "data": {
            "application/vnd.google.colaboratory.intrinsic+json": {
              "type": "string"
            },
            "text/plain": [
              "'Btc_krw'"
            ]
          },
          "metadata": {
            "tags": []
          },
          "execution_count": 112
        }
      ]
    },
    {
      "cell_type": "code",
      "metadata": {
        "colab": {
          "base_uri": "https://localhost:8080/"
        },
        "id": "EvnJNZgyOGbI",
        "outputId": "d39007fa-fc70-45e6-d8e7-c4a3d8e8382c"
      },
      "source": [
        "# 044 endswith 메서드\r\n",
        "# 파일 이름이 문자열로 저장되어 있을 때 endswith 메서드를 사용해서 파일 이름이 'xlsx'로 끝나는지 확인해보세요.\r\n",
        "\r\n",
        "file_name = \"보고서.xlsx\"\r\n",
        "\r\n",
        "print(file_name.endswith('.xlsx'))\r\n",
        "print(file_name.endswith((\"xlsx\", \"xls\"))) #45"
      ],
      "execution_count": null,
      "outputs": [
        {
          "output_type": "stream",
          "text": [
            "True\n",
            "True\n"
          ],
          "name": "stdout"
        }
      ]
    },
    {
      "cell_type": "code",
      "metadata": {
        "colab": {
          "base_uri": "https://localhost:8080/"
        },
        "id": "k5kKW1TROfbT",
        "outputId": "884f53e5-8f4d-4950-d1a0-1ff009e63826"
      },
      "source": [
        "# 046 startswith 메서드\r\n",
        "# 파일 이름이 문자열로 저장되어 있을 때 startswith 메서드를 사용해서 파일 이름이 '2020'로 시작하는지 확인해보세요.\r\n",
        "\r\n",
        "file_name = \"2020_보고서.xlsx\"\r\n",
        "file_name.startswith('2020')"
      ],
      "execution_count": null,
      "outputs": [
        {
          "output_type": "execute_result",
          "data": {
            "text/plain": [
              "True"
            ]
          },
          "metadata": {
            "tags": []
          },
          "execution_count": 116
        }
      ]
    },
    {
      "cell_type": "code",
      "metadata": {
        "colab": {
          "base_uri": "https://localhost:8080/"
        },
        "id": "bVgVRnXOOugv",
        "outputId": "8f58f761-7205-4bd1-fc3d-2b96841197ea"
      },
      "source": [
        "#47\r\n",
        "a = \"hello world\"\r\n",
        "print(a.split())\r\n",
        "\r\n",
        "#48\r\n",
        "ticker = \"btc_krw\"\r\n",
        "print(ticker.split('_'))\r\n",
        "\r\n",
        "#49\r\n",
        "date = \"2020-05-01\"\r\n",
        "print(date.split('-'))\r\n",
        "\r\n",
        "#50\r\n",
        "data = \"039490     \"\r\n",
        "print(data.rstrip())"
      ],
      "execution_count": null,
      "outputs": [
        {
          "output_type": "stream",
          "text": [
            "['hello', 'world']\n",
            "['btc', 'krw']\n",
            "['2020', '05', '01']\n",
            "039490\n"
          ],
          "name": "stdout"
        }
      ]
    },
    {
      "cell_type": "markdown",
      "metadata": {
        "id": "avx1YFqpWLGm"
      },
      "source": [
        "## 04. 파이썬 리스트\r\n",
        "파이선 리스트는 순서가 있고 수정 가능한 자료구조입니다."
      ]
    },
    {
      "cell_type": "code",
      "metadata": {
        "id": "o2C90KpyQxKg",
        "colab": {
          "base_uri": "https://localhost:8080/"
        },
        "outputId": "3b3995d8-9651-49d0-f387-0d7468121bae"
      },
      "source": [
        "# 051 리스트 생성\r\n",
        "# 2016년 11월 영화 예매 순위 기준 top3는 다음과 같습니다. 영화 제목을 movie_rank 이름의 리스트에 저장해보세요. (순위 정보는 저장하지 않습니다.)\r\n",
        "\r\n",
        "movie_rank = [\"닥터 스트레인지\",\"스플릿\",\"럭키\"]\r\n",
        "print(movie_rank)\r\n",
        "\r\n",
        "# 052 리스트에 원소 추가\r\n",
        "# 051의 movie_rank 리스트에 \"배트맨\"을 추가하라.\r\n",
        "\r\n",
        "movie_rank.append(\"배트맨\")\r\n",
        "print(movie_rank)"
      ],
      "execution_count": null,
      "outputs": [
        {
          "output_type": "stream",
          "text": [
            "['닥터 스트레인지', '스플릿', '럭키']\n",
            "['닥터 스트레인지', '스플릿', '럭키', '배트맨']\n"
          ],
          "name": "stdout"
        }
      ]
    },
    {
      "cell_type": "code",
      "metadata": {
        "colab": {
          "base_uri": "https://localhost:8080/"
        },
        "id": "Pa2jA0VjBoZR",
        "outputId": "6e639b41-b40b-4d72-88f9-cedf8ae7ccdd"
      },
      "source": [
        "#@title insert(인덱스, 원소)\n",
        "# 053\n",
        "# movie_rank 리스트에는 아래와 같이 네 개의 영화 제목이 바인딩되어 있다. \"슈퍼맨\"을 \"닥터 스트레인지\"와 \"스플릿\" 사이에 추가하라.\n",
        "movie_rank = ['닥터 스트레인지', '스플릿', '럭키', '배트맨']\n",
        "#리스트의 insert(인덱스, 원소) 메서드를 사용하면 특정 위치에 값을 끼어넣기 할 수 있습니다.\n",
        "movie_rank.insert(1,\"슈퍼맨\")\n",
        "print(movie_rank)"
      ],
      "execution_count": null,
      "outputs": [
        {
          "output_type": "stream",
          "text": [
            "['닥터 스트레인지', '슈퍼맨', '스플릿', '럭키', '배트맨']\n"
          ],
          "name": "stdout"
        }
      ]
    },
    {
      "cell_type": "code",
      "metadata": {
        "colab": {
          "base_uri": "https://localhost:8080/"
        },
        "id": "oC-jYtUPB9aO",
        "outputId": "b838da38-32fd-4225-aff1-a98bcc3b4944"
      },
      "source": [
        "# 054\r\n",
        "# movie_rank 리스트에서 '럭키'를 삭제하라.\r\n",
        "\r\n",
        "movie_rank = ['닥터 스트레인지', '슈퍼맨', '스플릿', '럭키', '배트맨']\r\n",
        "#movie_rank.remove(\"럭키\")\r\n",
        "del movie_rank[3]\r\n",
        "print(movie_rank)\r\n",
        "\r\n",
        "#del 과 remove의 차이점은?\r\n",
        "# del a[인덱스] # 리스트 a의 해당 인덱스 원소가 삭제됩니다!\r\n",
        "# a.pop(인덱스) # 리스트 a의 해당 인덱스 원소가 삭제됩니다!\r\n",
        "# a.remove(원소) # 리스트 a의 해당 원소가 삭제됩니다!\r\n"
      ],
      "execution_count": null,
      "outputs": [
        {
          "output_type": "stream",
          "text": [
            "['닥터 스트레인지', '슈퍼맨', '스플릿', '배트맨']\n"
          ],
          "name": "stdout"
        }
      ]
    },
    {
      "cell_type": "code",
      "metadata": {
        "colab": {
          "base_uri": "https://localhost:8080/"
        },
        "id": "0GpuqPXJCUVa",
        "outputId": "341ca375-a9ad-4805-c0d9-ce1d5e66478b"
      },
      "source": [
        "movie_rank = ['닥터 스트레인지', '슈퍼맨', '스플릿', '럭키', '배트맨']\r\n",
        "del movie_rank[3]\r\n",
        "print(movie_rank)"
      ],
      "execution_count": null,
      "outputs": [
        {
          "output_type": "stream",
          "text": [
            "['닥터 스트레인지', '슈퍼맨', '스플릿', '배트맨']\n"
          ],
          "name": "stdout"
        }
      ]
    },
    {
      "cell_type": "code",
      "metadata": {
        "colab": {
          "base_uri": "https://localhost:8080/"
        },
        "id": "pWCoYQZJHVXZ",
        "outputId": "dbf358da-d982-444c-92db-dc76a3996d6f"
      },
      "source": [
        "movie_rank = ['닥터 스트레인지', '슈퍼맨', '스플릿', '럭키', '배트맨']\r\n",
        "movie_rank.remove(\"럭키\")\r\n",
        "print(movie_rank)"
      ],
      "execution_count": null,
      "outputs": [
        {
          "output_type": "stream",
          "text": [
            "['닥터 스트레인지', '슈퍼맨', '스플릿', '배트맨']\n"
          ],
          "name": "stdout"
        }
      ]
    },
    {
      "cell_type": "code",
      "metadata": {
        "colab": {
          "base_uri": "https://localhost:8080/"
        },
        "id": "ZSX_oQo_HY3I",
        "outputId": "424f94e0-fd8e-4329-bc9f-7e78a8a141f1"
      },
      "source": [
        "movie_rank = ['닥터 스트레인지', '슈퍼맨', '스플릿', '럭키', '배트맨']\r\n",
        "movie_rank.pop() #list.pop()에 인덱스를 지정하지 않으면 목록의 마지막 요소가 제거됩니다.\r\n",
        "print(movie_rank)"
      ],
      "execution_count": null,
      "outputs": [
        {
          "output_type": "stream",
          "text": [
            "['닥터 스트레인지', '슈퍼맨', '스플릿', '럭키']\n"
          ],
          "name": "stdout"
        }
      ]
    },
    {
      "cell_type": "code",
      "metadata": {
        "colab": {
          "base_uri": "https://localhost:8080/"
        },
        "id": "5WjBw2FHHeHB",
        "outputId": "d4238bca-c38d-411c-9247-aa388eff3ce6"
      },
      "source": [
        "#055\r\n",
        "#movie_rank 리스트에서 '스플릿' 과 '배트맨'을 를 삭제하라.\r\n",
        "movie_rank = ['닥터 스트레인지', '슈퍼맨', '스플릿', '배트맨']\r\n",
        "\r\n",
        "# del을 이용하여 리스트에서 원소를 삭제할 수 있습니다. 리스트에서 어떤 값을 삭제하면 남은 값들은 새로 인덱싱됩니다. 따라서 여러 값을 삭제할 때는 어떤 값이 먼저 삭제된 후 남은 원소들에 대해서 순서를 새로 고려한 후 삭제해야 합니다.\r\n",
        "\r\n",
        "del movie_rank[2]\r\n",
        "del movie_rank[2]\r\n",
        "print(movie_rank)"
      ],
      "execution_count": null,
      "outputs": [
        {
          "output_type": "stream",
          "text": [
            "['닥터 스트레인지', '슈퍼맨']\n"
          ],
          "name": "stdout"
        }
      ]
    },
    {
      "cell_type": "code",
      "metadata": {
        "colab": {
          "base_uri": "https://localhost:8080/"
        },
        "id": "EM-Kwrd8Lbvi",
        "outputId": "2b2436e1-168c-4045-ef94-c899678ec3f6"
      },
      "source": [
        "#56\r\n",
        "# lang1과 lang2 리스트가 있을 때 lang1과 lang2의 원소를 모두 갖고 있는 langs 리스트를 만들어라.\r\n",
        "\r\n",
        "# >> lang1 = [\"C\", \"C++\", \"JAVA\"]\r\n",
        "# >> lang2 = [\"Python\", \"Go\", \"C#\"]\r\n",
        "# 실행 예:\r\n",
        "# >> langs\r\n",
        "# ['C', 'C++', 'JAVA', 'Python', 'Go', 'C#']\r\n",
        "lang1 = [\"C\", \"C++\", \"JAVA\"]\r\n",
        "lang2 = [\"Python\", \"Go\", \"C#\"]\r\n",
        "\r\n",
        "lang1 + lang2"
      ],
      "execution_count": null,
      "outputs": [
        {
          "output_type": "execute_result",
          "data": {
            "text/plain": [
              "['C', 'C++', 'JAVA', 'Python', 'Go', 'C#']"
            ]
          },
          "metadata": {
            "tags": []
          },
          "execution_count": 13
        }
      ]
    },
    {
      "cell_type": "code",
      "metadata": {
        "colab": {
          "base_uri": "https://localhost:8080/"
        },
        "id": "oi0XI0dnMEWT",
        "outputId": "5e0c959c-edab-45e2-95dd-b38495319066"
      },
      "source": [
        "# 057\r\n",
        "# 다음 리스트에서 최댓값과 최솟값을 출력하라. (힌트: min(), max() 함수 사용)\r\n",
        "\r\n",
        "\r\n",
        "# 실행 예:\r\n",
        "# max:  7\r\n",
        "# min:  1\r\n",
        "nums = [1, 2, 3, 4, 5, 6, 7]\r\n",
        "print(f\"min : {min(nums)}\")\r\n",
        "print(f\"max : {max(nums)}\")"
      ],
      "execution_count": null,
      "outputs": [
        {
          "output_type": "stream",
          "text": [
            "min : 1\n",
            "max : 7\n"
          ],
          "name": "stdout"
        }
      ]
    },
    {
      "cell_type": "code",
      "metadata": {
        "id": "eoH96MnMOCTn",
        "colab": {
          "base_uri": "https://localhost:8080/"
        },
        "outputId": "878da6a9-02a5-48aa-995d-cd111231327a"
      },
      "source": [
        "# 058\r\n",
        "# 다음 리스트의 합을 출력하라.\r\n",
        "\r\n",
        "nums = [1, 2, 3, 4, 5]\r\n",
        "total = 0\r\n",
        "for a in nums:\r\n",
        "  total += a\r\n",
        "\r\n",
        "print(total)\r\n",
        "\r\n",
        "print(sum(nums))"
      ],
      "execution_count": null,
      "outputs": [
        {
          "output_type": "stream",
          "text": [
            "15\n",
            "15\n"
          ],
          "name": "stdout"
        }
      ]
    },
    {
      "cell_type": "code",
      "metadata": {
        "colab": {
          "base_uri": "https://localhost:8080/"
        },
        "id": "WsrUsoUyf3ls",
        "outputId": "b64dcf48-5173-44c5-c27b-d24d6da32875"
      },
      "source": [
        "# 059\r\n",
        "# 다음 리스트에 저장된 데이터의 개수를 화면에 구하하라.\r\n",
        "\r\n",
        "cook = [\"피자\", \"김밥\", \"만두\", \"양념치킨\", \"족발\", \"피자\", \"김치만두\", \"쫄면\", \"쏘세지\", \"라면\", \"팥빙수\", \"김치전\"]\r\n",
        "len(cook)"
      ],
      "execution_count": null,
      "outputs": [
        {
          "output_type": "execute_result",
          "data": {
            "text/plain": [
              "12"
            ]
          },
          "metadata": {
            "tags": []
          },
          "execution_count": 13
        }
      ]
    },
    {
      "cell_type": "code",
      "metadata": {
        "colab": {
          "base_uri": "https://localhost:8080/"
        },
        "id": "0_pDmtyIgPdh",
        "outputId": "b7e4edde-ca2a-4c2e-c5cb-a441606f1a7d"
      },
      "source": [
        "# 060\r\n",
        "# 다음 리스트의 평균을 출력하라.\r\n",
        "\r\n",
        "nums = [1, 2, 3, 4, 5]\r\n",
        "\r\n",
        "print(sum(nums)/len(nums))"
      ],
      "execution_count": null,
      "outputs": [
        {
          "output_type": "stream",
          "text": [
            "3.0\n"
          ],
          "name": "stdout"
        }
      ]
    },
    {
      "cell_type": "code",
      "metadata": {
        "colab": {
          "base_uri": "https://localhost:8080/"
        },
        "id": "U5WVkJjbgdQJ",
        "outputId": "549ea4a1-e408-4914-ada9-b9d3ccca56ba"
      },
      "source": [
        "# 061\r\n",
        "# price 변수에는 날짜와 종가 정보가 저장돼 있다. 날짜 정보를 제외하고 가격 정보만을 출력하라. (힌트 : 슬라이싱)\r\n",
        "\r\n",
        "price = ['20180728', 100, 130, 140, 150, 160, 170]\r\n",
        "\r\n",
        "print(price[1:])"
      ],
      "execution_count": null,
      "outputs": [
        {
          "output_type": "stream",
          "text": [
            "[100, 130, 140, 150, 160, 170]\n"
          ],
          "name": "stdout"
        }
      ]
    },
    {
      "cell_type": "code",
      "metadata": {
        "colab": {
          "base_uri": "https://localhost:8080/"
        },
        "id": "tI3R50Qygkep",
        "outputId": "f06991f4-4654-49a1-f4c3-e61712fd1944"
      },
      "source": [
        "# 062\r\n",
        "# 슬라이싱을 사용해서 홀수만 출력하라.\r\n",
        "\r\n",
        "nums = [1, 2, 3, 4, 5, 6, 7, 8, 9, 10]\r\n",
        "print(nums[0::2])\r\n",
        "print(nums[1::2]) #63\r\n",
        "print(nums[::-1]) #64"
      ],
      "execution_count": null,
      "outputs": [
        {
          "output_type": "stream",
          "text": [
            "[1, 3, 5, 7, 9]\n",
            "[2, 4, 6, 8, 10]\n",
            "[10, 9, 8, 7, 6, 5, 4, 3, 2, 1]\n"
          ],
          "name": "stdout"
        }
      ]
    },
    {
      "cell_type": "code",
      "metadata": {
        "colab": {
          "base_uri": "https://localhost:8080/"
        },
        "id": "AgKYFExNh1vJ",
        "outputId": "7985a6c5-c10c-4fe7-b8e2-872f9327062e"
      },
      "source": [
        "# 065\r\n",
        "# interest 리스트에는 아래의 데이터가 바인딩되어 있다.\r\n",
        "\r\n",
        "# interest = ['삼성전자', 'LG전자', 'Naver']\r\n",
        "# interest 리스트를 사용하여 아래와 같이 화면에 출력하라.\r\n",
        "interest = ['삼성전자', 'LG전자', 'Naver']\r\n",
        "print(interest[0], interest[2])"
      ],
      "execution_count": null,
      "outputs": [
        {
          "output_type": "stream",
          "text": [
            "삼성전자 Naver\n"
          ],
          "name": "stdout"
        }
      ]
    },
    {
      "cell_type": "code",
      "metadata": {
        "colab": {
          "base_uri": "https://localhost:8080/"
        },
        "id": "2Mfoe0Zwjgc1",
        "outputId": "0cd017da-e317-4ea3-f696-6fd61b1f3217"
      },
      "source": [
        "#@title join 메서드 :리스트에 특정 구분자를 추가하여 문자열로 변환함\n",
        "# 066 join 메서드 :리스트에 특정 구분자를 추가하여 문자열로 변환함\n",
        "# interest 리스트에는 아래의 데이터가 바인딩되어 있다.\n",
        "\n",
        "interest = ['삼성전자', 'LG전자', 'Naver', 'SK하이닉스', '미래에셋대우']\n",
        "# interest 리스트를 사용하여 아래와 같이 화면에 출력하라.\n",
        "\n",
        "print(\" \".join(interest))"
      ],
      "execution_count": null,
      "outputs": [
        {
          "output_type": "stream",
          "text": [
            "삼성전자 LG전자 Naver SK하이닉스 미래에셋대우\n"
          ],
          "name": "stdout"
        }
      ]
    },
    {
      "cell_type": "code",
      "metadata": {
        "colab": {
          "base_uri": "https://localhost:8080/"
        },
        "id": "pl0rv1NLjqqQ",
        "outputId": "6268ba1b-a985-4487-aa67-0c60f3cc5e69"
      },
      "source": [
        "print(\"/\".join(interest))#67\r\n",
        "print(\"\\n\".join(interest))#68"
      ],
      "execution_count": null,
      "outputs": [
        {
          "output_type": "stream",
          "text": [
            "삼성전자/LG전자/Naver/SK하이닉스/미래에셋대우\n",
            "삼성전자\n",
            "LG전자\n",
            "Naver\n",
            "SK하이닉스\n",
            "미래에셋대우\n"
          ],
          "name": "stdout"
        }
      ]
    },
    {
      "cell_type": "code",
      "metadata": {
        "colab": {
          "base_uri": "https://localhost:8080/"
        },
        "id": "P2ifjAeHj7oP",
        "outputId": "52ebab32-701b-4b6d-82f1-d6258f1722e1"
      },
      "source": [
        "# 069 문자열 split 메서드\r\n",
        "# 회사 이름이 슬래시 ('/')로 구분되어 하나의 문자열로 저장되어 있다.\r\n",
        "\r\n",
        "string = \"삼성전자/LG전자/Naver\"\r\n",
        "# 이를 interest 이름의 리스트로 분리 저장하라.\r\n",
        "string.split('/')"
      ],
      "execution_count": null,
      "outputs": [
        {
          "output_type": "execute_result",
          "data": {
            "text/plain": [
              "['삼성전자', 'LG전자', 'Naver']"
            ]
          },
          "metadata": {
            "tags": []
          },
          "execution_count": 34
        }
      ]
    },
    {
      "cell_type": "code",
      "metadata": {
        "colab": {
          "base_uri": "https://localhost:8080/"
        },
        "id": "BWpKRIpjk_cP",
        "outputId": "815a1673-c306-454e-ac6a-1f5e210460cb"
      },
      "source": [
        "# 070 리스트 정렬\r\n",
        "# 리스트에 있는 값을 오름차순으로 정렬하세요.\r\n",
        "\r\n",
        "data = [2, 4, 3, 1, 5, 10, 9]\r\n",
        "data.sort() #원본데이터 정렬\r\n",
        "print(data)"
      ],
      "execution_count": null,
      "outputs": [
        {
          "output_type": "stream",
          "text": [
            "[1, 2, 3, 4, 5, 9, 10]\n"
          ],
          "name": "stdout"
        }
      ]
    },
    {
      "cell_type": "code",
      "metadata": {
        "colab": {
          "base_uri": "https://localhost:8080/"
        },
        "id": "Ff5oESlYlOeA",
        "outputId": "73bf0194-dce5-4415-fc88-b21f71267788"
      },
      "source": [
        "data = [2, 4, 3, 1, 5, 10, 9]\r\n",
        "data2 = sorted(data) #원본 데이터 보유\r\n",
        "print(data)\r\n",
        "print(data2)"
      ],
      "execution_count": null,
      "outputs": [
        {
          "output_type": "stream",
          "text": [
            "[2, 4, 3, 1, 5, 10, 9]\n",
            "[1, 2, 3, 4, 5, 9, 10]\n"
          ],
          "name": "stdout"
        }
      ]
    },
    {
      "cell_type": "code",
      "metadata": {
        "colab": {
          "base_uri": "https://localhost:8080/"
        },
        "id": "ctVtCffYlUB_",
        "outputId": "69cbb04a-388c-451d-a227-097dfca9a94e"
      },
      "source": [
        "data = [2, 4, 3, 1, 5, 10, 9]\r\n",
        "data2 = sorted(data,reverse=True) #원본 데이터 보유\r\n",
        "print(data)\r\n",
        "print(data2)"
      ],
      "execution_count": null,
      "outputs": [
        {
          "output_type": "stream",
          "text": [
            "[2, 4, 3, 1, 5, 10, 9]\n",
            "[10, 9, 5, 4, 3, 2, 1]\n"
          ],
          "name": "stdout"
        }
      ]
    },
    {
      "cell_type": "markdown",
      "metadata": {
        "id": "XHjvW4Af56Tb"
      },
      "source": [
        "## 05. 파이썬 튜플"
      ]
    },
    {
      "cell_type": "code",
      "metadata": {
        "id": "kr-k8nkemFef"
      },
      "source": [
        "# 071\r\n",
        "# my_variable 이름의 비어있는 튜플을 만들라.\r\n",
        "\r\n",
        "my_variable= ()"
      ],
      "execution_count": null,
      "outputs": []
    },
    {
      "cell_type": "code",
      "metadata": {
        "id": "_cWdNwqS68RN"
      },
      "source": [
        "# 072\r\n",
        "# 2016년 11월 영화 예매 순위 기준 top3는 다음과 같다. 영화 제목을 movie_rank 이름의 튜플에 저장하라. (순위 정보는 저장하지 않는다.)\r\n",
        "\r\n",
        "# 순위\t영화\r\n",
        "# 1\t닥터 스트레인지\r\n",
        "# 2\t스플릿\r\n",
        "# 3\t럭키\r\n",
        "\r\n",
        "movie_rank = (\"닥터 스트레인지\", \"스플릿\",\"럭키\")"
      ],
      "execution_count": null,
      "outputs": []
    },
    {
      "cell_type": "code",
      "metadata": {
        "colab": {
          "base_uri": "https://localhost:8080/"
        },
        "id": "rwNASUqC7Gm_",
        "outputId": "4010df78-38d3-4817-f02a-d3d3efcc1572"
      },
      "source": [
        "# 073\r\n",
        "# 숫자 1 이 저장된 튜플을 생성하라.\r\n",
        "\r\n",
        "\r\n",
        "#아래와 같이 괄호와 함께 하나의 정숫값을 저장하면 튜플이 정의 될 것같지만 그렇지 않습니다.\r\n",
        "a =(1)\r\n",
        "type(a)\r\n",
        "\r\n",
        "#->\r\n",
        "ab =(1,)\r\n",
        "type(ab)"
      ],
      "execution_count": null,
      "outputs": [
        {
          "output_type": "execute_result",
          "data": {
            "text/plain": [
              "tuple"
            ]
          },
          "metadata": {
            "tags": []
          },
          "execution_count": 56
        }
      ]
    },
    {
      "cell_type": "code",
      "metadata": {
        "colab": {
          "base_uri": "https://localhost:8080/",
          "height": 244
        },
        "id": "7j_joMT_7MCl",
        "outputId": "12fe588f-ed4c-4870-da06-660382b879b0"
      },
      "source": [
        "# 074\r\n",
        "# 다음 코드를 실행해보고 오류가 발생하는 원인을 설명하라.\r\n",
        "\r\n",
        "t = (1, 2, 3)\r\n",
        "t[0] = 'a'\r\n",
        "# Traceback (most recent call last):\r\n",
        "#   File \"<pyshell#46>\", line 1, in <module>\r\n",
        "#     t[0] = 'a'\r\n",
        "# TypeError: 'tuple' object does not support item assignment\r\n",
        "\r\n",
        "#튜플은 변경할 수 없기 때문에\r\n",
        "#tuple은 원소(element)의 값을 변경할 수 없습니다."
      ],
      "execution_count": null,
      "outputs": [
        {
          "output_type": "error",
          "ename": "TypeError",
          "evalue": "ignored",
          "traceback": [
            "\u001b[0;31m---------------------------------------------------------------------------\u001b[0m",
            "\u001b[0;31mTypeError\u001b[0m                                 Traceback (most recent call last)",
            "\u001b[0;32m<ipython-input-59-f7cad34899ce>\u001b[0m in \u001b[0;36m<module>\u001b[0;34m()\u001b[0m\n\u001b[1;32m      3\u001b[0m \u001b[0;34m\u001b[0m\u001b[0m\n\u001b[1;32m      4\u001b[0m \u001b[0mt\u001b[0m \u001b[0;34m=\u001b[0m \u001b[0;34m(\u001b[0m\u001b[0;36m1\u001b[0m\u001b[0;34m,\u001b[0m \u001b[0;36m2\u001b[0m\u001b[0;34m,\u001b[0m \u001b[0;36m3\u001b[0m\u001b[0;34m)\u001b[0m\u001b[0;34m\u001b[0m\u001b[0;34m\u001b[0m\u001b[0m\n\u001b[0;32m----> 5\u001b[0;31m \u001b[0mt\u001b[0m\u001b[0;34m[\u001b[0m\u001b[0;36m0\u001b[0m\u001b[0;34m]\u001b[0m \u001b[0;34m=\u001b[0m \u001b[0;34m'a'\u001b[0m\u001b[0;34m\u001b[0m\u001b[0;34m\u001b[0m\u001b[0m\n\u001b[0m\u001b[1;32m      6\u001b[0m \u001b[0;31m# Traceback (most recent call last):\u001b[0m\u001b[0;34m\u001b[0m\u001b[0;34m\u001b[0m\u001b[0;34m\u001b[0m\u001b[0m\n\u001b[1;32m      7\u001b[0m \u001b[0;31m#   File \"<pyshell#46>\", line 1, in <module>\u001b[0m\u001b[0;34m\u001b[0m\u001b[0;34m\u001b[0m\u001b[0;34m\u001b[0m\u001b[0m\n",
            "\u001b[0;31mTypeError\u001b[0m: 'tuple' object does not support item assignment"
          ]
        }
      ]
    },
    {
      "cell_type": "code",
      "metadata": {
        "colab": {
          "base_uri": "https://localhost:8080/"
        },
        "id": "UKNQmqbF7c3m",
        "outputId": "c971eaa5-3a51-4a65-92ce-44b7a5ab9795"
      },
      "source": [
        "# 075\r\n",
        "# 아래와 같이 t에는 1, 2, 3, 4 데이터가 바인딩되어 있다. t가 바인딩하는 데이터 타입은 무엇인가?\r\n",
        "\r\n",
        "#원칙적으로 튜플은 괄호와 함께 데이터를 정의해야 하지만, 사용자 편의를 위해 괄호 없이도 동작합니다.\r\n",
        "t = 1, 2, 3, 4\r\n",
        "type(t)\r\n",
        "\r\n"
      ],
      "execution_count": null,
      "outputs": [
        {
          "output_type": "execute_result",
          "data": {
            "text/plain": [
              "tuple"
            ]
          },
          "metadata": {
            "tags": []
          },
          "execution_count": 61
        }
      ]
    },
    {
      "cell_type": "code",
      "metadata": {
        "id": "wCNCEBO07lKO"
      },
      "source": [
        "# 076\r\n",
        "# 변수 t에는 아래와 같은 값이 저장되어 있다. 변수 t가 ('A', 'b', 'c') 튜플을 가리키도록 수정 하라.\r\n",
        "\r\n",
        "t = ('a', 'b', 'c') #이 튜플은 자동으로 삭제됨\r\n",
        "t = ('A', 'b', 'c')"
      ],
      "execution_count": null,
      "outputs": []
    },
    {
      "cell_type": "code",
      "metadata": {
        "colab": {
          "base_uri": "https://localhost:8080/"
        },
        "id": "KyZj8vAk7t0N",
        "outputId": "fcc3959c-c8fa-40d5-dc68-20f6b4a766ad"
      },
      "source": [
        "# 077\r\n",
        "# 다음 튜플을 리스트로 변환하라.\r\n",
        "\r\n",
        "interest = ('삼성전자', 'LG전자', 'SK Hynix')\r\n",
        "list(interest)"
      ],
      "execution_count": null,
      "outputs": [
        {
          "output_type": "execute_result",
          "data": {
            "text/plain": [
              "['삼성전자', 'LG전자', 'SK Hynix']"
            ]
          },
          "metadata": {
            "tags": []
          },
          "execution_count": 63
        }
      ]
    },
    {
      "cell_type": "code",
      "metadata": {
        "colab": {
          "base_uri": "https://localhost:8080/"
        },
        "id": "0kcNc0CP8NNV",
        "outputId": "94b1717c-28ba-4305-f4b2-5c5b30e6a59b"
      },
      "source": [
        "# 078\r\n",
        "# 다음 리스트를 튜플로 변경하라.\r\n",
        "\r\n",
        "interest = ['삼성전자', 'LG전자', 'SK Hynix']\r\n",
        "i2 = tuple(interest)\r\n",
        "i2"
      ],
      "execution_count": null,
      "outputs": [
        {
          "output_type": "execute_result",
          "data": {
            "text/plain": [
              "('삼성전자', 'LG전자', 'SK Hynix')"
            ]
          },
          "metadata": {
            "tags": []
          },
          "execution_count": 66
        }
      ]
    },
    {
      "cell_type": "code",
      "metadata": {
        "colab": {
          "base_uri": "https://localhost:8080/"
        },
        "id": "fq4uzIQX8T-t",
        "outputId": "75fc9e15-b9bd-463d-ee3d-a9cd2d8e7295"
      },
      "source": [
        "# 079 튜플 언팩킹\r\n",
        "# 다음 코드의 실행 결과를 예상하라.\r\n",
        "\r\n",
        "temp = ('apple', 'banana', 'cake')\r\n",
        "a, b, c = temp\r\n",
        "print(a, b, c)"
      ],
      "execution_count": null,
      "outputs": [
        {
          "output_type": "stream",
          "text": [
            "apple banana cake\n"
          ],
          "name": "stdout"
        }
      ]
    },
    {
      "cell_type": "code",
      "metadata": {
        "colab": {
          "base_uri": "https://localhost:8080/"
        },
        "id": "1NbnYN5f8cZ9",
        "outputId": "d23fe0b1-9381-4ceb-9b36-6a56552c2bb3"
      },
      "source": [
        "# 080 range 함수\r\n",
        "# 1 부터 99까지의 정수 중 짝수만 저장된 튜플을 생성하라.\r\n",
        "\r\n",
        "\r\n",
        "# (2, 4, 6, 8 ... 98)\r\n",
        "tu1 = tuple(range(2,99,2))\r\n",
        "print(tu1)"
      ],
      "execution_count": null,
      "outputs": [
        {
          "output_type": "stream",
          "text": [
            "(2, 4, 6, 8, 10, 12, 14, 16, 18, 20, 22, 24, 26, 28, 30, 32, 34, 36, 38, 40, 42, 44, 46, 48, 50, 52, 54, 56, 58, 60, 62, 64, 66, 68, 70, 72, 74, 76, 78, 80, 82, 84, 86, 88, 90, 92, 94, 96, 98)\n"
          ],
          "name": "stdout"
        }
      ]
    },
    {
      "cell_type": "markdown",
      "metadata": {
        "id": "Nm-GioylhGhT"
      },
      "source": [
        "## 06. 파이썬 딕셔너리"
      ]
    },
    {
      "cell_type": "code",
      "metadata": {
        "id": "MAc24gGV8pqF",
        "colab": {
          "base_uri": "https://localhost:8080/"
        },
        "outputId": "94255698-c40f-44a3-ce6f-29350e40b885"
      },
      "source": [
        "#@title 오 새로 알게된 내용\n",
        "# 081 별 표현식\n",
        "# 기본적으로 데이터 언패킹은 좌변의 변수와 우변 데이터 개수가 같아야 합니다. \n",
        "# 하지만 star expression을 사용하면 변수의 개수가 달라도 데이터 언패킹을 할 수 있습니다.\n",
        "# 튜플에 저장된 데이터 중에서 앞에 있는 두 개의 데이터만 필요할 경우 \n",
        "# 나머지 데이터의 언패킹 코드를 작성할 필요가 없습니다.\n",
        "\n",
        "a, b, *c = (0, 1, 2, 3, 4, 5)\n",
        "a, *b, c = (0, 1, 2, 3, 4, 5)\n",
        "print(a)\n",
        "\n",
        "print(b)\n",
        "\n",
        "print(c)\n",
        "\n",
        "# 다음과 같이 10개의 값이 저장된 scores 리스트가 있을 때, \n",
        "# start expression을 사용하여 좌측 8개의 값을 \n",
        "# valid_score 변수에 바인딩하여라.\n",
        "\n",
        "scores = [8.8, 8.9, 8.7, 9.2, 9.3, 9.7, 9.9, 9.5, 7.8, 9.4]\n",
        "\n",
        "*valid_score,_,_ = scores\n",
        "print(valid_score)"
      ],
      "execution_count": null,
      "outputs": [
        {
          "output_type": "stream",
          "text": [
            "0\n",
            "[1, 2, 3, 4]\n",
            "5\n",
            "[8.8, 8.9, 8.7, 9.2, 9.3, 9.7, 9.9, 9.5]\n"
          ],
          "name": "stdout"
        }
      ]
    },
    {
      "cell_type": "code",
      "metadata": {
        "colab": {
          "base_uri": "https://localhost:8080/"
        },
        "id": "B1ovTtMPhYA8",
        "outputId": "b95b5860-a91a-4d95-881d-18704a1161c6"
      },
      "source": [
        "# 082\r\n",
        "# 다음과 같이 10개의 값이 저장된 scores 리스트가 있을 때, start expression을 사용하여 우측 8개의 값을 valid_score 변수에 바인딩하여라.\r\n",
        "\r\n",
        "scores = [8.8, 8.9, 8.7, 9.2, 9.3, 9.7, 9.9, 9.5, 7.8, 9.4]\r\n",
        "\r\n",
        "_,_,*valid_score = scores\r\n",
        "print(valid_score)"
      ],
      "execution_count": null,
      "outputs": [
        {
          "output_type": "stream",
          "text": [
            "[8.7, 9.2, 9.3, 9.7, 9.9, 9.5, 7.8, 9.4]\n"
          ],
          "name": "stdout"
        }
      ]
    },
    {
      "cell_type": "code",
      "metadata": {
        "colab": {
          "base_uri": "https://localhost:8080/"
        },
        "id": "aNmqu3_4h5-L",
        "outputId": "b5c10a1c-c32b-4515-8939-0413d7224ea8"
      },
      "source": [
        "# 083\r\n",
        "# 다음과 같이 10개의 값이 저장된 scores 리스트가 있을 때, start expression을 사용하여 가운데 있는 8개의 값을 valid_score 변수에 바인딩하여라.\r\n",
        "\r\n",
        "scores = [8.8, 8.9, 8.7, 9.2, 9.3, 9.7, 9.9, 9.5, 7.8, 9.4]\r\n",
        "_,*valid_score,_ = scores\r\n",
        "print(valid_score)"
      ],
      "execution_count": null,
      "outputs": [
        {
          "output_type": "stream",
          "text": [
            "[8.9, 8.7, 9.2, 9.3, 9.7, 9.9, 9.5, 7.8]\n"
          ],
          "name": "stdout"
        }
      ]
    },
    {
      "cell_type": "code",
      "metadata": {
        "id": "sjFbB9Bih_XD"
      },
      "source": [
        "# 084 비어있는 딕셔너리\r\n",
        "# temp 이름의 비어있는 딕셔너리를 만들라.\r\n",
        "\r\n",
        "temp = {}"
      ],
      "execution_count": null,
      "outputs": []
    },
    {
      "cell_type": "code",
      "metadata": {
        "colab": {
          "base_uri": "https://localhost:8080/"
        },
        "id": "oUcP5JKti2vj",
        "outputId": "c4693afb-55e2-40a9-fd91-11182f3c422e"
      },
      "source": [
        "# 085\r\n",
        "# 다음 아이스크림 이름과 희망 가격을 딕셔너리로 구성하라.\r\n",
        "\r\n",
        "# 이름\t희망 가격\r\n",
        "# 메로나\t1000\r\n",
        "# 폴라포\t1200\r\n",
        "# 빵빠레\t1800\r\n",
        "\r\n",
        "ice = {\"메로나\": 1000, \"폴라포\": 1200, \"빵빠레\": 1800}\r\n",
        "print(ice)"
      ],
      "execution_count": null,
      "outputs": [
        {
          "output_type": "stream",
          "text": [
            "{'메로나': 1000, '폴라포': 1200, '빵빠레': 1800}\n"
          ],
          "name": "stdout"
        }
      ]
    },
    {
      "cell_type": "code",
      "metadata": {
        "colab": {
          "base_uri": "https://localhost:8080/"
        },
        "id": "OVqrONW9i8tj",
        "outputId": "a579526c-1a8a-4fca-8da4-e7e2a54fcaf7"
      },
      "source": [
        "#086\r\n",
        "#085 번의 딕셔너리에 아래 아이스크림 가격정보를 추가하라.\r\n",
        "ice[\"죠스바\"] = 1200\r\n",
        "ice[\"월드콘\"] =  1500\r\n",
        "print(ice)"
      ],
      "execution_count": null,
      "outputs": [
        {
          "output_type": "stream",
          "text": [
            "{'메로나': 1000, '폴라포': 1200, '빵빠레': 1800, '죠스바': 1200, '월드콘': 1500}\n"
          ],
          "name": "stdout"
        }
      ]
    },
    {
      "cell_type": "code",
      "metadata": {
        "colab": {
          "base_uri": "https://localhost:8080/"
        },
        "id": "klNyBMzgjDoT",
        "outputId": "02b3d11f-0801-4380-c3ef-55e016d3bfbf"
      },
      "source": [
        "# 087\r\n",
        "# 다음 딕셔너리를 사용하여 메로나 가격을 출력하라.\r\n",
        "\r\n",
        "ice = {'메로나': 1000,\r\n",
        "       '폴로포': 1200,\r\n",
        "       '빵빠레': 1800,\r\n",
        "       '죠스바': 1200,\r\n",
        "       '월드콘': 1500}\r\n",
        "\r\n",
        "print(ice[\"메로나\"])"
      ],
      "execution_count": null,
      "outputs": [
        {
          "output_type": "execute_result",
          "data": {
            "text/plain": [
              "1000"
            ]
          },
          "metadata": {
            "tags": []
          },
          "execution_count": 25
        }
      ]
    },
    {
      "cell_type": "code",
      "metadata": {
        "colab": {
          "base_uri": "https://localhost:8080/"
        },
        "id": "JEZSl5z6jV_6",
        "outputId": "a40745ac-cdc0-4571-b88b-abc07d4237d7"
      },
      "source": [
        "# 088\r\n",
        "# 다음 딕셔너리에서 메로나의 가격을 1300으로 수정하라.\r\n",
        "\r\n",
        "ice = {'메로나': 1000,\r\n",
        "       '폴로포': 1200,\r\n",
        "       '빵빠레': 1800,\r\n",
        "       '죠스바': 1200,\r\n",
        "       '월드콘': 1500}\r\n",
        "\r\n",
        "ice[\"메로나\"] = 1300\r\n",
        "\r\n",
        "print(ice)"
      ],
      "execution_count": null,
      "outputs": [
        {
          "output_type": "stream",
          "text": [
            "{'메로나': 1300, '폴로포': 1200, '빵빠레': 1800, '죠스바': 1200, '월드콘': 1500}\n"
          ],
          "name": "stdout"
        }
      ]
    },
    {
      "cell_type": "code",
      "metadata": {
        "colab": {
          "base_uri": "https://localhost:8080/"
        },
        "id": "PwO0wzuGjc4b",
        "outputId": "0e163287-6b21-46d4-96cb-a4e37c2fff9a"
      },
      "source": [
        "# 089\r\n",
        "# 다음 딕셔너리에서 메로나를 삭제하라.\r\n",
        "del ice[\"메로나\"]\r\n",
        "print(ice)"
      ],
      "execution_count": null,
      "outputs": [
        {
          "output_type": "stream",
          "text": [
            "{'폴로포': 1200, '빵빠레': 1800, '죠스바': 1200, '월드콘': 1500}\n"
          ],
          "name": "stdout"
        }
      ]
    },
    {
      "cell_type": "code",
      "metadata": {
        "colab": {
          "base_uri": "https://localhost:8080/",
          "height": 244
        },
        "id": "Cm3NXvVLjnMy",
        "outputId": "78d7c5ef-3736-4d3f-ebe9-f994986d3efb"
      },
      "source": [
        "# 090\r\n",
        "# 다음 코드에서 에러가 발생한 원인을 설명하라.\r\n",
        "# -> 딕셔너리에 없는 키를 사용해서 인덱싱하면 에러가 발생합니다.\r\n",
        "\r\n",
        "icecream = {'폴라포': 1200, '빵빠레': 1800, '월드콘': 1500, '메로나': 1000}\r\n",
        "icecream['누가바']\r\n",
        "\r\n",
        "# Traceback (most recent call last):\r\n",
        "#   File \"<pyshell#69>\", line 1, in <module>\r\n",
        "#     icecream['누가바']\r\n",
        "# KeyError: '누가바'"
      ],
      "execution_count": null,
      "outputs": [
        {
          "output_type": "error",
          "ename": "KeyError",
          "evalue": "ignored",
          "traceback": [
            "\u001b[0;31m---------------------------------------------------------------------------\u001b[0m",
            "\u001b[0;31mKeyError\u001b[0m                                  Traceback (most recent call last)",
            "\u001b[0;32m<ipython-input-35-b9e7b0defdf9>\u001b[0m in \u001b[0;36m<module>\u001b[0;34m()\u001b[0m\n\u001b[1;32m      3\u001b[0m \u001b[0;34m\u001b[0m\u001b[0m\n\u001b[1;32m      4\u001b[0m \u001b[0micecream\u001b[0m \u001b[0;34m=\u001b[0m \u001b[0;34m{\u001b[0m\u001b[0;34m'폴라포'\u001b[0m\u001b[0;34m:\u001b[0m \u001b[0;36m1200\u001b[0m\u001b[0;34m,\u001b[0m \u001b[0;34m'빵빠레'\u001b[0m\u001b[0;34m:\u001b[0m \u001b[0;36m1800\u001b[0m\u001b[0;34m,\u001b[0m \u001b[0;34m'월드콘'\u001b[0m\u001b[0;34m:\u001b[0m \u001b[0;36m1500\u001b[0m\u001b[0;34m,\u001b[0m \u001b[0;34m'메로나'\u001b[0m\u001b[0;34m:\u001b[0m \u001b[0;36m1000\u001b[0m\u001b[0;34m}\u001b[0m\u001b[0;34m\u001b[0m\u001b[0;34m\u001b[0m\u001b[0m\n\u001b[0;32m----> 5\u001b[0;31m \u001b[0micecream\u001b[0m\u001b[0;34m[\u001b[0m\u001b[0;34m'누가바'\u001b[0m\u001b[0;34m]\u001b[0m\u001b[0;34m\u001b[0m\u001b[0;34m\u001b[0m\u001b[0m\n\u001b[0m\u001b[1;32m      6\u001b[0m \u001b[0;34m\u001b[0m\u001b[0m\n\u001b[1;32m      7\u001b[0m \u001b[0;31m# Traceback (most recent call last):\u001b[0m\u001b[0;34m\u001b[0m\u001b[0;34m\u001b[0m\u001b[0;34m\u001b[0m\u001b[0m\n",
            "\u001b[0;31mKeyError\u001b[0m: '누가바'"
          ]
        }
      ]
    },
    {
      "cell_type": "code",
      "metadata": {
        "colab": {
          "base_uri": "https://localhost:8080/"
        },
        "id": "OwUTa89Vj7Ly",
        "outputId": "078268b1-8f32-4d09-f3f1-f078e789bf6f"
      },
      "source": [
        "# 091 딕셔너리 생성\r\n",
        "# 아래의 표에서, 아이스크림 이름을 키값으로, (가격, 재고) 리스트를 딕셔너리의 값으로 저장하라. 딕셔너리의 이름은 inventory로 한다.\r\n",
        "\r\n",
        "inventory = {\"메로나\": [300, 20], \r\n",
        "             \"비비빅\": [400, 3], \r\n",
        "             \"죠스바\": [250, 100]}\r\n",
        "print(inventory)\r\n"
      ],
      "execution_count": null,
      "outputs": [
        {
          "output_type": "stream",
          "text": [
            "{'메로나': [300, 20], '비비빅': [400, 3], '죠스바': [250, 100]}\n"
          ],
          "name": "stdout"
        }
      ]
    },
    {
      "cell_type": "code",
      "metadata": {
        "colab": {
          "base_uri": "https://localhost:8080/"
        },
        "id": "Lc5KVgIrkNti",
        "outputId": "1010cd16-91e8-4ab0-ada6-7bda38137c53"
      },
      "source": [
        "# 092 딕셔너리 인덱싱\r\n",
        "# inventory 딕셔너리에서 메로나의 가격을 화면에 출력하라.\r\n",
        "\r\n",
        "inventory = {\"메로나\": [300, 20],\r\n",
        "              \"비비빅\": [400, 3],\r\n",
        "              \"죠스바\": [250, 100]}\r\n",
        "\r\n",
        "print(inventory[\"메로나\"][0])"
      ],
      "execution_count": null,
      "outputs": [
        {
          "output_type": "stream",
          "text": [
            "300\n"
          ],
          "name": "stdout"
        }
      ]
    },
    {
      "cell_type": "code",
      "metadata": {
        "colab": {
          "base_uri": "https://localhost:8080/"
        },
        "id": "6Kn9bOhjkdEC",
        "outputId": "e0f453c7-7a8f-4ae4-de4c-3c3eb11da013"
      },
      "source": [
        "# 093 딕셔너리 인덱싱\r\n",
        "# inventory 딕셔너리에서 메로나의 재고를 화면에 출력하라.\r\n",
        "\r\n",
        "inventory = {\"메로나\": [300, 20],\r\n",
        "              \"비비빅\": [400, 3],\r\n",
        "              \"죠스바\": [250, 100]}\r\n",
        "print(inventory[\"메로나\"][1])"
      ],
      "execution_count": null,
      "outputs": [
        {
          "output_type": "stream",
          "text": [
            "20\n"
          ],
          "name": "stdout"
        }
      ]
    },
    {
      "cell_type": "code",
      "metadata": {
        "colab": {
          "base_uri": "https://localhost:8080/"
        },
        "id": "i7LZyFAAkjRK",
        "outputId": "7074a2ea-53df-400f-d505-fff974c70edd"
      },
      "source": [
        "# 094 딕셔너리 추가\r\n",
        "# inventory 딕셔너리에 아래 데이터를 추가하라.\r\n",
        "\r\n",
        "inventory = {\"메로나\": [300, 20],\r\n",
        "              \"비비빅\": [400, 3],\r\n",
        "              \"죠스바\": [250, 100]}\r\n",
        "\r\n",
        "inventory[\"월드콘\"] = [500,7]\r\n",
        "\r\n",
        "print(inventory)"
      ],
      "execution_count": null,
      "outputs": [
        {
          "output_type": "stream",
          "text": [
            "{'메로나': [300, 20], '비비빅': [400, 3], '죠스바': [250, 100], '월드콘': [500, 7]}\n"
          ],
          "name": "stdout"
        }
      ]
    },
    {
      "cell_type": "code",
      "metadata": {
        "colab": {
          "base_uri": "https://localhost:8080/"
        },
        "id": "uhMw8V0mkqn7",
        "outputId": "222bac39-0ec5-4efe-a7d9-d4830074d44a"
      },
      "source": [
        "# 095 딕셔너리 keys() 메서드\r\n",
        "# 다음의 딕셔너리로부터 key 값으로만 구성된 리스트를 생성하라.\r\n",
        "\r\n",
        "icecream = {'탱크보이': 1200, '폴라포': 1200, '빵빠레': 1800, '월드콘': 1500, '메로나': 1000}\r\n",
        "\r\n",
        "list(icecream.keys())"
      ],
      "execution_count": null,
      "outputs": [
        {
          "output_type": "execute_result",
          "data": {
            "text/plain": [
              "['탱크보이', '폴라포', '빵빠레', '월드콘', '메로나']"
            ]
          },
          "metadata": {
            "tags": []
          },
          "execution_count": 52
        }
      ]
    },
    {
      "cell_type": "code",
      "metadata": {
        "colab": {
          "base_uri": "https://localhost:8080/"
        },
        "id": "lCRkpyyOlKW6",
        "outputId": "977aaf7b-8e6d-444c-cedb-162c01da46fd"
      },
      "source": [
        "# 096 딕셔너리 values() 메서드\r\n",
        "# 다음의 딕셔너리에서 values 값으로만 구성된 리스트를 생성하라.\r\n",
        "\r\n",
        "icecream = {'탱크보이': 1200, '폴라포': 1200, '빵빠레': 1800, '월드콘': 1500, '메로나': 1000}\r\n",
        "list(icecream.values())"
      ],
      "execution_count": null,
      "outputs": [
        {
          "output_type": "execute_result",
          "data": {
            "text/plain": [
              "[1200, 1200, 1800, 1500, 1000]"
            ]
          },
          "metadata": {
            "tags": []
          },
          "execution_count": 53
        }
      ]
    },
    {
      "cell_type": "code",
      "metadata": {
        "colab": {
          "base_uri": "https://localhost:8080/"
        },
        "id": "RcF_17jFlpgq",
        "outputId": "e1241ea0-dfbd-4717-eb69-8fc54fc44b4d"
      },
      "source": [
        "# 097 딕셔너리 values() 메서드\r\n",
        "# icecream 딕셔너리에서 아이스크림 판매 금액의 총합을 출력하라.\r\n",
        "\r\n",
        "icecream = {'탱크보이': 1200, '폴라포': 1200, '빵빠레': 1800, '월드콘': 1500, '메로나': 1000}\r\n",
        "sum(list(icecream.values()))"
      ],
      "execution_count": null,
      "outputs": [
        {
          "output_type": "execute_result",
          "data": {
            "text/plain": [
              "6700"
            ]
          },
          "metadata": {
            "tags": []
          },
          "execution_count": 54
        }
      ]
    },
    {
      "cell_type": "code",
      "metadata": {
        "colab": {
          "base_uri": "https://localhost:8080/"
        },
        "id": "Lg2xzgZKlv0S",
        "outputId": "6102fde2-1adf-4f56-fec0-4ccd4912d5de"
      },
      "source": [
        "#@title update하면 합쳐지는구나!!\n",
        "# 098 딕셔너리 update 메서드\n",
        "# 아래의 new_product 딕셔너리를 다음 icecream 딕셔너리에 추가하라.\n",
        "\n",
        "icecream = {'탱크보이': 1200, '폴라포': 1200, '빵빠레': 1800, '월드콘': 1500, '메로나': 1000}\n",
        "new_product = {'팥빙수':2700, '아맛나':1000}\n",
        "\n",
        "icecream.update(new_product)\n",
        "print(icecream)"
      ],
      "execution_count": null,
      "outputs": [
        {
          "output_type": "stream",
          "text": [
            "{'탱크보이': 1200, '폴라포': 1200, '빵빠레': 1800, '월드콘': 1500, '메로나': 1000, '팥빙수': 2700, '아맛나': 1000}\n"
          ],
          "name": "stdout"
        }
      ]
    },
    {
      "cell_type": "code",
      "metadata": {
        "colab": {
          "base_uri": "https://localhost:8080/"
        },
        "id": "kuhnS3WXmIv5",
        "outputId": "68585074-8058-415f-bdb8-dbe01dcad72c"
      },
      "source": [
        "# 099 zip과 dict\r\n",
        "# 아래 두 개의 튜플을 하나의 딕셔너리로 변환하라. keys를 키로, vals를 값으로 result 이름의 딕셔너리로 저장한다.\r\n",
        "\r\n",
        "keys = (\"apple\", \"pear\", \"peach\")\r\n",
        "vals = (300, 250, 400)\r\n",
        "\r\n",
        "dict(zip(keys,vals))"
      ],
      "execution_count": null,
      "outputs": [
        {
          "output_type": "execute_result",
          "data": {
            "text/plain": [
              "{'apple': 300, 'peach': 400, 'pear': 250}"
            ]
          },
          "metadata": {
            "tags": []
          },
          "execution_count": 59
        }
      ]
    },
    {
      "cell_type": "code",
      "metadata": {
        "colab": {
          "base_uri": "https://localhost:8080/"
        },
        "id": "R7qZxY6Amr1K",
        "outputId": "e9805221-fd88-430d-ffe2-20d6bc316316"
      },
      "source": [
        "# zip(*iterable)은 동일한 개수로 이루어진 자료형을 같은 순서끼리 묶어 주는 역할을 하는 함수이다.\r\n",
        "\r\n",
        "# ※ 여기서 사용한 *iterable은 반복 가능(iterable)한 자료형 여러 개를 입력할 수 있다는 의미이다.\r\n",
        "\r\n",
        "# 잘 이해되지 않는다면 다음 예제를 살펴보자.\r\n",
        "\r\n",
        "print(list(zip([1, 2, 3], [4, 5, 6])))\r\n",
        "# [(1, 4), (2, 5), (3, 6)]\r\n",
        "print(list(zip([1, 2, 3], [4, 5, 6], [7, 8, 9])))\r\n",
        "# [(1, 4, 7), (2, 5, 8), (3, 6, 9)]\r\n",
        "print(list(zip(\"abc\", \"def\")))\r\n",
        "# [('a', 'd'), ('b', 'e'), ('c', 'f')]"
      ],
      "execution_count": null,
      "outputs": [
        {
          "output_type": "stream",
          "text": [
            "[(1, 4), (2, 5), (3, 6)]\n",
            "[(1, 4, 7), (2, 5, 8), (3, 6, 9)]\n",
            "[('a', 'd'), ('b', 'e'), ('c', 'f')]\n"
          ],
          "name": "stdout"
        }
      ]
    },
    {
      "cell_type": "code",
      "metadata": {
        "colab": {
          "base_uri": "https://localhost:8080/"
        },
        "id": "TXsmFZN1nIwC",
        "outputId": "bca924a2-dd6d-412e-9e3c-c9c2dc73f4b7"
      },
      "source": [
        "# 100 zip과 dict\r\n",
        "# date와 close_price 두 개의 리스트를 close_table 이름의 딕셔너리로 생성하라.\r\n",
        "\r\n",
        "date = ['09/05', '09/06', '09/07', '09/08', '09/09']\r\n",
        "close_price = [10500, 10300, 10100, 10800, 11000]\r\n",
        "\r\n",
        "close_table = dict(zip(date,close_price))\r\n",
        "print(close_table)\r\n",
        "# {'09/05': 10500, '09/06': 10300, '09/07': 10100, '09/08': 10800, '09/09': 11000}"
      ],
      "execution_count": null,
      "outputs": [
        {
          "output_type": "stream",
          "text": [
            "{'09/05': 10500, '09/06': 10300, '09/07': 10100, '09/08': 10800, '09/09': 11000}\n"
          ],
          "name": "stdout"
        }
      ]
    },
    {
      "cell_type": "code",
      "metadata": {
        "colab": {
          "base_uri": "https://localhost:8080/"
        },
        "id": "idsKBfRxnhzS",
        "outputId": "db547f21-3439-47d6-a413-1f4a416f0a09"
      },
      "source": [
        "date = ['09/05', '09/06', '09/07', '09/08', '09/09']\r\n",
        "close_price = [10500, 10300, 10100, 10800, 11000]\r\n",
        "print(tuple(zip(date,close_price)))"
      ],
      "execution_count": null,
      "outputs": [
        {
          "output_type": "stream",
          "text": [
            "(('09/05', 10500), ('09/06', 10300), ('09/07', 10100), ('09/08', 10800), ('09/09', 11000))\n"
          ],
          "name": "stdout"
        }
      ]
    },
    {
      "cell_type": "code",
      "metadata": {
        "id": "Ko3Jr7Ypn-OB"
      },
      "source": [
        "#이렇게 3일만에 100문제를 풀었다 아주 기초중에 기초를 다지는 시간."
      ],
      "execution_count": null,
      "outputs": []
    },
    {
      "cell_type": "code",
      "metadata": {
        "id": "ibVgSk4SpSjL"
      },
      "source": [
        ""
      ],
      "execution_count": null,
      "outputs": []
    }
  ]
}