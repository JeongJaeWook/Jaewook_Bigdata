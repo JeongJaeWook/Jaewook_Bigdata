{
  "nbformat": 4,
  "nbformat_minor": 0,
  "metadata": {
    "colab": {
      "name": "초보자를 위한 파이썬 300제(101~200)",
      "provenance": [],
      "collapsed_sections": [],
      "authorship_tag": "ABX9TyNoVhlLsvaA7ZrJWGjBuYAh",
      "include_colab_link": true
    },
    "kernelspec": {
      "name": "python3",
      "display_name": "Python 3"
    }
  },
  "cells": [
    {
      "cell_type": "markdown",
      "metadata": {
        "id": "view-in-github",
        "colab_type": "text"
      },
      "source": [
        "<a href=\"https://colab.research.google.com/github/JeongJaeWook/Portfolio-Lotto/blob/master/python100/%EC%B4%88%EB%B3%B4%EC%9E%90%EB%A5%BC_%EC%9C%84%ED%95%9C_%ED%8C%8C%EC%9D%B4%EC%8D%AC_300%EC%A0%9C(101~200).ipynb\" target=\"_parent\"><img src=\"https://colab.research.google.com/assets/colab-badge.svg\" alt=\"Open In Colab\"/></a>"
      ]
    },
    {
      "cell_type": "markdown",
      "metadata": {
        "id": "7rUkdoHDq1_N"
      },
      "source": [
        "## 07. 파이썬 분기문\r\n",
        "파이썬은 if라는 키워드를 통해 분기문을 만들 수 있습니다."
      ]
    },
    {
      "cell_type": "code",
      "metadata": {
        "id": "_70rodVYq2v3"
      },
      "source": [
        "# 101\r\n",
        "# 파이썬에서 True 혹은 False를 갖는 데이터 타입은 무엇인가?\r\n",
        "\r\n",
        "# Bool type"
      ],
      "execution_count": 1,
      "outputs": []
    },
    {
      "cell_type": "code",
      "metadata": {
        "colab": {
          "base_uri": "https://localhost:8080/"
        },
        "id": "foohA7qKwBdK",
        "outputId": "0b80e2e6-c4b2-480a-fde7-19f23efdbfd4"
      },
      "source": [
        "# 102\r\n",
        "# 아래 코드의 출력 결과를 예상하라 \r\n",
        "\r\n",
        "print(3 == 5) # ==False\r\n",
        "print(3 < 5) #103 ==true\r\n",
        "\r\n"
      ],
      "execution_count": 3,
      "outputs": [
        {
          "output_type": "stream",
          "text": [
            "False\n",
            "True\n"
          ],
          "name": "stdout"
        }
      ]
    },
    {
      "cell_type": "code",
      "metadata": {
        "colab": {
          "base_uri": "https://localhost:8080/"
        },
        "id": "2C4R8RHXwKoB",
        "outputId": "e5a99a9f-79d1-4ff6-b427-059fa31068b0"
      },
      "source": [
        "#104\r\n",
        "x = 4\r\n",
        "print(1 < x < 5)"
      ],
      "execution_count": 4,
      "outputs": [
        {
          "output_type": "stream",
          "text": [
            "True\n"
          ],
          "name": "stdout"
        }
      ]
    },
    {
      "cell_type": "code",
      "metadata": {
        "colab": {
          "base_uri": "https://localhost:8080/"
        },
        "id": "ozwUAMyMwS-K",
        "outputId": "3524ec9c-4fdd-40ae-bb80-855e6fab4a4c"
      },
      "source": [
        "#105\r\n",
        "print ((3 == 3) and (4 != 3))"
      ],
      "execution_count": 5,
      "outputs": [
        {
          "output_type": "stream",
          "text": [
            "True\n"
          ],
          "name": "stdout"
        }
      ]
    },
    {
      "cell_type": "code",
      "metadata": {
        "colab": {
          "base_uri": "https://localhost:8080/",
          "height": 136
        },
        "id": "l61yvOthwXCB",
        "outputId": "888bf5e0-bc15-4e3f-dbda-d61c33cc36c4"
      },
      "source": [
        "#106\r\n",
        "print(3 => 4)\r\n",
        "# >="
      ],
      "execution_count": 6,
      "outputs": [
        {
          "output_type": "error",
          "ename": "SyntaxError",
          "evalue": "ignored",
          "traceback": [
            "\u001b[0;36m  File \u001b[0;32m\"<ipython-input-6-be80e910bdcf>\"\u001b[0;36m, line \u001b[0;32m2\u001b[0m\n\u001b[0;31m    print(3 => 4)\u001b[0m\n\u001b[0m             ^\u001b[0m\n\u001b[0;31mSyntaxError\u001b[0m\u001b[0;31m:\u001b[0m invalid syntax\n"
          ]
        }
      ]
    },
    {
      "cell_type": "code",
      "metadata": {
        "id": "7RObNB7twZcC"
      },
      "source": [
        "#107\r\n",
        "\r\n",
        "if 4 < 3:\r\n",
        "    print(\"Hello World\")"
      ],
      "execution_count": 7,
      "outputs": []
    },
    {
      "cell_type": "code",
      "metadata": {
        "colab": {
          "base_uri": "https://localhost:8080/"
        },
        "id": "RrltC4hsweZ5",
        "outputId": "34bf0e2f-5bab-400a-abf9-b6a982e9754d"
      },
      "source": [
        "# 108\r\n",
        "# 아래 코드의 출력 결과를 예상하라\r\n",
        "\r\n",
        "if 4 < 3:\r\n",
        "    print(\"Hello World.\")\r\n",
        "else:\r\n",
        "    print(\"Hi, there.\")"
      ],
      "execution_count": 8,
      "outputs": [
        {
          "output_type": "stream",
          "text": [
            "Hi, there.\n"
          ],
          "name": "stdout"
        }
      ]
    },
    {
      "cell_type": "code",
      "metadata": {
        "colab": {
          "base_uri": "https://localhost:8080/"
        },
        "id": "QftePelkwiOB",
        "outputId": "403082ea-61d5-4f14-dddc-bff1c5c67a15"
      },
      "source": [
        "# 109\r\n",
        "# 아래 코드의 출력 결과를 예상하라\r\n",
        "\r\n",
        "if True :\r\n",
        "    print (\"1\")\r\n",
        "    print (\"2\")\r\n",
        "else :\r\n",
        "    print(\"3\")\r\n",
        "print(\"4\")"
      ],
      "execution_count": 9,
      "outputs": [
        {
          "output_type": "stream",
          "text": [
            "1\n",
            "2\n",
            "4\n"
          ],
          "name": "stdout"
        }
      ]
    },
    {
      "cell_type": "code",
      "metadata": {
        "colab": {
          "base_uri": "https://localhost:8080/"
        },
        "id": "JGGKVHkIwlkJ",
        "outputId": "f46c67c8-5d6e-4d6a-bd67-6a142ba2d957"
      },
      "source": [
        "# 110\r\n",
        "# 아래 코드의 출력 결과를 예상하라\r\n",
        "\r\n",
        "if True :\r\n",
        "    if False:\r\n",
        "        print(\"1\")\r\n",
        "        print(\"2\")\r\n",
        "    else:\r\n",
        "        print(\"3\")\r\n",
        "else :\r\n",
        "    print(\"4\")\r\n",
        "print(\"5\")"
      ],
      "execution_count": 10,
      "outputs": [
        {
          "output_type": "stream",
          "text": [
            "3\n",
            "5\n"
          ],
          "name": "stdout"
        }
      ]
    },
    {
      "cell_type": "code",
      "metadata": {
        "colab": {
          "base_uri": "https://localhost:8080/"
        },
        "id": "7aHB19eywp4J",
        "outputId": "b000605d-1856-446c-8918-1e3b679c7238"
      },
      "source": [
        "# 111\r\n",
        "# 사용자로부터 입력받은 문자열을 두 번 출력하라. 아래는 사용자가 \"안녕하세요\"를 입력한 경우의 출력 결과이다.\r\n",
        "\r\n",
        "a = input(\"입력:\")\r\n",
        "if a == \"안녕하세요\":\r\n",
        "  print(a*2)\r\n",
        "  "
      ],
      "execution_count": 14,
      "outputs": [
        {
          "output_type": "stream",
          "text": [
            "입력:안녕하세요\n",
            "안녕하세요안녕하세요\n"
          ],
          "name": "stdout"
        }
      ]
    },
    {
      "cell_type": "code",
      "metadata": {
        "colab": {
          "base_uri": "https://localhost:8080/"
        },
        "id": "R0sDSYXfxALQ",
        "outputId": "40a119f4-9a88-49d9-af3b-b50d8d6d998a"
      },
      "source": [
        "#112\r\n",
        "a = input(\"숫자를 입력하세요:\")\r\n",
        "\r\n",
        "print(int(a) + 10)"
      ],
      "execution_count": 20,
      "outputs": [
        {
          "output_type": "stream",
          "text": [
            "숫자를 입력하세요:30\n",
            "40\n"
          ],
          "name": "stdout"
        }
      ]
    },
    {
      "cell_type": "code",
      "metadata": {
        "colab": {
          "base_uri": "https://localhost:8080/"
        },
        "id": "pMEgvz6TxML5",
        "outputId": "f6bfd78b-d4d9-4ea9-ef30-85986b5e4983"
      },
      "source": [
        "#113\r\n",
        "a = input(\"숫자를 입력하세요:\")\r\n",
        "\r\n",
        "if int(a)%2 == 0 :\r\n",
        "  print(\"짝수\")\r\n",
        "else:\r\n",
        "  print(\"홀수\")"
      ],
      "execution_count": 22,
      "outputs": [
        {
          "output_type": "stream",
          "text": [
            "숫자를 입력하세요:5\n",
            "홀수\n"
          ],
          "name": "stdout"
        }
      ]
    },
    {
      "cell_type": "code",
      "metadata": {
        "colab": {
          "base_uri": "https://localhost:8080/"
        },
        "id": "kPQrzrIxxkQu",
        "outputId": "4633eab0-88f2-496a-c65f-4482b7dc9762"
      },
      "source": [
        "#114\r\n",
        "# 사용자로부터 값을 입력받은 후 해당 값에 20을 더한 값을 출력하라.\r\n",
        "#  단 사용자가 입력한 값과 20을 더한 계산 값이 255를 초과하는 경우 255를 출력해야 한다.\r\n",
        "\r\n",
        "a = input(\"숫자를 입력하세요:\")\r\n",
        "b = int(a) + 20\r\n",
        "\r\n",
        "if  b > 255:\r\n",
        "  print(255)\r\n",
        "else:\r\n",
        "  print(b)"
      ],
      "execution_count": 25,
      "outputs": [
        {
          "output_type": "stream",
          "text": [
            "숫자를 입력하세요:250\n",
            "255\n"
          ],
          "name": "stdout"
        }
      ]
    },
    {
      "cell_type": "code",
      "metadata": {
        "colab": {
          "base_uri": "https://localhost:8080/"
        },
        "id": "8OkJdO_Zx9QZ",
        "outputId": "14e64b75-5f19-4d16-f060-170f72121ddb"
      },
      "source": [
        "# 115\r\n",
        "# 사용자로부터 하나의 값을 입력받은 후 해당 값에 20을 뺀 값을 출력하라. \r\n",
        "# 단 출력 값의 범위는 0~255이다. \r\n",
        "# 예를 들어 결괏값이 0보다 작은 값이되는 경우 0을 출력하고 255보다 큰 값이 되는 경우 255를 출력해야 한다.\r\n",
        "\r\n",
        "a = input(\"숫자를 입력하세요:\")\r\n",
        "b = int(a) - 20\r\n",
        "\r\n",
        "\r\n",
        "if  b < 0:\r\n",
        "  print(0)\r\n",
        "elif b > 255:\r\n",
        "  print(255)\r\n",
        "else:\r\n",
        "  print(b)"
      ],
      "execution_count": 30,
      "outputs": [
        {
          "output_type": "stream",
          "text": [
            "숫자를 입력하세요:200\n",
            "180\n"
          ],
          "name": "stdout"
        }
      ]
    },
    {
      "cell_type": "code",
      "metadata": {
        "colab": {
          "base_uri": "https://localhost:8080/"
        },
        "id": "wiYZAfvUyTdB",
        "outputId": "ca623e08-9354-407e-8e16-4f6c58a474f9"
      },
      "source": [
        "# 116\r\n",
        "# 사용자로부터 입력 받은 시간이 정각인지 판별하라.\r\n",
        "\r\n",
        "# >> 현재시간:02:00\r\n",
        "# 정각 입니다.\r\n",
        "# >> 현재시간:03:10\r\n",
        "# 정각이 아닙니다\r\n",
        "\r\n",
        "a = input(\"시간을 입력하세요:\")\r\n",
        "timea = a.split(':')[1]\r\n",
        "\r\n",
        "\r\n",
        "\r\n",
        "# if timea[-2:] == \"00\":\r\n",
        "if timea == \"00\" :\r\n",
        "    print(\"정각 입니다.\")\r\n",
        "else:\r\n",
        "    print(\"정각이 아닙니다.\")"
      ],
      "execution_count": 37,
      "outputs": [
        {
          "output_type": "stream",
          "text": [
            "시간을 입력하세요:2:00\n",
            "정각 입니다.\n"
          ],
          "name": "stdout"
        }
      ]
    },
    {
      "cell_type": "code",
      "metadata": {
        "colab": {
          "base_uri": "https://localhost:8080/"
        },
        "id": "-KDfEcMJyvyR",
        "outputId": "055b2a0c-de3f-475c-836e-700211563b73"
      },
      "source": [
        "# 117\r\n",
        "# 사용자로 입력받은 단어가 아래 fruit 리스트에 포함되어 있는지를 확인하라. \r\n",
        "# 포함되었다면 \"정답입니다\"를 아닐 경우 \"오답입니다\" 출력하라.\r\n",
        "\r\n",
        "fruit = [\"사과\", \"포도\", \"홍시\"]\r\n",
        "# >> 좋아하는 과일은? 사과\r\n",
        "# 정답입니다.\r\n",
        "\r\n",
        "a = input(\"좋아하는 과일은?:\")\r\n",
        "\r\n",
        "if a in fruit:\r\n",
        "  print(\"정답입니다\")\r\n",
        "else:\r\n",
        "  print(\"삐\")"
      ],
      "execution_count": 40,
      "outputs": [
        {
          "output_type": "stream",
          "text": [
            "좋아하는 과일은?:배\n",
            "삐\n"
          ],
          "name": "stdout"
        }
      ]
    },
    {
      "cell_type": "code",
      "metadata": {
        "colab": {
          "base_uri": "https://localhost:8080/"
        },
        "id": "UH4W1lK5zZu4",
        "outputId": "e5f16c11-d8a8-41a9-afb4-2b1bd077537f"
      },
      "source": [
        "# 118\r\n",
        "# 투자 경고 종목 리스트가 있을 때 사용자로부터 종목명을 입력 받은 후 해당 종목이 투자 경고 종목이라면 \r\n",
        "# '투자 경고 종목입니다'를 아니면 \"투자 경고 종목이 아닙니다.\"를 출력하는 프로그램을 작성하라.\r\n",
        "\r\n",
        "warn_investment_list = [\"Microsoft\", \"Google\", \"Naver\", \"Kakao\", \"SAMSUNG\", \"LG\"]\r\n",
        "warn_investment_list_upper = [i.upper() for i in warn_investment_list] #List 컴프리핸션!!!\r\n",
        "\r\n",
        "print(warn_investment_list_upper)\r\n",
        "종목 = input(\"종목명: \")\r\n",
        "종목2 = 종목.upper()\r\n",
        "\r\n",
        "if 종목2 in warn_investment_list_upper:\r\n",
        "    print(\"투자 경고 종목입니다.\")\r\n",
        "else:\r\n",
        "    print(\"투자 경고 종목이 아닙니다.\")"
      ],
      "execution_count": 48,
      "outputs": [
        {
          "output_type": "stream",
          "text": [
            "['MICROSOFT', 'GOOGLE', 'NAVER', 'KAKAO', 'SAMSUNG', 'LG']\n",
            "종목명: google\n",
            "투자 경고 종목입니다.\n"
          ],
          "name": "stdout"
        }
      ]
    },
    {
      "cell_type": "code",
      "metadata": {
        "colab": {
          "base_uri": "https://localhost:8080/"
        },
        "id": "KUuXjKcH0IWr",
        "outputId": "f65055cf-d42e-4ad2-a7be-5d8856cd1ed7"
      },
      "source": [
        "119\r\n",
        "# 아래와 같이 fruit 딕셔너리가 정의되어 있다. \r\n",
        "# 사용자가 입력한 값이 딕셔너리 키 (key) 값에 포함되었다면 \"정답입니다\"를 아닐 경우 \"오답입니다\" 출력하라.\r\n",
        "\r\n",
        "fruit = {\"봄\" : \"딸기\", \"여름\" : \"토마토\", \"가을\" : \"사과\"}\r\n",
        "\r\n",
        "a = input(\"제가좋아하는계절은: \")\r\n",
        "if a in fruit.keys(): #fruit 해도 됨 \r\n",
        "  print(\"정답입니다\")\r\n",
        "else:\r\n",
        "  print(\"오답입니다.\")\r\n"
      ],
      "execution_count": 53,
      "outputs": [
        {
          "output_type": "stream",
          "text": [
            "제가좋아하는계절은: 여름\n",
            "정답입니다\n"
          ],
          "name": "stdout"
        }
      ]
    },
    {
      "cell_type": "code",
      "metadata": {
        "id": "cRWOY2V33pdU",
        "outputId": "bd07e7d0-86f1-40c7-d26c-7dde94df2c7c",
        "colab": {
          "base_uri": "https://localhost:8080/"
        }
      },
      "source": [
        "# 120\r\n",
        "# 아래와 같이 fruit 딕셔너리가 정의되어 있다. 사용자가 입력한 값이 딕셔너리 값 (value)에 포함되었다면 \"정답입니다\"를 아닐 경우 \"오답입니다\" 출력하라.\r\n",
        "\r\n",
        "fruit = {\"봄\" : \"딸기\", \"여름\" : \"토마토\", \"가을\" : \"사과\"}\r\n",
        "\r\n",
        "# >> 좋아하는과일은? 한라봉\r\n",
        "# 오답입니다.\r\n",
        "\r\n",
        "a = input(\"제가 좋아하는 과일은: \")\r\n",
        "if a in fruit.values(): \r\n",
        "  print(\"정답입니다\")\r\n",
        "else:\r\n",
        "  print(\"오답입니다.\")"
      ],
      "execution_count": 56,
      "outputs": [
        {
          "output_type": "stream",
          "text": [
            "제가 좋아하는 과일은: 딸기\n",
            "정답입니다\n"
          ],
          "name": "stdout"
        }
      ]
    },
    {
      "cell_type": "code",
      "metadata": {
        "id": "NQwfjiPK4APC"
      },
      "source": [
        "#@title a.islower()\n",
        "# 121\n",
        "# 사용자로부터 문자 한 개를 입력 받고, 소문자일 경우 대문자로, 대문자 일 경우, 소문자로 변경해서 출력하라.\n",
        "\n",
        "a = input(\"입력: \")\n",
        "\n",
        "if a.islower() :\n",
        "  print(a.upper())\n",
        "else:\n",
        "  print(a.lower())"
      ],
      "execution_count": null,
      "outputs": []
    },
    {
      "cell_type": "code",
      "metadata": {
        "id": "8yty9Ivu421q",
        "outputId": "8c9176a8-1a79-4115-866d-7e8d81a153a8",
        "colab": {
          "base_uri": "https://localhost:8080/"
        }
      },
      "source": [
        "# 122\r\n",
        "# 점수 구간에 해당하는 학점이 아래와 같이 정의되어 있다. 사용자로부터 score를 입력받아 학점을 출력하라.\r\n",
        "\r\n",
        "# 점수\t학점\r\n",
        "# 81~100\tA\r\n",
        "# 61~80\tB\r\n",
        "# 41~60\tC\r\n",
        "# 21~40\tD\r\n",
        "# 0~20\tE\r\n",
        "\r\n",
        "a = input(\"입력: \")\r\n",
        "score = int(a)\r\n",
        "\r\n",
        "if score >= 81 :\r\n",
        "  print(\"A\")\r\n",
        "elif score >= 61 :\r\n",
        "  print(\"B\")\r\n",
        "elif score >= 41 :\r\n",
        "  print(\"C\")\r\n",
        "elif score >= 21 : #21 <= score <= 40:\r\n",
        "  print(\"D\")\r\n",
        "elif score >= 0 :\r\n",
        "  print(\"E\")"
      ],
      "execution_count": 62,
      "outputs": [
        {
          "output_type": "stream",
          "text": [
            "입력: 55\n",
            "C\n"
          ],
          "name": "stdout"
        }
      ]
    },
    {
      "cell_type": "code",
      "metadata": {
        "id": "gaQV_8wn5fDa",
        "outputId": "00d93aa9-62b9-48ac-ea71-227deb154cbc",
        "colab": {
          "base_uri": "https://localhost:8080/"
        }
      },
      "source": [
        "#@title a,b = split() 이걸 잘 생각하자 \n",
        "# 123\n",
        "# 사용자로부터 달러, 엔, 유로, 또는 위안 금액을 입력받은 후 이를 원으로 변환하는 프로그램을 작성하라. 각 통화별 환율은 다음과 같다. 사용자는 100 달러, 1000 엔, 13 유로, 100 위안과 같이 금액과 통화명 사이에 공백을 넣어 입력한다고 가정한다.\n",
        "\n",
        "# 통화명\t환율\n",
        "# 달러\t1167\n",
        "# 엔\t1.096\n",
        "# 유로\t1268\n",
        "# 위안\t171\n",
        "\n",
        "money = {\"달러\":1167,\"엔\":1.096,\"유로\":1268,\"위안\":171}\n",
        "a = input(\"입력: \")\n",
        "num, currency  = a.split(' ')\n",
        "\n",
        "if currency in money.keys():\n",
        "  print(float(num) * (money[currency]))"
      ],
      "execution_count": 75,
      "outputs": [
        {
          "output_type": "stream",
          "text": [
            "입력: 150 유로\n",
            "190200.0\n"
          ],
          "name": "stdout"
        }
      ]
    },
    {
      "cell_type": "code",
      "metadata": {
        "id": "oOqPUg4Y7cbU",
        "outputId": "fcf015bc-040a-444e-c53c-91b5dc40c578",
        "colab": {
          "base_uri": "https://localhost:8080/"
        }
      },
      "source": [
        "# 124\r\n",
        "# 사용자로부터 세 개의 숫자를 입력 받은 후 가장 큰 숫자를 출력하라.\r\n",
        "\r\n",
        "# >> input number1: 10\r\n",
        "# >> input number2: 9\r\n",
        "# >> input number3: 20\r\n",
        "# 20\r\n",
        "\r\n",
        "a = int(input(\"입력 1: \"))\r\n",
        "b = int(input(\"입력 2 : \"))\r\n",
        "c = int(input(\"입력 3: \"))\r\n",
        "\r\n",
        "alist = []\r\n",
        "alist.append(a)\r\n",
        "alist.append(b)\r\n",
        "alist.append(c)\r\n",
        "\r\n",
        "alist.sort()\r\n",
        "print(alist[0])"
      ],
      "execution_count": 79,
      "outputs": [
        {
          "output_type": "stream",
          "text": [
            "입력 1: 10\n",
            "입력 2 : 9\n",
            "입력 3: 20\n",
            "9\n"
          ],
          "name": "stdout"
        }
      ]
    },
    {
      "cell_type": "code",
      "metadata": {
        "id": "QwLyqhFu8__T",
        "outputId": "6f075486-de6c-4987-ddf4-a225fb7fa49f",
        "colab": {
          "base_uri": "https://localhost:8080/"
        }
      },
      "source": [
        "num1 = input(\"input number1: \")\r\n",
        "num2 = input(\"input number2: \")\r\n",
        "num3 = input(\"input number3: \")\r\n",
        "num1 = int(num1)\r\n",
        "num2 = int(num2)\r\n",
        "num3 = int(num3)\r\n",
        "\r\n",
        "if num1 > num2 and num1 > num3:\r\n",
        "    print(num1)\r\n",
        "elif num2 > num1 and num2 > num3:\r\n",
        "    print(num2)\r\n",
        "else:\r\n",
        "    print(num3)"
      ],
      "execution_count": 82,
      "outputs": [
        {
          "output_type": "stream",
          "text": [
            "input number1: 10\n",
            "input number2: 9\n",
            "input number3: 20\n",
            "20\n"
          ],
          "name": "stdout"
        }
      ]
    },
    {
      "cell_type": "code",
      "metadata": {
        "id": "Lo3RYFBt9RhB",
        "outputId": "dc840e7e-3e06-459d-dd5b-53d489fee755",
        "colab": {
          "base_uri": "https://localhost:8080/"
        }
      },
      "source": [
        "# 125\r\n",
        "# 휴대폰 번호 앞자리에 따라 통신사는 아래와 같이 구분된다. \r\n",
        "# 사용자로부터 휴대전화 번호를 입력 받고, 통신사를 출력하는 프로그램을 작성하라.\r\n",
        "\r\n",
        "# 번호\t통신사\r\n",
        "# 011\tSKT\r\n",
        "# 016\tKT\r\n",
        "# 019\tLGU\r\n",
        "# 010\t알수없음\r\n",
        "\r\n",
        "\r\n",
        "num1 = input(\"input number1: \")\r\n",
        "num2 = num1.split('-')[0]\r\n",
        "\r\n",
        "if num2 == \"011\" :\r\n",
        "  print(\"SKT\")\r\n",
        "elif num2 == \"016\" :\r\n",
        "  print(\"KT\")\r\n",
        "elif num2 == \"019\" :\r\n",
        "  print(\"LG\")\r\n",
        "elif num2 == \"010\" :\r\n",
        "  print(\"알수없음\")"
      ],
      "execution_count": 83,
      "outputs": [
        {
          "output_type": "stream",
          "text": [
            "input number1: 011-1234-1234\n",
            "SKT\n"
          ],
          "name": "stdout"
        }
      ]
    },
    {
      "cell_type": "code",
      "metadata": {
        "id": "D_CMT9Fw_GHa",
        "outputId": "b059e750-5007-411e-b2c8-42d5d70ea279",
        "colab": {
          "base_uri": "https://localhost:8080/"
        }
      },
      "source": [
        "# 126\r\n",
        "# 우편번호는 5자리로 구성되는데, 앞의 세자리는 구를 나타낸다. 예를들어, 강북구의 경우 010, 011, 012 세 자리로 시작한다.\r\n",
        "\r\n",
        "# -\t0\t1\t2\t3\t4\t5\t6\t7\t8\t9\r\n",
        "# 01\t강북구\t강북구\t강북구\t도봉구\t도봉구\t도봉구\t노원구\t노원구\t노원구\t노원구\r\n",
        "# 사용자로 부터 5자리 우편번호를 입력받고 구를 판별하라\r\n",
        "\r\n",
        "우편번호 = input(\"우편번호: \")\r\n",
        "우편번호 = 우편번호[:3]\r\n",
        "if 우편번호 in [\"010\", \"011\", \"012\"]:\r\n",
        "    print(\"강북구\")\r\n",
        "elif 우편번호 in [\"014\", \"015\", \"016\"]:\r\n",
        "    print(\"도봉구\")\r\n",
        "else:\r\n",
        "    print(\"노원구\")"
      ],
      "execution_count": 84,
      "outputs": [
        {
          "output_type": "stream",
          "text": [
            "우편번호: 01400\n",
            "도봉구\n"
          ],
          "name": "stdout"
        }
      ]
    },
    {
      "cell_type": "code",
      "metadata": {
        "id": "kp1WIUzq_rWz",
        "outputId": "90d41d61-ec2b-4540-eeff-3607165f10d0",
        "colab": {
          "base_uri": "https://localhost:8080/"
        }
      },
      "source": [
        "# 127\r\n",
        "# 주민등록번호 뒷 자리 7자리 중 첫째 자리는 성별을 나타내는데, 1, 3은 남자 2, 4는 여자를 의미한다. 사용자로부터 13자리의 주민등록번호를 입력 받은 후 성별 (남자, 여자)를 출력하는 프로그램을 작성하라.\r\n",
        "\r\n",
        "# >> 주민등록번호: 821010-1635210\r\n",
        "# 남자\r\n",
        "\r\n",
        "주민등록번호 = input(\"주민등록번호: \")\r\n",
        "주민등록번호 = 주민등록번호.split('-')[1][0]\r\n",
        "주민등록번호\r\n",
        "\r\n",
        "if 주민등록번호 in [\"1\",\"3\"]:\r\n",
        "  print(\"남자\")\r\n",
        "else:\r\n",
        "  print(\"여자\")"
      ],
      "execution_count": 88,
      "outputs": [
        {
          "output_type": "stream",
          "text": [
            "주민등록번호: 112313-4635210\n",
            "여자\n"
          ],
          "name": "stdout"
        }
      ]
    },
    {
      "cell_type": "code",
      "metadata": {
        "id": "8QP-cDor__n6",
        "outputId": "d03c49a9-9157-497b-c2d9-f32a2cca2565",
        "colab": {
          "base_uri": "https://localhost:8080/"
        }
      },
      "source": [
        "# 128\r\n",
        "# 주민등록번호의 뒷 자리 7자리 중 두번째와 세번째는 지역코드를 의미한다. \r\n",
        "#주민 등록 번호를 입력 받은 후 출생지가 서울인지 아닌지 판단하는 코드를 작성하라\r\n",
        "\r\n",
        "# 지역코드\t출생지\r\n",
        "# 00 ~ 08\t서울\r\n",
        "# 09 ~ 12\t부산\r\n",
        "\r\n",
        "주민등록번호 = input(\"주민등록번호: \")\r\n",
        "주민등록번호 = int(주민등록번호.split('-')[1][1:3])\r\n",
        "print(주민등록번호)\r\n",
        "\r\n",
        "if 주민등록번호 in list(range(0,9)):\r\n",
        "  print(\"서울\")\r\n",
        "else:\r\n",
        "  print(\"서울이 아니다\")\r\n",
        "\r\n",
        "\r\n",
        "\r\n",
        "주민번호 = input(\"주민등록번호: \")\r\n",
        "뒷자리 = 주민번호.split(\"-\")[1]\r\n",
        "if 0 <= int(뒷자리[1:3]) <= 8:\r\n",
        "    print(\"서울입니다.\")\r\n",
        "else:\r\n",
        "    print(\"서울이 아닙니다.\") "
      ],
      "execution_count": 96,
      "outputs": [
        {
          "output_type": "stream",
          "text": [
            "주민등록번호: 861010-1015210\n",
            "1\n",
            "서울\n",
            "주민등록번호: 821010-1635210\n",
            "서울이 아닙니다.\n"
          ],
          "name": "stdout"
        }
      ]
    },
    {
      "cell_type": "code",
      "metadata": {
        "id": "1NvEXQpRAqCe",
        "outputId": "9d498d15-5035-4128-e7cd-7ecc165755a5",
        "colab": {
          "base_uri": "https://localhost:8080/"
        }
      },
      "source": [
        "# 129\r\n",
        "# 주민등록번호는 13자리로 구성되는데 마지막 자리수는 주민등록번호의 유효성을 체크하는데 사용된다. \r\n",
        "# 먼저 앞에서부터 12자리의 숫자에 2, 3, 4, 5, 6, 7, 8, 9, 2, 3, 4, 5를 차례로 곱한 뒤 그 값을 전부 더한다. \r\n",
        "# 연산 결과 값을 11로 나누면 나머지가 나오는데 11에서 나머지를 뺀 값이 주민등록번호의 마지막 번호가 된다.\r\n",
        "\r\n",
        "#   8 2 1 0 1 0 - 1 6 3 5 2 1 0\r\n",
        "# x 2 3 4 5 6 7   8 9 2 3 4 5 \r\n",
        "# -----------------------------\r\n",
        "# 1차 계산: (8*2 + 2*3 + 1*4 + 0*5 + 1*6 + 0*7 + 1*8 + 6*9 + 3*2 + 5*3 + 2*4 + 1*5) = (128 % 11) = 7\r\n",
        "# 2차 계산: 11 -7 = 4\r\n",
        "# 위와 같이 821010-1635210에 대해서 계산을 해보면 마지막 자리는 4가 되어야 함을 알 수 있다. 즉, 821010-1635210은 유효하지 않은 주민등록번호임을 알 수 있다.\r\n",
        "\r\n",
        "# 다음과 같이 사용자로부터 주민등록번호를 입력받은 후 주민등록번호가 유효한지를 출력하는 프로그램을 작성하라.\r\n",
        "\r\n",
        "주민번호 = input(\"주민등록번호: \")\r\n",
        "앞자리,뒷자리 = 주민번호.split(\"-\")\r\n",
        "앞자리 = list(앞자리)\r\n",
        "뒷자리 = list(뒷자리)\r\n",
        "print(list(앞자리))\r\n",
        "revise_jumin = 앞자리 + 뒷자리\r\n",
        "print(revise_jumin)\r\n",
        "곱할값 = [2, 3, 4, 5, 6, 7, 8, 9, 2, 3, 4, 5]\r\n",
        "print(list(range(12)))\r\n",
        "totalx1 = 0\r\n",
        "start = 0\r\n",
        "for a in 곱할값:\r\n",
        "  totalx1 += (int(revise_jumin[start]) * a)\r\n",
        "  start += 1\r\n",
        "\r\n",
        "total3 = 11 - totalx1 % 11\r\n",
        "\r\n",
        "print(주민번호[-1])\r\n",
        "if int(주민번호[-1]) == total3:\r\n",
        "  print(\"유효하네^ㅂ^\")\r\n",
        "else:\r\n",
        "  print(\"틀렸어\")\r\n",
        "\r\n",
        "\r\n"
      ],
      "execution_count": 118,
      "outputs": [
        {
          "output_type": "stream",
          "text": [
            "주민등록번호: 920603-1124712\n",
            "['9', '2', '0', '6', '0', '3']\n",
            "['9', '2', '0', '6', '0', '3', '1', '1', '2', '4', '7', '1', '2']\n",
            "[0, 1, 2, 3, 4, 5, 6, 7, 8, 9, 10, 11]\n",
            "2\n",
            "유효하네^ㅂ^\n"
          ],
          "name": "stdout"
        }
      ]
    },
    {
      "cell_type": "code",
      "metadata": {
        "id": "YCXS0eUODCji",
        "outputId": "af810e7c-1669-4048-b132-5ac8f1968b6c",
        "colab": {
          "base_uri": "https://localhost:8080/"
        }
      },
      "source": [
        "num = input(\"주민등록번호: \")\r\n",
        "계산1 = int(num[0]) * 2 + int(num[1]) * 3 + int(num[2]) * 4 + int(num[3]) * 5 + int(num[4]) * 6 + \\\r\n",
        "        int(num[5]) * 7 + int(num[7]) * 8 + int(num[8]) * 9 + int(num[9]) * 2 + int(num[10])* 3 + \\\r\n",
        "        int(num[11])* 4 + int(num[12]) * 5\r\n",
        "계산2 = 11 - (계산1 % 11)\r\n",
        "계산3 = str(계산2)\r\n",
        "\r\n",
        "if num[-1] == 계산3[-1]:\r\n",
        "    print(\"유효한 주민등록번호입니다.\")\r\n",
        "else:\r\n",
        "    print(\"유효하지 않은 주민등록번호입니다.\")"
      ],
      "execution_count": 119,
      "outputs": [
        {
          "output_type": "stream",
          "text": [
            "주민등록번호: 821010-1635210\n",
            "유효하지 않은 주민등록번호입니다.\n"
          ],
          "name": "stdout"
        }
      ]
    },
    {
      "cell_type": "code",
      "metadata": {
        "id": "u3uliM22FV_y",
        "outputId": "c2ecbcf1-ed86-4b28-9bc0-1080495c3d56",
        "colab": {
          "base_uri": "https://localhost:8080/"
        }
      },
      "source": [
        "# 130\r\n",
        "# 아래 코드는 비트코인의 가격 정보를 딕셔너리로 가져오는 코드이다.\r\n",
        "\r\n",
        "import requests\r\n",
        "btc = requests.get(\"https://api.bithumb.com/public/ticker/\").json()['data']\r\n",
        "#btc 딕셔너리 안에는 시가, 종가, 최고가, 최저가 등이 저장되어 있다. 최고가와 최저가의 차이를 변동폭으로 정의할 때 (시가 + 변동폭)이 최고가 보다 높을 경우 \"상승장\", 그렇지 않은 경우 \"하락장\" 문자열을 출력하라.\r\n",
        "btc"
      ],
      "execution_count": 120,
      "outputs": [
        {
          "output_type": "execute_result",
          "data": {
            "text/plain": [
              "{'acc_trade_value': '217760156321.1289',\n",
              " 'acc_trade_value_24H': '225496816237.1374',\n",
              " 'closing_price': '26391000',\n",
              " 'date': '1608818998049',\n",
              " 'fluctate_24H': '-194000',\n",
              " 'fluctate_rate_24H': '-0.73',\n",
              " 'max_price': '26957000',\n",
              " 'min_price': '25780000',\n",
              " 'opening_price': '26764000',\n",
              " 'prev_closing_price': '26764000',\n",
              " 'units_traded': '8297.39862237',\n",
              " 'units_traded_24H': '8586.97655623'}"
            ]
          },
          "metadata": {
            "tags": []
          },
          "execution_count": 120
        }
      ]
    },
    {
      "cell_type": "code",
      "metadata": {
        "id": "CFMBgqtaFbVy",
        "outputId": "7ba2b6c0-519f-4531-afbb-4524bba79eee",
        "colab": {
          "base_uri": "https://localhost:8080/"
        }
      },
      "source": [
        "#@title import json 몰랐던 부분\n",
        "import requests\n",
        "btc = requests.get(\"https://api.bithumb.com/public/ticker/\").json()['data']\n",
        "\n",
        "변동폭 = float(btc['max_price']) - float(btc['min_price'])\n",
        "시가 = float(btc['opening_price'])\n",
        "최고가 = float(btc['max_price'])\n",
        "\n",
        "if (시가+변동폭) > 최고가:\n",
        "    print(\"상승장\")\n",
        "else:\n",
        "    print(\"하락장\")"
      ],
      "execution_count": 122,
      "outputs": [
        {
          "output_type": "stream",
          "text": [
            "상승장\n"
          ],
          "name": "stdout"
        }
      ]
    },
    {
      "cell_type": "code",
      "metadata": {
        "id": "1tT9Fc5vFf2S"
      },
      "source": [
        ""
      ],
      "execution_count": null,
      "outputs": []
    }
  ]
}