{
  "nbformat": 4,
  "nbformat_minor": 0,
  "metadata": {
    "colab": {
      "name": "초보자를 위한 파이썬 300제(101~200)",
      "provenance": [],
      "collapsed_sections": [],
      "authorship_tag": "ABX9TyP/EabbB8kELQGLoLLdj5HT",
      "include_colab_link": true
    },
    "kernelspec": {
      "name": "python3",
      "display_name": "Python 3"
    }
  },
  "cells": [
    {
      "cell_type": "markdown",
      "metadata": {
        "id": "view-in-github",
        "colab_type": "text"
      },
      "source": [
        "<a href=\"https://colab.research.google.com/github/JeongJaeWook/Portfolio-Lotto/blob/master/python100/%EC%B4%88%EB%B3%B4%EC%9E%90%EB%A5%BC_%EC%9C%84%ED%95%9C_%ED%8C%8C%EC%9D%B4%EC%8D%AC_300%EC%A0%9C(101~200).ipynb\" target=\"_parent\"><img src=\"https://colab.research.google.com/assets/colab-badge.svg\" alt=\"Open In Colab\"/></a>"
      ]
    },
    {
      "cell_type": "markdown",
      "metadata": {
        "id": "7rUkdoHDq1_N"
      },
      "source": [
        "## 07. 파이썬 분기문\r\n",
        "파이썬은 if라는 키워드를 통해 분기문을 만들 수 있습니다."
      ]
    },
    {
      "cell_type": "code",
      "metadata": {
        "id": "_70rodVYq2v3"
      },
      "source": [
        "# 101\r\n",
        "# 파이썬에서 True 혹은 False를 갖는 데이터 타입은 무엇인가?\r\n",
        "\r\n",
        "# Bool type"
      ],
      "execution_count": 1,
      "outputs": []
    },
    {
      "cell_type": "code",
      "metadata": {
        "id": "foohA7qKwBdK",
        "outputId": "0b80e2e6-c4b2-480a-fde7-19f23efdbfd4",
        "colab": {
          "base_uri": "https://localhost:8080/"
        }
      },
      "source": [
        "# 102\r\n",
        "# 아래 코드의 출력 결과를 예상하라 \r\n",
        "\r\n",
        "print(3 == 5) # ==False\r\n",
        "print(3 < 5) #103 ==true\r\n",
        "\r\n"
      ],
      "execution_count": 3,
      "outputs": [
        {
          "output_type": "stream",
          "text": [
            "False\n",
            "True\n"
          ],
          "name": "stdout"
        }
      ]
    },
    {
      "cell_type": "code",
      "metadata": {
        "id": "2C4R8RHXwKoB",
        "outputId": "e5a99a9f-79d1-4ff6-b427-059fa31068b0",
        "colab": {
          "base_uri": "https://localhost:8080/"
        }
      },
      "source": [
        "#104\r\n",
        "x = 4\r\n",
        "print(1 < x < 5)"
      ],
      "execution_count": 4,
      "outputs": [
        {
          "output_type": "stream",
          "text": [
            "True\n"
          ],
          "name": "stdout"
        }
      ]
    },
    {
      "cell_type": "code",
      "metadata": {
        "id": "ozwUAMyMwS-K",
        "outputId": "3524ec9c-4fdd-40ae-bb80-855e6fab4a4c",
        "colab": {
          "base_uri": "https://localhost:8080/"
        }
      },
      "source": [
        "#105\r\n",
        "print ((3 == 3) and (4 != 3))"
      ],
      "execution_count": 5,
      "outputs": [
        {
          "output_type": "stream",
          "text": [
            "True\n"
          ],
          "name": "stdout"
        }
      ]
    },
    {
      "cell_type": "code",
      "metadata": {
        "id": "l61yvOthwXCB",
        "outputId": "888bf5e0-bc15-4e3f-dbda-d61c33cc36c4",
        "colab": {
          "base_uri": "https://localhost:8080/",
          "height": 136
        }
      },
      "source": [
        "#106\r\n",
        "print(3 => 4)\r\n",
        "# >="
      ],
      "execution_count": 6,
      "outputs": [
        {
          "output_type": "error",
          "ename": "SyntaxError",
          "evalue": "ignored",
          "traceback": [
            "\u001b[0;36m  File \u001b[0;32m\"<ipython-input-6-be80e910bdcf>\"\u001b[0;36m, line \u001b[0;32m2\u001b[0m\n\u001b[0;31m    print(3 => 4)\u001b[0m\n\u001b[0m             ^\u001b[0m\n\u001b[0;31mSyntaxError\u001b[0m\u001b[0;31m:\u001b[0m invalid syntax\n"
          ]
        }
      ]
    },
    {
      "cell_type": "code",
      "metadata": {
        "id": "7RObNB7twZcC"
      },
      "source": [
        "#107\r\n",
        "\r\n",
        "if 4 < 3:\r\n",
        "    print(\"Hello World\")"
      ],
      "execution_count": 7,
      "outputs": []
    },
    {
      "cell_type": "code",
      "metadata": {
        "id": "RrltC4hsweZ5",
        "outputId": "34bf0e2f-5bab-400a-abf9-b6a982e9754d",
        "colab": {
          "base_uri": "https://localhost:8080/"
        }
      },
      "source": [
        "# 108\r\n",
        "# 아래 코드의 출력 결과를 예상하라\r\n",
        "\r\n",
        "if 4 < 3:\r\n",
        "    print(\"Hello World.\")\r\n",
        "else:\r\n",
        "    print(\"Hi, there.\")"
      ],
      "execution_count": 8,
      "outputs": [
        {
          "output_type": "stream",
          "text": [
            "Hi, there.\n"
          ],
          "name": "stdout"
        }
      ]
    },
    {
      "cell_type": "code",
      "metadata": {
        "id": "QftePelkwiOB",
        "outputId": "403082ea-61d5-4f14-dddc-bff1c5c67a15",
        "colab": {
          "base_uri": "https://localhost:8080/"
        }
      },
      "source": [
        "# 109\r\n",
        "# 아래 코드의 출력 결과를 예상하라\r\n",
        "\r\n",
        "if True :\r\n",
        "    print (\"1\")\r\n",
        "    print (\"2\")\r\n",
        "else :\r\n",
        "    print(\"3\")\r\n",
        "print(\"4\")"
      ],
      "execution_count": 9,
      "outputs": [
        {
          "output_type": "stream",
          "text": [
            "1\n",
            "2\n",
            "4\n"
          ],
          "name": "stdout"
        }
      ]
    },
    {
      "cell_type": "code",
      "metadata": {
        "id": "JGGKVHkIwlkJ",
        "outputId": "f46c67c8-5d6e-4d6a-bd67-6a142ba2d957",
        "colab": {
          "base_uri": "https://localhost:8080/"
        }
      },
      "source": [
        "# 110\r\n",
        "# 아래 코드의 출력 결과를 예상하라\r\n",
        "\r\n",
        "if True :\r\n",
        "    if False:\r\n",
        "        print(\"1\")\r\n",
        "        print(\"2\")\r\n",
        "    else:\r\n",
        "        print(\"3\")\r\n",
        "else :\r\n",
        "    print(\"4\")\r\n",
        "print(\"5\")"
      ],
      "execution_count": 10,
      "outputs": [
        {
          "output_type": "stream",
          "text": [
            "3\n",
            "5\n"
          ],
          "name": "stdout"
        }
      ]
    },
    {
      "cell_type": "code",
      "metadata": {
        "id": "7aHB19eywp4J",
        "outputId": "b000605d-1856-446c-8918-1e3b679c7238",
        "colab": {
          "base_uri": "https://localhost:8080/"
        }
      },
      "source": [
        "# 111\r\n",
        "# 사용자로부터 입력받은 문자열을 두 번 출력하라. 아래는 사용자가 \"안녕하세요\"를 입력한 경우의 출력 결과이다.\r\n",
        "\r\n",
        "a = input(\"입력:\")\r\n",
        "if a == \"안녕하세요\":\r\n",
        "  print(a*2)\r\n",
        "  "
      ],
      "execution_count": 14,
      "outputs": [
        {
          "output_type": "stream",
          "text": [
            "입력:안녕하세요\n",
            "안녕하세요안녕하세요\n"
          ],
          "name": "stdout"
        }
      ]
    },
    {
      "cell_type": "code",
      "metadata": {
        "id": "R0sDSYXfxALQ",
        "outputId": "40a119f4-9a88-49d9-af3b-b50d8d6d998a",
        "colab": {
          "base_uri": "https://localhost:8080/"
        }
      },
      "source": [
        "#112\r\n",
        "a = input(\"숫자를 입력하세요:\")\r\n",
        "\r\n",
        "print(int(a) + 10)"
      ],
      "execution_count": 20,
      "outputs": [
        {
          "output_type": "stream",
          "text": [
            "숫자를 입력하세요:30\n",
            "40\n"
          ],
          "name": "stdout"
        }
      ]
    },
    {
      "cell_type": "code",
      "metadata": {
        "id": "pMEgvz6TxML5",
        "outputId": "f6bfd78b-d4d9-4ea9-ef30-85986b5e4983",
        "colab": {
          "base_uri": "https://localhost:8080/"
        }
      },
      "source": [
        "#113\r\n",
        "a = input(\"숫자를 입력하세요:\")\r\n",
        "\r\n",
        "if int(a)%2 == 0 :\r\n",
        "  print(\"짝수\")\r\n",
        "else:\r\n",
        "  print(\"홀수\")"
      ],
      "execution_count": 22,
      "outputs": [
        {
          "output_type": "stream",
          "text": [
            "숫자를 입력하세요:5\n",
            "홀수\n"
          ],
          "name": "stdout"
        }
      ]
    },
    {
      "cell_type": "code",
      "metadata": {
        "id": "kPQrzrIxxkQu",
        "outputId": "4633eab0-88f2-496a-c65f-4482b7dc9762",
        "colab": {
          "base_uri": "https://localhost:8080/"
        }
      },
      "source": [
        "#114\r\n",
        "# 사용자로부터 값을 입력받은 후 해당 값에 20을 더한 값을 출력하라.\r\n",
        "#  단 사용자가 입력한 값과 20을 더한 계산 값이 255를 초과하는 경우 255를 출력해야 한다.\r\n",
        "\r\n",
        "a = input(\"숫자를 입력하세요:\")\r\n",
        "b = int(a) + 20\r\n",
        "\r\n",
        "if  b > 255:\r\n",
        "  print(255)\r\n",
        "else:\r\n",
        "  print(b)"
      ],
      "execution_count": 25,
      "outputs": [
        {
          "output_type": "stream",
          "text": [
            "숫자를 입력하세요:250\n",
            "255\n"
          ],
          "name": "stdout"
        }
      ]
    },
    {
      "cell_type": "code",
      "metadata": {
        "id": "8OkJdO_Zx9QZ",
        "outputId": "14e64b75-5f19-4d16-f060-170f72121ddb",
        "colab": {
          "base_uri": "https://localhost:8080/"
        }
      },
      "source": [
        "# 115\r\n",
        "# 사용자로부터 하나의 값을 입력받은 후 해당 값에 20을 뺀 값을 출력하라. \r\n",
        "# 단 출력 값의 범위는 0~255이다. \r\n",
        "# 예를 들어 결괏값이 0보다 작은 값이되는 경우 0을 출력하고 255보다 큰 값이 되는 경우 255를 출력해야 한다.\r\n",
        "\r\n",
        "a = input(\"숫자를 입력하세요:\")\r\n",
        "b = int(a) - 20\r\n",
        "\r\n",
        "\r\n",
        "if  b < 0:\r\n",
        "  print(0)\r\n",
        "elif b > 255:\r\n",
        "  print(255)\r\n",
        "else:\r\n",
        "  print(b)"
      ],
      "execution_count": 30,
      "outputs": [
        {
          "output_type": "stream",
          "text": [
            "숫자를 입력하세요:200\n",
            "180\n"
          ],
          "name": "stdout"
        }
      ]
    },
    {
      "cell_type": "code",
      "metadata": {
        "id": "wiYZAfvUyTdB",
        "outputId": "ca623e08-9354-407e-8e16-4f6c58a474f9",
        "colab": {
          "base_uri": "https://localhost:8080/"
        }
      },
      "source": [
        "# 116\r\n",
        "# 사용자로부터 입력 받은 시간이 정각인지 판별하라.\r\n",
        "\r\n",
        "# >> 현재시간:02:00\r\n",
        "# 정각 입니다.\r\n",
        "# >> 현재시간:03:10\r\n",
        "# 정각이 아닙니다\r\n",
        "\r\n",
        "a = input(\"시간을 입력하세요:\")\r\n",
        "timea = a.split(':')[1]\r\n",
        "\r\n",
        "\r\n",
        "\r\n",
        "# if timea[-2:] == \"00\":\r\n",
        "if timea == \"00\" :\r\n",
        "    print(\"정각 입니다.\")\r\n",
        "else:\r\n",
        "    print(\"정각이 아닙니다.\")"
      ],
      "execution_count": 37,
      "outputs": [
        {
          "output_type": "stream",
          "text": [
            "시간을 입력하세요:2:00\n",
            "정각 입니다.\n"
          ],
          "name": "stdout"
        }
      ]
    },
    {
      "cell_type": "code",
      "metadata": {
        "id": "-KDfEcMJyvyR",
        "outputId": "055b2a0c-de3f-475c-836e-700211563b73",
        "colab": {
          "base_uri": "https://localhost:8080/"
        }
      },
      "source": [
        "# 117\r\n",
        "# 사용자로 입력받은 단어가 아래 fruit 리스트에 포함되어 있는지를 확인하라. \r\n",
        "# 포함되었다면 \"정답입니다\"를 아닐 경우 \"오답입니다\" 출력하라.\r\n",
        "\r\n",
        "fruit = [\"사과\", \"포도\", \"홍시\"]\r\n",
        "# >> 좋아하는 과일은? 사과\r\n",
        "# 정답입니다.\r\n",
        "\r\n",
        "a = input(\"좋아하는 과일은?:\")\r\n",
        "\r\n",
        "if a in fruit:\r\n",
        "  print(\"정답입니다\")\r\n",
        "else:\r\n",
        "  print(\"삐\")"
      ],
      "execution_count": 40,
      "outputs": [
        {
          "output_type": "stream",
          "text": [
            "좋아하는 과일은?:배\n",
            "삐\n"
          ],
          "name": "stdout"
        }
      ]
    },
    {
      "cell_type": "code",
      "metadata": {
        "id": "UH4W1lK5zZu4",
        "outputId": "e5f16c11-d8a8-41a9-afb4-2b1bd077537f",
        "colab": {
          "base_uri": "https://localhost:8080/"
        }
      },
      "source": [
        "# 118\r\n",
        "# 투자 경고 종목 리스트가 있을 때 사용자로부터 종목명을 입력 받은 후 해당 종목이 투자 경고 종목이라면 \r\n",
        "# '투자 경고 종목입니다'를 아니면 \"투자 경고 종목이 아닙니다.\"를 출력하는 프로그램을 작성하라.\r\n",
        "\r\n",
        "warn_investment_list = [\"Microsoft\", \"Google\", \"Naver\", \"Kakao\", \"SAMSUNG\", \"LG\"]\r\n",
        "warn_investment_list_upper = [i.upper() for i in warn_investment_list] #List 컴프리핸션!!!\r\n",
        "\r\n",
        "print(warn_investment_list_upper)\r\n",
        "종목 = input(\"종목명: \")\r\n",
        "종목2 = 종목.upper()\r\n",
        "\r\n",
        "if 종목2 in warn_investment_list_upper:\r\n",
        "    print(\"투자 경고 종목입니다.\")\r\n",
        "else:\r\n",
        "    print(\"투자 경고 종목이 아닙니다.\")"
      ],
      "execution_count": 48,
      "outputs": [
        {
          "output_type": "stream",
          "text": [
            "['MICROSOFT', 'GOOGLE', 'NAVER', 'KAKAO', 'SAMSUNG', 'LG']\n",
            "종목명: google\n",
            "투자 경고 종목입니다.\n"
          ],
          "name": "stdout"
        }
      ]
    },
    {
      "cell_type": "code",
      "metadata": {
        "id": "KUuXjKcH0IWr"
      },
      "source": [
        ""
      ],
      "execution_count": null,
      "outputs": []
    }
  ]
}