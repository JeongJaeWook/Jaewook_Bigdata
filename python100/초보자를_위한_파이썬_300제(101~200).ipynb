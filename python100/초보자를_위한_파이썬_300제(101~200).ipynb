{
  "nbformat": 4,
  "nbformat_minor": 0,
  "metadata": {
    "colab": {
      "name": "초보자를 위한 파이썬 300제(101~200)의 사본",
      "provenance": [],
      "collapsed_sections": [],
      "authorship_tag": "ABX9TyNMtaWpbHe/3v49P0pzyARq",
      "include_colab_link": true
    },
    "kernelspec": {
      "name": "python3",
      "display_name": "Python 3"
    }
  },
  "cells": [
    {
      "cell_type": "markdown",
      "metadata": {
        "id": "view-in-github",
        "colab_type": "text"
      },
      "source": [
        "<a href=\"https://colab.research.google.com/github/JeongJaeWook/Portfolio-Lotto/blob/master/python100/%EC%B4%88%EB%B3%B4%EC%9E%90%EB%A5%BC_%EC%9C%84%ED%95%9C_%ED%8C%8C%EC%9D%B4%EC%8D%AC_300%EC%A0%9C(101~200).ipynb\" target=\"_parent\"><img src=\"https://colab.research.google.com/assets/colab-badge.svg\" alt=\"Open In Colab\"/></a>"
      ]
    },
    {
      "cell_type": "markdown",
      "metadata": {
        "id": "7rUkdoHDq1_N"
      },
      "source": [
        "## 07. 파이썬 분기문\r\n",
        "파이썬은 if라는 키워드를 통해 분기문을 만들 수 있습니다."
      ]
    },
    {
      "cell_type": "code",
      "metadata": {
        "id": "_70rodVYq2v3"
      },
      "source": [
        "# 101\r\n",
        "# 파이썬에서 True 혹은 False를 갖는 데이터 타입은 무엇인가?\r\n",
        "\r\n",
        "# Bool type"
      ],
      "execution_count": null,
      "outputs": []
    },
    {
      "cell_type": "code",
      "metadata": {
        "colab": {
          "base_uri": "https://localhost:8080/"
        },
        "id": "foohA7qKwBdK",
        "outputId": "0b80e2e6-c4b2-480a-fde7-19f23efdbfd4"
      },
      "source": [
        "# 102\r\n",
        "# 아래 코드의 출력 결과를 예상하라 \r\n",
        "\r\n",
        "print(3 == 5) # ==False\r\n",
        "print(3 < 5) #103 ==true\r\n",
        "\r\n"
      ],
      "execution_count": null,
      "outputs": [
        {
          "output_type": "stream",
          "text": [
            "False\n",
            "True\n"
          ],
          "name": "stdout"
        }
      ]
    },
    {
      "cell_type": "code",
      "metadata": {
        "colab": {
          "base_uri": "https://localhost:8080/"
        },
        "id": "2C4R8RHXwKoB",
        "outputId": "e5a99a9f-79d1-4ff6-b427-059fa31068b0"
      },
      "source": [
        "#104\r\n",
        "x = 4\r\n",
        "print(1 < x < 5)"
      ],
      "execution_count": null,
      "outputs": [
        {
          "output_type": "stream",
          "text": [
            "True\n"
          ],
          "name": "stdout"
        }
      ]
    },
    {
      "cell_type": "code",
      "metadata": {
        "colab": {
          "base_uri": "https://localhost:8080/"
        },
        "id": "ozwUAMyMwS-K",
        "outputId": "3524ec9c-4fdd-40ae-bb80-855e6fab4a4c"
      },
      "source": [
        "#105\r\n",
        "print ((3 == 3) and (4 != 3))"
      ],
      "execution_count": null,
      "outputs": [
        {
          "output_type": "stream",
          "text": [
            "True\n"
          ],
          "name": "stdout"
        }
      ]
    },
    {
      "cell_type": "code",
      "metadata": {
        "colab": {
          "base_uri": "https://localhost:8080/",
          "height": 136
        },
        "id": "l61yvOthwXCB",
        "outputId": "888bf5e0-bc15-4e3f-dbda-d61c33cc36c4"
      },
      "source": [
        "#106\r\n",
        "print(3 => 4)\r\n",
        "# >="
      ],
      "execution_count": null,
      "outputs": [
        {
          "output_type": "error",
          "ename": "SyntaxError",
          "evalue": "ignored",
          "traceback": [
            "\u001b[0;36m  File \u001b[0;32m\"<ipython-input-6-be80e910bdcf>\"\u001b[0;36m, line \u001b[0;32m2\u001b[0m\n\u001b[0;31m    print(3 => 4)\u001b[0m\n\u001b[0m             ^\u001b[0m\n\u001b[0;31mSyntaxError\u001b[0m\u001b[0;31m:\u001b[0m invalid syntax\n"
          ]
        }
      ]
    },
    {
      "cell_type": "code",
      "metadata": {
        "id": "7RObNB7twZcC"
      },
      "source": [
        "#107\r\n",
        "\r\n",
        "if 4 < 3:\r\n",
        "    print(\"Hello World\")"
      ],
      "execution_count": null,
      "outputs": []
    },
    {
      "cell_type": "code",
      "metadata": {
        "colab": {
          "base_uri": "https://localhost:8080/"
        },
        "id": "RrltC4hsweZ5",
        "outputId": "34bf0e2f-5bab-400a-abf9-b6a982e9754d"
      },
      "source": [
        "# 108\r\n",
        "# 아래 코드의 출력 결과를 예상하라\r\n",
        "\r\n",
        "if 4 < 3:\r\n",
        "    print(\"Hello World.\")\r\n",
        "else:\r\n",
        "    print(\"Hi, there.\")"
      ],
      "execution_count": null,
      "outputs": [
        {
          "output_type": "stream",
          "text": [
            "Hi, there.\n"
          ],
          "name": "stdout"
        }
      ]
    },
    {
      "cell_type": "code",
      "metadata": {
        "colab": {
          "base_uri": "https://localhost:8080/"
        },
        "id": "QftePelkwiOB",
        "outputId": "403082ea-61d5-4f14-dddc-bff1c5c67a15"
      },
      "source": [
        "# 109\r\n",
        "# 아래 코드의 출력 결과를 예상하라\r\n",
        "\r\n",
        "if True :\r\n",
        "    print (\"1\")\r\n",
        "    print (\"2\")\r\n",
        "else :\r\n",
        "    print(\"3\")\r\n",
        "print(\"4\")"
      ],
      "execution_count": null,
      "outputs": [
        {
          "output_type": "stream",
          "text": [
            "1\n",
            "2\n",
            "4\n"
          ],
          "name": "stdout"
        }
      ]
    },
    {
      "cell_type": "code",
      "metadata": {
        "colab": {
          "base_uri": "https://localhost:8080/"
        },
        "id": "JGGKVHkIwlkJ",
        "outputId": "f46c67c8-5d6e-4d6a-bd67-6a142ba2d957"
      },
      "source": [
        "# 110\r\n",
        "# 아래 코드의 출력 결과를 예상하라\r\n",
        "\r\n",
        "if True :\r\n",
        "    if False:\r\n",
        "        print(\"1\")\r\n",
        "        print(\"2\")\r\n",
        "    else:\r\n",
        "        print(\"3\")\r\n",
        "else :\r\n",
        "    print(\"4\")\r\n",
        "print(\"5\")"
      ],
      "execution_count": null,
      "outputs": [
        {
          "output_type": "stream",
          "text": [
            "3\n",
            "5\n"
          ],
          "name": "stdout"
        }
      ]
    },
    {
      "cell_type": "code",
      "metadata": {
        "colab": {
          "base_uri": "https://localhost:8080/"
        },
        "id": "7aHB19eywp4J",
        "outputId": "b000605d-1856-446c-8918-1e3b679c7238"
      },
      "source": [
        "# 111\r\n",
        "# 사용자로부터 입력받은 문자열을 두 번 출력하라. 아래는 사용자가 \"안녕하세요\"를 입력한 경우의 출력 결과이다.\r\n",
        "\r\n",
        "a = input(\"입력:\")\r\n",
        "if a == \"안녕하세요\":\r\n",
        "  print(a*2)\r\n",
        "  "
      ],
      "execution_count": null,
      "outputs": [
        {
          "output_type": "stream",
          "text": [
            "입력:안녕하세요\n",
            "안녕하세요안녕하세요\n"
          ],
          "name": "stdout"
        }
      ]
    },
    {
      "cell_type": "code",
      "metadata": {
        "colab": {
          "base_uri": "https://localhost:8080/"
        },
        "id": "R0sDSYXfxALQ",
        "outputId": "40a119f4-9a88-49d9-af3b-b50d8d6d998a"
      },
      "source": [
        "#112\r\n",
        "a = input(\"숫자를 입력하세요:\")\r\n",
        "\r\n",
        "print(int(a) + 10)"
      ],
      "execution_count": null,
      "outputs": [
        {
          "output_type": "stream",
          "text": [
            "숫자를 입력하세요:30\n",
            "40\n"
          ],
          "name": "stdout"
        }
      ]
    },
    {
      "cell_type": "code",
      "metadata": {
        "colab": {
          "base_uri": "https://localhost:8080/"
        },
        "id": "pMEgvz6TxML5",
        "outputId": "f6bfd78b-d4d9-4ea9-ef30-85986b5e4983"
      },
      "source": [
        "#113\r\n",
        "a = input(\"숫자를 입력하세요:\")\r\n",
        "\r\n",
        "if int(a)%2 == 0 :\r\n",
        "  print(\"짝수\")\r\n",
        "else:\r\n",
        "  print(\"홀수\")"
      ],
      "execution_count": null,
      "outputs": [
        {
          "output_type": "stream",
          "text": [
            "숫자를 입력하세요:5\n",
            "홀수\n"
          ],
          "name": "stdout"
        }
      ]
    },
    {
      "cell_type": "code",
      "metadata": {
        "colab": {
          "base_uri": "https://localhost:8080/"
        },
        "id": "kPQrzrIxxkQu",
        "outputId": "4633eab0-88f2-496a-c65f-4482b7dc9762"
      },
      "source": [
        "#114\r\n",
        "# 사용자로부터 값을 입력받은 후 해당 값에 20을 더한 값을 출력하라.\r\n",
        "#  단 사용자가 입력한 값과 20을 더한 계산 값이 255를 초과하는 경우 255를 출력해야 한다.\r\n",
        "\r\n",
        "a = input(\"숫자를 입력하세요:\")\r\n",
        "b = int(a) + 20\r\n",
        "\r\n",
        "if  b > 255:\r\n",
        "  print(255)\r\n",
        "else:\r\n",
        "  print(b)"
      ],
      "execution_count": null,
      "outputs": [
        {
          "output_type": "stream",
          "text": [
            "숫자를 입력하세요:250\n",
            "255\n"
          ],
          "name": "stdout"
        }
      ]
    },
    {
      "cell_type": "code",
      "metadata": {
        "colab": {
          "base_uri": "https://localhost:8080/"
        },
        "id": "8OkJdO_Zx9QZ",
        "outputId": "14e64b75-5f19-4d16-f060-170f72121ddb"
      },
      "source": [
        "# 115\r\n",
        "# 사용자로부터 하나의 값을 입력받은 후 해당 값에 20을 뺀 값을 출력하라. \r\n",
        "# 단 출력 값의 범위는 0~255이다. \r\n",
        "# 예를 들어 결괏값이 0보다 작은 값이되는 경우 0을 출력하고 255보다 큰 값이 되는 경우 255를 출력해야 한다.\r\n",
        "\r\n",
        "a = input(\"숫자를 입력하세요:\")\r\n",
        "b = int(a) - 20\r\n",
        "\r\n",
        "\r\n",
        "if  b < 0:\r\n",
        "  print(0)\r\n",
        "elif b > 255:\r\n",
        "  print(255)\r\n",
        "else:\r\n",
        "  print(b)"
      ],
      "execution_count": null,
      "outputs": [
        {
          "output_type": "stream",
          "text": [
            "숫자를 입력하세요:200\n",
            "180\n"
          ],
          "name": "stdout"
        }
      ]
    },
    {
      "cell_type": "code",
      "metadata": {
        "colab": {
          "base_uri": "https://localhost:8080/"
        },
        "id": "wiYZAfvUyTdB",
        "outputId": "ca623e08-9354-407e-8e16-4f6c58a474f9"
      },
      "source": [
        "# 116\r\n",
        "# 사용자로부터 입력 받은 시간이 정각인지 판별하라.\r\n",
        "\r\n",
        "# >> 현재시간:02:00\r\n",
        "# 정각 입니다.\r\n",
        "# >> 현재시간:03:10\r\n",
        "# 정각이 아닙니다\r\n",
        "\r\n",
        "a = input(\"시간을 입력하세요:\")\r\n",
        "timea = a.split(':')[1]\r\n",
        "\r\n",
        "\r\n",
        "\r\n",
        "# if timea[-2:] == \"00\":\r\n",
        "if timea == \"00\" :\r\n",
        "    print(\"정각 입니다.\")\r\n",
        "else:\r\n",
        "    print(\"정각이 아닙니다.\")"
      ],
      "execution_count": null,
      "outputs": [
        {
          "output_type": "stream",
          "text": [
            "시간을 입력하세요:2:00\n",
            "정각 입니다.\n"
          ],
          "name": "stdout"
        }
      ]
    },
    {
      "cell_type": "code",
      "metadata": {
        "colab": {
          "base_uri": "https://localhost:8080/"
        },
        "id": "-KDfEcMJyvyR",
        "outputId": "055b2a0c-de3f-475c-836e-700211563b73"
      },
      "source": [
        "# 117\r\n",
        "# 사용자로 입력받은 단어가 아래 fruit 리스트에 포함되어 있는지를 확인하라. \r\n",
        "# 포함되었다면 \"정답입니다\"를 아닐 경우 \"오답입니다\" 출력하라.\r\n",
        "\r\n",
        "fruit = [\"사과\", \"포도\", \"홍시\"]\r\n",
        "# >> 좋아하는 과일은? 사과\r\n",
        "# 정답입니다.\r\n",
        "\r\n",
        "a = input(\"좋아하는 과일은?:\")\r\n",
        "\r\n",
        "if a in fruit:\r\n",
        "  print(\"정답입니다\")\r\n",
        "else:\r\n",
        "  print(\"삐\")"
      ],
      "execution_count": null,
      "outputs": [
        {
          "output_type": "stream",
          "text": [
            "좋아하는 과일은?:배\n",
            "삐\n"
          ],
          "name": "stdout"
        }
      ]
    },
    {
      "cell_type": "code",
      "metadata": {
        "colab": {
          "base_uri": "https://localhost:8080/"
        },
        "id": "UH4W1lK5zZu4",
        "outputId": "e5f16c11-d8a8-41a9-afb4-2b1bd077537f"
      },
      "source": [
        "# 118\r\n",
        "# 투자 경고 종목 리스트가 있을 때 사용자로부터 종목명을 입력 받은 후 해당 종목이 투자 경고 종목이라면 \r\n",
        "# '투자 경고 종목입니다'를 아니면 \"투자 경고 종목이 아닙니다.\"를 출력하는 프로그램을 작성하라.\r\n",
        "\r\n",
        "warn_investment_list = [\"Microsoft\", \"Google\", \"Naver\", \"Kakao\", \"SAMSUNG\", \"LG\"]\r\n",
        "warn_investment_list_upper = [i.upper() for i in warn_investment_list] #List 컴프리핸션!!!\r\n",
        "\r\n",
        "print(warn_investment_list_upper)\r\n",
        "종목 = input(\"종목명: \")\r\n",
        "종목2 = 종목.upper()\r\n",
        "\r\n",
        "if 종목2 in warn_investment_list_upper:\r\n",
        "    print(\"투자 경고 종목입니다.\")\r\n",
        "else:\r\n",
        "    print(\"투자 경고 종목이 아닙니다.\")"
      ],
      "execution_count": null,
      "outputs": [
        {
          "output_type": "stream",
          "text": [
            "['MICROSOFT', 'GOOGLE', 'NAVER', 'KAKAO', 'SAMSUNG', 'LG']\n",
            "종목명: google\n",
            "투자 경고 종목입니다.\n"
          ],
          "name": "stdout"
        }
      ]
    },
    {
      "cell_type": "code",
      "metadata": {
        "colab": {
          "base_uri": "https://localhost:8080/"
        },
        "id": "KUuXjKcH0IWr",
        "outputId": "f65055cf-d42e-4ad2-a7be-5d8856cd1ed7"
      },
      "source": [
        "119\r\n",
        "# 아래와 같이 fruit 딕셔너리가 정의되어 있다. \r\n",
        "# 사용자가 입력한 값이 딕셔너리 키 (key) 값에 포함되었다면 \"정답입니다\"를 아닐 경우 \"오답입니다\" 출력하라.\r\n",
        "\r\n",
        "fruit = {\"봄\" : \"딸기\", \"여름\" : \"토마토\", \"가을\" : \"사과\"}\r\n",
        "\r\n",
        "a = input(\"제가좋아하는계절은: \")\r\n",
        "if a in fruit.keys(): #fruit 해도 됨 \r\n",
        "  print(\"정답입니다\")\r\n",
        "else:\r\n",
        "  print(\"오답입니다.\")\r\n"
      ],
      "execution_count": null,
      "outputs": [
        {
          "output_type": "stream",
          "text": [
            "제가좋아하는계절은: 여름\n",
            "정답입니다\n"
          ],
          "name": "stdout"
        }
      ]
    },
    {
      "cell_type": "code",
      "metadata": {
        "id": "cRWOY2V33pdU",
        "colab": {
          "base_uri": "https://localhost:8080/"
        },
        "outputId": "bd07e7d0-86f1-40c7-d26c-7dde94df2c7c"
      },
      "source": [
        "# 120\r\n",
        "# 아래와 같이 fruit 딕셔너리가 정의되어 있다. 사용자가 입력한 값이 딕셔너리 값 (value)에 포함되었다면 \"정답입니다\"를 아닐 경우 \"오답입니다\" 출력하라.\r\n",
        "\r\n",
        "fruit = {\"봄\" : \"딸기\", \"여름\" : \"토마토\", \"가을\" : \"사과\"}\r\n",
        "\r\n",
        "# >> 좋아하는과일은? 한라봉\r\n",
        "# 오답입니다.\r\n",
        "\r\n",
        "a = input(\"제가 좋아하는 과일은: \")\r\n",
        "if a in fruit.values(): \r\n",
        "  print(\"정답입니다\")\r\n",
        "else:\r\n",
        "  print(\"오답입니다.\")"
      ],
      "execution_count": null,
      "outputs": [
        {
          "output_type": "stream",
          "text": [
            "제가 좋아하는 과일은: 딸기\n",
            "정답입니다\n"
          ],
          "name": "stdout"
        }
      ]
    },
    {
      "cell_type": "code",
      "metadata": {
        "id": "NQwfjiPK4APC"
      },
      "source": [
        "#@title a.islower()\n",
        "# 121\n",
        "# 사용자로부터 문자 한 개를 입력 받고, 소문자일 경우 대문자로, 대문자 일 경우, 소문자로 변경해서 출력하라.\n",
        "\n",
        "a = input(\"입력: \")\n",
        "\n",
        "if a.islower() :\n",
        "  print(a.upper())\n",
        "else:\n",
        "  print(a.lower())"
      ],
      "execution_count": null,
      "outputs": []
    },
    {
      "cell_type": "code",
      "metadata": {
        "id": "8yty9Ivu421q",
        "colab": {
          "base_uri": "https://localhost:8080/"
        },
        "outputId": "8c9176a8-1a79-4115-866d-7e8d81a153a8"
      },
      "source": [
        "# 122\r\n",
        "# 점수 구간에 해당하는 학점이 아래와 같이 정의되어 있다. 사용자로부터 score를 입력받아 학점을 출력하라.\r\n",
        "\r\n",
        "# 점수\t학점\r\n",
        "# 81~100\tA\r\n",
        "# 61~80\tB\r\n",
        "# 41~60\tC\r\n",
        "# 21~40\tD\r\n",
        "# 0~20\tE\r\n",
        "\r\n",
        "a = input(\"입력: \")\r\n",
        "score = int(a)\r\n",
        "\r\n",
        "if score >= 81 :\r\n",
        "  print(\"A\")\r\n",
        "elif score >= 61 :\r\n",
        "  print(\"B\")\r\n",
        "elif score >= 41 :\r\n",
        "  print(\"C\")\r\n",
        "elif score >= 21 : #21 <= score <= 40:\r\n",
        "  print(\"D\")\r\n",
        "elif score >= 0 :\r\n",
        "  print(\"E\")"
      ],
      "execution_count": null,
      "outputs": [
        {
          "output_type": "stream",
          "text": [
            "입력: 55\n",
            "C\n"
          ],
          "name": "stdout"
        }
      ]
    },
    {
      "cell_type": "code",
      "metadata": {
        "id": "gaQV_8wn5fDa",
        "colab": {
          "base_uri": "https://localhost:8080/"
        },
        "outputId": "00d93aa9-62b9-48ac-ea71-227deb154cbc"
      },
      "source": [
        "#@title a,b = split() 이걸 잘 생각하자 \n",
        "# 123\n",
        "# 사용자로부터 달러, 엔, 유로, 또는 위안 금액을 입력받은 후 이를 원으로 변환하는 프로그램을 작성하라. 각 통화별 환율은 다음과 같다. 사용자는 100 달러, 1000 엔, 13 유로, 100 위안과 같이 금액과 통화명 사이에 공백을 넣어 입력한다고 가정한다.\n",
        "\n",
        "# 통화명\t환율\n",
        "# 달러\t1167\n",
        "# 엔\t1.096\n",
        "# 유로\t1268\n",
        "# 위안\t171\n",
        "\n",
        "money = {\"달러\":1167,\"엔\":1.096,\"유로\":1268,\"위안\":171}\n",
        "a = input(\"입력: \")\n",
        "num, currency  = a.split(' ')\n",
        "\n",
        "if currency in money.keys():\n",
        "  print(float(num) * (money[currency]))"
      ],
      "execution_count": null,
      "outputs": [
        {
          "output_type": "stream",
          "text": [
            "입력: 150 유로\n",
            "190200.0\n"
          ],
          "name": "stdout"
        }
      ]
    },
    {
      "cell_type": "code",
      "metadata": {
        "id": "oOqPUg4Y7cbU",
        "colab": {
          "base_uri": "https://localhost:8080/"
        },
        "outputId": "fcf015bc-040a-444e-c53c-91b5dc40c578"
      },
      "source": [
        "# 124\r\n",
        "# 사용자로부터 세 개의 숫자를 입력 받은 후 가장 큰 숫자를 출력하라.\r\n",
        "\r\n",
        "# >> input number1: 10\r\n",
        "# >> input number2: 9\r\n",
        "# >> input number3: 20\r\n",
        "# 20\r\n",
        "\r\n",
        "a = int(input(\"입력 1: \"))\r\n",
        "b = int(input(\"입력 2 : \"))\r\n",
        "c = int(input(\"입력 3: \"))\r\n",
        "\r\n",
        "alist = []\r\n",
        "alist.append(a)\r\n",
        "alist.append(b)\r\n",
        "alist.append(c)\r\n",
        "\r\n",
        "alist.sort()\r\n",
        "print(alist[0])"
      ],
      "execution_count": null,
      "outputs": [
        {
          "output_type": "stream",
          "text": [
            "입력 1: 10\n",
            "입력 2 : 9\n",
            "입력 3: 20\n",
            "9\n"
          ],
          "name": "stdout"
        }
      ]
    },
    {
      "cell_type": "code",
      "metadata": {
        "id": "QwLyqhFu8__T",
        "colab": {
          "base_uri": "https://localhost:8080/"
        },
        "outputId": "6f075486-de6c-4987-ddf4-a225fb7fa49f"
      },
      "source": [
        "num1 = input(\"input number1: \")\r\n",
        "num2 = input(\"input number2: \")\r\n",
        "num3 = input(\"input number3: \")\r\n",
        "num1 = int(num1)\r\n",
        "num2 = int(num2)\r\n",
        "num3 = int(num3)\r\n",
        "\r\n",
        "if num1 > num2 and num1 > num3:\r\n",
        "    print(num1)\r\n",
        "elif num2 > num1 and num2 > num3:\r\n",
        "    print(num2)\r\n",
        "else:\r\n",
        "    print(num3)"
      ],
      "execution_count": null,
      "outputs": [
        {
          "output_type": "stream",
          "text": [
            "input number1: 10\n",
            "input number2: 9\n",
            "input number3: 20\n",
            "20\n"
          ],
          "name": "stdout"
        }
      ]
    },
    {
      "cell_type": "code",
      "metadata": {
        "id": "Lo3RYFBt9RhB",
        "colab": {
          "base_uri": "https://localhost:8080/"
        },
        "outputId": "dc840e7e-3e06-459d-dd5b-53d489fee755"
      },
      "source": [
        "# 125\r\n",
        "# 휴대폰 번호 앞자리에 따라 통신사는 아래와 같이 구분된다. \r\n",
        "# 사용자로부터 휴대전화 번호를 입력 받고, 통신사를 출력하는 프로그램을 작성하라.\r\n",
        "\r\n",
        "# 번호\t통신사\r\n",
        "# 011\tSKT\r\n",
        "# 016\tKT\r\n",
        "# 019\tLGU\r\n",
        "# 010\t알수없음\r\n",
        "\r\n",
        "\r\n",
        "num1 = input(\"input number1: \")\r\n",
        "num2 = num1.split('-')[0]\r\n",
        "\r\n",
        "if num2 == \"011\" :\r\n",
        "  print(\"SKT\")\r\n",
        "elif num2 == \"016\" :\r\n",
        "  print(\"KT\")\r\n",
        "elif num2 == \"019\" :\r\n",
        "  print(\"LG\")\r\n",
        "elif num2 == \"010\" :\r\n",
        "  print(\"알수없음\")"
      ],
      "execution_count": null,
      "outputs": [
        {
          "output_type": "stream",
          "text": [
            "input number1: 011-1234-1234\n",
            "SKT\n"
          ],
          "name": "stdout"
        }
      ]
    },
    {
      "cell_type": "code",
      "metadata": {
        "id": "D_CMT9Fw_GHa",
        "colab": {
          "base_uri": "https://localhost:8080/"
        },
        "outputId": "b059e750-5007-411e-b2c8-42d5d70ea279"
      },
      "source": [
        "# 126\r\n",
        "# 우편번호는 5자리로 구성되는데, 앞의 세자리는 구를 나타낸다. 예를들어, 강북구의 경우 010, 011, 012 세 자리로 시작한다.\r\n",
        "\r\n",
        "# -\t0\t1\t2\t3\t4\t5\t6\t7\t8\t9\r\n",
        "# 01\t강북구\t강북구\t강북구\t도봉구\t도봉구\t도봉구\t노원구\t노원구\t노원구\t노원구\r\n",
        "# 사용자로 부터 5자리 우편번호를 입력받고 구를 판별하라\r\n",
        "\r\n",
        "우편번호 = input(\"우편번호: \")\r\n",
        "우편번호 = 우편번호[:3]\r\n",
        "if 우편번호 in [\"010\", \"011\", \"012\"]:\r\n",
        "    print(\"강북구\")\r\n",
        "elif 우편번호 in [\"014\", \"015\", \"016\"]:\r\n",
        "    print(\"도봉구\")\r\n",
        "else:\r\n",
        "    print(\"노원구\")"
      ],
      "execution_count": null,
      "outputs": [
        {
          "output_type": "stream",
          "text": [
            "우편번호: 01400\n",
            "도봉구\n"
          ],
          "name": "stdout"
        }
      ]
    },
    {
      "cell_type": "code",
      "metadata": {
        "id": "kp1WIUzq_rWz",
        "colab": {
          "base_uri": "https://localhost:8080/"
        },
        "outputId": "90d41d61-ec2b-4540-eeff-3607165f10d0"
      },
      "source": [
        "# 127\r\n",
        "# 주민등록번호 뒷 자리 7자리 중 첫째 자리는 성별을 나타내는데, 1, 3은 남자 2, 4는 여자를 의미한다. 사용자로부터 13자리의 주민등록번호를 입력 받은 후 성별 (남자, 여자)를 출력하는 프로그램을 작성하라.\r\n",
        "\r\n",
        "# >> 주민등록번호: 821010-1635210\r\n",
        "# 남자\r\n",
        "\r\n",
        "주민등록번호 = input(\"주민등록번호: \")\r\n",
        "주민등록번호 = 주민등록번호.split('-')[1][0]\r\n",
        "주민등록번호\r\n",
        "\r\n",
        "if 주민등록번호 in [\"1\",\"3\"]:\r\n",
        "  print(\"남자\")\r\n",
        "else:\r\n",
        "  print(\"여자\")"
      ],
      "execution_count": null,
      "outputs": [
        {
          "output_type": "stream",
          "text": [
            "주민등록번호: 112313-4635210\n",
            "여자\n"
          ],
          "name": "stdout"
        }
      ]
    },
    {
      "cell_type": "code",
      "metadata": {
        "id": "8QP-cDor__n6",
        "colab": {
          "base_uri": "https://localhost:8080/"
        },
        "outputId": "d03c49a9-9157-497b-c2d9-f32a2cca2565"
      },
      "source": [
        "# 128\r\n",
        "# 주민등록번호의 뒷 자리 7자리 중 두번째와 세번째는 지역코드를 의미한다. \r\n",
        "#주민 등록 번호를 입력 받은 후 출생지가 서울인지 아닌지 판단하는 코드를 작성하라\r\n",
        "\r\n",
        "# 지역코드\t출생지\r\n",
        "# 00 ~ 08\t서울\r\n",
        "# 09 ~ 12\t부산\r\n",
        "\r\n",
        "주민등록번호 = input(\"주민등록번호: \")\r\n",
        "주민등록번호 = int(주민등록번호.split('-')[1][1:3])\r\n",
        "print(주민등록번호)\r\n",
        "\r\n",
        "if 주민등록번호 in list(range(0,9)):\r\n",
        "  print(\"서울\")\r\n",
        "else:\r\n",
        "  print(\"서울이 아니다\")\r\n",
        "\r\n",
        "\r\n",
        "\r\n",
        "주민번호 = input(\"주민등록번호: \")\r\n",
        "뒷자리 = 주민번호.split(\"-\")[1]\r\n",
        "if 0 <= int(뒷자리[1:3]) <= 8:\r\n",
        "    print(\"서울입니다.\")\r\n",
        "else:\r\n",
        "    print(\"서울이 아닙니다.\") "
      ],
      "execution_count": null,
      "outputs": [
        {
          "output_type": "stream",
          "text": [
            "주민등록번호: 861010-1015210\n",
            "1\n",
            "서울\n",
            "주민등록번호: 821010-1635210\n",
            "서울이 아닙니다.\n"
          ],
          "name": "stdout"
        }
      ]
    },
    {
      "cell_type": "code",
      "metadata": {
        "id": "1NvEXQpRAqCe",
        "colab": {
          "base_uri": "https://localhost:8080/"
        },
        "outputId": "9d498d15-5035-4128-e7cd-7ecc165755a5"
      },
      "source": [
        "# 129\r\n",
        "# 주민등록번호는 13자리로 구성되는데 마지막 자리수는 주민등록번호의 유효성을 체크하는데 사용된다. \r\n",
        "# 먼저 앞에서부터 12자리의 숫자에 2, 3, 4, 5, 6, 7, 8, 9, 2, 3, 4, 5를 차례로 곱한 뒤 그 값을 전부 더한다. \r\n",
        "# 연산 결과 값을 11로 나누면 나머지가 나오는데 11에서 나머지를 뺀 값이 주민등록번호의 마지막 번호가 된다.\r\n",
        "\r\n",
        "#   8 2 1 0 1 0 - 1 6 3 5 2 1 0\r\n",
        "# x 2 3 4 5 6 7   8 9 2 3 4 5 \r\n",
        "# -----------------------------\r\n",
        "# 1차 계산: (8*2 + 2*3 + 1*4 + 0*5 + 1*6 + 0*7 + 1*8 + 6*9 + 3*2 + 5*3 + 2*4 + 1*5) = (128 % 11) = 7\r\n",
        "# 2차 계산: 11 -7 = 4\r\n",
        "# 위와 같이 821010-1635210에 대해서 계산을 해보면 마지막 자리는 4가 되어야 함을 알 수 있다. 즉, 821010-1635210은 유효하지 않은 주민등록번호임을 알 수 있다.\r\n",
        "\r\n",
        "# 다음과 같이 사용자로부터 주민등록번호를 입력받은 후 주민등록번호가 유효한지를 출력하는 프로그램을 작성하라.\r\n",
        "\r\n",
        "주민번호 = input(\"주민등록번호: \")\r\n",
        "앞자리,뒷자리 = 주민번호.split(\"-\")\r\n",
        "앞자리 = list(앞자리)\r\n",
        "뒷자리 = list(뒷자리)\r\n",
        "print(list(앞자리))\r\n",
        "revise_jumin = 앞자리 + 뒷자리\r\n",
        "print(revise_jumin)\r\n",
        "곱할값 = [2, 3, 4, 5, 6, 7, 8, 9, 2, 3, 4, 5]\r\n",
        "print(list(range(12)))\r\n",
        "totalx1 = 0\r\n",
        "start = 0\r\n",
        "for a in 곱할값:\r\n",
        "  totalx1 += (int(revise_jumin[start]) * a)\r\n",
        "  start += 1\r\n",
        "\r\n",
        "total3 = 11 - totalx1 % 11\r\n",
        "\r\n",
        "print(주민번호[-1])\r\n",
        "if int(주민번호[-1]) == total3:\r\n",
        "  print(\"유효하네^ㅂ^\")\r\n",
        "else:\r\n",
        "  print(\"틀렸어\")\r\n",
        "\r\n",
        "\r\n"
      ],
      "execution_count": null,
      "outputs": [
        {
          "output_type": "stream",
          "text": [
            "주민등록번호: 920603-1124712\n",
            "['9', '2', '0', '6', '0', '3']\n",
            "['9', '2', '0', '6', '0', '3', '1', '1', '2', '4', '7', '1', '2']\n",
            "[0, 1, 2, 3, 4, 5, 6, 7, 8, 9, 10, 11]\n",
            "2\n",
            "유효하네^ㅂ^\n"
          ],
          "name": "stdout"
        }
      ]
    },
    {
      "cell_type": "code",
      "metadata": {
        "id": "YCXS0eUODCji",
        "colab": {
          "base_uri": "https://localhost:8080/"
        },
        "outputId": "af810e7c-1669-4048-b132-5ac8f1968b6c"
      },
      "source": [
        "num = input(\"주민등록번호: \")\r\n",
        "계산1 = int(num[0]) * 2 + int(num[1]) * 3 + int(num[2]) * 4 + int(num[3]) * 5 + int(num[4]) * 6 + \\\r\n",
        "        int(num[5]) * 7 + int(num[7]) * 8 + int(num[8]) * 9 + int(num[9]) * 2 + int(num[10])* 3 + \\\r\n",
        "        int(num[11])* 4 + int(num[12]) * 5\r\n",
        "계산2 = 11 - (계산1 % 11)\r\n",
        "계산3 = str(계산2)\r\n",
        "\r\n",
        "if num[-1] == 계산3[-1]:\r\n",
        "    print(\"유효한 주민등록번호입니다.\")\r\n",
        "else:\r\n",
        "    print(\"유효하지 않은 주민등록번호입니다.\")"
      ],
      "execution_count": null,
      "outputs": [
        {
          "output_type": "stream",
          "text": [
            "주민등록번호: 821010-1635210\n",
            "유효하지 않은 주민등록번호입니다.\n"
          ],
          "name": "stdout"
        }
      ]
    },
    {
      "cell_type": "code",
      "metadata": {
        "id": "u3uliM22FV_y",
        "colab": {
          "base_uri": "https://localhost:8080/"
        },
        "outputId": "c2ecbcf1-ed86-4b28-9bc0-1080495c3d56"
      },
      "source": [
        "# 130\r\n",
        "# 아래 코드는 비트코인의 가격 정보를 딕셔너리로 가져오는 코드이다.\r\n",
        "\r\n",
        "import requests\r\n",
        "btc = requests.get(\"https://api.bithumb.com/public/ticker/\").json()['data']\r\n",
        "#btc 딕셔너리 안에는 시가, 종가, 최고가, 최저가 등이 저장되어 있다. 최고가와 최저가의 차이를 변동폭으로 정의할 때 (시가 + 변동폭)이 최고가 보다 높을 경우 \"상승장\", 그렇지 않은 경우 \"하락장\" 문자열을 출력하라.\r\n",
        "btc"
      ],
      "execution_count": null,
      "outputs": [
        {
          "output_type": "execute_result",
          "data": {
            "text/plain": [
              "{'acc_trade_value': '217760156321.1289',\n",
              " 'acc_trade_value_24H': '225496816237.1374',\n",
              " 'closing_price': '26391000',\n",
              " 'date': '1608818998049',\n",
              " 'fluctate_24H': '-194000',\n",
              " 'fluctate_rate_24H': '-0.73',\n",
              " 'max_price': '26957000',\n",
              " 'min_price': '25780000',\n",
              " 'opening_price': '26764000',\n",
              " 'prev_closing_price': '26764000',\n",
              " 'units_traded': '8297.39862237',\n",
              " 'units_traded_24H': '8586.97655623'}"
            ]
          },
          "metadata": {
            "tags": []
          },
          "execution_count": 120
        }
      ]
    },
    {
      "cell_type": "code",
      "metadata": {
        "id": "CFMBgqtaFbVy",
        "colab": {
          "base_uri": "https://localhost:8080/"
        },
        "outputId": "7ba2b6c0-519f-4531-afbb-4524bba79eee"
      },
      "source": [
        "#@title import json 몰랐던 부분\n",
        "import requests\n",
        "btc = requests.get(\"https://api.bithumb.com/public/ticker/\").json()['data']\n",
        "\n",
        "변동폭 = float(btc['max_price']) - float(btc['min_price'])\n",
        "시가 = float(btc['opening_price'])\n",
        "최고가 = float(btc['max_price'])\n",
        "\n",
        "if (시가+변동폭) > 최고가:\n",
        "    print(\"상승장\")\n",
        "else:\n",
        "    print(\"하락장\")"
      ],
      "execution_count": null,
      "outputs": [
        {
          "output_type": "stream",
          "text": [
            "상승장\n"
          ],
          "name": "stdout"
        }
      ]
    },
    {
      "cell_type": "markdown",
      "metadata": {
        "id": "XqbYAFuSU7pp"
      },
      "source": [
        "## 08. 파이썬 반복문\r\n",
        "파이썬 for 문은 횟수가 정해져 있거나 상대적으로 횟수가 적은 경우에 대한 반복에 주로 사용됩니다. 파이썬 while문은 횟수가 상대적으로 크거나 무한 루프 형태의 반복문에 사용됩니다."
      ]
    },
    {
      "cell_type": "code",
      "metadata": {
        "colab": {
          "base_uri": "https://localhost:8080/"
        },
        "id": "44N47A7YU92W",
        "outputId": "f5ee1325-e586-4fa7-aacf-e7cf78808361"
      },
      "source": [
        "# 131\r\n",
        "# for문의 실행결과를 예측하라.\r\n",
        "\r\n",
        "과일 = [\"사과\", \"귤\", \"수박\"]\r\n",
        "for 변수 in 과일:\r\n",
        "    print(변수)"
      ],
      "execution_count": 1,
      "outputs": [
        {
          "output_type": "stream",
          "text": [
            "사과\n",
            "귤\n",
            "수박\n"
          ],
          "name": "stdout"
        }
      ]
    },
    {
      "cell_type": "code",
      "metadata": {
        "colab": {
          "base_uri": "https://localhost:8080/"
        },
        "id": "xEWutGzhVTcM",
        "outputId": "51689672-144c-44cc-9db0-2221cc0f22d7"
      },
      "source": [
        "# 132\r\n",
        "# for문의 실행결과를 예측하라.\r\n",
        "\r\n",
        "과일 = [\"사과\", \"귤\", \"수박\"]\r\n",
        "for 변수 in 과일:\r\n",
        "  print(\"#####\")"
      ],
      "execution_count": 2,
      "outputs": [
        {
          "output_type": "stream",
          "text": [
            "#####\n",
            "#####\n",
            "#####\n"
          ],
          "name": "stdout"
        }
      ]
    },
    {
      "cell_type": "code",
      "metadata": {
        "colab": {
          "base_uri": "https://localhost:8080/"
        },
        "id": "WuagCUWkVcVl",
        "outputId": "cc50d9ff-81a1-486d-da22-8ae79c008fbb"
      },
      "source": [
        "# 133\r\n",
        "# 다음 for 문과 동일한 기능을 수행하는 코드를 작성하세요.\r\n",
        "\r\n",
        "for 변수 in [\"A\", \"B\", \"C\"]:\r\n",
        "  print(변수)\r\n",
        "\r\n",
        "print(\"A\")\r\n",
        "print(\"B\")\r\n",
        "print(\"C\")"
      ],
      "execution_count": 3,
      "outputs": [
        {
          "output_type": "stream",
          "text": [
            "A\n",
            "B\n",
            "C\n",
            "A\n",
            "B\n",
            "C\n"
          ],
          "name": "stdout"
        }
      ]
    },
    {
      "cell_type": "code",
      "metadata": {
        "colab": {
          "base_uri": "https://localhost:8080/"
        },
        "id": "4_eSnURfVmju",
        "outputId": "1c332c2c-7525-4e3b-8398-7399e7bad988"
      },
      "source": [
        "# 134\r\n",
        "# for문을 풀어서 동일한 동작을하는 코드를 작성하라.\r\n",
        "\r\n",
        "for 변수 in [\"A\", \"B\", \"C\"]:\r\n",
        "  print(\"출력:\", 변수)\r\n",
        "\r\n",
        "\r\n",
        "print(\"출력:\", \"A\")\r\n",
        "print(\"출력:\", \"B\")\r\n",
        "print(\"출력:\", \"C\")"
      ],
      "execution_count": 4,
      "outputs": [
        {
          "output_type": "stream",
          "text": [
            "출력: A\n",
            "출력: B\n",
            "출력: C\n",
            "출력: A\n",
            "출력: B\n",
            "출력: C\n"
          ],
          "name": "stdout"
        }
      ]
    },
    {
      "cell_type": "code",
      "metadata": {
        "colab": {
          "base_uri": "https://localhost:8080/"
        },
        "id": "x3ZA_uKNVsy-",
        "outputId": "553e97e8-07fa-42b9-aae1-41294b306848"
      },
      "source": [
        "# 135\r\n",
        "# for문을 풀어서 동일한 동작을 하는 코드를 작성하라.\r\n",
        "\r\n",
        "for 변수 in [\"A\", \"B\", \"C\"]:\r\n",
        "  b = 변수.lower()\r\n",
        "  print(\"변환:\", b)\r\n",
        "\r\n",
        "변수 = \"A\"\r\n",
        "b = 변수.lower()\r\n",
        "print(\"변환:\", b)"
      ],
      "execution_count": 6,
      "outputs": [
        {
          "output_type": "stream",
          "text": [
            "변환: a\n",
            "변환: b\n",
            "변환: c\n",
            "변환: a\n"
          ],
          "name": "stdout"
        }
      ]
    },
    {
      "cell_type": "code",
      "metadata": {
        "colab": {
          "base_uri": "https://localhost:8080/"
        },
        "id": "-5p-1C04VyZu",
        "outputId": "57adac3a-0a89-444d-fa6d-a47e8b61dceb"
      },
      "source": [
        "# 136 . #137  #138  #139 \r\n",
        "# 다음 코드를 for문으로 작성하라.\r\n",
        "\r\n",
        "변수 = 10\r\n",
        "print(변수)\r\n",
        "변수 = 20\r\n",
        "print(변수)\r\n",
        "변수 = 30\r\n",
        "print(변수)\r\n",
        "\r\n",
        "for a in [10,20,30]:\r\n",
        "  print(a)"
      ],
      "execution_count": 8,
      "outputs": [
        {
          "output_type": "stream",
          "text": [
            "10\n",
            "20\n",
            "30\n",
            "10\n",
            "20\n",
            "30\n"
          ],
          "name": "stdout"
        }
      ]
    },
    {
      "cell_type": "code",
      "metadata": {
        "colab": {
          "base_uri": "https://localhost:8080/"
        },
        "id": "8o0gX71AV5gd",
        "outputId": "149de321-305d-4616-ee7d-a1b101b44256"
      },
      "source": [
        "# 140\r\n",
        "# 다음 코드를 for문으로 작성하라.\r\n",
        "\r\n",
        "print(\"-------\")\r\n",
        "print(\"-------\")\r\n",
        "print(\"-------\")\r\n",
        "print(\"-------\")\r\n",
        "print(\"hihihi\")\r\n",
        "for a in range(4):\r\n",
        "  print(\"-------\")"
      ],
      "execution_count": 10,
      "outputs": [
        {
          "output_type": "stream",
          "text": [
            "-------\n",
            "-------\n",
            "-------\n",
            "-------\n",
            "hihihi\n",
            "-------\n",
            "-------\n",
            "-------\n",
            "-------\n"
          ],
          "name": "stdout"
        }
      ]
    },
    {
      "cell_type": "code",
      "metadata": {
        "colab": {
          "base_uri": "https://localhost:8080/"
        },
        "id": "7SQbvQ-gWJ02",
        "outputId": "f998a96b-7bd3-4325-a080-6d9b37f093b4"
      },
      "source": [
        "#141\r\n",
        "# 다음과 같이 판매가가 저장된 리스트가 있을 때 부가세가 포함된 가격을 for 문을 사용해서 화면에 출력하라. \r\n",
        "# 단 부가세는 10원으로 가정한다.\r\n",
        "\r\n",
        "리스트 = [100, 200, 300]\r\n",
        "for a in 리스트:\r\n",
        "  print(a + 10)"
      ],
      "execution_count": 11,
      "outputs": [
        {
          "output_type": "stream",
          "text": [
            "110\n",
            "210\n",
            "310\n"
          ],
          "name": "stdout"
        }
      ]
    },
    {
      "cell_type": "code",
      "metadata": {
        "colab": {
          "base_uri": "https://localhost:8080/"
        },
        "id": "zniZ7dsyWxcN",
        "outputId": "f101f21f-a5e5-4000-f8a2-a4511cdcb029"
      },
      "source": [
        "# 142\r\n",
        "# for 문을 사용해서 리스트에 저장된 값을 다음과 같이 출력하라.\r\n",
        "\r\n",
        "리스트 = [\"김밥\", \"라면\", \"튀김\"]\r\n",
        "for 메뉴 in 리스트:\r\n",
        "  print(\"오늘의 메뉴:\", 메뉴)"
      ],
      "execution_count": 13,
      "outputs": [
        {
          "output_type": "stream",
          "text": [
            "오늘의 메뉴: 김밥\n",
            "오늘의 메뉴: 라면\n",
            "오늘의 메뉴: 튀김\n"
          ],
          "name": "stdout"
        }
      ]
    },
    {
      "cell_type": "code",
      "metadata": {
        "colab": {
          "base_uri": "https://localhost:8080/"
        },
        "id": "_ExoTv31XCkl",
        "outputId": "bd5595b5-d55c-430b-e78a-85d16a341ef8"
      },
      "source": [
        "# 143\r\n",
        "# 리스트에 주식 종목이름이 저장돼 있다.\r\n",
        "\r\n",
        "리스트 = [\"SK하이닉스\", \"삼성전자\", \"LG전자\"]\r\n",
        "for a in 리스트:\r\n",
        "  print(len(a))"
      ],
      "execution_count": 14,
      "outputs": [
        {
          "output_type": "stream",
          "text": [
            "6\n",
            "4\n",
            "4\n"
          ],
          "name": "stdout"
        }
      ]
    },
    {
      "cell_type": "code",
      "metadata": {
        "colab": {
          "base_uri": "https://localhost:8080/"
        },
        "id": "6cJhCHL1XNeu",
        "outputId": "336f6cee-d9fd-47c3-fdc6-39e379e9a600"
      },
      "source": [
        "# 144\r\n",
        "# 리스트에는 동물이름이 문자열로 저장돼 있다.\r\n",
        "\r\n",
        "# 리스트 = ['dog', 'cat', 'parrot']\r\n",
        "# 동물 이름과 글자수를 다음과 같이 출력하라.\r\n",
        "\r\n",
        "리스트 = ['dog', 'cat', 'parrot']\r\n",
        "for 이름 in 리스트:\r\n",
        "  print(이름, len(이름))"
      ],
      "execution_count": 15,
      "outputs": [
        {
          "output_type": "stream",
          "text": [
            "dog 3\n",
            "cat 3\n",
            "parrot 6\n"
          ],
          "name": "stdout"
        }
      ]
    },
    {
      "cell_type": "code",
      "metadata": {
        "colab": {
          "base_uri": "https://localhost:8080/"
        },
        "id": "5UKKdBl0XS_F",
        "outputId": "8a7c3ab6-6045-46e4-ca73-2ea56b61b7f3"
      },
      "source": [
        "# 145\r\n",
        "# 리스트에 동물 이름 저장돼 있다.\r\n",
        "\r\n",
        "# 리스트 = ['dog', 'cat', 'parrot']\r\n",
        "# for문을 사용해서 동물 이름의 첫 글자만 출력하라.\r\n",
        "\r\n",
        "\r\n",
        "리스트 = ['dog', 'cat', 'parrot']\r\n",
        "for 이름 in 리스트:\r\n",
        "  print(이름[0])"
      ],
      "execution_count": 16,
      "outputs": [
        {
          "output_type": "stream",
          "text": [
            "d\n",
            "c\n",
            "p\n"
          ],
          "name": "stdout"
        }
      ]
    },
    {
      "cell_type": "code",
      "metadata": {
        "colab": {
          "base_uri": "https://localhost:8080/"
        },
        "id": "-brJTWkDXX51",
        "outputId": "2ce1ff49-1560-45f6-b1e4-bda8e8a13fe6"
      },
      "source": [
        "# 146\r\n",
        "# 리스트에는 세 개의 숫자가 바인딩돼 있다.\r\n",
        "\r\n",
        "# 리스트 = [1, 2, 3]\r\n",
        "# for문을 사용해서 다음과 같이 출력하라.\r\n",
        "\r\n",
        "리스트 = [1, 2, 3]\r\n",
        "for 변수 in 리스트:\r\n",
        "  print(\"3 x\", 변수)\r\n",
        "  # print(\"3 x \" + str(변수))"
      ],
      "execution_count": 17,
      "outputs": [
        {
          "output_type": "stream",
          "text": [
            "3 x 1\n",
            "3 x 2\n",
            "3 x 3\n"
          ],
          "name": "stdout"
        }
      ]
    },
    {
      "cell_type": "code",
      "metadata": {
        "colab": {
          "base_uri": "https://localhost:8080/"
        },
        "id": "jjYd5DIyXpVt",
        "outputId": "b192ad40-f01e-4f6d-9044-8405729f4380"
      },
      "source": [
        "# 147\r\n",
        "# 리스트에는 세 개의 숫자가 바인딩돼 있다.\r\n",
        "\r\n",
        "# 리스트 = [1, 2, 3]\r\n",
        "# for문을 사용해서 다음과 같이 출력하라.\r\n",
        "\r\n",
        "리스트 = [1, 2, 3]\r\n",
        "for 변수 in 리스트:\r\n",
        "  #print(\"3 x\", 변수, \"=\",3*변수)\r\n",
        "  print(f\"3 x {변수} = {3*변수}\")"
      ],
      "execution_count": 21,
      "outputs": [
        {
          "output_type": "stream",
          "text": [
            "3 x 1 = 3\n",
            "3 x 2 = 6\n",
            "3 x 3 = 9\n"
          ],
          "name": "stdout"
        }
      ]
    },
    {
      "cell_type": "code",
      "metadata": {
        "colab": {
          "base_uri": "https://localhost:8080/"
        },
        "id": "KM6dpk1LXzLY",
        "outputId": "f224a7d3-f2ac-4be5-c14d-1b5310f7ace9"
      },
      "source": [
        "# 148\r\n",
        "# 리스트에는 네 개의 문자열이 바인딩돼 있다.\r\n",
        "\r\n",
        "# 리스트 = [\"가\", \"나\", \"다\", \"라\"]\r\n",
        "# for문을 사용해서 다음과 같이 출력하라.\r\n",
        "\r\n",
        "리스트 = [\"가\", \"나\", \"다\", \"라\"]\r\n",
        "for a in 리스트[1:]:\r\n",
        "  if a != \"가\":\r\n",
        "    print(a)\r\n"
      ],
      "execution_count": 25,
      "outputs": [
        {
          "output_type": "stream",
          "text": [
            "나\n",
            "다\n",
            "라\n"
          ],
          "name": "stdout"
        }
      ]
    },
    {
      "cell_type": "code",
      "metadata": {
        "colab": {
          "base_uri": "https://localhost:8080/"
        },
        "id": "2ujh-LO0aB8z",
        "outputId": "f6fa7f02-a18b-4073-9807-ec3e30a8401a"
      },
      "source": [
        "# 149\r\n",
        "# 리스트에는 네 개의 문자열이 바인딩돼 있다.\r\n",
        "\r\n",
        "리스트 = [\"가\", \"나\", \"다\", \"라\"]\r\n",
        "print(리스트[::2])\r\n",
        "\r\n",
        "#150\r\n",
        "print(리스트[::-1]) "
      ],
      "execution_count": 28,
      "outputs": [
        {
          "output_type": "stream",
          "text": [
            "['가', '다']\n",
            "['라', '다', '나', '가']\n"
          ],
          "name": "stdout"
        }
      ]
    },
    {
      "cell_type": "code",
      "metadata": {
        "colab": {
          "base_uri": "https://localhost:8080/"
        },
        "id": "SsjEDVYoaVgF",
        "outputId": "e8bcbb2d-c2ce-41fb-8aba-cd8b8b65ea50"
      },
      "source": [
        "# 151\r\n",
        "# 리스트에는 네 개의 정수가 저장돼 있다.\r\n",
        "\r\n",
        "리스트 = [3, -20, -3, 44]\r\n",
        "# for문을 사용해서 리스트의 음수를 출력하라.\r\n",
        "\r\n",
        "for a in 리스트:\r\n",
        "  if a<0:\r\n",
        "    print(a)"
      ],
      "execution_count": 29,
      "outputs": [
        {
          "output_type": "stream",
          "text": [
            "-20\n",
            "-3\n"
          ],
          "name": "stdout"
        }
      ]
    },
    {
      "cell_type": "code",
      "metadata": {
        "colab": {
          "base_uri": "https://localhost:8080/"
        },
        "id": "ZTrvkUSRbTbt",
        "outputId": "199df17d-7de3-4eaf-d9b1-114bfc75b910"
      },
      "source": [
        "# 152\r\n",
        "# for문을 사용해서 3의 배수만을 출력하라.\r\n",
        "\r\n",
        "리스트 = [3, 100, 23, 44]\r\n",
        "for a in 리스트:\r\n",
        "  if a%3 ==0:\r\n",
        "    print(a)"
      ],
      "execution_count": 30,
      "outputs": [
        {
          "output_type": "stream",
          "text": [
            "3\n"
          ],
          "name": "stdout"
        }
      ]
    },
    {
      "cell_type": "code",
      "metadata": {
        "colab": {
          "base_uri": "https://localhost:8080/"
        },
        "id": "TTHjqAl8bcad",
        "outputId": "2e3aa6df-851c-48d7-eb83-29514cf7b69c"
      },
      "source": [
        "# 153\r\n",
        "# 리스트에서 20 보다 작은 3의 배수를 출력하라\r\n",
        "\r\n",
        "리스트 = [13, 21, 12, 14, 30, 18]\r\n",
        "for a in 리스트:\r\n",
        "  if a%3 ==0 and a <20:\r\n",
        "    print(a)"
      ],
      "execution_count": 34,
      "outputs": [
        {
          "output_type": "stream",
          "text": [
            "12\n",
            "18\n"
          ],
          "name": "stdout"
        }
      ]
    },
    {
      "cell_type": "code",
      "metadata": {
        "colab": {
          "base_uri": "https://localhost:8080/"
        },
        "id": "ISD6KuCZbnw0",
        "outputId": "4ad1b791-c1af-4e0c-c870-754b2e82980a"
      },
      "source": [
        "# 154\r\n",
        "# 리스트에서 세 글자 이상의 문자를 화면에 출력하라\r\n",
        "\r\n",
        "리스트 = [\"I\", \"study\", \"python\", \"language\", \"!\"]\r\n",
        "\r\n",
        "for a in 리스트:\r\n",
        "  if len(a)>=3 :\r\n",
        "    print(a)"
      ],
      "execution_count": 38,
      "outputs": [
        {
          "output_type": "stream",
          "text": [
            "study\n",
            "python\n",
            "language\n"
          ],
          "name": "stdout"
        }
      ]
    },
    {
      "cell_type": "code",
      "metadata": {
        "colab": {
          "base_uri": "https://localhost:8080/"
        },
        "id": "SZMNJfBQb3LE",
        "outputId": "53e6f806-47ae-487b-dfd7-277395903d21"
      },
      "source": [
        "# 155\r\n",
        "# 리스트에서 대문자만 화면에 출력하라.\r\n",
        "\r\n",
        "리스트 = [\"A\", \"b\", \"c\", \"D\"]\r\n",
        "for 변수 in 리스트:\r\n",
        "  if 변수.isupper():\r\n",
        "    print(변수)"
      ],
      "execution_count": 39,
      "outputs": [
        {
          "output_type": "stream",
          "text": [
            "A\n",
            "D\n"
          ],
          "name": "stdout"
        }
      ]
    },
    {
      "cell_type": "code",
      "metadata": {
        "colab": {
          "base_uri": "https://localhost:8080/"
        },
        "id": "WnJBFJz3cB70",
        "outputId": "84e96082-f05c-4760-e745-ca249e578aa1"
      },
      "source": [
        "# 156\r\n",
        "# 리스트에서 소문자만 화면에 출력하라.\r\n",
        "\r\n",
        "리스트 = [\"A\", \"b\", \"c\", \"D\"]\r\n",
        "for 변수 in 리스트:\r\n",
        "  if 변수.isupper() == False:\r\n",
        "    print(변수)\r\n",
        "리스트 = [\"A\", \"b\", \"c\", \"D\"]\r\n",
        "for 변수 in 리스트:\r\n",
        "  if 변수.isupper() != True:\r\n",
        "    print(변수)\r\n",
        "# 논리 연산자 not을 사용할 수도 있습니다.\r\n",
        "\r\n",
        "리스트 = [\"A\", \"b\", \"c\", \"D\"]\r\n",
        "for 변수 in 리스트:\r\n",
        "  if not 변수.isupper():\r\n",
        "    print(변수)"
      ],
      "execution_count": 41,
      "outputs": [
        {
          "output_type": "stream",
          "text": [
            "b\n",
            "c\n",
            "b\n",
            "c\n",
            "b\n",
            "c\n"
          ],
          "name": "stdout"
        }
      ]
    },
    {
      "cell_type": "code",
      "metadata": {
        "colab": {
          "base_uri": "https://localhost:8080/"
        },
        "id": "Aneq77zzcIBt",
        "outputId": "a6efac3b-1133-4617-9478-277d8b255829"
      },
      "source": [
        "# 157\r\n",
        "# 이름의 첫 글자를 대문자로 변경해서 출력하라.\r\n",
        "\r\n",
        "리스트 = ['dog', 'cat', 'parrot']\r\n",
        "\r\n",
        "for a in 리스트:\r\n",
        "  print(a.capitalize())"
      ],
      "execution_count": 42,
      "outputs": [
        {
          "output_type": "stream",
          "text": [
            "Dog\n",
            "Cat\n",
            "Parrot\n"
          ],
          "name": "stdout"
        }
      ]
    },
    {
      "cell_type": "code",
      "metadata": {
        "colab": {
          "base_uri": "https://localhost:8080/"
        },
        "id": "_EQtg29EcSGV",
        "outputId": "a2288147-f7ef-49ad-b0e3-804dd0dbc14d"
      },
      "source": [
        "# 158\r\n",
        "# 파일 이름이 저장된 리스트에서 확장자를 제거하고 파일 이름만 화면에 출력하라. (힌트: split() 메서드)\r\n",
        "\r\n",
        "리스트 = ['hello.py', 'ex01.py', 'intro.hwp']\r\n",
        "for a in 리스트:\r\n",
        "  print(a.split('.')[0])"
      ],
      "execution_count": 43,
      "outputs": [
        {
          "output_type": "stream",
          "text": [
            "hello\n",
            "ex01\n",
            "intro\n"
          ],
          "name": "stdout"
        }
      ]
    },
    {
      "cell_type": "code",
      "metadata": {
        "colab": {
          "base_uri": "https://localhost:8080/"
        },
        "id": "QV7E6LVRckF9",
        "outputId": "4d32a221-9178-4cb4-b628-79333f3addb6"
      },
      "source": [
        "# 159\r\n",
        "# 파일 이름이 저장된 리스트에서 확장자가 .h인 파일 이름을 출력하라.\r\n",
        "\r\n",
        "리스트 = ['intra.h', 'intra.c', 'define.h', 'run.py']\r\n",
        "\r\n",
        "for a in 리스트:\r\n",
        "  if a.split('.')[1] == 'h':\r\n",
        "    print(a)"
      ],
      "execution_count": 45,
      "outputs": [
        {
          "output_type": "stream",
          "text": [
            "intra.h\n",
            "define.h\n"
          ],
          "name": "stdout"
        }
      ]
    },
    {
      "cell_type": "code",
      "metadata": {
        "colab": {
          "base_uri": "https://localhost:8080/"
        },
        "id": "P_fxWdgAcu6N",
        "outputId": "92e54bab-0646-4b48-ae07-04efe4d4bfbc"
      },
      "source": [
        "# 160\r\n",
        "# 파일 이름이 저장된 리스트에서 확장자가 .h나 .c인 파일을 화면에 출력하라.\r\n",
        "\r\n",
        "리스트 = ['intra.h', 'intra.c', 'define.h', 'run.py']\r\n",
        "for 변수 in 리스트:\r\n",
        "  split = 변수.split(\".\")\r\n",
        "  if (split[1] == \"h\") or (split[1] == \"c\"):\r\n",
        "    print(변수)"
      ],
      "execution_count": 46,
      "outputs": [
        {
          "output_type": "stream",
          "text": [
            "intra.h\n",
            "intra.c\n",
            "define.h\n"
          ],
          "name": "stdout"
        }
      ]
    },
    {
      "cell_type": "code",
      "metadata": {
        "colab": {
          "base_uri": "https://localhost:8080/"
        },
        "id": "D6Aq28CWc1od",
        "outputId": "e60ad0fa-de24-4b2a-fffa-55b0c6882322"
      },
      "source": [
        "# 161\r\n",
        "# for문과 range 구문을 사용해서 0~99까지 한 라인에 하나씩 순차적으로 출력하는 프로그램을 작성하라.\r\n",
        "\r\n",
        "for a in range(100):\r\n",
        "  print(a)"
      ],
      "execution_count": 47,
      "outputs": [
        {
          "output_type": "stream",
          "text": [
            "0\n",
            "1\n",
            "2\n",
            "3\n",
            "4\n",
            "5\n",
            "6\n",
            "7\n",
            "8\n",
            "9\n",
            "10\n",
            "11\n",
            "12\n",
            "13\n",
            "14\n",
            "15\n",
            "16\n",
            "17\n",
            "18\n",
            "19\n",
            "20\n",
            "21\n",
            "22\n",
            "23\n",
            "24\n",
            "25\n",
            "26\n",
            "27\n",
            "28\n",
            "29\n",
            "30\n",
            "31\n",
            "32\n",
            "33\n",
            "34\n",
            "35\n",
            "36\n",
            "37\n",
            "38\n",
            "39\n",
            "40\n",
            "41\n",
            "42\n",
            "43\n",
            "44\n",
            "45\n",
            "46\n",
            "47\n",
            "48\n",
            "49\n",
            "50\n",
            "51\n",
            "52\n",
            "53\n",
            "54\n",
            "55\n",
            "56\n",
            "57\n",
            "58\n",
            "59\n",
            "60\n",
            "61\n",
            "62\n",
            "63\n",
            "64\n",
            "65\n",
            "66\n",
            "67\n",
            "68\n",
            "69\n",
            "70\n",
            "71\n",
            "72\n",
            "73\n",
            "74\n",
            "75\n",
            "76\n",
            "77\n",
            "78\n",
            "79\n",
            "80\n",
            "81\n",
            "82\n",
            "83\n",
            "84\n",
            "85\n",
            "86\n",
            "87\n",
            "88\n",
            "89\n",
            "90\n",
            "91\n",
            "92\n",
            "93\n",
            "94\n",
            "95\n",
            "96\n",
            "97\n",
            "98\n",
            "99\n"
          ],
          "name": "stdout"
        }
      ]
    },
    {
      "cell_type": "code",
      "metadata": {
        "colab": {
          "base_uri": "https://localhost:8080/"
        },
        "id": "y8Gu5ZhieL18",
        "outputId": "89be9813-7c98-4466-809b-72b4171cae2a"
      },
      "source": [
        "# 162\r\n",
        "# 월드컵은 4년에 한 번 개최된다. range()를 사용하여 2002~2050년까지 중 월드컵이 개최되는 연도를 출력하라.\r\n",
        "\r\n",
        "for a in range(2002,2051,4):\r\n",
        "  print(a)"
      ],
      "execution_count": 48,
      "outputs": [
        {
          "output_type": "stream",
          "text": [
            "2002\n",
            "2006\n",
            "2010\n",
            "2014\n",
            "2018\n",
            "2022\n",
            "2026\n",
            "2030\n",
            "2034\n",
            "2038\n",
            "2042\n",
            "2046\n",
            "2050\n"
          ],
          "name": "stdout"
        }
      ]
    },
    {
      "cell_type": "code",
      "metadata": {
        "colab": {
          "base_uri": "https://localhost:8080/"
        },
        "id": "_ZFSt2BFeX9c",
        "outputId": "8d89d419-8e27-424f-af6a-1b2cdb265b17"
      },
      "source": [
        "# 163\r\n",
        "# 1부터 30까지의 숫자 중 3의 배수를 출력하라.\r\n",
        "\r\n",
        "for a in range(1,31):\r\n",
        "  if a % 3 == 0 : print(a)\r\n",
        "\r\n",
        "for num in range(3, 31, 3):\r\n",
        "  print (num)"
      ],
      "execution_count": 52,
      "outputs": [
        {
          "output_type": "stream",
          "text": [
            "3\n",
            "6\n",
            "9\n",
            "12\n",
            "15\n",
            "18\n",
            "21\n",
            "24\n",
            "27\n",
            "30\n",
            "3\n",
            "6\n",
            "9\n",
            "12\n",
            "15\n",
            "18\n",
            "21\n",
            "24\n",
            "27\n",
            "30\n"
          ],
          "name": "stdout"
        }
      ]
    },
    {
      "cell_type": "code",
      "metadata": {
        "colab": {
          "base_uri": "https://localhost:8080/"
        },
        "id": "DpCg4wZiee_F",
        "outputId": "5b260607-c944-4c91-ed1f-bbeafa48ad9b"
      },
      "source": [
        "# 164\r\n",
        "# 99부터 0까지 1씩 감소하는 숫자들을, 한 라인에 하나씩 출력하라.\r\n",
        "\r\n",
        "for a in range(100,-1,-1):\r\n",
        "  print(a)"
      ],
      "execution_count": 56,
      "outputs": [
        {
          "output_type": "stream",
          "text": [
            "100\n",
            "99\n",
            "98\n",
            "97\n",
            "96\n",
            "95\n",
            "94\n",
            "93\n",
            "92\n",
            "91\n",
            "90\n",
            "89\n",
            "88\n",
            "87\n",
            "86\n",
            "85\n",
            "84\n",
            "83\n",
            "82\n",
            "81\n",
            "80\n",
            "79\n",
            "78\n",
            "77\n",
            "76\n",
            "75\n",
            "74\n",
            "73\n",
            "72\n",
            "71\n",
            "70\n",
            "69\n",
            "68\n",
            "67\n",
            "66\n",
            "65\n",
            "64\n",
            "63\n",
            "62\n",
            "61\n",
            "60\n",
            "59\n",
            "58\n",
            "57\n",
            "56\n",
            "55\n",
            "54\n",
            "53\n",
            "52\n",
            "51\n",
            "50\n",
            "49\n",
            "48\n",
            "47\n",
            "46\n",
            "45\n",
            "44\n",
            "43\n",
            "42\n",
            "41\n",
            "40\n",
            "39\n",
            "38\n",
            "37\n",
            "36\n",
            "35\n",
            "34\n",
            "33\n",
            "32\n",
            "31\n",
            "30\n",
            "29\n",
            "28\n",
            "27\n",
            "26\n",
            "25\n",
            "24\n",
            "23\n",
            "22\n",
            "21\n",
            "20\n",
            "19\n",
            "18\n",
            "17\n",
            "16\n",
            "15\n",
            "14\n",
            "13\n",
            "12\n",
            "11\n",
            "10\n",
            "9\n",
            "8\n",
            "7\n",
            "6\n",
            "5\n",
            "4\n",
            "3\n",
            "2\n",
            "1\n",
            "0\n"
          ],
          "name": "stdout"
        }
      ]
    },
    {
      "cell_type": "code",
      "metadata": {
        "colab": {
          "base_uri": "https://localhost:8080/"
        },
        "id": "pLvBV5r3eyJ-",
        "outputId": "215e7420-9ddc-4e7d-f999-415976c1b8de"
      },
      "source": [
        "# 165\r\n",
        "# for문을 사용해서 아래와 같이 출력하라.\r\n",
        "\r\n",
        "for a in range(10):\r\n",
        "  print(a/10)"
      ],
      "execution_count": 59,
      "outputs": [
        {
          "output_type": "stream",
          "text": [
            "0.0\n",
            "0.1\n",
            "0.2\n",
            "0.3\n",
            "0.4\n",
            "0.5\n",
            "0.6\n",
            "0.7\n",
            "0.8\n",
            "0.9\n"
          ],
          "name": "stdout"
        }
      ]
    },
    {
      "cell_type": "code",
      "metadata": {
        "colab": {
          "base_uri": "https://localhost:8080/"
        },
        "id": "s1MzODmffMcU",
        "outputId": "6e3c5c08-19f4-4d96-c108-350ac24ccd6f"
      },
      "source": [
        "# 166\r\n",
        "# 구구단 3단을 출력하라.\r\n",
        "t = 1\r\n",
        "for a in range(3,30,3):\r\n",
        "  print(f\"3 x {t} = {a}\")\r\n",
        "  t +=1\r\n",
        "\r\n",
        "\r\n",
        "for i in range(1, 10) :\r\n",
        "    print (3, \"x\", i, \" = \", 3 * i)  "
      ],
      "execution_count": 62,
      "outputs": [
        {
          "output_type": "stream",
          "text": [
            "3 x 1 = 3\n",
            "3 x 2 = 6\n",
            "3 x 3 = 9\n",
            "3 x 4 = 12\n",
            "3 x 5 = 15\n",
            "3 x 6 = 18\n",
            "3 x 7 = 21\n",
            "3 x 8 = 24\n",
            "3 x 9 = 27\n",
            "3 x 1  =  3\n",
            "3 x 2  =  6\n",
            "3 x 3  =  9\n",
            "3 x 4  =  12\n",
            "3 x 5  =  15\n",
            "3 x 6  =  18\n",
            "3 x 7  =  21\n",
            "3 x 8  =  24\n",
            "3 x 9  =  27\n"
          ],
          "name": "stdout"
        }
      ]
    },
    {
      "cell_type": "code",
      "metadata": {
        "colab": {
          "base_uri": "https://localhost:8080/"
        },
        "id": "BEPvoYF6fhB9",
        "outputId": "61ad6f48-2a86-4508-cac6-e5fdaedaf002"
      },
      "source": [
        "# 167\r\n",
        "# 구구단 3단을 출력하라. 단 홀수 번째만 출력한다.\r\n",
        "\r\n",
        "for i in range(1, 10,2) :\r\n",
        "    print (3, \"x\", i, \" = \", 3 * i) "
      ],
      "execution_count": 63,
      "outputs": [
        {
          "output_type": "stream",
          "text": [
            "3 x 1  =  3\n",
            "3 x 3  =  9\n",
            "3 x 5  =  15\n",
            "3 x 7  =  21\n",
            "3 x 9  =  27\n"
          ],
          "name": "stdout"
        }
      ]
    },
    {
      "cell_type": "code",
      "metadata": {
        "colab": {
          "base_uri": "https://localhost:8080/"
        },
        "id": "PzOgFN-3fz60",
        "outputId": "b56af891-7b6a-477c-9abe-ce30d0e22674"
      },
      "source": [
        "# 168\r\n",
        "# 1~10까지의 숫자에 대해 모두 더한 값을 출력하는 프로그램을 for 문을 사용하여 작성하라.\r\n",
        "\r\n",
        "# 합 : 55\r\n",
        "\r\n",
        "total = 0\r\n",
        "for a in range(1,11):\r\n",
        "  total += a\r\n",
        "\r\n",
        "print(total)  "
      ],
      "execution_count": 65,
      "outputs": [
        {
          "output_type": "stream",
          "text": [
            "55\n"
          ],
          "name": "stdout"
        }
      ]
    },
    {
      "cell_type": "code",
      "metadata": {
        "colab": {
          "base_uri": "https://localhost:8080/"
        },
        "id": "NjXvsK6dgATP",
        "outputId": "d845e798-eef7-4c1b-94de-22af9c1e1533"
      },
      "source": [
        "# 169\r\n",
        "# 1~10까지의 숫자 중 모든 홀수의 합을 출력하는 프로그램을 for 문을 사용하여 작성하라.\r\n",
        "\r\n",
        "total = 0\r\n",
        "for a in range(1,11,2):\r\n",
        "  total += a\r\n",
        "\r\n",
        "print(total)  "
      ],
      "execution_count": 66,
      "outputs": [
        {
          "output_type": "stream",
          "text": [
            "25\n"
          ],
          "name": "stdout"
        }
      ]
    },
    {
      "cell_type": "code",
      "metadata": {
        "colab": {
          "base_uri": "https://localhost:8080/"
        },
        "id": "-nJeq_nXgGyU",
        "outputId": "f71ad832-a1d6-49ea-837d-a9105c8949b4"
      },
      "source": [
        "# 170\r\n",
        "# 1~10까지의 숫자를 모두 곱한 값을 출력하는 프로그램을 for 문을 사용하여 작성하라.\r\n",
        "\r\n",
        "total = 1\r\n",
        "for a in range(1,11):\r\n",
        "  total *= a\r\n",
        "\r\n",
        "print(total) "
      ],
      "execution_count": 68,
      "outputs": [
        {
          "output_type": "stream",
          "text": [
            "3628800\n"
          ],
          "name": "stdout"
        }
      ]
    },
    {
      "cell_type": "code",
      "metadata": {
        "colab": {
          "base_uri": "https://localhost:8080/"
        },
        "id": "lDtAYXFJgKtl",
        "outputId": "ebcea0ff-7f8b-4669-a79f-e2d56e7f10fe"
      },
      "source": [
        "result = 1\r\n",
        "for i in range(1, 11) :\r\n",
        "    result *= i\r\n",
        "print(result)"
      ],
      "execution_count": 69,
      "outputs": [
        {
          "output_type": "stream",
          "text": [
            "3628800\n"
          ],
          "name": "stdout"
        }
      ]
    },
    {
      "cell_type": "code",
      "metadata": {
        "colab": {
          "base_uri": "https://localhost:8080/"
        },
        "id": "SPj_-AKggOCt",
        "outputId": "3b6a86e9-5388-49fe-fb9d-8d3115474ff1"
      },
      "source": [
        "# 171\r\n",
        "# 아래와 같이 리스트의 데이터를 출력하라. 단, for문과 range문을 사용하라.\r\n",
        "\r\n",
        "price_list = [32100, 32150, 32000, 32500]\r\n",
        "\r\n",
        "for a in range(len(price_list)):\r\n",
        "  print(price_list[a])"
      ],
      "execution_count": 72,
      "outputs": [
        {
          "output_type": "stream",
          "text": [
            "32100\n",
            "32150\n",
            "32000\n",
            "32500\n"
          ],
          "name": "stdout"
        }
      ]
    },
    {
      "cell_type": "code",
      "metadata": {
        "colab": {
          "base_uri": "https://localhost:8080/"
        },
        "id": "Tgzzd5YQjyXX",
        "outputId": "f6b0cd66-b6fe-40f5-8090-da85a4cdb8aa"
      },
      "source": [
        "# 172\r\n",
        "# 아래와 같이 리스트의 데이터를 출력하라. 단, for문과 range문을 사용하라.\r\n",
        "\r\n",
        "price_list = [32100, 32150, 32000, 32500]\r\n",
        "print(enumerate(price_list))\r\n",
        "for i, data in enumerate(price_list):\r\n",
        "    print(i, data)"
      ],
      "execution_count": 74,
      "outputs": [
        {
          "output_type": "stream",
          "text": [
            "<enumerate object at 0x7f1c7d146630>\n",
            "0 32100\n",
            "1 32150\n",
            "2 32000\n",
            "3 32500\n"
          ],
          "name": "stdout"
        }
      ]
    },
    {
      "cell_type": "code",
      "metadata": {
        "colab": {
          "base_uri": "https://localhost:8080/"
        },
        "id": "O0_ClNB-lPVe",
        "outputId": "a40585a0-db63-4132-a873-8478d0ba93b0"
      },
      "source": [
        "list(enumerate(price_list))"
      ],
      "execution_count": 75,
      "outputs": [
        {
          "output_type": "execute_result",
          "data": {
            "text/plain": [
              "[(0, 32100), (1, 32150), (2, 32000), (3, 32500)]"
            ]
          },
          "metadata": {
            "tags": []
          },
          "execution_count": 75
        }
      ]
    },
    {
      "cell_type": "code",
      "metadata": {
        "colab": {
          "base_uri": "https://localhost:8080/"
        },
        "id": "4WxxKfoumVsN",
        "outputId": "18fa62cf-fea7-482b-b632-93abdf3e5e69"
      },
      "source": [
        "# 173\r\n",
        "# 아래와 같이 리스트의 데이터를 출력하라. 단, for문과 range문을 사용하라.\r\n",
        "\r\n",
        "price_list = [32100, 32150, 32000, 32500]\r\n",
        "\r\n",
        "for i, data in enumerate(price_list):\r\n",
        "  print((len(price_list)-1)-i,data)"
      ],
      "execution_count": 84,
      "outputs": [
        {
          "output_type": "stream",
          "text": [
            "3 32100\n",
            "2 32150\n",
            "1 32000\n",
            "0 32500\n"
          ],
          "name": "stdout"
        }
      ]
    },
    {
      "cell_type": "code",
      "metadata": {
        "colab": {
          "base_uri": "https://localhost:8080/"
        },
        "id": "YFqUabj_moo9",
        "outputId": "e072e1d7-5fc9-46b3-dbb0-d3cd741ab584"
      },
      "source": [
        "# 174\r\n",
        "# 아래와 같이 리스트의 데이터를 출력하라. 단, for문과 range문을 사용하라.\r\n",
        "\r\n",
        "price_list = [32100, 32150, 32000, 32500]\r\n",
        "# 100 32150\r\n",
        "# 110 32000\r\n",
        "# 120 32500\r\n",
        "\r\n",
        "for i,data in enumerate(price_list[1:],10):\r\n",
        "  print(f\"{i*10}\",data)"
      ],
      "execution_count": 88,
      "outputs": [
        {
          "output_type": "stream",
          "text": [
            "100 32150\n",
            "110 32000\n",
            "120 32500\n"
          ],
          "name": "stdout"
        }
      ]
    },
    {
      "cell_type": "code",
      "metadata": {
        "colab": {
          "base_uri": "https://localhost:8080/"
        },
        "id": "PjfgcP4hnTP1",
        "outputId": "eba73a10-2317-450b-acf5-39ac16a70328"
      },
      "source": [
        "#@title 뭔가 더 생각을 깔끔하게 해야 해\n",
        "# 175\n",
        "# my_list를 아래와 같이 출력하라.\n",
        "\n",
        "my_list = [\"가\", \"나\", \"다\", \"라\"]\n",
        "# 가 나\n",
        "# 나 다\n",
        "# 다 라\n",
        "\n",
        "for i,a in enumerate(my_list):\n",
        "  if i <=2 :\n",
        "    print(my_list[i] , my_list[i+1])\n",
        "\n",
        "\n",
        "for i in range( 1, len(my_list) ) :\n",
        "  print(my_list[i-1], my_list[i])    "
      ],
      "execution_count": 96,
      "outputs": [
        {
          "output_type": "stream",
          "text": [
            "가 나\n",
            "나 다\n",
            "다 라\n",
            "가 나\n",
            "나 다\n",
            "다 라\n"
          ],
          "name": "stdout"
        }
      ]
    },
    {
      "cell_type": "code",
      "metadata": {
        "colab": {
          "base_uri": "https://localhost:8080/"
        },
        "id": "CCrAYYyGoCDF",
        "outputId": "a583d0e0-44c1-4c76-9ddc-11f48385b1c4"
      },
      "source": [
        "# 176\r\n",
        "# 리스트를 아래와 같이 출력하라.\r\n",
        "\r\n",
        "my_list = [\"가\", \"나\", \"다\", \"라\", \"마\"]\r\n",
        "\r\n",
        "for i in range( 2, len(my_list) ) :\r\n",
        "  print(my_list[i-2],my_list[i-1], my_list[i]) "
      ],
      "execution_count": 98,
      "outputs": [
        {
          "output_type": "stream",
          "text": [
            "가 나 다\n",
            "나 다 라\n",
            "다 라 마\n"
          ],
          "name": "stdout"
        }
      ]
    },
    {
      "cell_type": "code",
      "metadata": {
        "colab": {
          "base_uri": "https://localhost:8080/"
        },
        "id": "SPUEMLNis1f3",
        "outputId": "81c2e5e6-b432-4cb5-d875-08f158f635ea"
      },
      "source": [
        "# 177\r\n",
        "# 반복문과 range 함수를 사용해서 my_list를 아래와 같이 출력하라.\r\n",
        "\r\n",
        "my_list = [\"가\", \"나\", \"다\", \"라\"]\r\n",
        "\r\n",
        "for i in range(1,len(my_list)) :\r\n",
        "  print(my_list[-i],my_list[-i-1]) "
      ],
      "execution_count": 106,
      "outputs": [
        {
          "output_type": "stream",
          "text": [
            "라 다\n",
            "다 나\n",
            "나 가\n"
          ],
          "name": "stdout"
        }
      ]
    },
    {
      "cell_type": "code",
      "metadata": {
        "colab": {
          "base_uri": "https://localhost:8080/"
        },
        "id": "UCKANUkwtPCF",
        "outputId": "dfe4fd46-d691-41e0-ce87-b9a48e2032f3"
      },
      "source": [
        "# 178\r\n",
        "# 리스트에는 네 개의 정수가 저장되어 있다. 각각의 데이터에 대해서 자신과 우측값과의 차분값을 화면에 출력하라.\r\n",
        "\r\n",
        "my_list = [100, 200, 400, 800]\r\n",
        "# 예를들어 100을 기준으로 우측에 위치한 200과의 차분 값를 화면에 출력하고, 200을 기준으로 우측에 위치한 400과의 차분값을 화면에 출력한다. 이어서 400을 기준으로 우측에 위치한 800과의 차분값을 화면에 출력한다.\r\n",
        "\r\n",
        "200- 100\r\n",
        "400- 200\r\n",
        "800 - 400\r\n",
        "\r\n",
        "for a in range(1,len(my_list)):\r\n",
        "  print(my_list[a] - my_list[a-1])"
      ],
      "execution_count": 116,
      "outputs": [
        {
          "output_type": "stream",
          "text": [
            "100\n",
            "200\n",
            "400\n"
          ],
          "name": "stdout"
        }
      ]
    },
    {
      "cell_type": "code",
      "metadata": {
        "colab": {
          "base_uri": "https://localhost:8080/"
        },
        "id": "rMCfQBBouRV-",
        "outputId": "40f5678c-0435-4d8d-99bd-37a1d1915203"
      },
      "source": [
        "# 179\r\n",
        "# 리스트에는 6일 간의 종가 데이터가 저장되어 있다. 종가 데이터의 3일 이동 평균을 계산하고 이를 화면에 출력하라.\r\n",
        "\r\n",
        "my_list = [100, 200, 400, 800, 1000, 1300]\r\n",
        "# 첫 번째 줄에는 100, 200, 400의 평균값이 출력된다. 두 번째 줄에는 200, 400, 800의 평균값이 출력된다. 같은 방식으로 나머지 데이터의 평균을 출력한다.\r\n",
        "\r\n",
        "for a in range(2,len(my_list)):\r\n",
        "  #print(my_list[a-2],my_list[a-1],my_list[a])\r\n",
        "  print((my_list[a-2]+my_list[a-1]+my_list[a])/3)"
      ],
      "execution_count": 121,
      "outputs": [
        {
          "output_type": "stream",
          "text": [
            "233.33333333333334\n",
            "466.6666666666667\n",
            "733.3333333333334\n",
            "1033.3333333333333\n"
          ],
          "name": "stdout"
        }
      ]
    },
    {
      "cell_type": "code",
      "metadata": {
        "colab": {
          "base_uri": "https://localhost:8080/"
        },
        "id": "h8Bx5mRDu-LM",
        "outputId": "86143215-e053-4a12-97fe-9e7e961c41d4"
      },
      "source": [
        "# 180\r\n",
        "# 리스트에 5일간의 저가, 고가 정보가 저장돼 있다. 고가와 저가의 차를 변동폭이라고 정의할 때, low, high 두 개의 리스트를 사용해서 5일간의 변동폭을 volatility 리스트에 저장하라.\r\n",
        "\r\n",
        "low_prices  = [100, 200, 400, 800, 1000]\r\n",
        "high_prices = [150, 300, 430, 880, 1000]\r\n",
        "\r\n",
        "# 변동폭 - 고가 - 저가\r\n",
        "volatility = []\r\n",
        "\r\n",
        "for a in range(len(low_prices)):\r\n",
        "  변동폭 = high_prices[a] - low_prices[a]\r\n",
        "  volatility.append(변동폭)\r\n",
        "print(volatility)  "
      ],
      "execution_count": 123,
      "outputs": [
        {
          "output_type": "stream",
          "text": [
            "[50, 100, 30, 80, 0]\n"
          ],
          "name": "stdout"
        }
      ]
    },
    {
      "cell_type": "code",
      "metadata": {
        "colab": {
          "base_uri": "https://localhost:8080/"
        },
        "id": "MmvB_xLDvrum",
        "outputId": "3809e320-f1c0-49b6-e552-13cd70cd42ca"
      },
      "source": [
        "low_prices  = [100, 200, 400, 800, 1000]\r\n",
        "high_prices = [150, 300, 430, 880, 1000]\r\n",
        "volatility = []\r\n",
        "for i in range(len(low_prices)) :\r\n",
        "    volatility.append(high_prices[i] - low_prices[i])\r\n",
        "\r\n",
        "print(volatility)"
      ],
      "execution_count": 125,
      "outputs": [
        {
          "output_type": "stream",
          "text": [
            "[50, 100, 30, 80, 0]\n"
          ],
          "name": "stdout"
        }
      ]
    },
    {
      "cell_type": "code",
      "metadata": {
        "id": "qUo5MAsuvxEO"
      },
      "source": [
        "# 181\r\n",
        "# 아래 표에서 하나의 행을 하나의 리스트로, 총 3개의 리스트를 갖는 이차원 리스트 apart를 정의하라.\r\n",
        "\r\n",
        "apart = [[\"101호\",\"102호\"],[\"201호\",\"202호\"],[\"201호\",\"202호\"]]"
      ],
      "execution_count": 127,
      "outputs": []
    },
    {
      "cell_type": "code",
      "metadata": {
        "id": "St2dGfTLw0xd"
      },
      "source": [
        "#182\r\n",
        "# 아래 표에서 하나의 열을 하나의 리스트로, 총 2개의 리스트를 갖는 이차원 리스트 stock을 정의하라.\r\n",
        "\r\n",
        "# 시가\t종가\r\n",
        "# 100\t80\r\n",
        "# 200\t210\r\n",
        "# 300\t330\r\n",
        "stock = [ [\"시가\", 100, 200, 300], [\"종가\", 80, 210, 330] ]"
      ],
      "execution_count": 128,
      "outputs": []
    },
    {
      "cell_type": "code",
      "metadata": {
        "id": "yk_l11LUw6hd"
      },
      "source": [
        "# 183\r\n",
        "# 아래 표를 stock 이름의 딕셔너리로 표현하라.시가를 key로 저장하고, 나머지 같은 열의 데이터를 리스트로 저장해서 value로 저장한다. 종가 역시 key로 저장하고 나머지 같은 열의 데이터를 리스트로 저장해서 value로 저장한다.\r\n",
        "\r\n",
        "# 시가\t종가\r\n",
        "# 100\t80\r\n",
        "# 200\t210\r\n",
        "# 300\t330\r\n",
        "\r\n",
        "stock={\"시가\":[100,200,300], \"종가\":[80,210,330]}"
      ],
      "execution_count": 133,
      "outputs": []
    },
    {
      "cell_type": "code",
      "metadata": {
        "id": "vvuNhQhdxL6u"
      },
      "source": [
        "# 184\r\n",
        "# 아래 표를 stock 이라는 이름의 딕셔너리로 표현하라. 날짜를 key로 저장하고, \r\n",
        "# 나머지 같은 행의 데이터를 리스트로 저장해서 value로 저장한다. 첫 열이 날짜이다.\r\n",
        "\r\n",
        "# 10/10\t80\t110\t70\t90\r\n",
        "# 10/11\t210\t230\t190\t200\r\n",
        "stock = {\"10/10\": [80, 110, 70, 90], \"10/11\": [210, 230, 190, 200] }"
      ],
      "execution_count": 132,
      "outputs": []
    },
    {
      "cell_type": "code",
      "metadata": {
        "colab": {
          "base_uri": "https://localhost:8080/"
        },
        "id": "n4hOCoCo4VBG",
        "outputId": "83072224-02f5-40bf-d11a-2bedcd22fa1c"
      },
      "source": [
        "# 185\r\n",
        "# 리스트에 저장된 데이터를 아래와 같이 출력하라.\r\n",
        "\r\n",
        "apart = [ [101, 102], [201, 202], [301, 302] ]\r\n",
        "# 101 호\r\n",
        "# 102 호\r\n",
        "# 201 호\r\n",
        "# 202 호\r\n",
        "# 301 호\r\n",
        "# 302 호\r\n",
        "\r\n",
        "for a in  apart:\r\n",
        "  for b in a:\r\n",
        "    print(b,\"호\")"
      ],
      "execution_count": 138,
      "outputs": [
        {
          "output_type": "stream",
          "text": [
            "101 호\n",
            "102 호\n",
            "201 호\n",
            "202 호\n",
            "301 호\n",
            "302 호\n"
          ],
          "name": "stdout"
        }
      ]
    },
    {
      "cell_type": "code",
      "metadata": {
        "colab": {
          "base_uri": "https://localhost:8080/"
        },
        "id": "T2YFW8gK5HQG",
        "outputId": "b0987780-d37b-4973-c660-4ac8fb159d9a"
      },
      "source": [
        "#@title 이건 모르겠어;\n",
        "#186\n",
        "apart = [ [101, 102], [201, 202], [301, 302] ]\n",
        "\n",
        "\n",
        "for a in apart[::-1]:\n",
        "  for b in a:\n",
        "    print(b,\"호\")"
      ],
      "execution_count": 141,
      "outputs": [
        {
          "output_type": "stream",
          "text": [
            "301 호\n",
            "302 호\n",
            "201 호\n",
            "202 호\n",
            "101 호\n",
            "102 호\n"
          ],
          "name": "stdout"
        }
      ]
    },
    {
      "cell_type": "code",
      "metadata": {
        "colab": {
          "base_uri": "https://localhost:8080/"
        },
        "id": "2DQusl-O5oBP",
        "outputId": "968bc8d1-ce14-4b10-b493-e7fbe2df8a2b"
      },
      "source": [
        "#187\r\n",
        "apart = [ [101, 102], [201, 202], [301, 302] ]\r\n",
        "\r\n",
        "\r\n",
        "for a in apart[::-1]:\r\n",
        "  for b in a[::-1]:\r\n",
        "    print(b,\"호\")"
      ],
      "execution_count": 142,
      "outputs": [
        {
          "output_type": "stream",
          "text": [
            "302 호\n",
            "301 호\n",
            "202 호\n",
            "201 호\n",
            "102 호\n",
            "101 호\n"
          ],
          "name": "stdout"
        }
      ]
    },
    {
      "cell_type": "code",
      "metadata": {
        "colab": {
          "base_uri": "https://localhost:8080/"
        },
        "id": "p5doVS-K6Cke",
        "outputId": "f059aa4a-3326-49f9-9f19-d0f5b003d72d"
      },
      "source": [
        "# 188\r\n",
        "# 리스트에 저장된 데이터를 아래와 같이 출력하라.\r\n",
        "\r\n",
        "apart = [ [101, 102], [201, 202], [301, 302] ]\r\n",
        "# 101 호\r\n",
        "# 102 호\r\n",
        "# 201 호\r\n",
        "# 202 호\r\n",
        "# 301 호\r\n",
        "# 302 호\r\n",
        "\r\n",
        "for a in  apart:\r\n",
        "  for b in a:\r\n",
        "    print(b,\"호\")\r\n",
        "    print(\"-\"*6)"
      ],
      "execution_count": 143,
      "outputs": [
        {
          "output_type": "stream",
          "text": [
            "101 호\n",
            "------\n",
            "102 호\n",
            "------\n",
            "201 호\n",
            "------\n",
            "202 호\n",
            "------\n",
            "301 호\n",
            "------\n",
            "302 호\n",
            "------\n"
          ],
          "name": "stdout"
        }
      ]
    },
    {
      "cell_type": "code",
      "metadata": {
        "colab": {
          "base_uri": "https://localhost:8080/"
        },
        "id": "IGMNmB1Y6mnG",
        "outputId": "8386c79b-a613-4515-e2c8-6747ee11fc0c"
      },
      "source": [
        "# 189\r\n",
        "# 리스트에 저장된 데이터를 아래와 같이 출력하라.\r\n",
        "\r\n",
        "apart = [ [101, 102], [201, 202], [301, 302] ]\r\n",
        "\r\n",
        "for a in  apart:\r\n",
        "  for b in a:\r\n",
        "    print(b,\"호\")\r\n",
        "  print(\"-\"*6)  "
      ],
      "execution_count": 145,
      "outputs": [
        {
          "output_type": "stream",
          "text": [
            "101 호\n",
            "102 호\n",
            "------\n",
            "201 호\n",
            "202 호\n",
            "------\n",
            "301 호\n",
            "302 호\n",
            "------\n"
          ],
          "name": "stdout"
        }
      ]
    },
    {
      "cell_type": "code",
      "metadata": {
        "colab": {
          "base_uri": "https://localhost:8080/"
        },
        "id": "CIort23Q6r4G",
        "outputId": "70b44a50-c6d1-4aac-b68d-1567023bd27b"
      },
      "source": [
        "#190\r\n",
        "apart = [ [101, 102], [201, 202], [301, 302] ]\r\n",
        "\r\n",
        "for a in  apart:\r\n",
        "  for b in a:\r\n",
        "    print(b,\"호\")\r\n",
        "print(\"-\"*6)    "
      ],
      "execution_count": 146,
      "outputs": [
        {
          "output_type": "stream",
          "text": [
            "101 호\n",
            "102 호\n",
            "201 호\n",
            "202 호\n",
            "301 호\n",
            "302 호\n",
            "------\n"
          ],
          "name": "stdout"
        }
      ]
    },
    {
      "cell_type": "code",
      "metadata": {
        "colab": {
          "base_uri": "https://localhost:8080/"
        },
        "id": "no7uSjvL6yI2",
        "outputId": "c150af30-a4ca-4b8d-fa37-4aaccda439d9"
      },
      "source": [
        "#191\r\n",
        "# data에는 매수한 종목들의 OHLC (open/high/low/close) 가격 정보가 바인딩 되어있다.\r\n",
        "\r\n",
        "data = [\r\n",
        "    [ 2000,  3050,  2050,  1980],\r\n",
        "    [ 7500,  2050,  2050,  1980],\r\n",
        "    [15450, 15050, 15550, 14900]\r\n",
        "]\r\n",
        "\r\n",
        "for a in  data:\r\n",
        "  for b in a:\r\n",
        "    print(b*1.00014)"
      ],
      "execution_count": 153,
      "outputs": [
        {
          "output_type": "stream",
          "text": [
            "2000.28\n",
            "3050.427\n",
            "2050.2870000000003\n",
            "1980.2772\n",
            "7501.05\n",
            "2050.2870000000003\n",
            "2050.2870000000003\n",
            "1980.2772\n",
            "15452.163\n",
            "15052.107\n",
            "15552.177\n",
            "14902.086000000001\n"
          ],
          "name": "stdout"
        }
      ]
    },
    {
      "cell_type": "code",
      "metadata": {
        "colab": {
          "base_uri": "https://localhost:8080/"
        },
        "id": "GvizA67k6_dG",
        "outputId": "f26562a4-5638-4ecd-93df-39ec18d31f61"
      },
      "source": [
        "#192\r\n",
        "for a in  data:\r\n",
        "  for b in a:\r\n",
        "    print(b*1.00014)\r\n",
        "  print('*'*5)  "
      ],
      "execution_count": 155,
      "outputs": [
        {
          "output_type": "stream",
          "text": [
            "2000.28\n",
            "3050.427\n",
            "2050.2870000000003\n",
            "1980.2772\n",
            "*****\n",
            "7501.05\n",
            "2050.2870000000003\n",
            "2050.2870000000003\n",
            "1980.2772\n",
            "*****\n",
            "15452.163\n",
            "15052.107\n",
            "15552.177\n",
            "14902.086000000001\n",
            "*****\n"
          ],
          "name": "stdout"
        }
      ]
    },
    {
      "cell_type": "code",
      "metadata": {
        "colab": {
          "base_uri": "https://localhost:8080/"
        },
        "id": "Y7DEYpJJ7Tge",
        "outputId": "056bfe1f-909e-4813-c4fe-f5cf59d93632"
      },
      "source": [
        "# 193\r\n",
        "# 192 번 문제의 결괏값을 result 이름의 리스트에 1차원 배열로 저장하라.\r\n",
        "result =[]\r\n",
        "for a in  data:\r\n",
        "  for b in a:\r\n",
        "    result.append(b*1.00014)\r\n",
        "\r\n",
        "print(result)  "
      ],
      "execution_count": 158,
      "outputs": [
        {
          "output_type": "stream",
          "text": [
            "[2000.28, 3050.427, 2050.2870000000003, 1980.2772, 7501.05, 2050.2870000000003, 2050.2870000000003, 1980.2772, 15452.163, 15052.107, 15552.177, 14902.086000000001]\n"
          ],
          "name": "stdout"
        }
      ]
    },
    {
      "cell_type": "code",
      "metadata": {
        "colab": {
          "base_uri": "https://localhost:8080/"
        },
        "id": "PFh9xYQN7lfv",
        "outputId": "327c1b54-0fe2-4fbe-92cd-23d081dfe043"
      },
      "source": [
        "#@title sub 리스트 선언위치 조심할것!\n",
        "# 194\n",
        "# 191번 문제의 결괏값을 result 이름의 리스트에 2차원 배열로 저장하라. \n",
        "# 저장 포맷은 아래와 같다. 각 행에 대한 데이터끼리 리스트에 저장되어야 한다.\n",
        "\n",
        "result =[]\n",
        "for a in  data:\n",
        "  resulta =[]\n",
        "  for b in a:\n",
        "    resulta.append(b*1.00014)\n",
        "  result.append(resulta)\n",
        "print(result)  "
      ],
      "execution_count": 162,
      "outputs": [
        {
          "output_type": "stream",
          "text": [
            "[[2000.28, 3050.427, 2050.2870000000003, 1980.2772], [7501.05, 2050.2870000000003, 2050.2870000000003, 1980.2772], [15452.163, 15052.107, 15552.177, 14902.086000000001]]\n"
          ],
          "name": "stdout"
        }
      ]
    },
    {
      "cell_type": "code",
      "metadata": {
        "colab": {
          "base_uri": "https://localhost:8080/"
        },
        "id": "bC-xVRc48KtG",
        "outputId": "ba766087-6368-42fc-cb9d-9e923efedb3a"
      },
      "source": [
        "result = []\r\n",
        "for line in data:\r\n",
        "    sub = []\r\n",
        "    for column in line:\r\n",
        "        sub.append(column * 1.00014)\r\n",
        "    result.append(sub)\r\n",
        "print(result)"
      ],
      "execution_count": 163,
      "outputs": [
        {
          "output_type": "stream",
          "text": [
            "[[2000.28, 3050.427, 2050.2870000000003, 1980.2772], [7501.05, 2050.2870000000003, 2050.2870000000003, 1980.2772], [15452.163, 15052.107, 15552.177, 14902.086000000001]]\n"
          ],
          "name": "stdout"
        }
      ]
    },
    {
      "cell_type": "code",
      "metadata": {
        "colab": {
          "base_uri": "https://localhost:8080/"
        },
        "id": "SQlt-1EJ8mmn",
        "outputId": "c8d972bc-c0aa-4968-ddf4-530b7d0c5426"
      },
      "source": [
        "# 195\r\n",
        "# data 리스트에는 시가(open), 고가 (high), 저가 (low) , 종가(close)가 날짜별로 저장돼 있다. \r\n",
        "#화면에 종가데이터를 출력하라.\r\n",
        "\r\n",
        "data = [[\"open\", \"high\", \"low\", \"close\"],\r\n",
        "        [100, 110, 70, 100],\r\n",
        "        [200, 210, 180, 190],\r\n",
        "        [300, 310, 300, 310]]\r\n",
        "\r\n",
        "\r\n",
        "for a in data[1:]:\r\n",
        "  print(\"a\",a)\r\n",
        "  print(a[-1])\r\n"
      ],
      "execution_count": 170,
      "outputs": [
        {
          "output_type": "stream",
          "text": [
            "a [100, 110, 70, 100]\n",
            "100\n",
            "a [200, 210, 180, 190]\n",
            "190\n",
            "a [300, 310, 300, 310]\n",
            "310\n"
          ],
          "name": "stdout"
        }
      ]
    },
    {
      "cell_type": "code",
      "metadata": {
        "colab": {
          "base_uri": "https://localhost:8080/"
        },
        "id": "l4JMmqMx9RlJ",
        "outputId": "6e92338b-b766-40de-a8b3-20c6a730adea"
      },
      "source": [
        "# 196\r\n",
        "# ohlc 리스트에는 시가(open), 고가 (high), 저가 (low) , 종가(close)가 날짜별로 저장돼 있다. \r\n",
        "# 종가가 150원보다 큰경우에만 종가를 출력하라.\r\n",
        "\r\n",
        "ohlc = [[\"open\", \"high\", \"low\", \"close\"],\r\n",
        "        [100, 110, 70, 100],\r\n",
        "        [200, 210, 180, 190],\r\n",
        "        [300, 310, 300, 310]]\r\n",
        "\r\n",
        "for a in ohlc[1:]:\r\n",
        "  if a[-1] > 150:\r\n",
        "    print(\"a\",a[-1])\r\n",
        "  "
      ],
      "execution_count": 172,
      "outputs": [
        {
          "output_type": "stream",
          "text": [
            "a 190\n",
            "a 310\n"
          ],
          "name": "stdout"
        }
      ]
    },
    {
      "cell_type": "code",
      "metadata": {
        "colab": {
          "base_uri": "https://localhost:8080/"
        },
        "id": "u0SQR88X9-lg",
        "outputId": "92e9f51d-64b6-4f46-95b9-6148dd6d6865"
      },
      "source": [
        "# 197\r\n",
        "# ohlc 리스트에는 시가(open), 고가 (high), 저가 (low) , 종가(close)가 날짜별로 저장돼 있다. \r\n",
        "#종가가 시가 보다 크거나 같은 경우에만 종가를 출력하라.\r\n",
        "\r\n",
        "ohlc = [[\"open\", \"high\", \"low\", \"close\"],\r\n",
        "        [100, 110, 70, 100],\r\n",
        "        [200, 210, 180, 190],\r\n",
        "        [300, 310, 300, 310]]\r\n",
        "\r\n",
        "\r\n",
        "for a in ohlc[1:]:\r\n",
        "  if a[-1] >= a[0]:\r\n",
        "    print(a[-1])"
      ],
      "execution_count": 174,
      "outputs": [
        {
          "output_type": "stream",
          "text": [
            "100\n",
            "310\n"
          ],
          "name": "stdout"
        }
      ]
    },
    {
      "cell_type": "code",
      "metadata": {
        "colab": {
          "base_uri": "https://localhost:8080/"
        },
        "id": "lWLS8_xb-KMP",
        "outputId": "9ebb93bf-8dcf-4c27-e229-5a6d8a01e67b"
      },
      "source": [
        "# 198\r\n",
        "# ohlc 리스트에는 시가(open), 고가 (high), 저가 (low) , 종가(close)가 날짜별로 저장돼 있다. 고가와 저가의 차이를 변동폭으로 정의할 때 변동폭을 volatility 이름의 리스트에 저장하라.\r\n",
        "\r\n"
      ],
      "execution_count": 176,
      "outputs": [
        {
          "output_type": "stream",
          "text": [
            "[40, 30, 10]\n"
          ],
          "name": "stdout"
        }
      ]
    },
    {
      "cell_type": "code",
      "metadata": {
        "colab": {
          "base_uri": "https://localhost:8080/"
        },
        "id": "nKJyLS31-TfY",
        "outputId": "98158b58-f971-4dbc-9c27-4dbc89a80676"
      },
      "source": [
        "volatility = []\r\n",
        "for row in ohlc[1:]:\r\n",
        "    volatility.append(row[1]-row[2])\r\n",
        "\r\n",
        "volatility = []\r\n",
        "for i in range(1, len(ohlc)):\r\n",
        "    volatility.append(ohlc[i][1]-ohlc[i][2])\r\n",
        "print(volatility)"
      ],
      "execution_count": 177,
      "outputs": [
        {
          "output_type": "stream",
          "text": [
            "[40, 30, 10]\n"
          ],
          "name": "stdout"
        }
      ]
    },
    {
      "cell_type": "code",
      "metadata": {
        "colab": {
          "base_uri": "https://localhost:8080/"
        },
        "id": "oxrKSwgw-yy-",
        "outputId": "c100b83a-6bfd-463d-d6ca-7e33d67eb463"
      },
      "source": [
        "# 199\r\n",
        "# 리스트에는 3일 간의 ohlc 데이터가 저장돼 있다. 종가가 시가보다 높은 날의 변동성 (고가 - 저가)을 화면에 출력하라.\r\n",
        "\r\n",
        "ohlc = [[\"open\", \"high\", \"low\", \"close\"],\r\n",
        "        [100, 110, 70, 100],\r\n",
        "        [200, 210, 180, 190],\r\n",
        "        [300, 310, 300, 310]]\r\n",
        "\r\n",
        "\r\n",
        "# 종가가 시가보다 높은 거래일의 OHLC는 [300, 310, 300, 310] 이다. 따라서 이 거래일의 변동성은 10 (310 - 300)이다.\r\n",
        "\r\n",
        "\r\n",
        "for row in ohlc[1:]:\r\n",
        "    if row[3] > row[0]:\r\n",
        "        print(row[1]-row[2])"
      ],
      "execution_count": 180,
      "outputs": [
        {
          "output_type": "stream",
          "text": [
            "10\n"
          ],
          "name": "stdout"
        }
      ]
    },
    {
      "cell_type": "code",
      "metadata": {
        "id": "cLIkptE9-4rn"
      },
      "source": [
        "# 200\r\n",
        "# 리스트에는 3일 간의 ohlc 데이터가 저장돼 있다. 시가에 매수해서 종가에 매도 했을 경우 총 수익금을 계산하라.\r\n",
        "\r\n",
        "\r\n",
        "profit = 0\r\n",
        "for row in ohlc[1:]:\r\n",
        "    profit += (row[3] - row[0])"
      ],
      "execution_count": 181,
      "outputs": []
    },
    {
      "cell_type": "code",
      "metadata": {
        "id": "1AL2fL6h_Hiu"
      },
      "source": [
        "#200번까지 완료!"
      ],
      "execution_count": 182,
      "outputs": []
    },
    {
      "cell_type": "code",
      "metadata": {
        "id": "DVSuIlEq_PFu"
      },
      "source": [
        ""
      ],
      "execution_count": null,
      "outputs": []
    }
  ]
}