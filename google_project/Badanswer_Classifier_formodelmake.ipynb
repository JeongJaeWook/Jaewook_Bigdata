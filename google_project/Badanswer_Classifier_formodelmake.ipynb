{
  "nbformat": 4,
  "nbformat_minor": 0,
  "metadata": {
    "_change_revision": 260,
    "_is_fork": false,
    "accelerator": "GPU",
    "colab": {
      "name": "불량응답 분류모델.ipynb",
      "provenance": [],
      "collapsed_sections": []
    },
    "kernelspec": {
      "display_name": "Python 3",
      "language": "python",
      "name": "python3"
    },
    "language_info": {
      "codemirror_mode": {
        "name": "ipython",
        "version": 3
      },
      "file_extension": ".py",
      "mimetype": "text/x-python",
      "name": "python",
      "nbconvert_exporter": "python",
      "pygments_lexer": "ipython3",
      "version": "3.6.6-final"
    }
  },
  "cells": [
    {
      "cell_type": "code",
      "metadata": {
        "_cell_guid": "e6094c6e-9777-c7be-bd57-fe431519ad20",
        "id": "oft4In7A-ZD5"
      },
      "source": [
        "import numpy as np\n",
        "import pandas as pd\n",
        "import matplotlib as mpl\n",
        "import matplotlib.pyplot as plt\n",
        "import seaborn as sns\n",
        "import string\n",
        "from sklearn.feature_extraction.text import TfidfVectorizer\n",
        "from sklearn.model_selection import train_test_split\n",
        "from nltk.stem import SnowballStemmer\n",
        "from nltk.corpus import stopwords\n",
        "from sklearn.ensemble import AdaBoostClassifier\n",
        "from sklearn.metrics import accuracy_score\n",
        "import joblib\n",
        "import warnings\n",
        "warnings.filterwarnings('ignore')\n",
        "from sklearn.feature_extraction.text import CountVectorizer\n",
        "%matplotlib inline\n",
        "\n",
        "#처음 다운로드할때만\n",
        "import nltk\n",
        "nltk.download('stopwords')"
      ],
      "execution_count": 14,
      "outputs": [
        {
          "output_type": "stream",
          "name": "stdout",
          "text": [
            "[nltk_data] Downloading package stopwords to\n[nltk_data]     C:\\Users\\jaewook\\AppData\\Roaming\\nltk_data...\n[nltk_data]   Package stopwords is already up-to-date!\n"
          ]
        },
        {
          "output_type": "execute_result",
          "data": {
            "text/plain": [
              "True"
            ]
          },
          "metadata": {},
          "execution_count": 14
        }
      ]
    },
    {
      "cell_type": "code",
      "metadata": {
        "_cell_guid": "94a28c87-ff0a-8302-05bd-404df2873761",
        "id": "YBy5eTBJ-ZD9",
        "colab": {
          "base_uri": "https://localhost:8080/",
          "height": 204
        },
        "outputId": "2ff07110-911a-44da-867e-eba79e80b025"
      },
      "source": [
        "#데이터 합치기 # 2개 일때\n",
        "ex1 = pd.read_excel('data/2019 google BAD sample(1-12).xlsx',sheet_name=0,usecols='B,C')\n",
        "ex1.columns = ['label','C1']\n",
        "\n",
        "ex2 = pd.read_excel('data/2020 google BAD sample(1-9).xlsm',sheet_name=0,usecols='B,C')\n",
        "ex2.columns = ['label','C1']\n",
        "\n",
        "df = pd.concat([ex1,ex2],axis=0)#밑으로 합치기\n",
        "\n"
      ],
      "execution_count": 15,
      "outputs": []
    },
    {
      "cell_type": "code",
      "execution_count": 16,
      "metadata": {},
      "outputs": [],
      "source": [
        "#데이터 합치기 # 1개 일때\n",
        "# df = pd.read_excel('data/money.xlsx',sheet_name=0,usecols='B,C')\n",
        "# df.columns = ['label','C1']"
      ]
    },
    {
      "cell_type": "code",
      "execution_count": 17,
      "metadata": {},
      "outputs": [],
      "source": [
        "#데이터 전처리\n",
        "df['C1'] = df['C1'].apply(str)\n",
        "text_feat = df['C1'].copy()\n",
        "target = df['label'].copy()"
      ]
    },
    {
      "cell_type": "code",
      "execution_count": 18,
      "metadata": {},
      "outputs": [],
      "source": [
        "def text_process(text):\n",
        "    \n",
        "    text = text.translate(str.maketrans('', '', string.punctuation))\n",
        "    text = [word for word in text.split() if word.lower() not in stopwords.words()]\n",
        "    \n",
        "    return \" \".join(text)"
      ]
    },
    {
      "cell_type": "code",
      "execution_count": 19,
      "metadata": {},
      "outputs": [],
      "source": [
        "text_feat = text_feat.apply(text_process)"
      ]
    },
    {
      "cell_type": "code",
      "metadata": {
        "_cell_guid": "a4767634-1a31-ac41-bf62-34c66bfda0b1",
        "id": "QUCL4fAx-ZEp"
      },
      "source": [
        "#데이터 학습 & 모델 생성\n",
        "\n",
        "vectorizer2 = CountVectorizer(min_df=1)\n",
        "features2 = vectorizer2.fit_transform(text_feat)\n",
        "joblib.dump(vectorizer2, './CountVector.pkl')\n",
        "features_train, features_test, labels_train, labels_test = train_test_split(features2, target, test_size=0.3, random_state=111)\n",
        "model = AdaBoostClassifier(n_estimators=100, random_state=0)\n",
        "model.fit(features_train,labels_train)"
      ],
      "execution_count": 20,
      "outputs": [
        {
          "output_type": "execute_result",
          "data": {
            "text/plain": [
              "AdaBoostClassifier(algorithm='SAMME.R', base_estimator=None,\n",
              "          learning_rate=1.0, n_estimators=100, random_state=0)"
            ]
          },
          "metadata": {},
          "execution_count": 20
        }
      ]
    },
    {
      "cell_type": "code",
      "execution_count": 21,
      "metadata": {},
      "outputs": [
        {
          "output_type": "execute_result",
          "data": {
            "text/plain": [
              "0.9922241681260946"
            ]
          },
          "metadata": {},
          "execution_count": 21
        }
      ],
      "source": [
        "model.predict(features_test)\n",
        "model.score(features_test,labels_test)"
      ]
    },
    {
      "cell_type": "code",
      "execution_count": 22,
      "metadata": {},
      "outputs": [
        {
          "output_type": "execute_result",
          "data": {
            "text/plain": [
              "['./google_base_model.pkl']"
            ]
          },
          "metadata": {},
          "execution_count": 22
        }
      ],
      "source": [
        "#모델 파일로 저장\n",
        "joblib.dump(model, './google_base_model.pkl')"
      ]
    },
    {
      "cell_type": "code",
      "execution_count": null,
      "metadata": {},
      "outputs": [],
      "source": []
    }
  ]
}