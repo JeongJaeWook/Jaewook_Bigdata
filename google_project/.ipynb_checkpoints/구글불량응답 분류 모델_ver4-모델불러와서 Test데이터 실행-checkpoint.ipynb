{
 "cells": [
  {
   "cell_type": "markdown",
   "metadata": {},
   "source": [
    "# 데이터 불러오기 및 탐색"
   ]
  },
  {
   "cell_type": "code",
   "execution_count": 1,
   "metadata": {},
   "outputs": [],
   "source": [
    "import numpy as np\n",
    "import pandas as pd\n",
    "import string\n",
    "\n",
    "#전처리 및 데이터 split\n",
    "import re\n",
    "from sklearn.feature_extraction.text import TfidfVectorizer\n",
    "from sklearn.model_selection import train_test_split\n",
    "\n",
    "import warnings\n",
    "warnings.filterwarnings(\"ignore\")"
   ]
  },
  {
   "cell_type": "code",
   "execution_count": 2,
   "metadata": {},
   "outputs": [],
   "source": [
    "#모델 불러오기\n",
    "import pickle\n",
    "import joblib\n",
    "\n",
    "with open('TVectorizer.pkl', 'rb') as file:  \n",
    "    vectorizer= pickle.load(file)\n",
    "with open('model_google.pkl', 'rb') as file:  \n",
    "    loaded_model1= pickle.load(file)"
   ]
  },
  {
   "cell_type": "code",
   "execution_count": 3,
   "metadata": {},
   "outputs": [],
   "source": [
    "df_test = pd.read_excel('data/testdata_google_2011_11.xlsm',usecols='B,C')"
   ]
  },
  {
   "cell_type": "markdown",
   "metadata": {},
   "source": [
    "# 전처리\n",
    "클리닝 -> 함수화\n",
    "\n",
    "**모름, 기억나지않음 등과 같은 경우는 어떤 경우엔 정상 샘플로 넘기기 때문에 label을 3으로 표시**"
   ]
  },
  {
   "cell_type": "code",
   "execution_count": 4,
   "metadata": {},
   "outputs": [],
   "source": [
    "#클리닝 함수\n",
    "def cleanText(text):\n",
    "    repl =''\n",
    "       \n",
    "    if text.isdecimal() : #숫자로만 구성되어 있을 때 공백 치환\n",
    "        text = ''\n",
    "    \n",
    "    text = text.lower() #영어일경우 소문자로 변경\n",
    "    text = text.strip().replace('\\\\','')# 기호 치환\n",
    "    \n",
    "    pattern = '([ㄱ-ㅎㅏ-ㅣ]+)' # 자음, 모음 제거\n",
    "    text = re.sub(pattern= pattern, repl=repl, string=text)\n",
    "          \n",
    "    pattern = '[-=+,#/\\?:^$.@*\\\"※~&%ㆍ!』\\\\‘|\\(\\)\\[\\]\\<\\>`\\'…》]' # 특수기호 제거\n",
    "    text = re.sub(pattern= pattern, repl=repl, string=text)\n",
    "    \n",
    "    if len(text)==0 :\n",
    "        text = '불량'\n",
    "    #text = text.replace(' ','불량')# 모든 공백 제거 이건 아닌것 같아서 삭제\n",
    "    \n",
    "    return text"
   ]
  },
  {
   "cell_type": "code",
   "execution_count": 5,
   "metadata": {},
   "outputs": [],
   "source": [
    "# 인자로 입력받은 DataFrame을 복사 한 뒤 C1 컬럼 문자형 변환하고 복사된 DataFrame 반환\n",
    "def get_preprocessed_df(df=None):\n",
    "    df_copy = df.copy()\n",
    "    df_copy.columns = ['label','C1'] #열 이름 변경\n",
    "           \n",
    "    #1. 응답에 숫자도 있어서 int 형으로 처리됌 -> 문자형으로 변환\n",
    "    df_text = df_copy['C1'].apply(str)   \n",
    "       \n",
    "    #2. 텍스트 클리닝 (자음/모음/숫자만으로 이루어진 경우 빈칸처리, 특수기호 제거)\n",
    "    df_text = df_text.map(lambda x: cleanText(x))\n",
    "    \n",
    "    #3.. 더 있나?\n",
    "        \n",
    "    #마지막에 다시 대입\n",
    "    df_copy['C1re'] = df_text\n",
    "    \n",
    "    return df_copy"
   ]
  },
  {
   "cell_type": "code",
   "execution_count": 6,
   "metadata": {},
   "outputs": [],
   "source": [
    "df_test = get_preprocessed_df(df_test)\n",
    "# df_copy.isnull().sum() #공백은 불량으로 처리..?"
   ]
  },
  {
   "cell_type": "code",
   "execution_count": 7,
   "metadata": {},
   "outputs": [],
   "source": [
    "#벡터화  \n",
    "    \n",
    "X_features = vectorizer.transform(df_test['C1re'].copy())\n",
    "df_test['X_features'] = X_features\n",
    "y_target = df_test['label'].copy()"
   ]
  },
  {
   "cell_type": "markdown",
   "metadata": {},
   "source": [
    "# 데이터 나누기"
   ]
  },
  {
   "cell_type": "code",
   "execution_count": 8,
   "metadata": {},
   "outputs": [],
   "source": [
    "# LightGBM의 파이썬 패키지인 lightgbm에서 LGBMClassifier 임포트\n",
    "from lightgbm import LGBMClassifier\n",
    "\n",
    "preds = loaded_model1.predict(X_features)\n",
    "pred_proba0 = loaded_model1.predict_proba(X_features)[:, 0]\n",
    "pred_proba1 = loaded_model1.predict_proba(X_features)[:, 1]\n",
    "pred_proba2 = loaded_model1.predict_proba(X_features)[:, 2]"
   ]
  },
  {
   "cell_type": "markdown",
   "metadata": {},
   "source": [
    "# 평가"
   ]
  },
  {
   "cell_type": "code",
   "execution_count": 10,
   "metadata": {},
   "outputs": [],
   "source": [
    "from sklearn.metrics import confusion_matrix, accuracy_score\n",
    "from sklearn.metrics import precision_score, recall_score\n",
    "from sklearn.metrics import f1_score, roc_auc_score\n",
    "\n",
    "def get_clf_eval(y_test, pred=None, pred_proba=None):\n",
    "    confusion = confusion_matrix( y_test, pred)\n",
    "    accuracy = accuracy_score(y_test , pred)\n",
    "    precision = precision_score(y_test , pred, pos_label='positive', average='micro')\n",
    "    recall = recall_score(y_test , pred, pos_label='positive', average='micro')\n",
    "    f1 = f1_score(y_test,pred, average='micro')\n",
    "    # ROC-AUC 추가 \n",
    "#     roc_auc = roc_auc_score(y_test, pred_proba, average='micro' , multi_class = 'ovo')\n",
    "    print('오차 행렬')\n",
    "    print(confusion)\n",
    "    \n",
    "    print('정확도: {0:.4f}, 정밀도: {1:.4f}, 재현율: {2:.4f},\\\n",
    "    F1: {3:.4f}'.format(accuracy, precision, recall, f1))\n",
    "    \n",
    "#     # ROC-AUC print 추가\n",
    "#     print('정확도: {0:.4f}, 정밀도: {1:.4f}, 재현율: {2:.4f},\\\n",
    "#     F1: {3:.4f}, AUC:{4:.4f}'.format(accuracy, precision, recall, f1, roc_auc))"
   ]
  },
  {
   "cell_type": "code",
   "execution_count": 11,
   "metadata": {},
   "outputs": [
    {
     "name": "stdout",
     "output_type": "stream",
     "text": [
      "오차 행렬\n",
      "[[2130    8    6]\n",
      " [   9   17    1]\n",
      " [   0    0   35]]\n",
      "정확도: 0.9891, 정밀도: 0.9891, 재현율: 0.9891,    F1: 0.9891\n"
     ]
    }
   ],
   "source": [
    "get_clf_eval(y_target, preds, pred_proba0)"
   ]
  },
  {
   "cell_type": "code",
   "execution_count": 12,
   "metadata": {},
   "outputs": [
    {
     "data": {
      "text/html": [
       "<div>\n",
       "<style scoped>\n",
       "    .dataframe tbody tr th:only-of-type {\n",
       "        vertical-align: middle;\n",
       "    }\n",
       "\n",
       "    .dataframe tbody tr th {\n",
       "        vertical-align: top;\n",
       "    }\n",
       "\n",
       "    .dataframe thead th {\n",
       "        text-align: right;\n",
       "    }\n",
       "</style>\n",
       "<table border=\"1\" class=\"dataframe\">\n",
       "  <thead>\n",
       "    <tr style=\"text-align: right;\">\n",
       "      <th></th>\n",
       "      <th>label</th>\n",
       "      <th>C1</th>\n",
       "      <th>C1re</th>\n",
       "      <th>preds</th>\n",
       "      <th>pred_proba0</th>\n",
       "      <th>pred_proba1</th>\n",
       "      <th>pred_proba2</th>\n",
       "    </tr>\n",
       "  </thead>\n",
       "  <tbody>\n",
       "    <tr>\n",
       "      <th>0</th>\n",
       "      <td>0</td>\n",
       "      <td>1원 스토어</td>\n",
       "      <td>1원 스토어</td>\n",
       "      <td>0</td>\n",
       "      <td>0.999998</td>\n",
       "      <td>2.163013e-06</td>\n",
       "      <td>1.539255e-09</td>\n",
       "    </tr>\n",
       "    <tr>\n",
       "      <th>1</th>\n",
       "      <td>0</td>\n",
       "      <td>2048, 파스포푸트</td>\n",
       "      <td>2048 파스포푸트</td>\n",
       "      <td>0</td>\n",
       "      <td>1.000000</td>\n",
       "      <td>5.983948e-09</td>\n",
       "      <td>3.175059e-11</td>\n",
       "    </tr>\n",
       "    <tr>\n",
       "      <th>2</th>\n",
       "      <td>0</td>\n",
       "      <td>app</td>\n",
       "      <td>app</td>\n",
       "      <td>0</td>\n",
       "      <td>0.992606</td>\n",
       "      <td>7.393406e-03</td>\n",
       "      <td>7.346319e-07</td>\n",
       "    </tr>\n",
       "    <tr>\n",
       "      <th>3</th>\n",
       "      <td>0</td>\n",
       "      <td>App Store</td>\n",
       "      <td>app store</td>\n",
       "      <td>0</td>\n",
       "      <td>1.000000</td>\n",
       "      <td>3.064968e-08</td>\n",
       "      <td>9.903155e-10</td>\n",
       "    </tr>\n",
       "    <tr>\n",
       "      <th>4</th>\n",
       "      <td>0</td>\n",
       "      <td>app store</td>\n",
       "      <td>app store</td>\n",
       "      <td>0</td>\n",
       "      <td>1.000000</td>\n",
       "      <td>3.064968e-08</td>\n",
       "      <td>9.903155e-10</td>\n",
       "    </tr>\n",
       "    <tr>\n",
       "      <th>...</th>\n",
       "      <td>...</td>\n",
       "      <td>...</td>\n",
       "      <td>...</td>\n",
       "      <td>...</td>\n",
       "      <td>...</td>\n",
       "      <td>...</td>\n",
       "      <td>...</td>\n",
       "    </tr>\n",
       "    <tr>\n",
       "      <th>2201</th>\n",
       "      <td>0</td>\n",
       "      <td>한게임</td>\n",
       "      <td>한게임</td>\n",
       "      <td>0</td>\n",
       "      <td>0.999927</td>\n",
       "      <td>7.245012e-05</td>\n",
       "      <td>2.769577e-07</td>\n",
       "    </tr>\n",
       "    <tr>\n",
       "      <th>2202</th>\n",
       "      <td>0</td>\n",
       "      <td>한게임</td>\n",
       "      <td>한게임</td>\n",
       "      <td>0</td>\n",
       "      <td>0.999927</td>\n",
       "      <td>7.245012e-05</td>\n",
       "      <td>2.769577e-07</td>\n",
       "    </tr>\n",
       "    <tr>\n",
       "      <th>2203</th>\n",
       "      <td>0</td>\n",
       "      <td>한게임</td>\n",
       "      <td>한게임</td>\n",
       "      <td>0</td>\n",
       "      <td>0.999927</td>\n",
       "      <td>7.245012e-05</td>\n",
       "      <td>2.769577e-07</td>\n",
       "    </tr>\n",
       "    <tr>\n",
       "      <th>2204</th>\n",
       "      <td>0</td>\n",
       "      <td>헤이데이</td>\n",
       "      <td>헤이데이</td>\n",
       "      <td>0</td>\n",
       "      <td>0.999835</td>\n",
       "      <td>1.650225e-04</td>\n",
       "      <td>7.688115e-08</td>\n",
       "    </tr>\n",
       "    <tr>\n",
       "      <th>2205</th>\n",
       "      <td>0</td>\n",
       "      <td>황제</td>\n",
       "      <td>황제</td>\n",
       "      <td>0</td>\n",
       "      <td>0.909640</td>\n",
       "      <td>9.035525e-02</td>\n",
       "      <td>4.922294e-06</td>\n",
       "    </tr>\n",
       "  </tbody>\n",
       "</table>\n",
       "<p>2206 rows × 7 columns</p>\n",
       "</div>"
      ],
      "text/plain": [
       "      label           C1        C1re  preds  pred_proba0   pred_proba1  \\\n",
       "0         0       1원 스토어      1원 스토어      0     0.999998  2.163013e-06   \n",
       "1         0  2048, 파스포푸트  2048 파스포푸트      0     1.000000  5.983948e-09   \n",
       "2         0          app         app      0     0.992606  7.393406e-03   \n",
       "3         0    App Store   app store      0     1.000000  3.064968e-08   \n",
       "4         0    app store   app store      0     1.000000  3.064968e-08   \n",
       "...     ...          ...         ...    ...          ...           ...   \n",
       "2201      0          한게임         한게임      0     0.999927  7.245012e-05   \n",
       "2202      0          한게임         한게임      0     0.999927  7.245012e-05   \n",
       "2203      0          한게임         한게임      0     0.999927  7.245012e-05   \n",
       "2204      0         헤이데이        헤이데이      0     0.999835  1.650225e-04   \n",
       "2205      0           황제          황제      0     0.909640  9.035525e-02   \n",
       "\n",
       "       pred_proba2  \n",
       "0     1.539255e-09  \n",
       "1     3.175059e-11  \n",
       "2     7.346319e-07  \n",
       "3     9.903155e-10  \n",
       "4     9.903155e-10  \n",
       "...            ...  \n",
       "2201  2.769577e-07  \n",
       "2202  2.769577e-07  \n",
       "2203  2.769577e-07  \n",
       "2204  7.688115e-08  \n",
       "2205  4.922294e-06  \n",
       "\n",
       "[2206 rows x 7 columns]"
      ]
     },
     "execution_count": 12,
     "metadata": {},
     "output_type": "execute_result"
    }
   ],
   "source": [
    "df_test['preds'] = preds\n",
    "df_test['pred_proba0'] = pred_proba0\n",
    "df_test['pred_proba1'] = pred_proba1\n",
    "df_test['pred_proba2'] = pred_proba2\n",
    "\n",
    "df_test2 = df_test\n",
    "del df_test2['X_features']\n",
    "df_test2\n"
   ]
  },
  {
   "cell_type": "code",
   "execution_count": 14,
   "metadata": {},
   "outputs": [],
   "source": [
    "#엑셀 저장\n",
    "df_test2.to_excel('google_result_20201214.xlsx',sheet_name='result')"
   ]
  }
 ],
 "metadata": {
  "kernelspec": {
   "display_name": "Python 3",
   "language": "python",
   "name": "python3"
  },
  "language_info": {
   "codemirror_mode": {
    "name": "ipython",
    "version": 3
   },
   "file_extension": ".py",
   "mimetype": "text/x-python",
   "name": "python",
   "nbconvert_exporter": "python",
   "pygments_lexer": "ipython3",
   "version": "3.6.12"
  },
  "latex_envs": {
   "LaTeX_envs_menu_present": true,
   "autoclose": false,
   "autocomplete": true,
   "bibliofile": "biblio.bib",
   "cite_by": "apalike",
   "current_citInitial": 1,
   "eqLabelWithNumbers": true,
   "eqNumInitial": 1,
   "hotkeys": {
    "equation": "Ctrl-E",
    "itemize": "Ctrl-I"
   },
   "labels_anchors": false,
   "latex_user_defs": false,
   "report_style_numbering": false,
   "user_envs_cfg": false
  },
  "varInspector": {
   "cols": {
    "lenName": 16,
    "lenType": 16,
    "lenVar": 40
   },
   "kernels_config": {
    "python": {
     "delete_cmd_postfix": "",
     "delete_cmd_prefix": "del ",
     "library": "var_list.py",
     "varRefreshCmd": "print(var_dic_list())"
    },
    "r": {
     "delete_cmd_postfix": ") ",
     "delete_cmd_prefix": "rm(",
     "library": "var_list.r",
     "varRefreshCmd": "cat(var_dic_list()) "
    }
   },
   "types_to_exclude": [
    "module",
    "function",
    "builtin_function_or_method",
    "instance",
    "_Feature"
   ],
   "window_display": false
  }
 },
 "nbformat": 4,
 "nbformat_minor": 2
}
