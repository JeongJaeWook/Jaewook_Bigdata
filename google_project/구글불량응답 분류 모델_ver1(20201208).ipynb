{
 "cells": [
  {
   "cell_type": "markdown",
   "metadata": {},
   "source": [
    "# 데이터 불러오기 및 탐색"
   ]
  },
  {
   "cell_type": "code",
   "execution_count": 35,
   "metadata": {},
   "outputs": [],
   "source": [
    "import numpy as np\n",
    "import pandas as pd\n",
    "import string\n",
    "\n",
    "#전처리 및 데이터 split\n",
    "from sklearn.feature_extraction.text import TfidfVectorizer\n",
    "from sklearn.model_selection import train_test_split\n",
    "from sklearn.feature_extraction.text import CountVectorizer\n",
    "import warnings\n",
    "warnings.filterwarnings(\"ignore\")"
   ]
  },
  {
   "cell_type": "code",
   "execution_count": 67,
   "metadata": {},
   "outputs": [],
   "source": [
    "df = pd.read_excel('data/google_data_all_20201208.xlsm',usecols='B,C')\n",
    "#df.head()\n"
   ]
  },
  {
   "cell_type": "code",
   "execution_count": 71,
   "metadata": {},
   "outputs": [],
   "source": [
    "# 인자로 입력받은 DataFrame을 복사 한 뒤 C1 컬럼 문자형 변환하고 복사된 DataFrame 반환\n",
    "def get_preprocessed_df(df=None):\n",
    "    df_copy = df.copy()\n",
    "    df_copy.columns = ['C1','label']\n",
    "      \n",
    "    #응답에 숫자도 있어서 int 형으로 생각함 -> 문자형으로 변환\n",
    "    df_copy['C1'] = df_copy['C1'].apply(str)\n",
    "    \n",
    "    print(\"\\n[5줄만 보기]\")\n",
    "    print(\"label 1 : 불량  | 0 : 정상\")\n",
    "    display(df_copy.head(8))\n",
    "    \n",
    "    print(\"\\n[데이터 속성 탐색]\")\n",
    "    print(df.info())\n",
    "\n",
    "    print(\"-\"*100)\n",
    "    print(\"[데이터 label 갯수]\")\n",
    "    print(df_copy['label'].value_counts())\n",
    "    #학습할 불량샘플이 너무 작은게 아닐까..?\n",
    "    \n",
    "    \n",
    "    return df_copy"
   ]
  },
  {
   "cell_type": "code",
   "execution_count": 72,
   "metadata": {},
   "outputs": [
    {
     "output_type": "stream",
     "name": "stdout",
     "text": [
      "\n[5줄만 보기]\nlabel 1 : 불량  | 0 : 정상\n"
     ]
    },
    {
     "output_type": "display_data",
     "data": {
      "text/plain": "         C1  label\n0      ㅣㅣㅣㅣ      1\n1  ㅠㅡㄹ레이스토어      1\n2     ㅜ글스토어      1\n3       ㅓㅄ음      1\n4   히어로 스카이      0\n5      히든씨티      0\n6      히든씨티      0\n7       희비전      0",
      "text/html": "<div>\n<style scoped>\n    .dataframe tbody tr th:only-of-type {\n        vertical-align: middle;\n    }\n\n    .dataframe tbody tr th {\n        vertical-align: top;\n    }\n\n    .dataframe thead th {\n        text-align: right;\n    }\n</style>\n<table border=\"1\" class=\"dataframe\">\n  <thead>\n    <tr style=\"text-align: right;\">\n      <th></th>\n      <th>C1</th>\n      <th>label</th>\n    </tr>\n  </thead>\n  <tbody>\n    <tr>\n      <th>0</th>\n      <td>ㅣㅣㅣㅣ</td>\n      <td>1</td>\n    </tr>\n    <tr>\n      <th>1</th>\n      <td>ㅠㅡㄹ레이스토어</td>\n      <td>1</td>\n    </tr>\n    <tr>\n      <th>2</th>\n      <td>ㅜ글스토어</td>\n      <td>1</td>\n    </tr>\n    <tr>\n      <th>3</th>\n      <td>ㅓㅄ음</td>\n      <td>1</td>\n    </tr>\n    <tr>\n      <th>4</th>\n      <td>히어로 스카이</td>\n      <td>0</td>\n    </tr>\n    <tr>\n      <th>5</th>\n      <td>히든씨티</td>\n      <td>0</td>\n    </tr>\n    <tr>\n      <th>6</th>\n      <td>히든씨티</td>\n      <td>0</td>\n    </tr>\n    <tr>\n      <th>7</th>\n      <td>희비전</td>\n      <td>0</td>\n    </tr>\n  </tbody>\n</table>\n</div>"
     },
     "metadata": {}
    },
    {
     "output_type": "stream",
     "name": "stdout",
     "text": [
      "\n[데이터 속성 탐색]\n<class 'pandas.core.frame.DataFrame'>\nRangeIndex: 47581 entries, 0 to 47580\nData columns (total 2 columns):\n #   Column       Non-Null Count  Dtype \n---  ------       --------------  ----- \n 0   C1[1].slice  47581 non-null  object\n 1   True_False   47581 non-null  int64 \ndtypes: int64(1), object(1)\nmemory usage: 743.6+ KB\nNone\n----------------------------------------------------------------------------------------------------\n[데이터 label 갯수]\n0    47134\n1      447\nName: label, dtype: int64\n"
     ]
    },
    {
     "output_type": "execute_result",
     "data": {
      "text/plain": [
       "             C1  label\n",
       "0          ㅣㅣㅣㅣ      1\n",
       "1      ㅠㅡㄹ레이스토어      1\n",
       "2         ㅜ글스토어      1\n",
       "3           ㅓㅄ음      1\n",
       "4       히어로 스카이      0\n",
       "...         ...    ...\n",
       "47576         0      1\n",
       "47577         0      1\n",
       "47578         0      1\n",
       "47579         0      1\n",
       "47580         0      1\n",
       "\n",
       "[47581 rows x 2 columns]"
      ],
      "text/html": "<div>\n<style scoped>\n    .dataframe tbody tr th:only-of-type {\n        vertical-align: middle;\n    }\n\n    .dataframe tbody tr th {\n        vertical-align: top;\n    }\n\n    .dataframe thead th {\n        text-align: right;\n    }\n</style>\n<table border=\"1\" class=\"dataframe\">\n  <thead>\n    <tr style=\"text-align: right;\">\n      <th></th>\n      <th>C1</th>\n      <th>label</th>\n    </tr>\n  </thead>\n  <tbody>\n    <tr>\n      <th>0</th>\n      <td>ㅣㅣㅣㅣ</td>\n      <td>1</td>\n    </tr>\n    <tr>\n      <th>1</th>\n      <td>ㅠㅡㄹ레이스토어</td>\n      <td>1</td>\n    </tr>\n    <tr>\n      <th>2</th>\n      <td>ㅜ글스토어</td>\n      <td>1</td>\n    </tr>\n    <tr>\n      <th>3</th>\n      <td>ㅓㅄ음</td>\n      <td>1</td>\n    </tr>\n    <tr>\n      <th>4</th>\n      <td>히어로 스카이</td>\n      <td>0</td>\n    </tr>\n    <tr>\n      <th>...</th>\n      <td>...</td>\n      <td>...</td>\n    </tr>\n    <tr>\n      <th>47576</th>\n      <td>0</td>\n      <td>1</td>\n    </tr>\n    <tr>\n      <th>47577</th>\n      <td>0</td>\n      <td>1</td>\n    </tr>\n    <tr>\n      <th>47578</th>\n      <td>0</td>\n      <td>1</td>\n    </tr>\n    <tr>\n      <th>47579</th>\n      <td>0</td>\n      <td>1</td>\n    </tr>\n    <tr>\n      <th>47580</th>\n      <td>0</td>\n      <td>1</td>\n    </tr>\n  </tbody>\n</table>\n<p>47581 rows × 2 columns</p>\n</div>"
     },
     "metadata": {},
     "execution_count": 72
    }
   ],
   "source": [
    "get_preprocessed_df(df)"
   ]
  },
  {
   "cell_type": "markdown",
   "metadata": {},
   "source": [
    "**모름, 기억나지않음과 같은 경우는 어떤 경우엔 정상 샘플로 넘기기 때문에 우선은 정상샘플(0)로 표시"
   ]
  },
  {
   "cell_type": "code",
   "execution_count": null,
   "metadata": {},
   "outputs": [],
   "source": []
  },
  {
   "cell_type": "markdown",
   "metadata": {},
   "source": [
    "# 데이터 전처리"
   ]
  },
  {
   "cell_type": "markdown",
   "metadata": {},
   "source": [
    "-단어 수준 임베딩\n",
    "\n",
    "    Latent Semantic Analysis\n",
    "    Word2Vec\n",
    "    GloVe\n",
    "    FastText\n",
    "    Swivel\n",
    "    \n",
    "-문장 수준 임베딩\n",
    "\n",
    "    Weighted Embeddings\n",
    "    Latent Semantic Analysis\n",
    "    Latent Dirichlet Allocation\n",
    "    Doc2Vec\n",
    "    Embeddings from Language Models (ELMo)\n",
    "    Bidirectional Encoder Representations from Transformer (BERT)\n",
    "    \n",
    "    \n",
    "출처 : https://github.com/ratsgo/embedding"
   ]
  },
  {
   "cell_type": "code",
   "execution_count": 73,
   "metadata": {},
   "outputs": [],
   "source": [
    "# ### FastText 학습\n",
    "# from gensim.models import FastText\n",
    "# ft_model = FastText(result, size=100, window=5, min_count=5, workers=4, sg=1)"
   ]
  },
  {
   "cell_type": "markdown",
   "metadata": {},
   "source": [
    "# 데이터 나누기"
   ]
  },
  {
   "cell_type": "code",
   "execution_count": 79,
   "metadata": {},
   "outputs": [
    {
     "output_type": "stream",
     "name": "stdout",
     "text": [
      "\n[5줄만 보기]\nlabel 1 : 불량  | 0 : 정상\n"
     ]
    },
    {
     "output_type": "display_data",
     "data": {
      "text/plain": "         C1  label\n0      ㅣㅣㅣㅣ      1\n1  ㅠㅡㄹ레이스토어      1\n2     ㅜ글스토어      1\n3       ㅓㅄ음      1\n4   히어로 스카이      0\n5      히든씨티      0\n6      히든씨티      0\n7       희비전      0",
      "text/html": "<div>\n<style scoped>\n    .dataframe tbody tr th:only-of-type {\n        vertical-align: middle;\n    }\n\n    .dataframe tbody tr th {\n        vertical-align: top;\n    }\n\n    .dataframe thead th {\n        text-align: right;\n    }\n</style>\n<table border=\"1\" class=\"dataframe\">\n  <thead>\n    <tr style=\"text-align: right;\">\n      <th></th>\n      <th>C1</th>\n      <th>label</th>\n    </tr>\n  </thead>\n  <tbody>\n    <tr>\n      <th>0</th>\n      <td>ㅣㅣㅣㅣ</td>\n      <td>1</td>\n    </tr>\n    <tr>\n      <th>1</th>\n      <td>ㅠㅡㄹ레이스토어</td>\n      <td>1</td>\n    </tr>\n    <tr>\n      <th>2</th>\n      <td>ㅜ글스토어</td>\n      <td>1</td>\n    </tr>\n    <tr>\n      <th>3</th>\n      <td>ㅓㅄ음</td>\n      <td>1</td>\n    </tr>\n    <tr>\n      <th>4</th>\n      <td>히어로 스카이</td>\n      <td>0</td>\n    </tr>\n    <tr>\n      <th>5</th>\n      <td>히든씨티</td>\n      <td>0</td>\n    </tr>\n    <tr>\n      <th>6</th>\n      <td>히든씨티</td>\n      <td>0</td>\n    </tr>\n    <tr>\n      <th>7</th>\n      <td>희비전</td>\n      <td>0</td>\n    </tr>\n  </tbody>\n</table>\n</div>"
     },
     "metadata": {}
    },
    {
     "output_type": "stream",
     "name": "stdout",
     "text": [
      "\n[데이터 속성 탐색]\n<class 'pandas.core.frame.DataFrame'>\nRangeIndex: 47581 entries, 0 to 47580\nData columns (total 2 columns):\n #   Column       Non-Null Count  Dtype \n---  ------       --------------  ----- \n 0   C1[1].slice  47581 non-null  object\n 1   True_False   47581 non-null  int64 \ndtypes: int64(1), object(1)\nmemory usage: 743.6+ KB\nNone\n----------------------------------------------------------------------------------------------------\n[데이터 label 갯수]\n0    47134\n1      447\nName: label, dtype: int64\n"
     ]
    }
   ],
   "source": [
    "# 사전 데이터 가공 후 학습과 테스트 데이터 세트를 반환하는 함수.\n",
    "def get_train_test_dataset(df=None):\n",
    "    # 인자로 입력된 DataFrame의 사전 데이터 가공이 완료된 복사 DataFrame 반환\n",
    "    df_copy = get_preprocessed_df(df)\n",
    "    # DataFrame의 맨 마지막 컬럼이 레이블, 나머지는 피처들\n",
    "    \n",
    "    vectorizer = CountVectorizer(min_df=1)\n",
    "\n",
    "    \n",
    "    \n",
    "    \n",
    "    #벡터화\n",
    "    vectorizer = TfidfVectorizer()\n",
    "        \n",
    "    X_features = vectorizer.fit_transform(df_copy['C1'].copy()) \n",
    "    y_target = df_copy['label'].copy()\n",
    "    # X_features = df_copy.iloc[:, :-1]\n",
    "    # y_target = df_copy.iloc[:, -1]\n",
    "    \n",
    "    \n",
    "    # train_test_split( )으로 학습과 테스트 데이터 분할. stratify=y_target으로 Stratified 기반 분할\n",
    "    X_train, X_test, y_train, y_test = train_test_split(X_features, y_target, test_size=0.3, random_state=333,stratify=y_target )\n",
    "    # 학습과 테스트 데이터 세트 반환\n",
    "    return X_train, X_test, y_train, y_test\n",
    "\n",
    "X_train, X_test, y_train, y_test = get_train_test_dataset(df)"
   ]
  },
  {
   "cell_type": "code",
   "execution_count": 80,
   "metadata": {},
   "outputs": [
    {
     "output_type": "stream",
     "name": "stdout",
     "text": [
      "학습 데이터 레이블 값 비율\n0    32993\n1      313\nName: label, dtype: int64\n테스트 데이터 레이블 값 비율\n0    14141\n1      134\nName: label, dtype: int64\n"
     ]
    },
    {
     "output_type": "execute_result",
     "data": {
      "text/plain": [
       "<bound method _data_matrix.astype of <33306x2336 sparse matrix of type '<class 'numpy.float64'>'\n",
       "\twith 39750 stored elements in Compressed Sparse Row format>>"
      ]
     },
     "metadata": {},
     "execution_count": 80
    }
   ],
   "source": [
    "print('학습 데이터 레이블 값 비율')\n",
    "print(y_train.value_counts())#/y_train.shape[0] * 100)\n",
    "print('테스트 데이터 레이블 값 비율')\n",
    "print(y_test.value_counts())#/y_test.shape[0] * 100)\n",
    "X_train.astype"
   ]
  },
  {
   "cell_type": "code",
   "execution_count": 81,
   "metadata": {},
   "outputs": [],
   "source": [
    "from sklearn.linear_model import LogisticRegression\n",
    "from sklearn.svm import SVC\n",
    "from sklearn.naive_bayes import MultinomialNB\n",
    "from sklearn.tree import DecisionTreeClassifier\n",
    "from sklearn.neighbors import KNeighborsClassifier\n",
    "from sklearn.ensemble import RandomForestClassifier\n",
    "from sklearn.ensemble import AdaBoostClassifier\n",
    "from sklearn.ensemble import BaggingClassifier\n",
    "from sklearn.ensemble import ExtraTreesClassifier\n",
    "from sklearn.metrics import accuracy_score"
   ]
  },
  {
   "cell_type": "code",
   "execution_count": 105,
   "metadata": {},
   "outputs": [],
   "source": [
    "svc = SVC(kernel='sigmoid', gamma=1.0, probability=True)\n",
    "knc = KNeighborsClassifier(n_neighbors=49)\n",
    "mnb = MultinomialNB(alpha=0.2)\n",
    "dtc = DecisionTreeClassifier(min_samples_split=7, random_state=111)\n",
    "lrc = LogisticRegression(solver='liblinear', penalty='l1')\n",
    "rfc = RandomForestClassifier(n_estimators=31, random_state=111)\n",
    "abc = AdaBoostClassifier(n_estimators=62, random_state=111)\n",
    "bc = BaggingClassifier(n_estimators=9, random_state=111)\n",
    "etc = ExtraTreesClassifier(n_estimators=9, random_state=111)\n",
    "\n",
    "\n",
    "clfs = {'SVC' : svc,'KN' : knc, 'NB': mnb, 'DT': dtc, 'LR': lrc, 'RF': rfc, 'AdaBoost': abc, 'BgC': bc, 'ETC': etc}\n",
    "clfs = {'SVC' : svc}\n",
    "def train_classifier(clf, X_train, y_train):    \n",
    "    clf.fit(X_train, y_train)\n",
    "def predict_labels(clf, X_test):\n",
    "    return (clf.predict(X_test))\n",
    "def predict_proba(clf, X_test):\n",
    "    return (clf.predict_proba(X_test)[:, 1])\n",
    "\n",
    "# 'X_train, X_test, y_train, y_test'\n",
    "# features_train features_test labels_train labels_test\n",
    "pred_scores = []\n",
    "for k,v in clfs.items():\n",
    "    train_classifier(v, X_train, y_train)\n",
    "    pred = predict_labels(v,X_test)\n",
    "    pred_scores.append((k, [accuracy_score(y_test,pred)]))\n",
    "    #pred_proba = predict_proba(v,X_test)\n",
    "    #pred_scores.append((k, [accuracy_score(y_test,pred),pred_proba]))\n"
   ]
  },
  {
   "cell_type": "code",
   "execution_count": 107,
   "metadata": {},
   "outputs": [
    {
     "output_type": "stream",
     "name": "stdout",
     "text": [
      "        Score\nSVC  0.991384\n"
     ]
    }
   ],
   "source": [
    "import matplotlib.pyplot as plt\n",
    "%matplotlib inline\n",
    "\n",
    "score=pd.DataFrame.from_dict(dict(pred_scores),orient='index',columns=['Score'])\n",
    "print(score)\n",
    "# score.plot(kind='bar', ylim=(0.9,1.0), figsize=(11,6), align='center', colormap=\"Accent\")\n",
    "# plt.xticks(np.arange(9), df.index)\n",
    "# plt.ylabel('Accuracy Score')\n",
    "# plt.title('Distribution by Classifier')\n",
    "# plt.legend(bbox_to_anchor=(1.05, 1), loc=2, borderaxespad=0.)"
   ]
  },
  {
   "cell_type": "code",
   "execution_count": null,
   "metadata": {},
   "outputs": [],
   "source": []
  },
  {
   "cell_type": "code",
   "execution_count": 108,
   "metadata": {},
   "outputs": [],
   "source": [
    "from sklearn.metrics import confusion_matrix, accuracy_score, precision_score, recall_score, f1_score\n",
    "from sklearn.metrics import roc_auc_score\n",
    "\n",
    "def get_clf_eval(y_test, pred=None, pred_proba=None):\n",
    "    confusion = confusion_matrix( y_test, pred)\n",
    "    accuracy = accuracy_score(y_test , pred)\n",
    "    precision = precision_score(y_test , pred)\n",
    "    recall = recall_score(y_test , pred)\n",
    "    f1 = f1_score(y_test,pred)\n",
    "    # ROC-AUC 추가 \n",
    "    roc_auc = roc_auc_score(y_test, pred_proba)\n",
    "    print('오차 행렬')\n",
    "    print(confusion)\n",
    "    # ROC-AUC print 추가\n",
    "    print('정확도: {0:.4f}, 정밀도: {1:.4f}, 재현율: {2:.4f},\\\n",
    "    F1: {3:.4f}, AUC:{4:.4f}'.format(accuracy, precision, recall, f1, roc_auc))"
   ]
  },
  {
   "cell_type": "code",
   "execution_count": 109,
   "metadata": {},
   "outputs": [
    {
     "output_type": "stream",
     "name": "stdout",
     "text": [
      "오차 행렬\n[[14140     1]\n [  122    12]]\n정확도: 0.9914, 정밀도: 0.9231, 재현율: 0.0896,    F1: 0.1633, AUC:0.9539\n"
     ]
    }
   ],
   "source": [
    "# 3장에서 사용한 get_clf_eval() 함수를 이용하여 평가 수행. \n",
    "# get_clf_eval(y_test, pred, pred_proba)"
   ]
  },
  {
   "cell_type": "code",
   "execution_count": 110,
   "metadata": {},
   "outputs": [
    {
     "output_type": "stream",
     "name": "stdout",
     "text": [
      "오차 행렬\n[[14141     0]\n [  124    10]]\n정확도: 0.9913, 정밀도: 1.0000, 재현율: 0.0746,    F1: 0.1389, AUC:0.9539\n"
     ]
    }
   ],
   "source": [
    "# 인자로 사이킷런의 Estimator객체와, 학습/테스트 데이터 세트를 입력 받아서 학습/예측/평가 수행.\n",
    "def get_model_train_eval(model, ftr_train=None, ftr_test=None, tgt_train=None, tgt_test=None):\n",
    "    model.fit(ftr_train, tgt_train)\n",
    "    pred = model.predict(ftr_test)\n",
    "    pred_proba = model.predict_proba(ftr_test)[:, 1]\n",
    "    get_clf_eval(tgt_test, pred, pred_proba)\n",
    "\n",
    "\n",
    "abc = AdaBoostClassifier(n_estimators=62, random_state=111)\n",
    "get_model_train_eval(abc, ftr_train=X_train, ftr_test=X_test, tgt_train=y_train, tgt_test=y_test)"
   ]
  },
  {
   "cell_type": "code",
   "execution_count": 44,
   "metadata": {},
   "outputs": [
    {
     "ename": "NameError",
     "evalue": "name 'result' is not defined",
     "output_type": "error",
     "traceback": [
      "\u001b[1;31m---------------------------------------------------------------------------\u001b[0m",
      "\u001b[1;31mNameError\u001b[0m                                 Traceback (most recent call last)",
      "\u001b[1;32m<ipython-input-44-a6d673bbb36d>\u001b[0m in \u001b[0;36m<module>\u001b[1;34m()\u001b[0m\n\u001b[0;32m      1\u001b[0m \u001b[1;31m### FastText 학습\u001b[0m\u001b[1;33m\u001b[0m\u001b[1;33m\u001b[0m\u001b[0m\n\u001b[0;32m      2\u001b[0m \u001b[1;32mfrom\u001b[0m \u001b[0mgensim\u001b[0m\u001b[1;33m.\u001b[0m\u001b[0mmodels\u001b[0m \u001b[1;32mimport\u001b[0m \u001b[0mFastText\u001b[0m\u001b[1;33m\u001b[0m\u001b[0m\n\u001b[1;32m----> 3\u001b[1;33m \u001b[0mft_model\u001b[0m \u001b[1;33m=\u001b[0m \u001b[0mFastText\u001b[0m\u001b[1;33m(\u001b[0m\u001b[0mresult\u001b[0m\u001b[1;33m,\u001b[0m \u001b[0msize\u001b[0m\u001b[1;33m=\u001b[0m\u001b[1;36m100\u001b[0m\u001b[1;33m,\u001b[0m \u001b[0mwindow\u001b[0m\u001b[1;33m=\u001b[0m\u001b[1;36m5\u001b[0m\u001b[1;33m,\u001b[0m \u001b[0mmin_count\u001b[0m\u001b[1;33m=\u001b[0m\u001b[1;36m5\u001b[0m\u001b[1;33m,\u001b[0m \u001b[0mworkers\u001b[0m\u001b[1;33m=\u001b[0m\u001b[1;36m4\u001b[0m\u001b[1;33m,\u001b[0m \u001b[0msg\u001b[0m\u001b[1;33m=\u001b[0m\u001b[1;36m1\u001b[0m\u001b[1;33m)\u001b[0m\u001b[1;33m\u001b[0m\u001b[0m\n\u001b[0m",
      "\u001b[1;31mNameError\u001b[0m: name 'result' is not defined"
     ]
    }
   ],
   "source": []
  },
  {
   "cell_type": "markdown",
   "metadata": {},
   "source": [
    "# 평가"
   ]
  },
  {
   "cell_type": "code",
   "execution_count": null,
   "metadata": {},
   "outputs": [],
   "source": []
  }
 ],
 "metadata": {
  "kernelspec": {
   "display_name": "Python 3",
   "language": "python",
   "name": "python3"
  },
  "language_info": {
   "codemirror_mode": {
    "name": "ipython",
    "version": 3
   },
   "file_extension": ".py",
   "mimetype": "text/x-python",
   "name": "python",
   "nbconvert_exporter": "python",
   "pygments_lexer": "ipython3",
   "version": "3.6.12-final"
  },
  "latex_envs": {
   "LaTeX_envs_menu_present": true,
   "autoclose": false,
   "autocomplete": true,
   "bibliofile": "biblio.bib",
   "cite_by": "apalike",
   "current_citInitial": 1,
   "eqLabelWithNumbers": true,
   "eqNumInitial": 1,
   "hotkeys": {
    "equation": "Ctrl-E",
    "itemize": "Ctrl-I"
   },
   "labels_anchors": false,
   "latex_user_defs": false,
   "report_style_numbering": false,
   "user_envs_cfg": false
  },
  "varInspector": {
   "cols": {
    "lenName": 16,
    "lenType": 16,
    "lenVar": 40
   },
   "kernels_config": {
    "python": {
     "delete_cmd_postfix": "",
     "delete_cmd_prefix": "del ",
     "library": "var_list.py",
     "varRefreshCmd": "print(var_dic_list())"
    },
    "r": {
     "delete_cmd_postfix": ") ",
     "delete_cmd_prefix": "rm(",
     "library": "var_list.r",
     "varRefreshCmd": "cat(var_dic_list()) "
    }
   },
   "types_to_exclude": [
    "module",
    "function",
    "builtin_function_or_method",
    "instance",
    "_Feature"
   ],
   "window_display": false
  }
 },
 "nbformat": 4,
 "nbformat_minor": 2
}