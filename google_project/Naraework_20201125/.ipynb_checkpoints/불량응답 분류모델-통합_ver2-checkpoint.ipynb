{
 "cells": [
  {
   "cell_type": "code",
   "execution_count": 1,
   "metadata": {
    "_cell_guid": "e6094c6e-9777-c7be-bd57-fe431519ad20",
    "colab": {
     "base_uri": "https://localhost:8080/",
     "height": 72
    },
    "id": "oft4In7A-ZD5",
    "outputId": "79cf044a-d240-476f-957c-87a166e4a488"
   },
   "outputs": [],
   "source": [
    "import numpy as np\n",
    "import pandas as pd\n",
    "import string\n",
    "from sklearn.feature_extraction.text import TfidfVectorizer\n",
    "from nltk.stem import SnowballStemmer\n",
    "from nltk.corpus import stopwords\n"
   ]
  },
  {
   "cell_type": "markdown",
   "metadata": {
    "_cell_guid": "6689da0a-5795-85f6-2f13-4eb276bde97f",
    "id": "jNyiH_fu-ZD9"
   },
   "source": [
    "Let's read the data from csv file"
   ]
  },
  {
   "cell_type": "code",
   "execution_count": 3,
   "metadata": {
    "_cell_guid": "94a28c87-ff0a-8302-05bd-404df2873761",
    "colab": {
     "base_uri": "https://localhost:8080/",
     "height": 195
    },
    "id": "YBy5eTBJ-ZD9",
    "outputId": "4bc6528a-5034-4428-f896-6f4f5255ad05"
   },
   "outputs": [
    {
     "data": {
      "text/html": [
       "<div>\n",
       "<style scoped>\n",
       "    .dataframe tbody tr th:only-of-type {\n",
       "        vertical-align: middle;\n",
       "    }\n",
       "\n",
       "    .dataframe tbody tr th {\n",
       "        vertical-align: top;\n",
       "    }\n",
       "\n",
       "    .dataframe thead th {\n",
       "        text-align: right;\n",
       "    }\n",
       "</style>\n",
       "<table border=\"1\" class=\"dataframe\">\n",
       "  <thead>\n",
       "    <tr style=\"text-align: right;\">\n",
       "      <th></th>\n",
       "      <th>ID</th>\n",
       "      <th>label</th>\n",
       "      <th>C1</th>\n",
       "    </tr>\n",
       "  </thead>\n",
       "  <tbody>\n",
       "    <tr>\n",
       "      <th>0</th>\n",
       "      <td>202000001</td>\n",
       "      <td>1</td>\n",
       "      <td>폰 또는 태블릿 PC로 모바일 게임을 다운로드</td>\n",
       "    </tr>\n",
       "    <tr>\n",
       "      <th>1</th>\n",
       "      <td>202000002</td>\n",
       "      <td>1</td>\n",
       "      <td>게임시켜주세요</td>\n",
       "    </tr>\n",
       "    <tr>\n",
       "      <th>2</th>\n",
       "      <td>202000003</td>\n",
       "      <td>1</td>\n",
       "      <td>모르겟다</td>\n",
       "    </tr>\n",
       "    <tr>\n",
       "      <th>3</th>\n",
       "      <td>202000004</td>\n",
       "      <td>1</td>\n",
       "      <td>잘모르겟다</td>\n",
       "    </tr>\n",
       "    <tr>\n",
       "      <th>4</th>\n",
       "      <td>202000005</td>\n",
       "      <td>1</td>\n",
       "      <td>아이폰</td>\n",
       "    </tr>\n",
       "  </tbody>\n",
       "</table>\n",
       "</div>"
      ],
      "text/plain": [
       "          ID  label                         C1\n",
       "0  202000001      1  폰 또는 태블릿 PC로 모바일 게임을 다운로드\n",
       "1  202000002      1                    게임시켜주세요\n",
       "2  202000003      1                       모르겟다\n",
       "3  202000004      1                      잘모르겟다\n",
       "4  202000005      1                        아이폰"
      ]
     },
     "execution_count": 3,
     "metadata": {},
     "output_type": "execute_result"
    }
   ],
   "source": [
    "df= pd.read_excel('Google_sample_2020.xlsm',index=False)\n",
    "df.columns =['ID','label','C1']\n",
    "df.head()"
   ]
  },
  {
   "cell_type": "code",
   "execution_count": 4,
   "metadata": {
    "_cell_guid": "85bb6f9f-77db-6352-e53e-79bc29112304",
    "id": "JEqw4Ja6-ZEC"
   },
   "outputs": [
    {
     "data": {
      "text/html": [
       "<div>\n",
       "<style scoped>\n",
       "    .dataframe tbody tr th:only-of-type {\n",
       "        vertical-align: middle;\n",
       "    }\n",
       "\n",
       "    .dataframe tbody tr th {\n",
       "        vertical-align: top;\n",
       "    }\n",
       "\n",
       "    .dataframe thead th {\n",
       "        text-align: right;\n",
       "    }\n",
       "</style>\n",
       "<table border=\"1\" class=\"dataframe\">\n",
       "  <thead>\n",
       "    <tr style=\"text-align: right;\">\n",
       "      <th></th>\n",
       "      <th>ID</th>\n",
       "      <th>label</th>\n",
       "      <th>C1</th>\n",
       "      <th>AREA</th>\n",
       "      <th>C2</th>\n",
       "    </tr>\n",
       "  </thead>\n",
       "  <tbody>\n",
       "    <tr>\n",
       "      <th>0</th>\n",
       "      <td>202000001</td>\n",
       "      <td>1</td>\n",
       "      <td>폰 또는 태블릿 PC로 모바일 게임을 다운로드</td>\n",
       "      <td>IT</td>\n",
       "      <td>폰 또는 태블릿 PC로 모바일 게임을 다운로드 IT</td>\n",
       "    </tr>\n",
       "    <tr>\n",
       "      <th>1</th>\n",
       "      <td>202000002</td>\n",
       "      <td>1</td>\n",
       "      <td>게임시켜주세요</td>\n",
       "      <td>IT</td>\n",
       "      <td>게임시켜주세요 IT</td>\n",
       "    </tr>\n",
       "    <tr>\n",
       "      <th>2</th>\n",
       "      <td>202000003</td>\n",
       "      <td>1</td>\n",
       "      <td>모르겟다</td>\n",
       "      <td>IT</td>\n",
       "      <td>모르겟다 IT</td>\n",
       "    </tr>\n",
       "    <tr>\n",
       "      <th>3</th>\n",
       "      <td>202000004</td>\n",
       "      <td>1</td>\n",
       "      <td>잘모르겟다</td>\n",
       "      <td>IT</td>\n",
       "      <td>잘모르겟다 IT</td>\n",
       "    </tr>\n",
       "    <tr>\n",
       "      <th>4</th>\n",
       "      <td>202000005</td>\n",
       "      <td>1</td>\n",
       "      <td>아이폰</td>\n",
       "      <td>IT</td>\n",
       "      <td>아이폰 IT</td>\n",
       "    </tr>\n",
       "    <tr>\n",
       "      <th>...</th>\n",
       "      <td>...</td>\n",
       "      <td>...</td>\n",
       "      <td>...</td>\n",
       "      <td>...</td>\n",
       "      <td>...</td>\n",
       "    </tr>\n",
       "    <tr>\n",
       "      <th>19669</th>\n",
       "      <td>202019670</td>\n",
       "      <td>0</td>\n",
       "      <td>구글플레이</td>\n",
       "      <td>IT</td>\n",
       "      <td>구글플레이 IT</td>\n",
       "    </tr>\n",
       "    <tr>\n",
       "      <th>19670</th>\n",
       "      <td>202019671</td>\n",
       "      <td>0</td>\n",
       "      <td>롤</td>\n",
       "      <td>IT</td>\n",
       "      <td>롤 IT</td>\n",
       "    </tr>\n",
       "    <tr>\n",
       "      <th>19671</th>\n",
       "      <td>202019672</td>\n",
       "      <td>0</td>\n",
       "      <td>구글스토어</td>\n",
       "      <td>IT</td>\n",
       "      <td>구글스토어 IT</td>\n",
       "    </tr>\n",
       "    <tr>\n",
       "      <th>19672</th>\n",
       "      <td>202019673</td>\n",
       "      <td>0</td>\n",
       "      <td>구글플레이</td>\n",
       "      <td>IT</td>\n",
       "      <td>구글플레이 IT</td>\n",
       "    </tr>\n",
       "    <tr>\n",
       "      <th>19673</th>\n",
       "      <td>202019674</td>\n",
       "      <td>0</td>\n",
       "      <td>구글플레이스토어</td>\n",
       "      <td>IT</td>\n",
       "      <td>구글플레이스토어 IT</td>\n",
       "    </tr>\n",
       "  </tbody>\n",
       "</table>\n",
       "<p>19674 rows × 5 columns</p>\n",
       "</div>"
      ],
      "text/plain": [
       "              ID  label                         C1 AREA  \\\n",
       "0      202000001      1  폰 또는 태블릿 PC로 모바일 게임을 다운로드   IT   \n",
       "1      202000002      1                    게임시켜주세요   IT   \n",
       "2      202000003      1                       모르겟다   IT   \n",
       "3      202000004      1                      잘모르겟다   IT   \n",
       "4      202000005      1                        아이폰   IT   \n",
       "...          ...    ...                        ...  ...   \n",
       "19669  202019670      0                      구글플레이   IT   \n",
       "19670  202019671      0                          롤   IT   \n",
       "19671  202019672      0                      구글스토어   IT   \n",
       "19672  202019673      0                      구글플레이   IT   \n",
       "19673  202019674      0                   구글플레이스토어   IT   \n",
       "\n",
       "                                 C2  \n",
       "0      폰 또는 태블릿 PC로 모바일 게임을 다운로드 IT  \n",
       "1                        게임시켜주세요 IT  \n",
       "2                           모르겟다 IT  \n",
       "3                          잘모르겟다 IT  \n",
       "4                            아이폰 IT  \n",
       "...                             ...  \n",
       "19669                      구글플레이 IT  \n",
       "19670                          롤 IT  \n",
       "19671                      구글스토어 IT  \n",
       "19672                      구글플레이 IT  \n",
       "19673                   구글플레이스토어 IT  \n",
       "\n",
       "[19674 rows x 5 columns]"
      ]
     },
     "execution_count": 4,
     "metadata": {},
     "output_type": "execute_result"
    }
   ],
   "source": [
    "df['AREA']='IT'\n",
    "df['C1'] = df['C1'].apply(str)\n",
    "df['C2'] = df['C1'] + ' ' + df['AREA']\n",
    "df"
   ]
  },
  {
   "cell_type": "code",
   "execution_count": 5,
   "metadata": {},
   "outputs": [],
   "source": [
    "text_feat = df['C2'].copy()"
   ]
  },
  {
   "cell_type": "markdown",
   "metadata": {
    "_cell_guid": "0e5e7b86-5ad3-3a83-65a9-016bdb745904",
    "id": "YaPb937r-ZES"
   },
   "source": [
    "Looks like the lengthy is the message, more likely it is a spam. Let's not forget this"
   ]
  },
  {
   "cell_type": "markdown",
   "metadata": {
    "_cell_guid": "2ae25190-c9b7-101b-6042-e8f9cf382e46",
    "id": "CESA2g1Z-ZET"
   },
   "source": [
    "### Text processing and vectorizing our meddages"
   ]
  },
  {
   "cell_type": "code",
   "execution_count": 6,
   "metadata": {
    "_cell_guid": "078389bf-00ec-13f4-78cd-f6ea818ff6f4",
    "id": "e79EDCAt-ZEY"
   },
   "outputs": [],
   "source": [
    "#stopwords\n",
    "def text_process(text):\n",
    "    \n",
    "    text = text.translate(str.maketrans('', '', string.punctuation))\n",
    "    text = [word for word in text.split() if word.lower() not in stopwords.words()]\n",
    "    \n",
    "    return \" \".join(text)"
   ]
  },
  {
   "cell_type": "code",
   "execution_count": 7,
   "metadata": {
    "_cell_guid": "79b2e2b0-008d-b648-1031-f94c848a3064",
    "id": "XLnPDMYn-ZEa"
   },
   "outputs": [],
   "source": [
    "text_feat = text_feat.apply(text_process)"
   ]
  },
  {
   "cell_type": "code",
   "execution_count": 8,
   "metadata": {},
   "outputs": [
    {
     "name": "stderr",
     "output_type": "stream",
     "text": [
      "C:\\ProgramData\\Anaconda3\\lib\\site-packages\\sklearn\\externals\\joblib\\__init__.py:15: DeprecationWarning: sklearn.externals.joblib is deprecated in 0.21 and will be removed in 0.23. Please import this functionality directly from joblib, which can be installed with: pip install joblib. If this warning is raised when loading pickled models, you may need to re-serialize those models with scikit-learn 0.21+.\n",
      "  warnings.warn(msg, category=DeprecationWarning)\n"
     ]
    }
   ],
   "source": [
    "#모델 불러오기\n",
    "from sklearn.linear_model import LogisticRegression\n",
    "from sklearn import datasets\n",
    "import pickle\n",
    "from sklearn.externals import joblib\n",
    "\n",
    "with open('TVectorizer.pkl', 'rb') as file:  \n",
    "    vectorizer= pickle.load(file)\n",
    "with open('model_total1.pkl', 'rb') as file:  \n",
    "    loaded_model1= pickle.load(file)"
   ]
  },
  {
   "cell_type": "code",
   "execution_count": 9,
   "metadata": {},
   "outputs": [],
   "source": [
    "#벡터라이즈 - 벡터라이즈도 트레이닝 데이터에 fit 한 벡터라이즈를 써야하기 때문에 저장하고 불러와야함\n",
    "features = vectorizer.transform(text_feat).toarray()"
   ]
  },
  {
   "cell_type": "code",
   "execution_count": 10,
   "metadata": {},
   "outputs": [],
   "source": [
    "#값 예측하기\n",
    "pred = loaded_model1.predict(features)"
   ]
  },
  {
   "cell_type": "code",
   "execution_count": 12,
   "metadata": {},
   "outputs": [
    {
     "data": {
      "text/plain": [
       "0.9969502897224763"
      ]
     },
     "execution_count": 12,
     "metadata": {},
     "output_type": "execute_result"
    }
   ],
   "source": [
    "from sklearn.metrics import accuracy_score\n",
    "accuracy_score(df.label,pred)"
   ]
  },
  {
   "cell_type": "code",
   "execution_count": 13,
   "metadata": {},
   "outputs": [],
   "source": [
    "df['Result'] = pred\n",
    "del df['C2']\n",
    "del df['AREA']"
   ]
  },
  {
   "cell_type": "code",
   "execution_count": 20,
   "metadata": {},
   "outputs": [],
   "source": [
    "df.to_excel('Result.xlsx')"
   ]
  },
  {
   "cell_type": "code",
   "execution_count": null,
   "metadata": {},
   "outputs": [],
   "source": [
    "#문제점 : 성능평가는 높은데 실제로 불량인데 정답으로 인식한 경우가 많음(반대로 정답인데 불량으로 인식한경우 실제 대답이 불량이었음)\n",
    "\n",
    "#예상 원인 \n",
    "#1. 정답응답에 비해 불량응답이 턱없이 적음(통합기준 1%도 안됨)\n",
    "#2. 대부분의 불량응답이 영어이기때문에 한글 불량응답을 잘 인식하지 못함 \n",
    "#3. 데이터는 보조인지까지 포함해 불량응답으로 분류되었기 때문에 TOM으로만 트레이닝할 경우 불량, 정답 분류가 실제와 다름\n"
   ]
  }
 ],
 "metadata": {
  "_change_revision": 260,
  "_is_fork": false,
  "accelerator": "GPU",
  "colab": {
   "collapsed_sections": [],
   "name": "sms-spam-detection-with-various-classifiers.ipynb",
   "provenance": []
  },
  "kernelspec": {
   "display_name": "Python 3",
   "language": "python",
   "name": "python3"
  },
  "language_info": {
   "codemirror_mode": {
    "name": "ipython",
    "version": 3
   },
   "file_extension": ".py",
   "mimetype": "text/x-python",
   "name": "python",
   "nbconvert_exporter": "python",
   "pygments_lexer": "ipython3",
   "version": "3.6.6"
  },
  "latex_envs": {
   "LaTeX_envs_menu_present": true,
   "autoclose": false,
   "autocomplete": true,
   "bibliofile": "biblio.bib",
   "cite_by": "apalike",
   "current_citInitial": 1,
   "eqLabelWithNumbers": true,
   "eqNumInitial": 1,
   "hotkeys": {
    "equation": "Ctrl-E",
    "itemize": "Ctrl-I"
   },
   "labels_anchors": false,
   "latex_user_defs": false,
   "report_style_numbering": false,
   "user_envs_cfg": false
  },
  "varInspector": {
   "cols": {
    "lenName": 16,
    "lenType": 16,
    "lenVar": 40
   },
   "kernels_config": {
    "python": {
     "delete_cmd_postfix": "",
     "delete_cmd_prefix": "del ",
     "library": "var_list.py",
     "varRefreshCmd": "print(var_dic_list())"
    },
    "r": {
     "delete_cmd_postfix": ") ",
     "delete_cmd_prefix": "rm(",
     "library": "var_list.r",
     "varRefreshCmd": "cat(var_dic_list()) "
    }
   },
   "types_to_exclude": [
    "module",
    "function",
    "builtin_function_or_method",
    "instance",
    "_Feature"
   ],
   "window_display": false
  }
 },
 "nbformat": 4,
 "nbformat_minor": 1
}
