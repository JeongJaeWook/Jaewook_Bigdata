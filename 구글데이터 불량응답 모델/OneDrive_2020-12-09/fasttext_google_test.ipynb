{
 "cells": [
  {
   "cell_type": "code",
   "execution_count": 3,
   "metadata": {},
   "outputs": [
    {
     "data": {
      "text/html": [
       "<div>\n",
       "<style scoped>\n",
       "    .dataframe tbody tr th:only-of-type {\n",
       "        vertical-align: middle;\n",
       "    }\n",
       "\n",
       "    .dataframe tbody tr th {\n",
       "        vertical-align: top;\n",
       "    }\n",
       "\n",
       "    .dataframe thead th {\n",
       "        text-align: right;\n",
       "    }\n",
       "</style>\n",
       "<table border=\"1\" class=\"dataframe\">\n",
       "  <thead>\n",
       "    <tr style=\"text-align: right;\">\n",
       "      <th></th>\n",
       "      <th>ID</th>\n",
       "      <th>label</th>\n",
       "      <th>C1</th>\n",
       "    </tr>\n",
       "  </thead>\n",
       "  <tbody>\n",
       "    <tr>\n",
       "      <th>0</th>\n",
       "      <td>201927622</td>\n",
       "      <td>test</td>\n",
       "      <td>1</td>\n",
       "    </tr>\n",
       "    <tr>\n",
       "      <th>1</th>\n",
       "      <td>201927623</td>\n",
       "      <td>qprm</td>\n",
       "      <td>1</td>\n",
       "    </tr>\n",
       "    <tr>\n",
       "      <th>2</th>\n",
       "      <td>201927624</td>\n",
       "      <td>qwert</td>\n",
       "      <td>1</td>\n",
       "    </tr>\n",
       "    <tr>\n",
       "      <th>3</th>\n",
       "      <td>201927625</td>\n",
       "      <td>fgfghfg</td>\n",
       "      <td>1</td>\n",
       "    </tr>\n",
       "    <tr>\n",
       "      <th>4</th>\n",
       "      <td>201927626</td>\n",
       "      <td>pubg</td>\n",
       "      <td>1</td>\n",
       "    </tr>\n",
       "  </tbody>\n",
       "</table>\n",
       "</div>"
      ],
      "text/plain": [
       "          ID    label  C1\n",
       "0  201927622     test   1\n",
       "1  201927623     qprm   1\n",
       "2  201927624    qwert   1\n",
       "3  201927625  fgfghfg   1\n",
       "4  201927626     pubg   1"
      ]
     },
     "execution_count": 3,
     "metadata": {},
     "output_type": "execute_result"
    }
   ],
   "source": [
    "import pandas as pd\n",
    "\n",
    "df= pd.read_excel('../data/2019 google BAD sample(1-12).xlsx')\n",
    "df.columns =['ID','label','C1']\n",
    "df.head()\n"
   ]
  },
  {
   "cell_type": "code",
   "execution_count": 4,
   "metadata": {},
   "outputs": [
    {
     "data": {
      "text/html": [
       "<div>\n",
       "<style scoped>\n",
       "    .dataframe tbody tr th:only-of-type {\n",
       "        vertical-align: middle;\n",
       "    }\n",
       "\n",
       "    .dataframe tbody tr th {\n",
       "        vertical-align: top;\n",
       "    }\n",
       "\n",
       "    .dataframe thead th {\n",
       "        text-align: right;\n",
       "    }\n",
       "</style>\n",
       "<table border=\"1\" class=\"dataframe\">\n",
       "  <thead>\n",
       "    <tr style=\"text-align: right;\">\n",
       "      <th></th>\n",
       "      <th>ID</th>\n",
       "      <th>label</th>\n",
       "      <th>C1</th>\n",
       "    </tr>\n",
       "  </thead>\n",
       "  <tbody>\n",
       "    <tr>\n",
       "      <th>0</th>\n",
       "      <td>201927622</td>\n",
       "      <td>test</td>\n",
       "      <td>1</td>\n",
       "    </tr>\n",
       "    <tr>\n",
       "      <th>1</th>\n",
       "      <td>201927623</td>\n",
       "      <td>qprm</td>\n",
       "      <td>1</td>\n",
       "    </tr>\n",
       "    <tr>\n",
       "      <th>2</th>\n",
       "      <td>201927624</td>\n",
       "      <td>qwert</td>\n",
       "      <td>1</td>\n",
       "    </tr>\n",
       "    <tr>\n",
       "      <th>3</th>\n",
       "      <td>201927625</td>\n",
       "      <td>fgfghfg</td>\n",
       "      <td>1</td>\n",
       "    </tr>\n",
       "    <tr>\n",
       "      <th>4</th>\n",
       "      <td>201927626</td>\n",
       "      <td>pubg</td>\n",
       "      <td>1</td>\n",
       "    </tr>\n",
       "    <tr>\n",
       "      <th>...</th>\n",
       "      <td>...</td>\n",
       "      <td>...</td>\n",
       "      <td>...</td>\n",
       "    </tr>\n",
       "    <tr>\n",
       "      <th>27902</th>\n",
       "      <td>201927617</td>\n",
       "      <td>없음</td>\n",
       "      <td>0</td>\n",
       "    </tr>\n",
       "    <tr>\n",
       "      <th>27903</th>\n",
       "      <td>201927618</td>\n",
       "      <td>애니팡</td>\n",
       "      <td>0</td>\n",
       "    </tr>\n",
       "    <tr>\n",
       "      <th>27904</th>\n",
       "      <td>201927619</td>\n",
       "      <td>앱스토어</td>\n",
       "      <td>0</td>\n",
       "    </tr>\n",
       "    <tr>\n",
       "      <th>27905</th>\n",
       "      <td>201927620</td>\n",
       "      <td>애플스토어</td>\n",
       "      <td>0</td>\n",
       "    </tr>\n",
       "    <tr>\n",
       "      <th>27906</th>\n",
       "      <td>201927621</td>\n",
       "      <td>플레이스토아</td>\n",
       "      <td>0</td>\n",
       "    </tr>\n",
       "  </tbody>\n",
       "</table>\n",
       "<p>27907 rows × 3 columns</p>\n",
       "</div>"
      ],
      "text/plain": [
       "              ID    label  C1\n",
       "0      201927622     test   1\n",
       "1      201927623     qprm   1\n",
       "2      201927624    qwert   1\n",
       "3      201927625  fgfghfg   1\n",
       "4      201927626     pubg   1\n",
       "...          ...      ...  ..\n",
       "27902  201927617       없음   0\n",
       "27903  201927618      애니팡   0\n",
       "27904  201927619     앱스토어   0\n",
       "27905  201927620    애플스토어   0\n",
       "27906  201927621   플레이스토아   0\n",
       "\n",
       "[27907 rows x 3 columns]"
      ]
     },
     "execution_count": 4,
     "metadata": {},
     "output_type": "execute_result"
    }
   ],
   "source": [
    "df"
   ]
  },
  {
   "cell_type": "code",
   "execution_count": 5,
   "metadata": {},
   "outputs": [],
   "source": [
    "#fasttext에서 사용될 포맷으로 저장하려함\n",
    "train = open('google_train','w',encoding='utf-8')\n",
    "   "
   ]
  },
  {
   "cell_type": "code",
   "execution_count": 6,
   "metadata": {},
   "outputs": [],
   "source": [
    "#fasttext 포맷으로 저장\n",
    "#27854\n",
    "for index,row in df.iterrows():\n",
    "    #print(row[\"label\"])\n",
    "    print(f'__label__{row[\"label\"]} {row[\"C1\"]}', file=train)"
   ]
  },
  {
   "cell_type": "markdown",
   "metadata": {},
   "source": [
    "# Fasttext"
   ]
  },
  {
   "cell_type": "code",
   "execution_count": 7,
   "metadata": {},
   "outputs": [],
   "source": [
    "import fasttext\n",
    "model = fasttext.train_supervised('google_train')\n",
    "#model.save_model(\"google_train.bin\")\n",
    "#model = fasttext.load_model('google_train.bin')\n"
   ]
  },
  {
   "cell_type": "code",
   "execution_count": 8,
   "metadata": {},
   "outputs": [
    {
     "name": "stdout",
     "output_type": "stream",
     "text": [
      "['__label__플레이스토어', '__label__구글', '__label__구글플레이', '__label__앱스토어', '__label__구글스토어', '__label__구글플레이스토어', '__label__원스토어', '__label__플레이', '__label__play스토어', '__label__play', '__label__애플', '__label__애플스토어', '__label__카카오', '__label__구글플레이어', '__label__구글앱스토어', '__label__없음', '__label__app', '__label__카카오게임', '__label__애니팡', '__label__리니지', '__label__넥슨', '__label__모름', '__label__넷마블', '__label__애플앱스토어', '__label__App', '__label__Play', '__label__google', '__label__아이폰', '__label__배틀그라운드', '__label__스팀', '__label__모두의마블', '__label__playstore', '__label__쿠키런', '__label__앱', '__label__Play스토어', '__label__아이튠즈', '__label__구글앱', '__label__안드로이드', '__label__한게임', '__label__네이버', '__label__Google', '__label__사천성', '__label__구글play', '__label__플레이스토아', '__label__카카오톡', '__label__피망', '__label__플래이스토어', '__label__모두의', '__label__ios', '__label__삼성', '__label__기억안남', '__label__검은사막', '__label__없다', '__label__맞고', '__label__APP', '__label__잘', '__label__아이폰앱스토어', '__label__PLAY', '__label__윈스토어', '__label__구글플래이', '__label__컴투스', '__label__캔디크러쉬', '__label__PLAY스토어', '__label__클래시로얄', '__label__스토어', '__label__리니지m', '__label__appstore', '__label__삼국지', '__label__롤', '__label__apple', '__label__브롤스타즈', '__label__프렌즈팝', '__label__카카오프렌즈', '__label__세븐나이츠', '__label__하스스톤', '__label__배그', '__label__피파', '__label__원', '__label__카카오게임즈', '__label__모르겠음', '__label__엡스토어', '__label__티스토어', '__label__구글마켓', '__label__블리자드', '__label__마켓', '__label__갤럭시스토어', '__label__없습니다', '__label__신맞고', '__label__메이플스토리', '__label__플레이어', '__label__앵그리버드', '__label__넥센', '__label__구글플레이,', '__label__게임', '__label__슈퍼셀', '__label__카트라이더', '__label__클래시오브클랜', '__label__크레이지아케이드', '__label__구글play스토어', '__label__녹스', '__label__플레이스터어', '__label__피파온라인', '__label__IOS', '__label__마블', '__label__서든어택', '__label__모르겠다', '__label__test', '__label__리니지2', '__label__플레어스토어', '__label__잘모름', '__label__오리진', '__label__플레이스토', '__label__리니지M', '__label__플레이스토어,', '__label__구글플래이스토어', '__label__베틀그라운드', '__label__테트리스', '__label__클래시', '__label__구굴', '__label__t스토어', '__label__생각안남', '__label__플레이구글', '__label__플래이', '__label__몰라요', '__label__steam', '__label__프렌즈팝콘', '__label__프렌즈', '__label__아스팔트', '__label__고스톱', '__label__앱스토어,', '__label__0', '__label__rnrmf', '__label__게임빌', '__label__EA', '__label__스타크래프트', '__label__아이러브니키', '__label__Appstore', '__label__플레이온', '__label__캔디팡', '__label__레알팜', '__label__아이러브커피', '__label__ea', '__label__플레이스테이션', '__label__원스토아', '__label__오버워치', '__label__게임을', '__label__프렌즈마블', '__label__one', '__label__포켓몬고', '__label__구글플레이앱스토어', '__label__플레이앱스토어', '__label__꿈의정원', '__label__기억이', '__label__AppStore', '__label__없다.', '__label__모바일', '__label__리그오브레전드', '__label__카카오게임샵', '__label__GOOGLE', '__label__구글,', '__label__다음', '__label__클래쉬로얄', '__label__구글스토아', '__label__...', '__label__모르겠어요', '__label__갤럭시', '__label__어플스토어', '__label__nc', '__label__애플앱', '__label__이사만루', '__label__야구', '__label__nexon', '__label__넷플릭스', '__label__루미큐브', '__label__잘모르겠다', '__label__에플스토어', '__label__닌텐도', '__label__에니팡', '__label__그냥', '__label__구글플레이스', '__label__캔디크러쉬사가', '__label__플레이어스토어', '__label__Playstore', '__label__없어요', '__label__.', '__label__마인크래프트', '__label__구글플레', '__label__T스토어', '__label__ahfma', '__label__포트리스', '__label__PUBG', '__label__app스토어', '__label__googleplay', '__label__프레이스토어', '__label__오케이캐쉬백', '__label__다함께', '__label__디아블로', '__label__없습니다.', '__label__구글프레이', '__label__모른다', '__label__애니팡2', '__label__쥬시팡', '__label__앱스토어(애플)', '__label__구글스토', '__label__djqtdma', '__label__보글보글', '__label__sk', '__label__kakao', '__label__플스', '__label__퍼즐', '__label__앱스토아', '__label__구글플레이스토아', '__label__프렌즈타운', '__label__삼성앱', '__label__피파온라인4', '__label__잘모르겠음', '__label__카이로소프트', '__label__플레리스토어', '__label__쿠앱', '__label__엔씨', '__label__별이되어라', '__label__프랜즈팝', '__label__컴투스프로야구', '__label__꿈의', '__label__파일썬', '__label__캔디크러쉬소다', '__label__모르겠습니다', '__label__아이튠', '__label__프렌즈레이싱', '__label__꿈의집', '__label__플레이게임', '__label__딱히', '__label__카카오,', '__label__구글게임', '__label__리니지2m', '__label__바람의나라', '__label__?', '__label__피망맞고', '__label__아이템매니아', '__label__ok', '__label__잘모르겠습니다', '__label__게임스토어', '__label__2', '__label__뉴맞고', '__label__피아노타일', '__label__오케이캐시백', '__label__ncsoft', '__label__게임런처', '__label__버블버블', '__label__pubg', '__label__피망뉴맞고', '__label__구글플레이스토어,', '__label__크아', '__label__G5', '__label__PLAYSTORE', '__label__FIFA', '__label__메이플스토리m', '__label__구글PLAY', '__label__fm', '__label__NC', '__label__축구', '__label__배틀로얄', '__label__에플앱스토어', '__label__로드모바일', '__label__nc소프트', '__label__음양사', '__label__아이스토어', '__label__캔디', '__label__파이널판타지', '__label__앱스토', '__label__vmffpdl', '__label__paly스토어', '__label__마이홈', '__label__하나', '__label__위베어베어스', '__label__플레이스토이', '__label__심즈', '__label__드래곤플라이트', '__label__..', '__label__애플게임', '__label__펍지', '__label__플레이스토오', '__label__이사만루2019', '__label__펄어비스', '__label__슈팅', '__label__카카오페이지', '__label__에브리타운', '__label__구글프레이어', '__label__선데이토즈', '__label__구글플레어', '__label__어벤져스', '__label__구굴플레이', '__label__애니팡,', '__label__테라', '__label__원스토어,', '__label__풀레이스토어', '__label__s', '__label__구긓', '__label__플레이그라운드', '__label__질문이', '__label__스도쿠', '__label__구글스통', '__label__카카오스토어', '__label__게임엔젤', '__label__프렌즈사천성', '__label__메이플', '__label__iOS', '__label__삼성앱스토어', '__label__베틀', '__label__ok캐쉬백', '__label__모바일배틀그라운드', '__label__안드로이드마켓', '__label__몰라', '__label__크레이지', '__label__스타리라', '__label__모르겠다.', '__label__앵그리', '__label__구글풀레이', '__label__바운스볼', '__label__왕이', '__label__소니', '__label__구글Play스토어', '__label__놀러와', '__label__구글앱스토어,', '__label__홈스케이프', '__label__iso', '__label__파티게임즈', '__label__윈드러너', '__label__플헤이스토어', '__label__game', '__label__king', '__label__모바일배그', '__label__plat스토어', '__label__크래쉬로얄', '__label__play스토아', '__label__r구글', '__label__doqtmxhdj', '__label__플레이스토어.', '__label__포트나이트', '__label__supercell', '__label__구글스테이션', '__label__카카오앱', '__label__APPSTORE', '__label__섯다', '__label__경험없음', '__label__팜', '__label__트라하', '__label__와우', '__label__앱플레이', '__label__고글', '__label__아케이드', '__label__플', '__label__아이튠스', '__label__구글PLAY스토어', '__label__rpdla', '__label__구글플레이게임', '__label__마구마구', '__label__Apple', '__label__ONE', '__label__playrix', '__label__ios앱스토어', '__label__Crowd', '__label__펜타스톰', '__label__네이버앱', '__label__플에이스토어', '__label__플레이스트어', '__label__플레시스토어', '__label__NC소프트', '__label__play앱스토어', '__label__퍼즐게임', '__label__각성', '__label__기억나지', '__label__팡팡', '__label__구슬스토어', '__label__구글플렝', '__label__구글플레이스토', '__label__플레이스토리', '__label__유튜브', '__label__베그', '__label__구', '__label__???', '__label__기억이안난다', '__label__다함께차차차', '__label__애플스토어,', '__label__plat', '__label__생각', '__label__일곱개의', '__label__삼성갤럭시스토어', '__label__SK', '__label__다운로드', '__label__피망포커', '__label__블레이드', '__label__플레인스토어', '__label__궁수의전설', '__label__레이싱', '__label__카카오톡게임', '__label__좋아요', '__label__지구의마지막날', '__label__잘모르겠습니다.', '__label__퀴즈', '__label__fifa', '__label__클래식로얄', '__label__다나와', '__label__붐비치', '__label__앱스토어(iOS)', '__label__모모', '__label__신명', '__label__앱스토러', '__label__기본', '__label__애니팡3', '__label__플에이', '__label__플레이스통', '__label__원게임', '__label__애플앱스토어,', '__label__구글스토어,', '__label__Play앱스토어', '__label__rpg', '__label__황제라칭하라', '__label__ahfm', '__label__플레이스토어?', '__label__에플', '__label__구글플', '__label__ea스포츠', '__label__소녀전선', '__label__프린세스', '__label__3', '__label__티월드', '__label__폰', '__label__캔디크러시', '__label__123', '__label__1', '__label__검은', '__label__장기', '__label__플레이앱', '__label__play구글', '__label__클래시오브로얄', '__label__마비노기', '__label__구글플레이서비스', '__label__구글풀레이어', '__label__오캐이캐쉬백', '__label__iTunes', '__label__googlestore', '__label__모르겟다', '__label__달빛조각사', '__label__게임소프트', '__label__무료', '__label__놀러와마이홈', '__label__타이니팜', '__label__신맞고,', '__label__웹스토어', '__label__차차차', '__label__배틀', '__label__10000', '__label__유희왕', '__label__오케이', '__label__ISO', '__label__반지', '__label__유투브', '__label__엔씨소프트', '__label__구굴스토어', '__label__삼성플레이스토어', '__label__NBA', '__label__맛고', '__label__구굴플레이어', '__label__리니지엠', '__label__마리오', '__label__영웅', '__label__달콤소프트', '__label__써든어택', '__label__블록퍼즐', '__label__갑자기', '__label__1010', '__label__ㅇ', '__label__드래곤볼', '__label__NOX', '__label__paly', '__label__구매한', '__label__제5인격', '__label__애니팡사천성', '__label__플레어', '__label__기억이안남', '__label__트립', '__label__스마트폰', '__label__쿠팡', '__label__앱스', '__label__기적', '__label__dffd', '__label__ㅣㅣㅣㅣ', '__label__gghrhhh', '__label__tprtm', '__label__dkfjkdjf', '__label__fdf', '__label__Qkfmek', '__label__2k', '__label__5RNRMF', '__label__2121', '__label__kjh', '__label__호우해요', '__label__I90I', '__label__tetris', '__label__rff', '__label__l', '__label__qprm', '__label__dovm', '__label__e', '__label__do', '__label__feffd', '__label__KOF', '__label__rtefhfgh', '__label__ad', '__label__게임없음', '__label__뱅드림', '__label__마리오카트', '__label__r구글플레이스토어', '__label__플러이스토어', '__label__요리', '__label__shb', '__label__노브밍아', '__label__없다요요', '__label__v플레이온', '__label__플레이스토어게임', '__label__브레인아웃', '__label__주시팡', '__label__앰스토어', '__label__경험', '__label__구글플레이샵', '__label__떠오르는', '__label__대한돌이', '__label__삼국전', '__label__즐톡', '__label__모릅니다', '__label__원스토어,플레이스토어', '__label__게임이', '__label__카드라이터', '__label__메이폴', '__label__구글player', '__label__구굴스토아', '__label__네모로직', '__label__기억이안나요', '__label__FIFA게임', '__label__리니즈', '__label__이름도', '__label__playstroe', '__label__모름겠음', '__label__포크나이트', '__label__플래이스ㅡ토어', '__label__블루택스', '__label__게임런져', '__label__삼성어플', '__label__온스토어', '__label__엠게임', '__label__랜덤디팬스', '__label__ㅇㅐㅂ스토어', '__label__한게임,', '__label__드레곤엘프', '__label__피파2020', '__label__Playrix', '__label__스마트스토어', '__label__로얄플래쉬', '__label__자동사냥', '__label__넥슨,피파,위닝,카트라이더,', '__label__엥ㄱ', '__label__(애플)', '__label__메이폴스토리', '__label__구글게임스토어', '__label__마노카페', '__label__없음이요', '__label__로얄클래시', '__label__사섬', '__label__스팀,', '__label__애니팡4', '__label__안드로이드앱', '__label__셧다', '__label__구글슽토', '__label__에픽게임즈', '__label__방치형', '__label__생각나는게', '__label__스도쿠,', '__label__구글플레이앱', '__label__플로어스토어', '__label__아이스토아', '__label__fgdfhgjkhklu', '__label__다날', '__label__기니디', '__label__어몽어스', '__label__t삼성', '__label__play스토어(지금은', '__label__맞고의', '__label__캔디크로쉬사가', '__label__프렌즈시리즈', '__label__구글.삼성.네이버', '__label__쿠키런,메이플스토리M', '__label__플레이스토어지', '__label__플ㄹ', '__label__피망,포켓몬', '__label__캔디클러쉬', '__label__플레이게임즈', '__label__리니지,', '__label__탭소닉', '__label__피파4', '__label__구그ㅜㄹ', '__label__플레이스토워', '__label__아담스', '__label__모뉴멘트', '__label__LD', '__label__오케이캐쉬백오락', '__label__템플런', '__label__캔디크로시', '__label__맞고,', '__label__갤럭시스토어,원스토어,구글스토어', '__label__팝스토어', '__label__오리온', '__label__카트', '__label__리지', '__label__그램', '__label__해리포터', '__label__goole스토어', '__label__the', '__label__대검', '__label__구글웹', '__label__구굴앱스토어', '__label__티스토처', '__label__블루스텍스', '__label__크레시오브', '__label__플레이스초어', '__label__NFLY', '__label__구글플리에', '__label__fl리니지', '__label__아이폰에', '__label__마이리틀셰프', '__label__노는', '__label__MLB', '__label__ply', '__label__페그오', '__label__라나자', '__label__베인글로리', '__label__구글스토어앱', '__label__구글웹스토어', '__label__sega', '__label__틀린그림찾기', '__label__ok케쉬백', '__label__사격', '__label__플레이스도어', '__label__구글플래이어', '__label__마이리틀세프', '__label__뉴맞고,루미큐브', '__label__서든어텍', '__label__플레이스토어,원스토어,갤럭시스토어', '__label__퍼그', '__label__캔디크러시소다', '__label__평점', '__label__로지레다로다이', '__label__사천왕', '__label__트레져쿠르즈', '__label__구글스토어/원스토어', '__label__국', '__label__카카오맵', '__label__스팀,구글플레이,애플스토어', '__label__스토어앱', '__label__넥슨,', '__label__썬든', '__label__조이시티', '__label__플레리', '__label__까먹음', '__label__snow', '__label__google플레이', '__label__아이앱', '__label__디아블로,오목', '__label__Gt', '__label__아무것도', '__label__몲모름', '__label__응?', '__label__파아널판타시', '__label__원스노어', '__label__구글다운로드', '__label__던전왕', '__label__회사명', '__label__스페셜솔져', '__label__애플스토어,구글스토어', '__label__마인크레프트', '__label__해전', '__label__킹', '__label__앱스토어,플레이스토어', '__label__장기의달인', '__label__iphone', '__label__블루마블', '__label__sk스토어', '__label__게임랜드', '__label__픞레이', '__label__락게임', '__label__카캌오', '__label__플이어', '__label__구글플러스', '__label__맥북', '__label__play스토어]', '__label__피파2018', '__label__스터어', '__label__파이트', '__label__play스토ㅓ', '__label__게임메카', '__label__기억안남ㅁ', '__label__microsoft', '__label__클로시얄', '__label__청설', '__label__플네이스토어', '__label__super', '__label__타이니', '__label__디즈니', '__label__철권', '__label__게불루션', '__label__카카오..?', '__label__슈스엠', '__label__서머너즈워', '__label__버그', '__label__보물박스', '__label__리그오브', '__label__엠앤엠', '__label__PIAY스토어', '__label__어플앱스토어', '__label__네이버게임', '__label__크래시오브클랜', '__label__투디스크', '__label__피크로스', '__label__크래쉬트리플', '__label__구글웹플레이', '__label__gooleplay', '__label__아리아', '__label__구글스ㅌㅎ오', '__label__좀비', '__label__보드게임', '__label__stove', '__label__gogle', '__label__넥마블', '__label__마기도리', '__label__구글플레이러', '__label__이펀컴퍼니', '__label__피크', '__label__블소', '__label__게임추천', '__label__plystore', '__label__PIAY', '__label__toon', '__label__네코아츠메', '__label__안함', '__label__Goolgle', '__label__cacao', '__label__닉네임', '__label__생각이안남', '__label__play스통', '__label__OK', '__label__라그나로크', '__label__플레이스스토어ㅓ', '__label__검은사막모바일', '__label__녹스앱', '__label__하드스톤', '__label__platstore', '__label__플레이스토어ㅏ', '__label__구글앱플레이어', '__label__카트라이트', '__label__거상', '__label__카카오게임?', '__label__리리', '__label__강가나다', '__label__켄디크러쉬사가', '__label__큰솔', '__label__게임을안합니다', '__label__모르겠슴', '__label__모르겠습니다ㅜㅜ', '__label__글쎄잘뭐지', '__label__비폴더', '__label__플레이마켓', '__label__앱스토어?,구글스토어?,오리진?(심즈)', '__label__메플', '__label__슈스비', '__label__프랜즈레이싱', '__label__크몽', '__label__스크린타임', '__label__11번가', '__label__OK캐시백', '__label__네이버앱스통', '__label__moonton', '__label__Dream', '__label__바람의', '__label__다크어벤져', '__label__닌텐도위', '__label__방치소녀', '__label__위베어베이스', '__label__마피아', '__label__의견없음', '__label__Alien', '__label__미르의전설', '__label__트레저크루즈', '__label__풍운', '__label__APEX', '__label__엄마가게임을', '__label__옶음', '__label__비밀이얌((하투))', '__label__gamevil', '__label__Nexon', '__label__원드라이브', '__label__APP스토어', '__label__아이툰즈', '__label__제5인격(앱스토어)', '__label__EA스포츠', '__label__슈퍼마리오', '__label__다크에덴', '__label__던전앤파이터', '__label__리니지레볼루션2', '__label__아이폰ios', '__label__연쇄교육', '__label__플레이엔씨', '__label__모리겠다', '__label__무슨말인지모르겠음', '__label__메니져게임', '__label__모바일천국', '__label__퍼즐보드', '__label__본인인증', '__label__아이패드앱수토어', '__label__다함께붕붕붕', '__label__플레아', '__label__롤러코스터타이쿤', '__label__액티비전', '__label__넥슨트라하', '__label__마크', '__label__게임앱스토어', '__label__라스스톤', '__label__없음.', '__label__사커', '__label__게임팡', '__label__구글슽초어', '__label__e던전', '__label__무료게임', '__label__데브', '__label__갤럭시s8', '__label__홈런배틀', '__label__g마켓', '__label__쿠키런?', '__label__천명', '__label__레니지', '__label__qwert', '__label__캔디플래쉬', '__label__카카오톡겜', '__label__fgfghfg', '__label__열혈사제', '__label__r고스돕', '__label__스타크레프트', '__label__유투브광고에', '__label__skdjfksjd', '__label__스토아', '__label__반다이', '__label__탱크', '__label__해', '__label__itunes', '__label__게임로프트', '__label__린더브라이트링어', '__label__극,ㄹ', '__label__몰라몰라몰라', '__label__PES', '__label__goggle', '__label__감사합니다', '__label__클래지오브클랜', '__label__앤씨소프트', '__label__ddddd', '__label__펍지주식회사', '__label__rkdh', '__label__탈출게임', '__label__구글존', '__label__a스토아', '__label__플래쉬', '__label__djqtdjdy', '__label__zkzkdh', '__label__어비스', '__label__삼성스토어', '__label__플레이시토어', '__label__아니여', '__label__android', '__label__아쿠아스토리', '__label__배달의민족', '__label__JAM', '__label__전략', '__label__스타', '__label__틸리', '__label__애니콜', '__label__댜후두', '__label__배틀크라운드', '__label__구플', '__label__카카오게임시리즈', '__label__토렌트', '__label__플레이on', '__label__아이언하이드', '__label__팔콤', '__label__스페셜', '__label__배틀넷', '__label__우우', '__label__rnrnf', '__label__아아', '__label__플레이구글,삼성앱', '__label__dufhslk', '__label__구글스토어ㅗ', '__label__아이폰앱', '__label__vzxczxcxz', '__label__에픽', '__label__헝그리샤크', '__label__앱다운', '__label__플레이ㅡ토어', '__label__안드로이드앱스토어', '__label__람보르', '__label__캐쉬백게임', '__label__d앱스토어', '__label__냥코대전쟁', '__label__모르겠음.', '__label__천기온라인', '__label__노블게임즈', '__label__원스터어', '__label__낱말', '__label__윈드런너', '__label__플레이스토어(구글플레이)', '__label__qorm', '__label__APPstore', '__label__모돈컴뱃5', '__label__난', '__label__엑티비전', '__label__고글플레이', '__label__구글스터어', '__label__진실', '__label__없ㅈ다', '__label__rterty', '__label__캐슬크래쉬', '__label__플레이인', '__label__장군', '__label__블레이드앤소울레볼루션', '__label__ㄴㅇㄹ', '__label__플렐이', '__label__모르겠ㄷ음', '__label__생각나는게없음', '__label__테크니카Q', '__label__리니ㅣㅈ', '__label__다함꼐', '__label__이플레이', '__label__게임런치', '__label__g', '__label__넥슨?', '__label__goole', '__label__팔라독', '__label__선호사항없음', '__label__라이프이팩터', '__label__chch', '__label__드림피아노', '__label__-', '__label__vjwmf', '__label__모름..', '__label__pingpong', '__label__구글스토리', '__label__구글플레레', '__label__규굴플레이', '__label__미어', '__label__lg스토어', '__label__사찬상', '__label__구글플ㄹ이', '__label__dj', '__label__fgbfdsd', '__label__떠오르는게없다', '__label__자니니', '__label__모비', '__label__파이날판타지', '__label__sdf', '__label__트림', '__label__sk게임', '__label__네오위즈', '__label__노솔', '__label__월드워라이징', '__label__맥슨', '__label__sgswr', '__label__fl', '__label__카트라이드', '__label__애드박스', '__label__캐쉬백앤게임', '__label__sfsdf', '__label__카이스트', '__label__ok케시백앱', '__label__로얄크러쉬', '__label__fghj', '__label__우너스토어', '__label__snsdlej', '__label__몰라요.', '__label__vmffpdltmxhdj', '__label__아이튠주', '__label__토킹톰골드런', '__label__레전드', '__label__Playsotre', '__label__adfadad', '__label__free', '__label__특별히', '__label__스네이크', '__label__ssfsf', '__label__액션퍼즐패밀리', '__label__수퍼셀', '__label__플래이스토', '__label__롤링스카이', '__label__자동차', '__label__무료인지', '__label__rnrmfvmffpdl', '__label__유ㅗㄴ스토어', '__label__메탈', '__label__베이버', '__label__위디스크', '__label__Itunes', '__label__12412', '__label__dfgg', '__label__리얼포커', '__label__슬러거', '__label__파워디펜스', '__label__fgmfgm', '__label__마피아42', '__label__ekdma', '__label__구긓플레이스토어', '__label__아타리', '__label__nba', '__label__GooglePlayStore', '__label__ahffk', '__label__런레이스3D', '__label__FM2019', '__label__..............', '__label__스누피틀린그림찾기', '__label__플레이스코어', '__label__플레이스토어어', '__label__좀비스트라이커', '__label__다운컴아', '__label__3D운전게임', '__label__넷마', '__label__게임n', '__label__앱순위', '__label__갤럭시노트8', '__label__bloons', '__label__a', '__label__블록', '__label__구글플레이어샵', '__label__구글스토어.', '__label__골드런', '__label__TV에서', '__label__그글플레이', '__label__플레이스터아', '__label__logic', '__label__구긍', '__label__니드포스피드', '__label__구글,애플', '__label__원스투오', '__label__qo', '__label__fg', '__label__대항', '__label__쉐어박스', '__label__오늘만', '__label__서든스페셜', '__label__없ㅇ어요', '__label__디즈니팝', '__label__킹스레이드', '__label__모뉴먼트밸리', '__label__dfds', '__label__애플앱스터어', '__label__신비아파트', '__label__로직', '__label__플레이가든', '__label__츨레이스토어', '__label__에이지오브지', '__label__원스토', '__label__사드', '__label__구슬', '__label__프렌즈타워', '__label__레볼루션', '__label__앱슽어', '__label__yulryultl', '__label__flay', '__label__qkqh', '__label__열렙전사', '__label__gardenscapes', '__label__Rummikub', '__label__스마트화영', '__label__넷마을', '__label__대황제', '__label__검은사막M', '__label__ahendmlakqmf', '__label__플레잇스토어', '__label__sdfsdf', '__label__사막', '__label__아이폰스토어', '__label__구글플에이스토어', '__label__삼국지/플레이스토어', '__label__AF', '__label__x', '__label__오락', '__label__toonblaster', '__label__앱스토워', '__label__어플', '__label__traha', '__label__앱스토어(아이폰)', '__label__ahfmpTdma', '__label__mojang', '__label__ddd', '__label__데일리판타지', '__label__티', '__label__워커맨더', '__label__클래시로얄,야구', '__label__수퍼팡', '__label__플래이스토리', '__label__블쏘', '__label__plAY', '__label__오러허', '__label__플래이스토어ㅏ', '__label__BlueStaks(블루스택)', '__label__자바', '__label__플[레이스토', '__label__애니;팡', '__label__겔러그', '__label__프렌치', '__label__플레이스튜어', '__label__플레이스포터', '__label__다음게임', '__label__버즐', '__label__던전', '__label__던전히어로즈', '__label__구굴풀레이', '__label__삼성갤럭시', '__label__컴투스,', '__label__엠스토어', '__label__앙팡', '__label__구글앱스터오', '__label__ROLL', '__label__네모네모', '__label__브롤스터즈', '__label__그글', '__label__구글플레인', '__label__플레이위드', '__label__를레이스토어', '__label__삼성플레이', '__label__모르겟음', '__label__7day', '__label__플래이스토오', '__label__있는거', '__label__구를', '__label__구글앱스', '__label__스타키래프트', '__label__고스톰', '__label__com2us', '__label__homescapes', '__label__플레이스토어(구글)', '__label__,플레이스토어', '__label__스타일러스2', '__label__어어둡지', '__label__캐시슬라이드', '__label__빅파일', '__label__네오플', '__label__게임하지않음', '__label__게임안함', '__label__플레이스토어ㅓ', '__label__태블릿', '__label__카카오,원스토어', '__label__,', '__label__나우콤', '__label__몰랑', '__label__dd', '__label__doqt', '__label__카스온라인', '__label__gsgdxv', '__label__자동차경주', '__label__검은사막m', '__label__엇음', '__label__링이쉬', '__label__무슨말인지', '__label__블럭퍼즐', '__label__프렌즈런', '__label__카카오샵', '__label__ok캐시', '__label__플레이스토러', '__label__마이홍', '__label__스티', '__label__위닝11', '__label__나무위키', '__label__구글플레이리스트', '__label__안드로', '__label__프리게임', '__label__던져', '__label__한게임사천성', '__label__구글엡스토어', '__label__파일이즈', '__label__한게이', '__label__icloud', '__label__무신', '__label__클래쉬', '__label__조조전', '__label__정확히', '__label__ok캐시백', '__label__앱스토어..', '__label__삼성브랜드', '__label__가디언', '__label__flsl', '__label__미스틱', '__label__아이폰의', '__label__스트리트', '__label__질문이해가', '__label__play구글스토어', '__label__게임하우스', '__label__bt21', '__label__넥션', '__label__게임다운안함', '__label__탭타이탄2', '__label__컴스트', '__label__구를플레이', '__label__카트라이터', '__label__크레시로얄', '__label__원피스트레저크루즈', '__label__엔게임', '__label__행복의저택', '__label__카카오게임스', '__label__aap', '__label__뮤2', '__label__Play스토어(구글)', '__label__스파이더맨', '__label__없슴', '__label__캔디크러쉬젤리', '__label__구글스토에', '__label__아이오스', '__label__rryrtet', '__label__r구글스토어', '__label__쿵야', '__label__미뮤', '__label__치우신시에이는바람', '__label__무슨', '__label__구글플레이서', '__label__일반', '__label__모룸', '__label__안드로이드어플깔기', '__label__예스파일', '__label__앲,터어', '__label__다크나이츠', '__label__cvdfdsfsdf', '__label__dufyr', '__label__노고', '__label__잘머름', '__label__플로이다', '__label__모장', '__label__playt스토어', '__label__paper.io', '__label__2048', '__label__프레', '__label__글쎄', '__label__플레이스토어ㅠ', '__label__r구글플레이', '__label__물마시기', '__label__러쉬', '__label__게임인사이트', '__label__ㄹ휸ㄹㄹㄴㄹ', '__label__rkwk', '__label__엡스토어,넥슨', '__label__애나팡', '__label__sh', '__label__tydr', '__label__아스팔트,', '__label__플레이구글스토어', '__label__v', '__label__플레어시토어', '__label__n구글', '__label__정확히모름', '__label__stdjsetj', '__label__MLB이닝스19', '__label__무슨소린지모르겠음', '__label__언노운', '__label__올레마켓', '__label__지니어스', '__label__ㅓㅄ음', '__label__원스토어?', '__label__배수지랑갈래', '__label__mlb9이닝스', '__label__문항이', '__label__앱스ㅌ토어', '__label__몬스터길들이기', '__label__갤럭시앱스토어', '__label__앱스토어에서', '__label__없름', '__label__퓨처파이트', '__label__야구게임', '__label__FM', '__label__캔디크러쉬프렌즈사가', '__label__배틀그라운', '__label__플래시스토어', '__label__배틀스라운드', '__label__캐치마인드', '__label__잘기억안남', '__label__애니빵', '__label__플레이스통어', '__label__바이오하자드', '__label__플레', '__label__착한동전', '__label__민지', '__label__어떤질문인지를', '__label__잘모르겠다.', '__label__브롤', '__label__u+', '__label__레드무싸', '__label__vmf', '__label__스누피', '__label__이름모름', '__label__글세요', '__label__레볼류션', '__label__프로야구', '__label__핵심', '__label__구글플ㄹ레이', '__label__크래프톤', '__label__브랜드', '__label__라인팜', '__label__구글스트어', '__label__스팅,', '__label__구글플레이ㅣ', '__label__전쟁', '__label__에픽세븐', '__label__아이러브커피,', '__label__구글플래아스토어', '__label__지팡이', '__label__크래쉬', '__label__v플레이스토어', '__label__block', '__label__브룸스터즈', '__label__기억나지않는다', '__label__구긆,ㄹ레이', '__label__네이버,', '__label__서든', '__label__다크나이트', '__label__이상한마을', '__label__순향이', '__label__ahfmr', '__label__구글플레이스토어,원스토어', '__label__g7', '__label__모르겠', '__label__애폴', '__label__구글플에이', '__label__스타그래프트', '__label__오마이하우스', '__label__에오스', '__label__16000', '__label__게임천국', '__label__스프링필드', '__label__사람사랑', '__label__안녕하세요저느아장', '__label__캐리비언의해적', '__label__구글플레이스스토어', '__label__소녀공주', '__label__템플런(Temple', '__label__마이카페', '__label__1000', '__label__노블록스', '__label__넷마을,', '__label__폰에', '__label__ok캐시백게임', '__label__T', '__label__0.11458333333333333', '__label__레인보우식스', '__label__쌍삼국지', '__label__궁수의', '__label__아이온', '__label__구글플에리', '__label__스톤헨즈', '__label__티앱', '__label__구글소토어', '__label__홈페이지', '__label__좀비고', '__label__zkxhr', '__label__스마트', '__label__블레드앤소울', '__label__팬타스톰', '__label__플레이어앱', '__label__adf', '__label__ㅠㅡㄹ레이스토어', '__label__게임박스', '__label__FACE', '__label__Googleplay', '__label__Playt스토어', '__label__알고', '__label__라스트오리진', '__label__플레이슽ㅗ어', '__label__녹스?', '__label__검은사막온라인', '__label__카카오게임,', '__label__쌤쌤마트', '__label__크루세이더', '__label__ubi', '__label__마인', '__label__unity', '__label__애플아케이드', '__label__알아요', '__label__zcxbzxcbxc', '__label__아이델', '__label__프랜징레이싱', '__label__장기도사', '__label__심파일', '__label__f브랝', '__label__이게', '__label__NO', '__label__소울나이트', '__label__삐씨', '__label__인기게임', '__label__프렌즈팝.', '__label__앱스터아', '__label__t스토아', '__label__농구', '__label__ㅜ글스토어', '__label__sadas', '__label__151241454', '__label__위', '__label__모마', '__label__클오클', '__label__키커', '__label__playstore,', '__label__구글플레티스토어', '__label__리그오브레젼드', '__label__아이러브마트', '__label__이스포츠', '__label__for', '__label__APPLE', '__label__구글플렝;', '__label__구글스텅', '__label__애플스토아', '__label__두글', '__label__모나와', '__label__스타그레프트', '__label__위베어베어스더퍼즐', '__label__no', '__label__TOP', '__label__턴제', '__label__naver', '__label__슬러거-', '__label__모두에마블', '__label__신맛고', '__label__피망게임', '__label__fps', '__label__0.18958333333333333', '__label__구글수토어', '__label__피파,', '__label__dbkema', '__label__duvsqn', '__label__천무', '__label__더원', '__label__아마존', '__label__라플라스', '__label__몰겠다', '__label__uplay,', '__label__i스토어', '__label__fd', '__label__브르스타즈', '__label__스페셜포스', '__label__테니스', '__label__히든씨티', '__label__서머너즈', '__label__vlvk', '__label__유프로아', '__label__멜론', '__label__playsotre', '__label__아이폰앱스토어,', '__label__에이지', '__label__dadsf', '__label__드레곤플라이트', '__label__배틀그라운드,컴투스프로야구', '__label__1945', '__label__r', '__label__갤럽시', '__label__왕이되는자', '__label__구글플레이어,애니팡', '__label__저는', '__label__포케몬고', '__label__fdshgfh', '__label__난닝구', '__label__앱스토어...', '__label__플래잇토오', '__label__질문을', '__label__ms', '__label__2313213', '__label__1원스토어', '__label__뮤오리진', '__label__게임센터', '__label__앱스통', '__label__검은모바일', '__label__sdfsfsf', '__label__흥미', '__label__엔스토어', '__label__gh', '__label__스카이', '__label__fhdfh', '__label__심시티', '__label__dgdd', '__label__프렌지', '__label__붕괴3', '__label__모바일스토어', '__label__tntn', '__label__ahfmrp', '__label__ahf', '__label__캔디카메라', '__label__식물대좀비', '__label__애ㅠㅡㅎ', '__label__나라', '__label__카카오,구글스토어', '__label__킹오브파이터올스타', '__label__aqwe', '__label__11', '__label__레이싱게임', '__label__카커오게임', '__label__아이러브', '__label__rwtey56', '__label__bhjk', '__label__생략', '__label__희비전', '__label__g5', '__label__리니지2레볼루션', '__label__구글어플', '__label__앱마켓', '__label__구글앱스토아', '__label__레이아크', '__label__프래이', '__label__느령ㅅ', '__label__신의아이들', '__label__uptodown', '__label__수슬스토아', '__label__day7', '__label__ewfwef', '__label__아키에이지', '__label__파일마루', '__label__생각이', '__label__krg', '__label__타워디펜스', '__label__마인크랜프트', '__label__애플앱스토어,구글플레이스토어', '__label__모바일스트라이크', '__label__이야여', '__label__sfggg', '__label__스토어,네이버,인터넷', '__label__업음', '__label__츨레이어스토어', '__label__핀팩토리', '__label__컴프매', '__label__휴대폰', '__label__네', '__label__ketchapp', '__label__월드오브워크래프트', '__label__게임라인', '__label__piay', '__label__낱말퀴즈', '__label__fdfsfdsg', '__label__(주)', '__label__호이', '__label__크러시', '__label__나이스', '__label__굿', '__label__앱스토어-아이폰', '__label__33', '__label__플레이스토어,원스토어', '__label__play스토어,', '__label__GOOD', '__label__pig', '__label__asdg', '__label__신의연대기', '__label__프로야구매니져', '__label__dfgdfg', '__label__구긓플레이', '__label__구글플레이어,', '__label__요리중독', '__label__노가다이맘', '__label__cv', '__label__카드', '__label__애플\\\\', '__label__앱스톻어', '__label__아이폰게임', '__label__와이즈게임즈', '__label__?앱스토어', '__label__Appstore,', '__label__아이폰에서', '__label__dhdh', '__label__dfvfdv', '__label__adjhgf', '__label__주시팡팡', '__label__프레즈팝콘프렌즈사천성', '__label__퍼플', '__label__배그,', '__label__ㅎㄹㄶㄹㄴㅇㅎㄹㅇㄶ', '__label__7days', '__label__린', '__label__SUNDAYTOZ', '__label__t', '__label__nc소프트?', '__label__배틀로얄,', '__label__앱팡', '__label__드레곤플라이드', '__label__쿠킹피버', '__label__PLAY구글', '__label__모두의게임', '__label__플레스토어', '__label__파일쿠키', '__label__김민지', '__label__사천성,1010', '__label__킹오브', '__label__구글,플레이', '__label__없어요.', '__label__Goolepaly스토어', '__label__넥플렉스', '__label__없다니까요', '__label__꽃피는달빛', '__label__미래게임', '__label__신맞고,애니팡', '__label__엡', '__label__piay스도에', '__label__라이즈', '__label__윈', '__label__클레시', '__label__구글?', '__label__play스토어,원스토어', '__label__스토브', '__label__위닝', '__label__fdfas', '__label__마인크래프트,', '__label__ddsdw', '__label__모두의설문', '__label__브룰스타즈', '__label__구글.삼성앱', '__label__프랜즈', '__label__Homescapes', '__label__모바일레전드', '__label__고도리', '__label__PC', '__label__포코팡', '__label__맞고.에니팡사천성', '__label__라이엇', '__label__브롤스타즈,', '__label__sdfasdf', '__label__pes2019', '__label__없어여', '__label__구글스플레니', '__label__구글스토어,원스토어,카카오게임', '__label__이름이', '__label__1111111111', '__label__마이크로소프트', '__label__하지않음', '__label__엠파이어퍼즐', '__label__킹오브타워', '__label__MOJANG', '__label__프렌즈타운,', '__label__.........', '__label__오토체스', '__label__에오스레드', '__label__sdfaasd', '__label__안녕하세요', '__label__구글스토어,원스토어', '__label__얍스토어', '__label__FMM2019', '__label__아이포앱스토어']\n"
     ]
    }
   ],
   "source": [
    "print(model.labels)"
   ]
  },
  {
   "cell_type": "code",
   "execution_count": 9,
   "metadata": {},
   "outputs": [
    {
     "name": "stdout",
     "output_type": "stream",
     "text": [
      "['</s>', '0', '스토어', '플레이', '앱스토어', 'store', '플레이스토어', '1', 'Store', 'play', '앱', 'Play', '플레이어', '마블', '원스토어', 'STORE', '게임', '구글', '스토아', '모름', 'app', 'play스토어', '오브', 'App', '애플', 'playstore', '앱스토어,', '잘', '없음', '모르겠음', '넥슨', '스토어,', '로얄', '않음', '다운로드', '클랜', '구글플레이', '없다', '카카오', '구글스토어', '아이폰', '모르겠다', '플래이', 'PLAY', '그라운드', '아케이드', '있는', '애니팡', '모바일', '원스토어,', '/', 't스토어', '배틀그라운드', 'Google', '집', '레전드', '마켓', 'paly', '원', '엡스토어', '차차차', '갤럭시스토어', '갤럭시', '레이', '-', '카카오게임', '프로야구', '삼성', '모른다', '모르겠습니다', '사막', '게임즈', '대죄', '프레이어', '앱스통', '앤', '뭔지', '모르겟음', '리니지', '사천성', '앱스토아', 'City', '레이스토어', '네이버', '스팀', '안해서', '스테이션', '앱플레이어', 'game', 'm', '안', '생각안남', '검색', '스토리', '레이싱', 'blast', '에이지오브엠파이어', '모르겠다.', '온', '듀얼링크스', 'Playstore', 'cashbag', '맞고', '앱스토', '카카오톡', '그토어', '경험이', ',', '뭘', 'sotre', '어플스토어', '서비스', '넥슨,', '뉴맞고', '기억나지', '어플', '히어로즈', '쿠앱,', '크래프트..?', '퀘스트', '카트라이더', '브랜드', 'Paly', '안합니다', '깔려있는것', '플레어스토어', '기본적으로', 'ID', '아무', '휴대폰이', '아이폰이지만', '예전에는', '사용했습니다.)', '전설', '신', 'World', '물으시는지', '모르겠어서', '넷마블이라고', '하겠습니다', 'play,', 'one', 'store,', '안가네요', 'ㅠ', '원스토어,파일쿠키', '넥슨?', '배그', '모두의', '소울,', 'Run)', '카카오스토어', '아예', '말하는건지', '경험없음,앵그리버드', '메이커', 'SPORT', '이해가', '가지', '않습니다.', '말고', '있나요', '괜찮은게', '넷마블', 'puzzle', '마이리틀셰프,', '카트라이더,', '와라편의점,', 'Player', '스토러', '숨은그림', '물어보세요', '구체적으로', '스타즈', '안드로이드', '모르겠네요.', '스토어,카카오앱', 'have', '원스토아,', '프로야구2019', '패캐지', '서튼어택/', '스토어.', '나이츠', '구글게임', '이해못하겠어요', '텔레콤', '매직', '2', '패밀리', 'dnjem', '소다', '소린지', '밸리', '캐치마인드', '스토ㅓ', '마이홈', '(apple)', 'PALYER', '앱스토어,,', '파이터', '가디언', '소울', '온라인', '스초어', '마구마구', '42', '팀', 'min', 'palystore', '앱스', 'Sports', '앱스포어', '모릅니다.', '플레이(앱스토어)를', '주로', '이용해서', '앱을', '하고', '설치함', '됨', '이해', '플레이ㅜ스토어', '2019', '안남', 'rooms', 'pic', '것', '선전하는', 'appstore', '슈터', 'play스토오', '타워', '서비스가', '앱스트어', '플레이이', '스토', '2m', '플레이스토', '스토오', 'fire', '되어라', '스터어', '플', '타워,', '플레이스토ㅓ', '킹', '검색합니다', '게임,', '워드퍼즐,', '혹은', 'for', 'kakao', '계단,', '다운스토어', '진짜모르니', 'Appstore', '피망', '브롤스타즈', '하지마라', 'PI2019', '무한의', '블리자드', '슈퍼셀', '(애플)', '스토우', 'shop', '숄저', '롤러,', '5분게임', '스토이', '같아요', '게임앱이었던거', '안나는데', '게임샵', '기본', '하지않음', '광고게임', '플레이마켓', '중독', '뜨는', '어쩌라는거에요......', '물어보면', '자꾸', '안해요', '들어가는데요.', 'stoer(ios)', '안하는데', '바로', 'PLAY스토어', '스토어로', '모름...', 'sports', '플래아', 'wejk', '앱스토어나', '에픽게임즈,', '유플레이', '핸드폰에', '삼성플레이스토어', '스토ㅇㅓ', '그대를', 'aps', '프렌즈팝콘', 'appstore,', 'google', '되는자', '떠올리는', '순정마초', '있어서', '레볼루션', '사용하고', '숨겼다.', '아이폰을', '없습니다.', '퓨처파이트', 'Shooter', '나지', '화원', '스타디아', '안난다', '플래이스토어', '것이', '제트', '오락실', '남', '쿠키런', '워', '애플스토어', '설치', 'steam', '아케이트', '소프트', 'PALY', '매니저,', '카카오게임즈', '(google)', '게임센터', 'center', '달무티', '플스', '디펜스', '바블', '세인트세이야', '삼성앱스', '리니지,', 'Soft', 'ejzjTdmawhgrpTdjdy', '아타리', '컴투스', '안남..', '10', 'cell', '안납니다.', '캐시백', '몰라요', 'RPG', '리그', 'ㅡㅎ', '없으서', '한적', '패케지', '다운', '아키드', 'APPSTORE', '일반', '물어보신건가요?', '플레이,', '(아이폰)', '플래이어', '인기게임', '플레이스토어,', '프렌즈팝', 'ㅠㅠ', '생각나는', '원스토아', 'td', '마블,', '모릅니다', '앱,', '삼성갤럭시', '플레이앱,', '전혀', '또는', '팩토모드', '팔라독', '카카오톡,', '킹덤', '게임을', '해', '본', '앱스토어가', '없어서', '아는바가', ',구글', 'store(apple)', 'PLAYER', '크레이지아케이드', '시물레이션', '자유도,', '서든어택,', '와우,', '롤,', '없다.', '합니다', '이용', 'Store를', '않아요', '없습니다', '좋아하지', '안드로이드마켓', '모르겠음)', '질문하는지', '피망,', '윈조이(넷마블),', '앱스토어(무엇을', '바둑이', '인터렉티브', 'sk스토어', '에이케이', '게임빌,', 'STEAM', 'wow', '안나요', '구글플레이어,', '앱스포터', '(안드로이드)', '안나네요', '오락', '집,', '카드라이더', '무료', '구글안드로이드', '캔디크러쉬', '프래이스토아', '베틀그라운드', '뭔소리에요?ㅜㅜ', '크러쉬', '네이버게임', '무엇인지', '구글스토어,', '농장', 'ㅡ리버드', '왕자영요', '무한', '탄탄러시,', '루미큐브,', '캔디크러쉬,']\n"
     ]
    }
   ],
   "source": [
    "print(model.words)"
   ]
  },
  {
   "cell_type": "code",
   "execution_count": 10,
   "metadata": {},
   "outputs": [
    {
     "data": {
      "text/plain": [
       "(27854, 0.2598190565089395, 0.2598190565089395)"
      ]
     },
     "execution_count": 10,
     "metadata": {},
     "output_type": "execute_result"
    }
   ],
   "source": [
    "#model.test(\"google_train\", k=5)\n",
    "model.test(\"google_train\")\n",
    "#모델 건수,정밀도,재현율\n",
    "\n"
   ]
  },
  {
   "cell_type": "code",
   "execution_count": 11,
   "metadata": {},
   "outputs": [
    {
     "data": {
      "text/plain": [
       "(('__label__구글',), array([0.00357555]))"
      ]
     },
     "execution_count": 11,
     "metadata": {},
     "output_type": "execute_result"
    }
   ],
   "source": [
    "model.predict(\"xx\")"
   ]
  },
  {
   "cell_type": "code",
   "execution_count": 10,
   "metadata": {},
   "outputs": [
    {
     "data": {
      "text/html": [
       "<div>\n",
       "<style scoped>\n",
       "    .dataframe tbody tr th:only-of-type {\n",
       "        vertical-align: middle;\n",
       "    }\n",
       "\n",
       "    .dataframe tbody tr th {\n",
       "        vertical-align: top;\n",
       "    }\n",
       "\n",
       "    .dataframe thead th {\n",
       "        text-align: right;\n",
       "    }\n",
       "</style>\n",
       "<table border=\"1\" class=\"dataframe\">\n",
       "  <thead>\n",
       "    <tr style=\"text-align: right;\">\n",
       "      <th></th>\n",
       "      <th>ID</th>\n",
       "      <th>label</th>\n",
       "      <th>C1</th>\n",
       "      <th>label_predict</th>\n",
       "      <th>acc</th>\n",
       "    </tr>\n",
       "  </thead>\n",
       "  <tbody>\n",
       "    <tr>\n",
       "      <th>0</th>\n",
       "      <td>201927622</td>\n",
       "      <td>1</td>\n",
       "      <td>test</td>\n",
       "      <td></td>\n",
       "      <td></td>\n",
       "    </tr>\n",
       "    <tr>\n",
       "      <th>1</th>\n",
       "      <td>201927623</td>\n",
       "      <td>1</td>\n",
       "      <td>qprm</td>\n",
       "      <td></td>\n",
       "      <td></td>\n",
       "    </tr>\n",
       "    <tr>\n",
       "      <th>2</th>\n",
       "      <td>201927624</td>\n",
       "      <td>1</td>\n",
       "      <td>qwert</td>\n",
       "      <td></td>\n",
       "      <td></td>\n",
       "    </tr>\n",
       "    <tr>\n",
       "      <th>3</th>\n",
       "      <td>201927625</td>\n",
       "      <td>1</td>\n",
       "      <td>fgfghfg</td>\n",
       "      <td></td>\n",
       "      <td></td>\n",
       "    </tr>\n",
       "    <tr>\n",
       "      <th>4</th>\n",
       "      <td>201927626</td>\n",
       "      <td>1</td>\n",
       "      <td>pubg</td>\n",
       "      <td></td>\n",
       "      <td></td>\n",
       "    </tr>\n",
       "  </tbody>\n",
       "</table>\n",
       "</div>"
      ],
      "text/plain": [
       "          ID  label       C1 label_predict acc\n",
       "0  201927622      1     test                  \n",
       "1  201927623      1     qprm                  \n",
       "2  201927624      1    qwert                  \n",
       "3  201927625      1  fgfghfg                  \n",
       "4  201927626      1     pubg                  "
      ]
     },
     "execution_count": 10,
     "metadata": {},
     "output_type": "execute_result"
    }
   ],
   "source": [
    "dfTest= pd.read_excel('2019 google BAD sample(1-12).xlsx')\n",
    "dfTest.columns =['ID','label','C1']\n",
    "dfTest['label_predict'] = ''\n",
    "dfTest['acc'] = ''\n",
    "\n",
    "dfTest.head()"
   ]
  },
  {
   "cell_type": "code",
   "execution_count": 11,
   "metadata": {},
   "outputs": [],
   "source": [
    "for index,row in dfTest.iterrows():\n",
    "    predictArr = model.predict(str(row[\"C1\"]))\n",
    "    dfTest.at[index,\"label_predict\"] = int(predictArr[0][0].replace('__label__',''))\n",
    "    dfTest.at[index,\"acc\"] = str(predictArr[1][0])\n",
    "    "
   ]
  },
  {
   "cell_type": "code",
   "execution_count": 12,
   "metadata": {},
   "outputs": [
    {
     "data": {
      "text/html": [
       "<div>\n",
       "<style scoped>\n",
       "    .dataframe tbody tr th:only-of-type {\n",
       "        vertical-align: middle;\n",
       "    }\n",
       "\n",
       "    .dataframe tbody tr th {\n",
       "        vertical-align: top;\n",
       "    }\n",
       "\n",
       "    .dataframe thead th {\n",
       "        text-align: right;\n",
       "    }\n",
       "</style>\n",
       "<table border=\"1\" class=\"dataframe\">\n",
       "  <thead>\n",
       "    <tr style=\"text-align: right;\">\n",
       "      <th></th>\n",
       "      <th>ID</th>\n",
       "      <th>label</th>\n",
       "      <th>C1</th>\n",
       "      <th>label_predict</th>\n",
       "      <th>acc</th>\n",
       "    </tr>\n",
       "  </thead>\n",
       "  <tbody>\n",
       "    <tr>\n",
       "      <th>0</th>\n",
       "      <td>201927622</td>\n",
       "      <td>1</td>\n",
       "      <td>test</td>\n",
       "      <td>1</td>\n",
       "      <td>0.8533728718757629</td>\n",
       "    </tr>\n",
       "    <tr>\n",
       "      <th>1</th>\n",
       "      <td>201927623</td>\n",
       "      <td>1</td>\n",
       "      <td>qprm</td>\n",
       "      <td>0</td>\n",
       "      <td>0.9226698279380798</td>\n",
       "    </tr>\n",
       "    <tr>\n",
       "      <th>2</th>\n",
       "      <td>201927624</td>\n",
       "      <td>1</td>\n",
       "      <td>qwert</td>\n",
       "      <td>0</td>\n",
       "      <td>0.9294856786727905</td>\n",
       "    </tr>\n",
       "    <tr>\n",
       "      <th>3</th>\n",
       "      <td>201927625</td>\n",
       "      <td>1</td>\n",
       "      <td>fgfghfg</td>\n",
       "      <td>0</td>\n",
       "      <td>0.9410125017166138</td>\n",
       "    </tr>\n",
       "    <tr>\n",
       "      <th>4</th>\n",
       "      <td>201927626</td>\n",
       "      <td>1</td>\n",
       "      <td>pubg</td>\n",
       "      <td>0</td>\n",
       "      <td>0.9782525897026062</td>\n",
       "    </tr>\n",
       "    <tr>\n",
       "      <th>...</th>\n",
       "      <td>...</td>\n",
       "      <td>...</td>\n",
       "      <td>...</td>\n",
       "      <td>...</td>\n",
       "      <td>...</td>\n",
       "    </tr>\n",
       "    <tr>\n",
       "      <th>27902</th>\n",
       "      <td>201927617</td>\n",
       "      <td>0</td>\n",
       "      <td>없음</td>\n",
       "      <td>0</td>\n",
       "      <td>0.9999101161956787</td>\n",
       "    </tr>\n",
       "    <tr>\n",
       "      <th>27903</th>\n",
       "      <td>201927618</td>\n",
       "      <td>0</td>\n",
       "      <td>애니팡</td>\n",
       "      <td>0</td>\n",
       "      <td>1.0000020265579224</td>\n",
       "    </tr>\n",
       "    <tr>\n",
       "      <th>27904</th>\n",
       "      <td>201927619</td>\n",
       "      <td>0</td>\n",
       "      <td>앱스토어</td>\n",
       "      <td>0</td>\n",
       "      <td>1.0000098943710327</td>\n",
       "    </tr>\n",
       "    <tr>\n",
       "      <th>27905</th>\n",
       "      <td>201927620</td>\n",
       "      <td>0</td>\n",
       "      <td>애플스토어</td>\n",
       "      <td>0</td>\n",
       "      <td>1.0000081062316895</td>\n",
       "    </tr>\n",
       "    <tr>\n",
       "      <th>27906</th>\n",
       "      <td>201927621</td>\n",
       "      <td>0</td>\n",
       "      <td>플레이스토아</td>\n",
       "      <td>0</td>\n",
       "      <td>0.9999299049377441</td>\n",
       "    </tr>\n",
       "  </tbody>\n",
       "</table>\n",
       "<p>27907 rows × 5 columns</p>\n",
       "</div>"
      ],
      "text/plain": [
       "              ID  label       C1 label_predict                 acc\n",
       "0      201927622      1     test             1  0.8533728718757629\n",
       "1      201927623      1     qprm             0  0.9226698279380798\n",
       "2      201927624      1    qwert             0  0.9294856786727905\n",
       "3      201927625      1  fgfghfg             0  0.9410125017166138\n",
       "4      201927626      1     pubg             0  0.9782525897026062\n",
       "...          ...    ...      ...           ...                 ...\n",
       "27902  201927617      0       없음             0  0.9999101161956787\n",
       "27903  201927618      0      애니팡             0  1.0000020265579224\n",
       "27904  201927619      0     앱스토어             0  1.0000098943710327\n",
       "27905  201927620      0    애플스토어             0  1.0000081062316895\n",
       "27906  201927621      0   플레이스토아             0  0.9999299049377441\n",
       "\n",
       "[27907 rows x 5 columns]"
      ]
     },
     "execution_count": 12,
     "metadata": {},
     "output_type": "execute_result"
    }
   ],
   "source": [
    "dfTest"
   ]
  },
  {
   "cell_type": "code",
   "execution_count": 13,
   "metadata": {},
   "outputs": [],
   "source": [
    "dfTest.to_excel('google_result.xlsx',sheet_name='result')\n",
    "with pd.ExcelWriter('google_result.xlsx', mode='a') as writer:\n",
    "    df.to_excel(writer, sheet_name='source')"
   ]
  },
  {
   "cell_type": "code",
   "execution_count": null,
   "metadata": {},
   "outputs": [],
   "source": []
  }
 ],
 "metadata": {
  "kernelspec": {
   "display_name": "Python 3",
   "language": "python",
   "name": "python3"
  },
  "language_info": {
   "codemirror_mode": {
    "name": "ipython",
    "version": 3
   },
   "file_extension": ".py",
   "mimetype": "text/x-python",
   "name": "python",
   "nbconvert_exporter": "python",
   "pygments_lexer": "ipython3",
   "version": "3.6.12"
  },
  "latex_envs": {
   "LaTeX_envs_menu_present": true,
   "autoclose": false,
   "autocomplete": true,
   "bibliofile": "biblio.bib",
   "cite_by": "apalike",
   "current_citInitial": 1,
   "eqLabelWithNumbers": true,
   "eqNumInitial": 1,
   "hotkeys": {
    "equation": "Ctrl-E",
    "itemize": "Ctrl-I"
   },
   "labels_anchors": false,
   "latex_user_defs": false,
   "report_style_numbering": false,
   "user_envs_cfg": false
  },
  "varInspector": {
   "cols": {
    "lenName": 16,
    "lenType": 16,
    "lenVar": 40
   },
   "kernels_config": {
    "python": {
     "delete_cmd_postfix": "",
     "delete_cmd_prefix": "del ",
     "library": "var_list.py",
     "varRefreshCmd": "print(var_dic_list())"
    },
    "r": {
     "delete_cmd_postfix": ") ",
     "delete_cmd_prefix": "rm(",
     "library": "var_list.r",
     "varRefreshCmd": "cat(var_dic_list()) "
    }
   },
   "types_to_exclude": [
    "module",
    "function",
    "builtin_function_or_method",
    "instance",
    "_Feature"
   ],
   "window_display": false
  }
 },
 "nbformat": 4,
 "nbformat_minor": 4
}
