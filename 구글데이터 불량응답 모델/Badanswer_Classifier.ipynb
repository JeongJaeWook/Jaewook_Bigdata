{
  "nbformat": 4,
  "nbformat_minor": 0,
  "metadata": {
    "_change_revision": 260,
    "_is_fork": false,
    "accelerator": "GPU",
    "colab": {
      "name": "불량응답 분류모델.ipynb",
      "provenance": [],
      "collapsed_sections": []
    },
    "kernelspec": {
      "display_name": "Python 3",
      "language": "python",
      "name": "python3"
    },
    "language_info": {
      "codemirror_mode": {
        "name": "ipython",
        "version": 3
      },
      "file_extension": ".py",
      "mimetype": "text/x-python",
      "name": "python",
      "nbconvert_exporter": "python",
      "pygments_lexer": "ipython3",
      "version": "3.6.12"
    }
  },
  "cells": [
    {
      "cell_type": "code",
      "metadata": {
        "_cell_guid": "e6094c6e-9777-c7be-bd57-fe431519ad20",
        "id": "oft4In7A-ZD5"
      },
      "source": [
        "import numpy as np\n",
        "import pandas as pd\n",
        "import matplotlib as mpl\n",
        "import matplotlib.pyplot as plt\n",
        "import seaborn as sns\n",
        "import string\n",
        "from sklearn.feature_extraction.text import TfidfVectorizer\n",
        "from sklearn.model_selection import train_test_split\n",
        "from nltk.stem import SnowballStemmer\n",
        "from nltk.corpus import stopwords\n",
        "%matplotlib inline"
      ],
      "execution_count": null,
      "outputs": []
    },
    {
      "cell_type": "markdown",
      "metadata": {
        "_cell_guid": "6689da0a-5795-85f6-2f13-4eb276bde97f",
        "id": "jNyiH_fu-ZD9"
      },
      "source": [
        "Let's read the data from csv file"
      ]
    },
    {
      "cell_type": "code",
      "metadata": {
        "_cell_guid": "94a28c87-ff0a-8302-05bd-404df2873761",
        "id": "YBy5eTBJ-ZD9",
        "colab": {
          "base_uri": "https://localhost:8080/",
          "height": 204
        },
        "outputId": "2ff07110-911a-44da-867e-eba79e80b025"
      },
      "source": [
        "df = pd.read_excel('2019 google BAD sample(1-12).xlsx',sheet_name=0,usecols='A,B,C')\n",
        "df.columns = ['ID','label','C1']\n",
        "\n",
        "df.head()"
      ],
      "execution_count": null,
      "outputs": [
        {
          "output_type": "execute_result",
          "data": {
            "text/html": [
              "<div>\n",
              "<style scoped>\n",
              "    .dataframe tbody tr th:only-of-type {\n",
              "        vertical-align: middle;\n",
              "    }\n",
              "\n",
              "    .dataframe tbody tr th {\n",
              "        vertical-align: top;\n",
              "    }\n",
              "\n",
              "    .dataframe thead th {\n",
              "        text-align: right;\n",
              "    }\n",
              "</style>\n",
              "<table border=\"1\" class=\"dataframe\">\n",
              "  <thead>\n",
              "    <tr style=\"text-align: right;\">\n",
              "      <th></th>\n",
              "      <th>ID</th>\n",
              "      <th>label</th>\n",
              "      <th>C1</th>\n",
              "    </tr>\n",
              "  </thead>\n",
              "  <tbody>\n",
              "    <tr>\n",
              "      <th>0</th>\n",
              "      <td>201927622</td>\n",
              "      <td>1</td>\n",
              "      <td>test</td>\n",
              "    </tr>\n",
              "    <tr>\n",
              "      <th>1</th>\n",
              "      <td>201927623</td>\n",
              "      <td>1</td>\n",
              "      <td>qprm</td>\n",
              "    </tr>\n",
              "    <tr>\n",
              "      <th>2</th>\n",
              "      <td>201927624</td>\n",
              "      <td>1</td>\n",
              "      <td>qwert</td>\n",
              "    </tr>\n",
              "    <tr>\n",
              "      <th>3</th>\n",
              "      <td>201927625</td>\n",
              "      <td>1</td>\n",
              "      <td>fgfghfg</td>\n",
              "    </tr>\n",
              "    <tr>\n",
              "      <th>4</th>\n",
              "      <td>201927626</td>\n",
              "      <td>1</td>\n",
              "      <td>pubg</td>\n",
              "    </tr>\n",
              "  </tbody>\n",
              "</table>\n",
              "</div>"
            ],
            "text/plain": [
              "          ID  label       C1\n",
              "0  201927622      1     test\n",
              "1  201927623      1     qprm\n",
              "2  201927624      1    qwert\n",
              "3  201927625      1  fgfghfg\n",
              "4  201927626      1     pubg"
            ]
          },
          "metadata": {
            "tags": []
          },
          "execution_count": 3
        }
      ]
    },
    {
      "cell_type": "markdown",
      "metadata": {
        "_cell_guid": "e2fa50fd-b634-c505-c6a5-ec2155e32d2e",
        "id": "cT3zkzr9-ZEG"
      },
      "source": [
        "Let's look into our data"
      ]
    },
    {
      "cell_type": "code",
      "metadata": {
        "_cell_guid": "0ad05287-4fa7-835a-2a58-ef273065875f",
        "id": "WP_ge_NW-ZEH",
        "colab": {
          "base_uri": "https://localhost:8080/"
        },
        "outputId": "788a28f6-0e2e-4e12-b06b-2650c93907f9"
      },
      "source": [
        "df.groupby('label').size()"
      ],
      "execution_count": null,
      "outputs": [
        {
          "output_type": "execute_result",
          "data": {
            "text/plain": [
              "label\n",
              "0    27621\n",
              "1      286\n",
              "dtype: int64"
            ]
          },
          "metadata": {
            "tags": []
          },
          "execution_count": 4
        }
      ]
    },
    {
      "cell_type": "code",
      "metadata": {
        "id": "HinIZyDgAriX",
        "colab": {
          "base_uri": "https://localhost:8080/"
        },
        "outputId": "a9e05b1a-34e2-4fec-ed78-7c80050578d6"
      },
      "source": [
        "print(df.isnull().sum())"
      ],
      "execution_count": null,
      "outputs": [
        {
          "output_type": "stream",
          "text": [
            "ID       0\n",
            "label    0\n",
            "C1       0\n",
            "dtype: int64\n"
          ],
          "name": "stdout"
        }
      ]
    },
    {
      "cell_type": "markdown",
      "metadata": {
        "_cell_guid": "d95f59db-4713-1f64-083c-fc8a25708234",
        "id": "kZqp5T9K-ZEL"
      },
      "source": [
        "Now let's create new feature \"message length\" and plot it to see if it's of any interest"
      ]
    },
    {
      "cell_type": "code",
      "metadata": {
        "_cell_guid": "1db101ba-5949-0c9c-6581-7b7d5e51de80",
        "id": "tXQcCQ4i-ZEU"
      },
      "source": [
        "#응답에 숫자도 있어서 int 형으로 생각함 -> 문자형으로 변환\n",
        "df['C1'] = df['C1'].apply(str)"
      ],
      "execution_count": null,
      "outputs": []
    },
    {
      "cell_type": "code",
      "metadata": {
        "_cell_guid": "6abbc5cb-3451-8de5-c9cc-0d4a04dbea02",
        "id": "eiQTUF-m-ZEL",
        "colab": {
          "base_uri": "https://localhost:8080/",
          "height": 204
        },
        "outputId": "f322a19f-3e4d-4d35-e09c-fb2b34289d4b"
      },
      "source": [
        "# df['length'] = df['C1'].str.len()\n",
        "df['length'] = df['C1'].apply(len)\n"
      ],
      "execution_count": null,
      "outputs": [
        {
          "output_type": "execute_result",
          "data": {
            "text/html": [
              "<div>\n",
              "<style scoped>\n",
              "    .dataframe tbody tr th:only-of-type {\n",
              "        vertical-align: middle;\n",
              "    }\n",
              "\n",
              "    .dataframe tbody tr th {\n",
              "        vertical-align: top;\n",
              "    }\n",
              "\n",
              "    .dataframe thead th {\n",
              "        text-align: right;\n",
              "    }\n",
              "</style>\n",
              "<table border=\"1\" class=\"dataframe\">\n",
              "  <thead>\n",
              "    <tr style=\"text-align: right;\">\n",
              "      <th></th>\n",
              "      <th>ID</th>\n",
              "      <th>label</th>\n",
              "      <th>C1</th>\n",
              "      <th>length</th>\n",
              "    </tr>\n",
              "  </thead>\n",
              "  <tbody>\n",
              "    <tr>\n",
              "      <th>0</th>\n",
              "      <td>201927622</td>\n",
              "      <td>1</td>\n",
              "      <td>test</td>\n",
              "      <td>4</td>\n",
              "    </tr>\n",
              "    <tr>\n",
              "      <th>1</th>\n",
              "      <td>201927623</td>\n",
              "      <td>1</td>\n",
              "      <td>qprm</td>\n",
              "      <td>4</td>\n",
              "    </tr>\n",
              "    <tr>\n",
              "      <th>2</th>\n",
              "      <td>201927624</td>\n",
              "      <td>1</td>\n",
              "      <td>qwert</td>\n",
              "      <td>5</td>\n",
              "    </tr>\n",
              "    <tr>\n",
              "      <th>3</th>\n",
              "      <td>201927625</td>\n",
              "      <td>1</td>\n",
              "      <td>fgfghfg</td>\n",
              "      <td>7</td>\n",
              "    </tr>\n",
              "    <tr>\n",
              "      <th>4</th>\n",
              "      <td>201927626</td>\n",
              "      <td>1</td>\n",
              "      <td>pubg</td>\n",
              "      <td>4</td>\n",
              "    </tr>\n",
              "  </tbody>\n",
              "</table>\n",
              "</div>"
            ],
            "text/plain": [
              "          ID  label       C1  length\n",
              "0  201927622      1     test       4\n",
              "1  201927623      1     qprm       4\n",
              "2  201927624      1    qwert       5\n",
              "3  201927625      1  fgfghfg       7\n",
              "4  201927626      1     pubg       4"
            ]
          },
          "metadata": {
            "tags": []
          },
          "execution_count": 7
        }
      ]
    },
    {
      "cell_type": "code",
      "metadata": {
        "colab": {
          "base_uri": "https://localhost:8080/",
          "height": 204
        },
        "id": "zqZyne1BF_oa",
        "outputId": "ffb66731-bc61-4e57-8ab8-9b213c139130"
      },
      "source": [
        "#중복 제거\n",
        "df.drop_duplicates(subset=['C1'],inplace=True) # C1 열에서 중복인 내용이 있다면 중복 제거\n",
        "df.head()"
      ],
      "execution_count": null,
      "outputs": [
        {
          "output_type": "execute_result",
          "data": {
            "text/html": [
              "<div>\n",
              "<style scoped>\n",
              "    .dataframe tbody tr th:only-of-type {\n",
              "        vertical-align: middle;\n",
              "    }\n",
              "\n",
              "    .dataframe tbody tr th {\n",
              "        vertical-align: top;\n",
              "    }\n",
              "\n",
              "    .dataframe thead th {\n",
              "        text-align: right;\n",
              "    }\n",
              "</style>\n",
              "<table border=\"1\" class=\"dataframe\">\n",
              "  <thead>\n",
              "    <tr style=\"text-align: right;\">\n",
              "      <th></th>\n",
              "      <th>ID</th>\n",
              "      <th>label</th>\n",
              "      <th>C1</th>\n",
              "      <th>length</th>\n",
              "    </tr>\n",
              "  </thead>\n",
              "  <tbody>\n",
              "    <tr>\n",
              "      <th>0</th>\n",
              "      <td>201927622</td>\n",
              "      <td>1</td>\n",
              "      <td>test</td>\n",
              "      <td>4</td>\n",
              "    </tr>\n",
              "    <tr>\n",
              "      <th>1</th>\n",
              "      <td>201927623</td>\n",
              "      <td>1</td>\n",
              "      <td>qprm</td>\n",
              "      <td>4</td>\n",
              "    </tr>\n",
              "    <tr>\n",
              "      <th>2</th>\n",
              "      <td>201927624</td>\n",
              "      <td>1</td>\n",
              "      <td>qwert</td>\n",
              "      <td>5</td>\n",
              "    </tr>\n",
              "    <tr>\n",
              "      <th>3</th>\n",
              "      <td>201927625</td>\n",
              "      <td>1</td>\n",
              "      <td>fgfghfg</td>\n",
              "      <td>7</td>\n",
              "    </tr>\n",
              "    <tr>\n",
              "      <th>4</th>\n",
              "      <td>201927626</td>\n",
              "      <td>1</td>\n",
              "      <td>pubg</td>\n",
              "      <td>4</td>\n",
              "    </tr>\n",
              "  </tbody>\n",
              "</table>\n",
              "</div>"
            ],
            "text/plain": [
              "          ID  label       C1  length\n",
              "0  201927622      1     test       4\n",
              "1  201927623      1     qprm       4\n",
              "2  201927624      1    qwert       5\n",
              "3  201927625      1  fgfghfg       7\n",
              "4  201927626      1     pubg       4"
            ]
          },
          "metadata": {
            "tags": []
          },
          "execution_count": 11
        }
      ]
    },
    {
      "cell_type": "code",
      "metadata": {
        "colab": {
          "base_uri": "https://localhost:8080/"
        },
        "id": "qOOPullRGONr",
        "outputId": "543029f3-2078-4067-d12a-c89cb421d978"
      },
      "source": [
        "df.info()"
      ],
      "execution_count": null,
      "outputs": [
        {
          "output_type": "stream",
          "text": [
            "<class 'pandas.core.frame.DataFrame'>\n",
            "Int64Index: 2055 entries, 0 to 27899\n",
            "Data columns (total 4 columns):\n",
            " #   Column  Non-Null Count  Dtype \n",
            "---  ------  --------------  ----- \n",
            " 0   ID      2055 non-null   int64 \n",
            " 1   label   2055 non-null   int64 \n",
            " 2   C1      2055 non-null   object\n",
            " 3   length  2055 non-null   int64 \n",
            "dtypes: int64(3), object(1)\n",
            "memory usage: 80.3+ KB\n"
          ],
          "name": "stdout"
        }
      ]
    },
    {
      "cell_type": "code",
      "metadata": {
        "_cell_guid": "4533b9ae-fea2-d346-321b-f73bd12d677d",
        "id": "2mPa-sFP-ZEP",
        "colab": {
          "base_uri": "https://localhost:8080/",
          "height": 391
        },
        "outputId": "e58cc063-a0da-4c36-d588-c155a3a5e4c0"
      },
      "source": [
        "mpl.rcParams['patch.force_edgecolor'] = True\n",
        "plt.style.use('seaborn-bright')\n",
        "df.hist(column='length', by='label', bins=50,figsize=(11,5))"
      ],
      "execution_count": null,
      "outputs": [
        {
          "output_type": "execute_result",
          "data": {
            "text/plain": [
              "array([<matplotlib.axes._subplots.AxesSubplot object at 0x7fe6910cfb00>,\n",
              "       <matplotlib.axes._subplots.AxesSubplot object at 0x7fe690cf6da0>],\n",
              "      dtype=object)"
            ]
          },
          "metadata": {
            "tags": []
          },
          "execution_count": 8
        },
        {
          "output_type": "display_data",
          "data": {
            "image/png": "[encoded data removed]",
            "text/plain": [
              "<Figure size 792x360 with 2 Axes>"
            ]
          },
          "metadata": {
            "tags": [],
            "needs_background": "light"
          }
        }
      ]
    },
    {
      "cell_type": "markdown",
      "metadata": {
        "_cell_guid": "0e5e7b86-5ad3-3a83-65a9-016bdb745904",
        "id": "YaPb937r-ZES"
      },
      "source": [
        "Looks like the lengthy is the message, more likely it is a spam. Let's not forget this"
      ]
    },
    {
      "cell_type": "markdown",
      "metadata": {
        "_cell_guid": "2ae25190-c9b7-101b-6042-e8f9cf382e46",
        "id": "CESA2g1Z-ZET"
      },
      "source": [
        "### Text processing and vectorizing our meddages"
      ]
    },
    {
      "cell_type": "markdown",
      "metadata": {
        "_cell_guid": "1e8ef576-3a86-7824-474d-d21e7dcba1f9",
        "id": "VcEanRL9-ZET"
      },
      "source": [
        "Let's create new data frame. We'll need a copy later on"
      ]
    },
    {
      "cell_type": "code",
      "metadata": {
        "id": "96ZZ-mzhArrh",
        "colab": {
          "base_uri": "https://localhost:8080/"
        },
        "outputId": "b09aa884-e76e-4852-91a8-48832142e247"
      },
      "source": [
        "text_feat = df['C1'].copy()\n",
        "text_feat.head()"
      ],
      "execution_count": null,
      "outputs": [
        {
          "output_type": "execute_result",
          "data": {
            "text/plain": [
              "0       test\n",
              "1       qprm\n",
              "2      qwert\n",
              "3    fgfghfg\n",
              "4       pubg\n",
              "Name: C1, dtype: object"
            ]
          },
          "metadata": {
            "tags": []
          },
          "execution_count": 15
        }
      ]
    },
    {
      "cell_type": "markdown",
      "metadata": {
        "_cell_guid": "bd1d6d0c-39e2-65fb-1795-9c75bf51f29e",
        "id": "GmwpqYqu-ZEX"
      },
      "source": [
        "Now define our tex precessing function. It will remove any punctuation and stopwords aswell."
      ]
    },
    {
      "cell_type": "code",
      "metadata": {
        "_cell_guid": "078389bf-00ec-13f4-78cd-f6ea818ff6f4",
        "id": "e79EDCAt-ZEY"
      },
      "source": [
        "def text_process(text):\n",
        "    \n",
        "    text = text.translate(str.maketrans('', '', string.punctuation))\n",
        "    text = [word for word in text.split() if word.lower() not in stopwords.words()]\n",
        "    \n",
        "    return \" \".join(text)"
      ],
      "execution_count": null,
      "outputs": []
    },
    {
      "cell_type": "code",
      "metadata": {
        "id": "LyAEtfPlBA3-",
        "colab": {
          "base_uri": "https://localhost:8080/"
        },
        "outputId": "8bd42747-8a08-4cdf-bed1-a44a863667ff"
      },
      "source": [
        "#처음 다운로드할때만\n",
        "import nltk\n",
        "nltk.download('stopwords')"
      ],
      "execution_count": null,
      "outputs": [
        {
          "output_type": "stream",
          "text": [
            "[nltk_data] Downloading package stopwords to /root/nltk_data...\n",
            "[nltk_data]   Unzipping corpora/stopwords.zip.\n"
          ],
          "name": "stdout"
        },
        {
          "output_type": "execute_result",
          "data": {
            "text/plain": [
              "True"
            ]
          },
          "metadata": {
            "tags": []
          },
          "execution_count": 17
        }
      ]
    },
    {
      "cell_type": "code",
      "metadata": {
        "_cell_guid": "79b2e2b0-008d-b648-1031-f94c848a3064",
        "id": "XLnPDMYn-ZEa"
      },
      "source": [
        "text_feat = text_feat.apply(text_process)"
      ],
      "execution_count": null,
      "outputs": []
    },
    {
      "cell_type": "code",
      "metadata": {
        "id": "0Ixa4AFyArwv"
      },
      "source": [
        "# text_feat = text_feat.str.replace(\"[^ㄱ-ㅎㅏ-ㅣ가-힣 ]\",\"\")\n",
        "# text_feat=text_feat.dropna(how = 'any') \n",
        "# print(text_feat.isnull().values.any()) \n",
        "\n",
        "\n",
        "# #한국어니까...영어는 삭제돼서 NULL로 됨.\n",
        "\n",
        "# Null 값이 존재하는 행 제거.... 제거해야할까?? \n",
        "#삭제할경우 -> 불용어 처리를 하다보면 NULL값이 될 수 있는데 불량응답을 나중에 걸러낼 수 있을까? \n",
        "#삭제를 안할경우 -> Null 값도 불량응답으로 훈련할텐데 전체베이스가 아닌 오픈문항에서 비포함 케이스도 불량응답으로 처리하지 않을까?"
      ],
      "execution_count": null,
      "outputs": []
    },
    {
      "cell_type": "code",
      "metadata": {
        "id": "p2i8SWH7ArxG"
      },
      "source": [
        "#벡터화\n",
        "vectorizer = TfidfVectorizer()"
      ],
      "execution_count": null,
      "outputs": []
    },
    {
      "cell_type": "code",
      "metadata": {
        "id": "np3aCxmsArxX"
      },
      "source": [
        "# #TfidfVectorizer()\n",
        "# 등장횟수도 많고 문서 분별력 있는 단어들을 스코어링한 것\n",
        "\n",
        "# #장점\n",
        "# 선택된 단어는 TF-IDF 스코어를 가지며 어떤 단어가 중요한 단어인지 직관적으로 해석이 가능하며, \n",
        "# 전처리(pos-of-tagging)가 잘 수행 되었을때 다른 변수선택/추출보다 견줄만한 성능을 가지고 있다.\n",
        "\n",
        "# #단점\n",
        "# 제외된 단어들은 학습에 사용되지 않기 때문에 새로운 단어에 대한 해석이 불가능 \n",
        "# 순서를 고려하지 않기 때문에 어순에 대한 문법적인 의미를 담고 있지 않는다."
      ],
      "execution_count": null,
      "outputs": []
    },
    {
      "cell_type": "code",
      "metadata": {
        "_cell_guid": "d9d11f55-f800-dd25-f001-dcc3c6a7fea4",
        "id": "pqDJ1OcM-ZEi"
      },
      "source": [
        "features = vectorizer.fit_transform(text_feat)"
      ],
      "execution_count": null,
      "outputs": []
    },
    {
      "cell_type": "markdown",
      "metadata": {
        "_cell_guid": "cfd14d8a-d700-ee85-f744-9d4562dd9fb0",
        "id": "z4wmHHXi-ZEk"
      },
      "source": [
        "###  Classifiers and predictions"
      ]
    },
    {
      "cell_type": "markdown",
      "metadata": {
        "_cell_guid": "08f8dcd4-2161-e373-2fc4-e9ecc631810d",
        "id": "cN4P2gqP-ZEl"
      },
      "source": [
        "First of all let's split our features to test and train set"
      ]
    },
    {
      "cell_type": "code",
      "metadata": {
        "_cell_guid": "346766bb-d722-dca1-71d0-fd0f0dafcbae",
        "id": "_aFhXvfH-ZEl"
      },
      "source": [
        "features_train, features_test, labels_train, labels_test = train_test_split(features, df['label'], test_size=0.3, random_state=111)"
      ],
      "execution_count": null,
      "outputs": []
    },
    {
      "cell_type": "markdown",
      "metadata": {
        "_cell_guid": "1eaef9ae-d68a-4001-8adb-0e2d031be876",
        "id": "9WiaTWmm-ZEo"
      },
      "source": [
        "Now let's import bunch of classifiers, initialize them and make a dictionary to itereate through"
      ]
    },
    {
      "cell_type": "code",
      "metadata": {
        "_cell_guid": "a4767634-1a31-ac41-bf62-34c66bfda0b1",
        "id": "QUCL4fAx-ZEp"
      },
      "source": [
        "from sklearn.linear_model import LogisticRegression\n",
        "from sklearn.svm import SVC\n",
        "from sklearn.naive_bayes import MultinomialNB\n",
        "from sklearn.tree import DecisionTreeClassifier\n",
        "from sklearn.neighbors import KNeighborsClassifier\n",
        "from sklearn.ensemble import RandomForestClassifier\n",
        "from sklearn.ensemble import AdaBoostClassifier\n",
        "from sklearn.ensemble import BaggingClassifier\n",
        "from sklearn.ensemble import ExtraTreesClassifier\n",
        "from sklearn.metrics import accuracy_score"
      ],
      "execution_count": null,
      "outputs": []
    },
    {
      "cell_type": "code",
      "metadata": {
        "_cell_guid": "6e889ffa-59d8-377c-867d-25c67888765f",
        "id": "oGviCoCL-ZEs"
      },
      "source": [
        "svc = SVC(kernel='sigmoid', gamma=1.0)\n",
        "knc = KNeighborsClassifier(n_neighbors=49)\n",
        "mnb = MultinomialNB(alpha=0.2)\n",
        "dtc = DecisionTreeClassifier(min_samples_split=7, random_state=111)\n",
        "lrc = LogisticRegression(solver='liblinear', penalty='l1')\n",
        "rfc = RandomForestClassifier(n_estimators=31, random_state=111)\n",
        "abc = AdaBoostClassifier(n_estimators=62, random_state=111)\n",
        "bc = BaggingClassifier(n_estimators=9, random_state=111)\n",
        "etc = ExtraTreesClassifier(n_estimators=9, random_state=111)"
      ],
      "execution_count": null,
      "outputs": []
    },
    {
      "cell_type": "markdown",
      "metadata": {
        "_cell_guid": "f2211ff9-7718-6bc7-2231-d27fea07dc2d",
        "id": "MMOmV4qN-ZEu"
      },
      "source": [
        "Parametres are based on notebook:\n",
        "[Spam detection Classifiers hyperparameter tuning][1]\n",
        "\n",
        "\n",
        "  [1]: https://www.kaggle.com/muzzzdy/d/uciml/sms-spam-collection-dataset/spam-detection-classifiers-hyperparameter-tuning/"
      ]
    },
    {
      "cell_type": "code",
      "metadata": {
        "_cell_guid": "8e9f8c83-33fb-312a-fb44-d6f8c955f427",
        "id": "slPVyUm2-ZEv"
      },
      "source": [
        "clfs = {'SVC' : svc,'KN' : knc, 'NB': mnb, 'DT': dtc, 'LR': lrc, 'RF': rfc, 'AdaBoost': abc, 'BgC': bc, 'ETC': etc}"
      ],
      "execution_count": null,
      "outputs": []
    },
    {
      "cell_type": "markdown",
      "metadata": {
        "_cell_guid": "030a45db-d84a-b8e2-30ca-09f3aff9501a",
        "id": "LZiAhrgg-ZEy"
      },
      "source": [
        "Let's make functions to fit our classifiers and make predictions"
      ]
    },
    {
      "cell_type": "code",
      "metadata": {
        "_cell_guid": "03099d8c-cac3-98a6-a68c-b6f22aed227c",
        "id": "lKR5Qi5e-ZEz"
      },
      "source": [
        "def train_classifier(clf, feature_train, labels_train):    \n",
        "    clf.fit(feature_train, labels_train)"
      ],
      "execution_count": null,
      "outputs": []
    },
    {
      "cell_type": "code",
      "metadata": {
        "_cell_guid": "c74b2aba-431c-89e9-80be-0cf5ac718775",
        "id": "bAR9ZhGU-ZE1"
      },
      "source": [
        "def predict_labels(clf, features):\n",
        "    return (clf.predict(features))"
      ],
      "execution_count": null,
      "outputs": []
    },
    {
      "cell_type": "markdown",
      "metadata": {
        "_cell_guid": "5f0b2d9a-6301-3515-4363-ffcd6b8b6e1b",
        "id": "hwJFhA0N-ZE4"
      },
      "source": [
        "Now iterate through classifiers and save the results"
      ]
    },
    {
      "cell_type": "code",
      "metadata": {
        "_cell_guid": "803e954a-ca19-091d-85d6-7f58f0df4879",
        "id": "ueBxHT1a-ZE5"
      },
      "source": [
        "pred_scores = []\n",
        "for k,v in clfs.items():\n",
        "    train_classifier(v, features_train, labels_train)\n",
        "    pred = predict_labels(v,features_test)\n",
        "    pred_scores.append((k, [accuracy_score(labels_test,pred)]))"
      ],
      "execution_count": null,
      "outputs": []
    },
    {
      "cell_type": "code",
      "metadata": {
        "_cell_guid": "52b248b9-679b-bb99-923a-97ce37440bfc",
        "id": "QvpBo_bu-ZE8",
        "colab": {
          "base_uri": "https://localhost:8080/",
          "height": 328
        },
        "outputId": "61c9529e-c6a6-42cd-8d52-f8707f783832"
      },
      "source": [
        "# 오류 : DataFrame.from_items\n",
        "# df = pd.DataFrame.from_items(pred_scores,orient='index', columns=['Score'])\n",
        "score=pd.DataFrame.from_dict(dict(pred_scores),orient='index',columns=['Score'])\n",
        "score\n"
      ],
      "execution_count": null,
      "outputs": [
        {
          "output_type": "execute_result",
          "data": {
            "text/html": [
              "<div>\n",
              "<style scoped>\n",
              "    .dataframe tbody tr th:only-of-type {\n",
              "        vertical-align: middle;\n",
              "    }\n",
              "\n",
              "    .dataframe tbody tr th {\n",
              "        vertical-align: top;\n",
              "    }\n",
              "\n",
              "    .dataframe thead th {\n",
              "        text-align: right;\n",
              "    }\n",
              "</style>\n",
              "<table border=\"1\" class=\"dataframe\">\n",
              "  <thead>\n",
              "    <tr style=\"text-align: right;\">\n",
              "      <th></th>\n",
              "      <th>Score</th>\n",
              "    </tr>\n",
              "  </thead>\n",
              "  <tbody>\n",
              "    <tr>\n",
              "      <th>SVC</th>\n",
              "      <td>0.909238</td>\n",
              "    </tr>\n",
              "    <tr>\n",
              "      <th>KN</th>\n",
              "      <td>0.909238</td>\n",
              "    </tr>\n",
              "    <tr>\n",
              "      <th>NB</th>\n",
              "      <td>0.912480</td>\n",
              "    </tr>\n",
              "    <tr>\n",
              "      <th>DT</th>\n",
              "      <td>0.392220</td>\n",
              "    </tr>\n",
              "    <tr>\n",
              "      <th>LR</th>\n",
              "      <td>0.909238</td>\n",
              "    </tr>\n",
              "    <tr>\n",
              "      <th>RF</th>\n",
              "      <td>0.403566</td>\n",
              "    </tr>\n",
              "    <tr>\n",
              "      <th>AdaBoost</th>\n",
              "      <td>0.902755</td>\n",
              "    </tr>\n",
              "    <tr>\n",
              "      <th>BgC</th>\n",
              "      <td>0.398703</td>\n",
              "    </tr>\n",
              "    <tr>\n",
              "      <th>ETC</th>\n",
              "      <td>0.413290</td>\n",
              "    </tr>\n",
              "  </tbody>\n",
              "</table>\n",
              "</div>"
            ],
            "text/plain": [
              "             Score\n",
              "SVC       0.909238\n",
              "KN        0.909238\n",
              "NB        0.912480\n",
              "DT        0.392220\n",
              "LR        0.909238\n",
              "RF        0.403566\n",
              "AdaBoost  0.902755\n",
              "BgC       0.398703\n",
              "ETC       0.413290"
            ]
          },
          "metadata": {
            "tags": []
          },
          "execution_count": 29
        }
      ]
    },
    {
      "cell_type": "code",
      "metadata": {
        "_cell_guid": "c8f328a9-2fb9-70f3-97d7-77be91920131",
        "id": "MJPap0-a-ZE_",
        "colab": {
          "base_uri": "https://localhost:8080/",
          "height": 404
        },
        "outputId": "e663461d-a068-404b-a36a-aa6d7c90f408"
      },
      "source": [
        "score.plot(kind='bar', ylim=(0.3,1.0), figsize=(11,6), align='center', colormap=\"Accent\")\n",
        "plt.xticks(np.arange(9), df.index)\n",
        "plt.ylabel('Accuracy Score')\n",
        "plt.title('Distribution by Classifier')\n",
        "plt.legend(bbox_to_anchor=(1.05, 1), loc=2, borderaxespad=0.)"
      ],
      "execution_count": null,
      "outputs": [
        {
          "output_type": "execute_result",
          "data": {
            "text/plain": [
              "<matplotlib.legend.Legend at 0x7fe68e351588>"
            ]
          },
          "metadata": {
            "tags": []
          },
          "execution_count": 32
        },
        {
          "output_type": "display_data",
          "data": {
            "image/png": "[encoded data removed]",
            "text/plain": [
              "<Figure size 792x432 with 1 Axes>"
            ]
          },
          "metadata": {
            "tags": [],
            "needs_background": "light"
          }
        }
      ]
    },
    {
      "cell_type": "markdown",
      "metadata": {
        "_cell_guid": "9f0677da-7086-16bd-72ee-9b7773e450a6",
        "id": "pD9aQzBW-ZFB"
      },
      "source": [
        "Looks like ensemble classifiers are not doing as good as expected."
      ]
    },
    {
      "cell_type": "markdown",
      "metadata": {
        "_cell_guid": "bb9b55cc-0b1d-2542-0d55-48a5c4b83b81",
        "id": "uCl22k-d-ZFC"
      },
      "source": [
        "### Stemmer"
      ]
    },
    {
      "cell_type": "markdown",
      "metadata": {
        "_cell_guid": "6ccb1920-3517-c118-7156-fad8f57c1691",
        "id": "NpfHag8U-ZFC"
      },
      "source": [
        "It is said that stemming short messages does no goot or even harm predictions. Let's try this out."
      ]
    },
    {
      "cell_type": "markdown",
      "metadata": {
        "_cell_guid": "3f8663ef-bd68-2d8c-34b6-1231e7a665fe",
        "id": "PhsUW4b8-ZFC"
      },
      "source": [
        "Define our stemmer function"
      ]
    },
    {
      "cell_type": "code",
      "metadata": {
        "id": "pvem6Lr1Asr2"
      },
      "source": [
        "# 현재 오픈문항이 단답형이기 때문에 어간추출 생략함"
      ],
      "execution_count": null,
      "outputs": []
    },
    {
      "cell_type": "code",
      "metadata": {
        "_cell_guid": "e5b19298-c67e-bc13-58b7-0f3de5221189",
        "id": "P6_k1IZK-ZFD"
      },
      "source": [
        "# def stemmer (text):\n",
        "#     text = text.split()\n",
        "#     words = \"\"\n",
        "#     for i in text:\n",
        "#             stemmer = SnowballStemmer(\"Korean\")\n",
        "#             words += (stemmer.stem(i))+\" \"\n",
        "#     return words"
      ],
      "execution_count": null,
      "outputs": []
    },
    {
      "cell_type": "code",
      "metadata": {
        "_cell_guid": "93da4610-5803-01b3-ff7c-17acc500650d",
        "id": "HHr22SHT-ZFJ"
      },
      "source": [
        "# text_feat = text_feat.apply(stemmer)"
      ],
      "execution_count": null,
      "outputs": []
    },
    {
      "cell_type": "code",
      "metadata": {
        "id": "ED6xhUP9Assb"
      },
      "source": [
        "#대신 벡터라이즈를 수정\n",
        "# CountVectorizer() : \n",
        "# 가장 단순한 특징으로, 텍스트에서 단위별 등장횟수를 카운팅하여 수치벡터화\n",
        "# 특별한 의미를 지니지 않는데 자주 사용되는 단어가 높은 가중을 가질 수 있음"
      ],
      "execution_count": null,
      "outputs": []
    },
    {
      "cell_type": "code",
      "metadata": {
        "id": "k2OkWVczAstg"
      },
      "source": [
        "from sklearn.feature_extraction.text import CountVectorizer\n",
        "vectorizer2 = CountVectorizer(min_df=1)"
      ],
      "execution_count": null,
      "outputs": []
    },
    {
      "cell_type": "code",
      "metadata": {
        "_cell_guid": "d3e882d5-737d-13c6-53a3-99173de104a8",
        "id": "Cs5a6Djh-ZFM"
      },
      "source": [
        "features = vectorizer2.fit_transform(text_feat)"
      ],
      "execution_count": null,
      "outputs": []
    },
    {
      "cell_type": "code",
      "metadata": {
        "_cell_guid": "433d51e7-f5bf-e9d6-1c67-02274f4f2504",
        "id": "JNePsfd3-ZFO"
      },
      "source": [
        "features_train, features_test, labels_train, labels_test = train_test_split(features, df['label'], test_size=0.3, random_state=111)"
      ],
      "execution_count": null,
      "outputs": []
    },
    {
      "cell_type": "code",
      "metadata": {
        "_cell_guid": "67c866a0-cdc6-7b4a-45e9-97a9bc60bcb0",
        "id": "vsCAPYz2-ZFR"
      },
      "source": [
        "pred_scores = []\n",
        "for k,v in clfs.items():\n",
        "    train_classifier(v, features_train, labels_train)\n",
        "    pred = predict_labels(v,features_test)\n",
        "    pred_scores.append((k, [accuracy_score(labels_test,pred)]))"
      ],
      "execution_count": null,
      "outputs": []
    },
    {
      "cell_type": "code",
      "metadata": {
        "_cell_guid": "0fc7b0b4-6f5a-0729-bdfd-c2d963f72e0e",
        "id": "F79hlmVz-ZFT",
        "colab": {
          "base_uri": "https://localhost:8080/",
          "height": 328
        },
        "outputId": "6a45808a-c7ef-4ca3-c996-fe3515a3a56f"
      },
      "source": [
        "# df2 = pd.DataFrame.from_items(pred_scores,orient='index', columns=['Score2'])\n",
        "score2 = pd.DataFrame.from_dict(dict(pred_scores),orient='index', columns=['Score2'])\n",
        "score = pd.concat([score,score2],axis=1)\n",
        "score"
      ],
      "execution_count": null,
      "outputs": [
        {
          "output_type": "execute_result",
          "data": {
            "text/html": [
              "<div>\n",
              "<style scoped>\n",
              "    .dataframe tbody tr th:only-of-type {\n",
              "        vertical-align: middle;\n",
              "    }\n",
              "\n",
              "    .dataframe tbody tr th {\n",
              "        vertical-align: top;\n",
              "    }\n",
              "\n",
              "    .dataframe thead th {\n",
              "        text-align: right;\n",
              "    }\n",
              "</style>\n",
              "<table border=\"1\" class=\"dataframe\">\n",
              "  <thead>\n",
              "    <tr style=\"text-align: right;\">\n",
              "      <th></th>\n",
              "      <th>Score</th>\n",
              "      <th>Score2</th>\n",
              "    </tr>\n",
              "  </thead>\n",
              "  <tbody>\n",
              "    <tr>\n",
              "      <th>SVC</th>\n",
              "      <td>0.909238</td>\n",
              "      <td>0.909238</td>\n",
              "    </tr>\n",
              "    <tr>\n",
              "      <th>KN</th>\n",
              "      <td>0.909238</td>\n",
              "      <td>0.909238</td>\n",
              "    </tr>\n",
              "    <tr>\n",
              "      <th>NB</th>\n",
              "      <td>0.912480</td>\n",
              "      <td>0.896272</td>\n",
              "    </tr>\n",
              "    <tr>\n",
              "      <th>DT</th>\n",
              "      <td>0.392220</td>\n",
              "      <td>0.401945</td>\n",
              "    </tr>\n",
              "    <tr>\n",
              "      <th>LR</th>\n",
              "      <td>0.909238</td>\n",
              "      <td>0.909238</td>\n",
              "    </tr>\n",
              "    <tr>\n",
              "      <th>RF</th>\n",
              "      <td>0.403566</td>\n",
              "      <td>0.387358</td>\n",
              "    </tr>\n",
              "    <tr>\n",
              "      <th>AdaBoost</th>\n",
              "      <td>0.902755</td>\n",
              "      <td>0.909238</td>\n",
              "    </tr>\n",
              "    <tr>\n",
              "      <th>BgC</th>\n",
              "      <td>0.398703</td>\n",
              "      <td>0.376013</td>\n",
              "    </tr>\n",
              "    <tr>\n",
              "      <th>ETC</th>\n",
              "      <td>0.413290</td>\n",
              "      <td>0.392220</td>\n",
              "    </tr>\n",
              "  </tbody>\n",
              "</table>\n",
              "</div>"
            ],
            "text/plain": [
              "             Score    Score2\n",
              "SVC       0.909238  0.909238\n",
              "KN        0.909238  0.909238\n",
              "NB        0.912480  0.896272\n",
              "DT        0.392220  0.401945\n",
              "LR        0.909238  0.909238\n",
              "RF        0.403566  0.387358\n",
              "AdaBoost  0.902755  0.909238\n",
              "BgC       0.398703  0.376013\n",
              "ETC       0.413290  0.392220"
            ]
          },
          "metadata": {
            "tags": []
          },
          "execution_count": 37
        }
      ]
    },
    {
      "cell_type": "code",
      "metadata": {
        "_cell_guid": "bdee0cfd-c0c8-c488-d763-2610bccff986",
        "id": "jpbZ77A--ZFX",
        "colab": {
          "base_uri": "https://localhost:8080/",
          "height": 404
        },
        "outputId": "f5748102-19ab-4f20-c864-ea56222019a1"
      },
      "source": [
        "score.plot(kind='bar', ylim=(0.3,1.0), figsize=(11,6), align='center', colormap=\"Accent\")\n",
        "plt.xticks(np.arange(9), df.index)\n",
        "plt.ylabel('Accuracy Score')\n",
        "plt.title('Distribution by Classifier')\n",
        "plt.legend(bbox_to_anchor=(1.05, 1), loc=2, borderaxespad=0.)"
      ],
      "execution_count": null,
      "outputs": [
        {
          "output_type": "execute_result",
          "data": {
            "text/plain": [
              "<matplotlib.legend.Legend at 0x7fe68e288780>"
            ]
          },
          "metadata": {
            "tags": []
          },
          "execution_count": 38
        },
        {
          "output_type": "display_data",
          "data": {
            "image/png": "[encoded data removed]",
            "text/plain": [
              "<Figure size 792x432 with 1 Axes>"
            ]
          },
          "metadata": {
            "tags": [],
            "needs_background": "light"
          }
        }
      ]
    },
    {
      "cell_type": "code",
      "metadata": {
        "id": "jPAPnLw1As4w",
        "colab": {
          "base_uri": "https://localhost:8080/"
        },
        "outputId": "3fabdf7a-fe0f-444e-d6a4-dd5fb7138236"
      },
      "source": [
        "#보통 2개를 분류하는 케이스에서는 활성화함수를 'relu'씀.\n",
        "\n",
        "import keras\n",
        "from keras.layers import Dense\n",
        "from keras.models import Sequential\n",
        "\n",
        "#모델구성\n",
        "model = Sequential()\n",
        "model.add(Dense(units = 100 , activation = 'relu' , input_dim = features_train.shape[1]))\n",
        "model.add(Dense(units = 50 , activation = 'relu'))\n",
        "model.add(Dense(units = 25 , activation = 'relu'))\n",
        "model.add(Dense(units = 10 , activation = 'relu'))\n",
        "model.add(Dense(units = 1 , activation = 'sigmoid'))\n",
        "model.compile(optimizer = 'adam' , loss = 'binary_crossentropy' , metrics = ['accuracy'])\n",
        "model.summary()"
      ],
      "execution_count": null,
      "outputs": [
        {
          "output_type": "stream",
          "text": [
            "Model: \"sequential\"\n",
            "_________________________________________________________________\n",
            "Layer (type)                 Output Shape              Param #   \n",
            "=================================================================\n",
            "dense (Dense)                (None, 100)               170600    \n",
            "_________________________________________________________________\n",
            "dense_1 (Dense)              (None, 50)                5050      \n",
            "_________________________________________________________________\n",
            "dense_2 (Dense)              (None, 25)                1275      \n",
            "_________________________________________________________________\n",
            "dense_3 (Dense)              (None, 10)                260       \n",
            "_________________________________________________________________\n",
            "dense_4 (Dense)              (None, 1)                 11        \n",
            "=================================================================\n",
            "Total params: 177,196\n",
            "Trainable params: 177,196\n",
            "Non-trainable params: 0\n",
            "_________________________________________________________________\n"
          ],
          "name": "stdout"
        }
      ]
    },
    {
      "cell_type": "code",
      "metadata": {
        "id": "zxBRj23XAs6s",
        "colab": {
          "base_uri": "https://localhost:8080/"
        },
        "outputId": "cfab5103-9165-40f4-9221-2105b0ce3a22"
      },
      "source": [
        "#모델훈련\n",
        "y_test = np.array(labels_train) #array로 바꿔줘야한다고 함 ...\n",
        "model.fit(features_train,y_test , epochs = 5)"
      ],
      "execution_count": null,
      "outputs": [
        {
          "output_type": "stream",
          "text": [
            "Epoch 1/5\n",
            "45/45 [==============================] - 0s 3ms/step - loss: 0.4841 - accuracy: 0.8832\n",
            "Epoch 2/5\n",
            "45/45 [==============================] - 0s 3ms/step - loss: 0.3108 - accuracy: 0.8873\n",
            "Epoch 3/5\n",
            "45/45 [==============================] - 0s 3ms/step - loss: 0.2587 - accuracy: 0.8873\n",
            "Epoch 4/5\n",
            "45/45 [==============================] - 0s 3ms/step - loss: 0.1832 - accuracy: 0.8873\n",
            "Epoch 5/5\n",
            "45/45 [==============================] - 0s 3ms/step - loss: 0.1006 - accuracy: 0.9152\n"
          ],
          "name": "stdout"
        },
        {
          "output_type": "execute_result",
          "data": {
            "text/plain": [
              "<tensorflow.python.keras.callbacks.History at 0x7fe6020cfcc0>"
            ]
          },
          "metadata": {
            "tags": []
          },
          "execution_count": 43
        }
      ]
    },
    {
      "cell_type": "code",
      "metadata": {
        "id": "yLbtuGnHAs7F"
      },
      "source": [
        "pred = model.predict(features_test)"
      ],
      "execution_count": null,
      "outputs": []
    },
    {
      "cell_type": "code",
      "metadata": {
        "id": "SHBO7NAPAs7e",
        "colab": {
          "base_uri": "https://localhost:8080/"
        },
        "outputId": "97310d82-9af5-4314-ef80-6444d06defbf"
      },
      "source": [
        "print(accuracy_score(labels_test,pred.round()))"
      ],
      "execution_count": null,
      "outputs": [
        {
          "output_type": "stream",
          "text": [
            "0.9173419773095624\n"
          ],
          "name": "stdout"
        }
      ]
    },
    {
      "cell_type": "markdown",
      "metadata": {
        "_cell_guid": "eb1afe61-9bf0-7a48-8553-913faa8f2ce3",
        "id": "43dRKWL_-ZFb"
      },
      "source": [
        "Looks like mostly the same . Ensemble classifiers doing a little bit better, NB still got the lead."
      ]
    },
    {
      "cell_type": "markdown",
      "metadata": {
        "_cell_guid": "4359be28-c242-f619-d5e4-182a7db73716",
        "id": "FzlOxhI_-ZFb"
      },
      "source": [
        "### What have we forgotten? Message length!"
      ]
    },
    {
      "cell_type": "markdown",
      "metadata": {
        "_cell_guid": "90388ff7-bd5e-a224-3fab-e3d29242b5b1",
        "id": "h2R-1QKR-ZFc"
      },
      "source": [
        "Let's append our message length feature to the matrix we fit into our classifiers"
      ]
    },
    {
      "cell_type": "code",
      "metadata": {
        "id": "hJbAFMQ7As7-"
      },
      "source": [
        "# 오류 : as_matrix()\n",
        "# lf = sms['length'].as_matrix()\n",
        "lf =df['length'].values\n",
        "newfeat = np.hstack((features.todense(),lf[:, None]))"
      ],
      "execution_count": null,
      "outputs": []
    },
    {
      "cell_type": "code",
      "metadata": {
        "_cell_guid": "dc824a5a-ca6f-423a-89cd-512cfe07e4cb",
        "id": "84Fc-8sU-ZFg",
        "colab": {
          "base_uri": "https://localhost:8080/"
        },
        "outputId": "27f964e2-18ee-4910-89ae-411ae45e50a8"
      },
      "source": [
        "features_train, features_test, labels_train, labels_test = train_test_split(newfeat, df['label'], test_size=0.3, random_state=111)\n",
        "features_test"
      ],
      "execution_count": null,
      "outputs": [
        {
          "output_type": "execute_result",
          "data": {
            "text/plain": [
              "matrix([[0, 0, 0, ..., 0, 0, 5],\n",
              "        [0, 0, 0, ..., 0, 0, 4],\n",
              "        [0, 0, 0, ..., 0, 0, 5],\n",
              "        ...,\n",
              "        [0, 0, 0, ..., 0, 0, 7],\n",
              "        [0, 0, 0, ..., 0, 0, 3],\n",
              "        [0, 0, 0, ..., 0, 0, 7]])"
            ]
          },
          "metadata": {
            "tags": []
          },
          "execution_count": 68
        }
      ]
    },
    {
      "cell_type": "code",
      "metadata": {
        "_cell_guid": "5470c596-720f-3d1f-cfeb-02cfcc4a7bac",
        "id": "hA7V3sJ1-ZFj"
      },
      "source": [
        "pred_scores = []\n",
        "for k,v in clfs.items():\n",
        "    train_classifier(v, features_train, labels_train)\n",
        "    pred = predict_labels(v,features_test)\n",
        "    pred_scores.append((k, [accuracy_score(labels_test,pred)]))"
      ],
      "execution_count": null,
      "outputs": []
    },
    {
      "cell_type": "code",
      "metadata": {
        "_cell_guid": "7a77c087-88ed-f1c8-e2f4-fe135886af66",
        "id": "FYVpG0Ze-ZFl",
        "colab": {
          "base_uri": "https://localhost:8080/",
          "height": 328
        },
        "outputId": "20183f92-2b85-484c-a137-53b1ba4139c5"
      },
      "source": [
        "# df3 = pd.DataFrame.from_items(pred_scores,orient='index', columns=['Score3'])\n",
        "score3 = pd.DataFrame.from_dict(dict(pred_scores),orient='index', columns=['Score3'])\n",
        "score = pd.concat([score,score3],axis=1)\n",
        "score"
      ],
      "execution_count": null,
      "outputs": [
        {
          "output_type": "execute_result",
          "data": {
            "text/html": [
              "<div>\n",
              "<style scoped>\n",
              "    .dataframe tbody tr th:only-of-type {\n",
              "        vertical-align: middle;\n",
              "    }\n",
              "\n",
              "    .dataframe tbody tr th {\n",
              "        vertical-align: top;\n",
              "    }\n",
              "\n",
              "    .dataframe thead th {\n",
              "        text-align: right;\n",
              "    }\n",
              "</style>\n",
              "<table border=\"1\" class=\"dataframe\">\n",
              "  <thead>\n",
              "    <tr style=\"text-align: right;\">\n",
              "      <th></th>\n",
              "      <th>Score</th>\n",
              "      <th>Score2</th>\n",
              "      <th>Score3</th>\n",
              "    </tr>\n",
              "  </thead>\n",
              "  <tbody>\n",
              "    <tr>\n",
              "      <th>SVC</th>\n",
              "      <td>0.909238</td>\n",
              "      <td>0.909238</td>\n",
              "      <td>0.917342</td>\n",
              "    </tr>\n",
              "    <tr>\n",
              "      <th>KN</th>\n",
              "      <td>0.909238</td>\n",
              "      <td>0.909238</td>\n",
              "      <td>0.909238</td>\n",
              "    </tr>\n",
              "    <tr>\n",
              "      <th>NB</th>\n",
              "      <td>0.912480</td>\n",
              "      <td>0.896272</td>\n",
              "      <td>0.902755</td>\n",
              "    </tr>\n",
              "    <tr>\n",
              "      <th>DT</th>\n",
              "      <td>0.392220</td>\n",
              "      <td>0.401945</td>\n",
              "      <td>0.865478</td>\n",
              "    </tr>\n",
              "    <tr>\n",
              "      <th>LR</th>\n",
              "      <td>0.909238</td>\n",
              "      <td>0.909238</td>\n",
              "      <td>0.909238</td>\n",
              "    </tr>\n",
              "    <tr>\n",
              "      <th>RF</th>\n",
              "      <td>0.403566</td>\n",
              "      <td>0.387358</td>\n",
              "      <td>0.768233</td>\n",
              "    </tr>\n",
              "    <tr>\n",
              "      <th>AdaBoost</th>\n",
              "      <td>0.902755</td>\n",
              "      <td>0.909238</td>\n",
              "      <td>0.917342</td>\n",
              "    </tr>\n",
              "    <tr>\n",
              "      <th>BgC</th>\n",
              "      <td>0.398703</td>\n",
              "      <td>0.376013</td>\n",
              "      <td>0.756888</td>\n",
              "    </tr>\n",
              "    <tr>\n",
              "      <th>ETC</th>\n",
              "      <td>0.413290</td>\n",
              "      <td>0.392220</td>\n",
              "      <td>0.769854</td>\n",
              "    </tr>\n",
              "  </tbody>\n",
              "</table>\n",
              "</div>"
            ],
            "text/plain": [
              "             Score    Score2    Score3\n",
              "SVC       0.909238  0.909238  0.917342\n",
              "KN        0.909238  0.909238  0.909238\n",
              "NB        0.912480  0.896272  0.902755\n",
              "DT        0.392220  0.401945  0.865478\n",
              "LR        0.909238  0.909238  0.909238\n",
              "RF        0.403566  0.387358  0.768233\n",
              "AdaBoost  0.902755  0.909238  0.917342\n",
              "BgC       0.398703  0.376013  0.756888\n",
              "ETC       0.413290  0.392220  0.769854"
            ]
          },
          "metadata": {
            "tags": []
          },
          "execution_count": 49
        }
      ]
    },
    {
      "cell_type": "code",
      "metadata": {
        "_cell_guid": "e84b01e2-b9ed-6d4f-e667-5183ef30ad7b",
        "id": "_qcFpoPR-ZFo",
        "colab": {
          "base_uri": "https://localhost:8080/",
          "height": 404
        },
        "outputId": "2429306f-e01f-4331-9719-bec258eec0b0"
      },
      "source": [
        "score.plot(kind='bar', ylim=(0.7,1.0), figsize=(11,6), align='center', colormap=\"Accent\")\n",
        "plt.xticks(np.arange(9), df.index)\n",
        "plt.ylabel('Accuracy Score')\n",
        "plt.title('Distribution by Classifier')\n",
        "plt.legend(bbox_to_anchor=(1.05, 1), loc=2, borderaxespad=0.)"
      ],
      "execution_count": null,
      "outputs": [
        {
          "output_type": "execute_result",
          "data": {
            "text/plain": [
              "<matplotlib.legend.Legend at 0x7fe5f0789470>"
            ]
          },
          "metadata": {
            "tags": []
          },
          "execution_count": 50
        },
        {
          "output_type": "display_data",
          "data": {
            "image/png": "[encoded data removed]",
            "text/plain": [
              "<Figure size 792x432 with 1 Axes>"
            ]
          },
          "metadata": {
            "tags": [],
            "needs_background": "light"
          }
        }
      ]
    },
    {
      "cell_type": "markdown",
      "metadata": {
        "_cell_guid": "101bda42-19fe-ff14-7a30-e7bad174207c",
        "id": "9oD2fMsq-ZFr"
      },
      "source": [
        "This time everyone are doing a little bit worse, except for LinearRegression and RandomForest. But the winner is still MultinominalNaiveBayes."
      ]
    },
    {
      "cell_type": "markdown",
      "metadata": {
        "_cell_guid": "cbf377a8-4f68-b82a-3c19-e26f73f40e35",
        "id": "I-4uDEad-ZFr"
      },
      "source": [
        "### Voting classifier"
      ]
    },
    {
      "cell_type": "markdown",
      "metadata": {
        "_cell_guid": "7e8131cd-5934-4411-9687-f61a27751a95",
        "id": "Kh3uNy_7-ZFr"
      },
      "source": [
        "We are using ensemble algorithms here, but what about ensemble of ensembles? Will it beat NB?"
      ]
    },
    {
      "cell_type": "code",
      "metadata": {
        "_cell_guid": "e76bd4e6-6384-dcc7-2d5e-1731383c3af7",
        "id": "8gGjh1KX-ZFt"
      },
      "source": [
        "from sklearn.ensemble import VotingClassifier"
      ],
      "execution_count": null,
      "outputs": []
    },
    {
      "cell_type": "code",
      "metadata": {
        "_cell_guid": "9d59abce-ba88-1f77-b6cd-2f992fec95ac",
        "id": "EmliCt3k-ZFv"
      },
      "source": [
        "eclf = VotingClassifier(estimators=[('BgC', bc), ('ETC', etc), ('RF', rfc), ('Ada', abc)], voting='soft')"
      ],
      "execution_count": null,
      "outputs": []
    },
    {
      "cell_type": "code",
      "metadata": {
        "_cell_guid": "743afa06-5134-466b-cc31-18f54eb93f0b",
        "id": "QQatfO9H-ZFx",
        "colab": {
          "base_uri": "https://localhost:8080/"
        },
        "outputId": "540897f8-2a1b-4f49-e355-a1dccaff957f"
      },
      "source": [
        "eclf.fit(features_train,labels_train)"
      ],
      "execution_count": null,
      "outputs": [
        {
          "output_type": "execute_result",
          "data": {
            "text/plain": [
              "VotingClassifier(estimators=[('BgC',\n",
              "                              BaggingClassifier(base_estimator=None,\n",
              "                                                bootstrap=True,\n",
              "                                                bootstrap_features=False,\n",
              "                                                max_features=1.0,\n",
              "                                                max_samples=1.0, n_estimators=9,\n",
              "                                                n_jobs=None, oob_score=False,\n",
              "                                                random_state=111, verbose=0,\n",
              "                                                warm_start=False)),\n",
              "                             ('ETC',\n",
              "                              ExtraTreesClassifier(bootstrap=False,\n",
              "                                                   ccp_alpha=0.0,\n",
              "                                                   class_weight=None,\n",
              "                                                   criterion='gini',\n",
              "                                                   max_depth=None,\n",
              "                                                   max_fe...\n",
              "                                                     min_impurity_split=None,\n",
              "                                                     min_samples_leaf=1,\n",
              "                                                     min_samples_split=2,\n",
              "                                                     min_weight_fraction_leaf=0.0,\n",
              "                                                     n_estimators=31,\n",
              "                                                     n_jobs=None,\n",
              "                                                     oob_score=False,\n",
              "                                                     random_state=111,\n",
              "                                                     verbose=0,\n",
              "                                                     warm_start=False)),\n",
              "                             ('Ada',\n",
              "                              AdaBoostClassifier(algorithm='SAMME.R',\n",
              "                                                 base_estimator=None,\n",
              "                                                 learning_rate=1.0,\n",
              "                                                 n_estimators=62,\n",
              "                                                 random_state=111))],\n",
              "                 flatten_transform=True, n_jobs=None, voting='soft',\n",
              "                 weights=None)"
            ]
          },
          "metadata": {
            "tags": []
          },
          "execution_count": 53
        }
      ]
    },
    {
      "cell_type": "code",
      "metadata": {
        "_cell_guid": "d834da3c-3dc9-e209-0c80-9f93c3d8a519",
        "id": "5NGMIm7N-ZF2"
      },
      "source": [
        "pred = eclf.predict(features_test)"
      ],
      "execution_count": null,
      "outputs": []
    },
    {
      "cell_type": "code",
      "metadata": {
        "_cell_guid": "4de3ce6c-3c95-9fe5-e5dd-0888db0bbb12",
        "id": "CXllsApF-ZF5",
        "colab": {
          "base_uri": "https://localhost:8080/"
        },
        "outputId": "214aad55-2643-49c7-93c9-d57961ff02f1"
      },
      "source": [
        "print(accuracy_score(labels_test,pred))\n",
        "\n"
      ],
      "execution_count": null,
      "outputs": [
        {
          "output_type": "stream",
          "text": [
            "0.766612641815235\n"
          ],
          "name": "stdout"
        }
      ]
    },
    {
      "cell_type": "code",
      "metadata": {
        "id": "1Vaf99JxAs-6"
      },
      "source": [
        "#모델 저장\n",
        "from sklearn.linear_model import LogisticRegression\n",
        "from sklearn import datasets\n",
        "import pickle\n",
        "from sklearn.externals import joblib\n",
        "\n",
        "\n",
        "#GBoost 자리에 최적 모델쓰면돼요\n",
        "with open('filename11.pkl', 'wb') as file:  \n",
        "    pickle.dump(eclf, file)\n",
        "\n"
      ],
      "execution_count": null,
      "outputs": []
    },
    {
      "cell_type": "code",
      "metadata": {
        "id": "14sWWkdAAs_A"
      },
      "source": [
        "#데이터에 적용하기"
      ],
      "execution_count": null,
      "outputs": []
    },
    {
      "cell_type": "code",
      "metadata": {
        "colab": {
          "base_uri": "https://localhost:8080/",
          "height": 204
        },
        "id": "Gk43hofYKLcs",
        "outputId": "223169bd-b28a-47de-e8b4-0a5fb57ffdf3"
      },
      "source": [
        "ap_data = pd.read_excel('AP open data_20201111.xlsx',sheet_name=0,usecols='A,B,C')\n",
        "ap_data = ap_data[:]\n",
        "\n",
        "ap_data.columns = ['ID','label','C1']\n",
        "ap_data['C1'] = ap_data['C1'].apply(str)\n",
        "ap_data['length'] = ap_data['C1'].apply(len)\n",
        "ap_data.head()"
      ],
      "execution_count": null,
      "outputs": [
        {
          "output_type": "execute_result",
          "data": {
            "text/html": [
              "<div>\n",
              "<style scoped>\n",
              "    .dataframe tbody tr th:only-of-type {\n",
              "        vertical-align: middle;\n",
              "    }\n",
              "\n",
              "    .dataframe tbody tr th {\n",
              "        vertical-align: top;\n",
              "    }\n",
              "\n",
              "    .dataframe thead th {\n",
              "        text-align: right;\n",
              "    }\n",
              "</style>\n",
              "<table border=\"1\" class=\"dataframe\">\n",
              "  <thead>\n",
              "    <tr style=\"text-align: right;\">\n",
              "      <th></th>\n",
              "      <th>ID</th>\n",
              "      <th>label</th>\n",
              "      <th>C1</th>\n",
              "      <th>length</th>\n",
              "    </tr>\n",
              "  </thead>\n",
              "  <tbody>\n",
              "    <tr>\n",
              "      <th>0</th>\n",
              "      <td>7</td>\n",
              "      <td>1</td>\n",
              "      <td>tet</td>\n",
              "      <td>3</td>\n",
              "    </tr>\n",
              "    <tr>\n",
              "      <th>1</th>\n",
              "      <td>83</td>\n",
              "      <td>1</td>\n",
              "      <td>해라</td>\n",
              "      <td>2</td>\n",
              "    </tr>\n",
              "    <tr>\n",
              "      <th>2</th>\n",
              "      <td>948</td>\n",
              "      <td>1</td>\n",
              "      <td>zxcvx</td>\n",
              "      <td>5</td>\n",
              "    </tr>\n",
              "    <tr>\n",
              "      <th>3</th>\n",
              "      <td>962</td>\n",
              "      <td>1</td>\n",
              "      <td>sdfsdg</td>\n",
              "      <td>6</td>\n",
              "    </tr>\n",
              "    <tr>\n",
              "      <th>4</th>\n",
              "      <td>1035</td>\n",
              "      <td>1</td>\n",
              "      <td>ttuyrt</td>\n",
              "      <td>6</td>\n",
              "    </tr>\n",
              "  </tbody>\n",
              "</table>\n",
              "</div>"
            ],
            "text/plain": [
              "     ID  label      C1  length\n",
              "0     7      1     tet       3\n",
              "1    83      1      해라       2\n",
              "2   948      1   zxcvx       5\n",
              "3   962      1  sdfsdg       6\n",
              "4  1035      1  ttuyrt       6"
            ]
          },
          "metadata": {
            "tags": []
          },
          "execution_count": 63
        }
      ]
    },
    {
      "cell_type": "code",
      "metadata": {
        "id": "kGf-fBRyAs_S",
        "colab": {
          "base_uri": "https://localhost:8080/"
        },
        "outputId": "7791464e-90e4-4bfc-82e6-a808a6972907"
      },
      "source": [
        "google_2020 = pd.read_excel('2020 google BAD sample(1-9).xlsm',sheet_name=0,usecols='A,B,C')\n",
        "google_2020.columns = ['ID','label','C1']\n",
        "google_2020['C1'] = google_2020['C1'].apply(str)\n",
        "google_2020.drop_duplicates(subset=['C1'],inplace=True) # C1 열에서 중복인 내용이 있다면 중복 제거\n",
        "google_2020['length'] = google_2020['C1'].apply(len)\n",
        "\n",
        "google_x_test = google_2020['C1']\n",
        "google_x_test = google_x_test.apply(text_process)\n",
        "google_2020.info()"
      ],
      "execution_count": null,
      "outputs": [
        {
          "output_type": "stream",
          "text": [
            "<class 'pandas.core.frame.DataFrame'>\n",
            "Int64Index: 1561 entries, 0 to 19644\n",
            "Data columns (total 4 columns):\n",
            " #   Column  Non-Null Count  Dtype \n",
            "---  ------  --------------  ----- \n",
            " 0   ID      1561 non-null   int64 \n",
            " 1   label   1561 non-null   int64 \n",
            " 2   C1      1561 non-null   object\n",
            " 3   length  1561 non-null   int64 \n",
            "dtypes: int64(3), object(1)\n",
            "memory usage: 61.0+ KB\n"
          ],
          "name": "stdout"
        }
      ]
    },
    {
      "cell_type": "code",
      "metadata": {
        "id": "SyObBa5JAs_Y"
      },
      "source": [
        "# pred = model.predict(features_test)\n",
        "# print(accuracy_score(labels_test,pred.round()))"
      ],
      "execution_count": null,
      "outputs": []
    },
    {
      "cell_type": "code",
      "metadata": {
        "id": "bXhFhEKzNeKm"
      },
      "source": [
        "google_x_test2 = google_x_test\n",
        "google_x_features = vectorizer2.fit_transform(google_x_test2)\n",
        "data = np.expand_dims(np.asarray(google_x_features), axis=0)\n",
        "google_y_test = np.array(google_2020['label'])"
      ],
      "execution_count": null,
      "outputs": []
    },
    {
      "cell_type": "code",
      "metadata": {
        "colab": {
          "base_uri": "https://localhost:8080/",
          "height": 322
        },
        "id": "R_WRROKlbzI4",
        "outputId": "408fada3-dcb8-43a9-a116-72649d3b3555"
      },
      "source": [
        "pred = eclf.predict(google_x_features.reshape(-1,1))"
      ],
      "execution_count": null,
      "outputs": [
        {
          "output_type": "error",
          "ename": "ValueError",
          "evalue": "ignored",
          "traceback": [
            "\u001b[0;31m---------------------------------------------------------------------------\u001b[0m",
            "\u001b[0;31mValueError\u001b[0m                                Traceback (most recent call last)",
            "\u001b[0;32m<ipython-input-129-21e4c4702c0b>\u001b[0m in \u001b[0;36m<module>\u001b[0;34m()\u001b[0m\n\u001b[0;32m----> 1\u001b[0;31m \u001b[0mpred\u001b[0m \u001b[0;34m=\u001b[0m \u001b[0meclf\u001b[0m\u001b[0;34m.\u001b[0m\u001b[0mpredict\u001b[0m\u001b[0;34m(\u001b[0m\u001b[0mgoogle_x_features\u001b[0m\u001b[0;34m.\u001b[0m\u001b[0mreshape\u001b[0m\u001b[0;34m(\u001b[0m\u001b[0;34m-\u001b[0m\u001b[0;36m1\u001b[0m\u001b[0;34m,\u001b[0m\u001b[0;36m1\u001b[0m\u001b[0;34m)\u001b[0m\u001b[0;34m)\u001b[0m\u001b[0;34m\u001b[0m\u001b[0;34m\u001b[0m\u001b[0m\n\u001b[0m",
            "\u001b[0;32m/usr/local/lib/python3.6/dist-packages/sklearn/ensemble/_voting.py\u001b[0m in \u001b[0;36mpredict\u001b[0;34m(self, X)\u001b[0m\n\u001b[1;32m    237\u001b[0m         \u001b[0mcheck_is_fitted\u001b[0m\u001b[0;34m(\u001b[0m\u001b[0mself\u001b[0m\u001b[0;34m)\u001b[0m\u001b[0;34m\u001b[0m\u001b[0;34m\u001b[0m\u001b[0m\n\u001b[1;32m    238\u001b[0m         \u001b[0;32mif\u001b[0m \u001b[0mself\u001b[0m\u001b[0;34m.\u001b[0m\u001b[0mvoting\u001b[0m \u001b[0;34m==\u001b[0m \u001b[0;34m'soft'\u001b[0m\u001b[0;34m:\u001b[0m\u001b[0;34m\u001b[0m\u001b[0;34m\u001b[0m\u001b[0m\n\u001b[0;32m--> 239\u001b[0;31m             \u001b[0mmaj\u001b[0m \u001b[0;34m=\u001b[0m \u001b[0mnp\u001b[0m\u001b[0;34m.\u001b[0m\u001b[0margmax\u001b[0m\u001b[0;34m(\u001b[0m\u001b[0mself\u001b[0m\u001b[0;34m.\u001b[0m\u001b[0mpredict_proba\u001b[0m\u001b[0;34m(\u001b[0m\u001b[0mX\u001b[0m\u001b[0;34m)\u001b[0m\u001b[0;34m,\u001b[0m \u001b[0maxis\u001b[0m\u001b[0;34m=\u001b[0m\u001b[0;36m1\u001b[0m\u001b[0;34m)\u001b[0m\u001b[0;34m\u001b[0m\u001b[0;34m\u001b[0m\u001b[0m\n\u001b[0m\u001b[1;32m    240\u001b[0m \u001b[0;34m\u001b[0m\u001b[0m\n\u001b[1;32m    241\u001b[0m         \u001b[0;32melse\u001b[0m\u001b[0;34m:\u001b[0m  \u001b[0;31m# 'hard' voting\u001b[0m\u001b[0;34m\u001b[0m\u001b[0;34m\u001b[0m\u001b[0m\n",
            "\u001b[0;32m/usr/local/lib/python3.6/dist-packages/sklearn/ensemble/_voting.py\u001b[0m in \u001b[0;36m_predict_proba\u001b[0;34m(self, X)\u001b[0m\n\u001b[1;32m    257\u001b[0m         \u001b[0;34m\"\"\"Predict class probabilities for X in 'soft' voting.\"\"\"\u001b[0m\u001b[0;34m\u001b[0m\u001b[0;34m\u001b[0m\u001b[0m\n\u001b[1;32m    258\u001b[0m         \u001b[0mcheck_is_fitted\u001b[0m\u001b[0;34m(\u001b[0m\u001b[0mself\u001b[0m\u001b[0;34m)\u001b[0m\u001b[0;34m\u001b[0m\u001b[0;34m\u001b[0m\u001b[0m\n\u001b[0;32m--> 259\u001b[0;31m         avg = np.average(self._collect_probas(X), axis=0,\n\u001b[0m\u001b[1;32m    260\u001b[0m                          weights=self._weights_not_none)\n\u001b[1;32m    261\u001b[0m         \u001b[0;32mreturn\u001b[0m \u001b[0mavg\u001b[0m\u001b[0;34m\u001b[0m\u001b[0;34m\u001b[0m\u001b[0m\n",
            "\u001b[0;32m/usr/local/lib/python3.6/dist-packages/sklearn/ensemble/_voting.py\u001b[0m in \u001b[0;36m_collect_probas\u001b[0;34m(self, X)\u001b[0m\n\u001b[1;32m    252\u001b[0m     \u001b[0;32mdef\u001b[0m \u001b[0m_collect_probas\u001b[0m\u001b[0;34m(\u001b[0m\u001b[0mself\u001b[0m\u001b[0;34m,\u001b[0m \u001b[0mX\u001b[0m\u001b[0;34m)\u001b[0m\u001b[0;34m:\u001b[0m\u001b[0;34m\u001b[0m\u001b[0;34m\u001b[0m\u001b[0m\n\u001b[1;32m    253\u001b[0m         \u001b[0;34m\"\"\"Collect results from clf.predict calls.\"\"\"\u001b[0m\u001b[0;34m\u001b[0m\u001b[0;34m\u001b[0m\u001b[0m\n\u001b[0;32m--> 254\u001b[0;31m         \u001b[0;32mreturn\u001b[0m \u001b[0mnp\u001b[0m\u001b[0;34m.\u001b[0m\u001b[0masarray\u001b[0m\u001b[0;34m(\u001b[0m\u001b[0;34m[\u001b[0m\u001b[0mclf\u001b[0m\u001b[0;34m.\u001b[0m\u001b[0mpredict_proba\u001b[0m\u001b[0;34m(\u001b[0m\u001b[0mX\u001b[0m\u001b[0;34m)\u001b[0m \u001b[0;32mfor\u001b[0m \u001b[0mclf\u001b[0m \u001b[0;32min\u001b[0m \u001b[0mself\u001b[0m\u001b[0;34m.\u001b[0m\u001b[0mestimators_\u001b[0m\u001b[0;34m]\u001b[0m\u001b[0;34m)\u001b[0m\u001b[0;34m\u001b[0m\u001b[0;34m\u001b[0m\u001b[0m\n\u001b[0m\u001b[1;32m    255\u001b[0m \u001b[0;34m\u001b[0m\u001b[0m\n\u001b[1;32m    256\u001b[0m     \u001b[0;32mdef\u001b[0m \u001b[0m_predict_proba\u001b[0m\u001b[0;34m(\u001b[0m\u001b[0mself\u001b[0m\u001b[0;34m,\u001b[0m \u001b[0mX\u001b[0m\u001b[0;34m)\u001b[0m\u001b[0;34m:\u001b[0m\u001b[0;34m\u001b[0m\u001b[0;34m\u001b[0m\u001b[0m\n",
            "\u001b[0;32m/usr/local/lib/python3.6/dist-packages/sklearn/ensemble/_voting.py\u001b[0m in \u001b[0;36m<listcomp>\u001b[0;34m(.0)\u001b[0m\n\u001b[1;32m    252\u001b[0m     \u001b[0;32mdef\u001b[0m \u001b[0m_collect_probas\u001b[0m\u001b[0;34m(\u001b[0m\u001b[0mself\u001b[0m\u001b[0;34m,\u001b[0m \u001b[0mX\u001b[0m\u001b[0;34m)\u001b[0m\u001b[0;34m:\u001b[0m\u001b[0;34m\u001b[0m\u001b[0;34m\u001b[0m\u001b[0m\n\u001b[1;32m    253\u001b[0m         \u001b[0;34m\"\"\"Collect results from clf.predict calls.\"\"\"\u001b[0m\u001b[0;34m\u001b[0m\u001b[0;34m\u001b[0m\u001b[0m\n\u001b[0;32m--> 254\u001b[0;31m         \u001b[0;32mreturn\u001b[0m \u001b[0mnp\u001b[0m\u001b[0;34m.\u001b[0m\u001b[0masarray\u001b[0m\u001b[0;34m(\u001b[0m\u001b[0;34m[\u001b[0m\u001b[0mclf\u001b[0m\u001b[0;34m.\u001b[0m\u001b[0mpredict_proba\u001b[0m\u001b[0;34m(\u001b[0m\u001b[0mX\u001b[0m\u001b[0;34m)\u001b[0m \u001b[0;32mfor\u001b[0m \u001b[0mclf\u001b[0m \u001b[0;32min\u001b[0m \u001b[0mself\u001b[0m\u001b[0;34m.\u001b[0m\u001b[0mestimators_\u001b[0m\u001b[0;34m]\u001b[0m\u001b[0;34m)\u001b[0m\u001b[0;34m\u001b[0m\u001b[0;34m\u001b[0m\u001b[0m\n\u001b[0m\u001b[1;32m    255\u001b[0m \u001b[0;34m\u001b[0m\u001b[0m\n\u001b[1;32m    256\u001b[0m     \u001b[0;32mdef\u001b[0m \u001b[0m_predict_proba\u001b[0m\u001b[0;34m(\u001b[0m\u001b[0mself\u001b[0m\u001b[0;34m,\u001b[0m \u001b[0mX\u001b[0m\u001b[0;34m)\u001b[0m\u001b[0;34m:\u001b[0m\u001b[0;34m\u001b[0m\u001b[0;34m\u001b[0m\u001b[0m\n",
            "\u001b[0;32m/usr/local/lib/python3.6/dist-packages/sklearn/ensemble/_bagging.py\u001b[0m in \u001b[0;36mpredict_proba\u001b[0;34m(self, X)\u001b[0m\n\u001b[1;32m    705\u001b[0m                              \u001b[0;34m\"match the input. Model n_features is {0} and \"\u001b[0m\u001b[0;34m\u001b[0m\u001b[0;34m\u001b[0m\u001b[0m\n\u001b[1;32m    706\u001b[0m                              \u001b[0;34m\"input n_features is {1}.\"\u001b[0m\u001b[0;34m\u001b[0m\u001b[0;34m\u001b[0m\u001b[0m\n\u001b[0;32m--> 707\u001b[0;31m                              \"\".format(self.n_features_, X.shape[1]))\n\u001b[0m\u001b[1;32m    708\u001b[0m \u001b[0;34m\u001b[0m\u001b[0m\n\u001b[1;32m    709\u001b[0m         \u001b[0;31m# Parallel loop\u001b[0m\u001b[0;34m\u001b[0m\u001b[0;34m\u001b[0m\u001b[0;34m\u001b[0m\u001b[0m\n",
            "\u001b[0;31mValueError\u001b[0m: Number of features of the model must match the input. Model n_features is 1706 and input n_features is 1."
          ]
        }
      ]
    },
    {
      "cell_type": "code",
      "metadata": {
        "id": "rKSTn_XVAs_i"
      },
      "source": [
        "1. 분류별로 모델 생성\n",
        "2. 통합 모델 "
      ],
      "execution_count": null,
      "outputs": []
    }
  ]
}