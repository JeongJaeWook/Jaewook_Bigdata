{
  "nbformat": 4,
  "nbformat_minor": 0,
  "metadata": {
    "colab": {
      "name": "Built-in Functions_20200101",
      "provenance": [],
      "authorship_tag": "ABX9TyO3+XxLotqjeAJq4pG8yplk",
      "include_colab_link": true
    },
    "kernelspec": {
      "name": "python3",
      "display_name": "Python 3"
    }
  },
  "cells": [
    {
      "cell_type": "markdown",
      "metadata": {
        "id": "view-in-github",
        "colab_type": "text"
      },
      "source": [
        "<a href=\"https://colab.research.google.com/github/JeongJaeWook/Portfolio-Lotto/blob/master/algorithm/Built_in_Functions_20200101.ipynb\" target=\"_parent\"><img src=\"https://colab.research.google.com/assets/colab-badge.svg\" alt=\"Open In Colab\"/></a>"
      ]
    },
    {
      "cell_type": "code",
      "metadata": {
        "id": "QKoA3t-RXXWv"
      },
      "source": [
        "#Built-in Functions"
      ],
      "execution_count": null,
      "outputs": []
    },
    {
      "cell_type": "code",
      "metadata": {
        "colab": {
          "base_uri": "https://localhost:8080/"
        },
        "id": "s7RTSwp8Xg0C",
        "outputId": "c6bcd5fc-b925-448f-85a9-b78f52d545cb"
      },
      "source": [
        "dir([1,2,3,4]) #list 내장함수들 기억안날 때 이런식으로 검색"
      ],
      "execution_count": null,
      "outputs": [
        {
          "output_type": "execute_result",
          "data": {
            "text/plain": [
              "['__add__',\n",
              " '__class__',\n",
              " '__contains__',\n",
              " '__delattr__',\n",
              " '__delitem__',\n",
              " '__dir__',\n",
              " '__doc__',\n",
              " '__eq__',\n",
              " '__format__',\n",
              " '__ge__',\n",
              " '__getattribute__',\n",
              " '__getitem__',\n",
              " '__gt__',\n",
              " '__hash__',\n",
              " '__iadd__',\n",
              " '__imul__',\n",
              " '__init__',\n",
              " '__init_subclass__',\n",
              " '__iter__',\n",
              " '__le__',\n",
              " '__len__',\n",
              " '__lt__',\n",
              " '__mul__',\n",
              " '__ne__',\n",
              " '__new__',\n",
              " '__reduce__',\n",
              " '__reduce_ex__',\n",
              " '__repr__',\n",
              " '__reversed__',\n",
              " '__rmul__',\n",
              " '__setattr__',\n",
              " '__setitem__',\n",
              " '__sizeof__',\n",
              " '__str__',\n",
              " '__subclasshook__',\n",
              " 'append',\n",
              " 'clear',\n",
              " 'copy',\n",
              " 'count',\n",
              " 'extend',\n",
              " 'index',\n",
              " 'insert',\n",
              " 'pop',\n",
              " 'remove',\n",
              " 'reverse',\n",
              " 'sort']"
            ]
          },
          "metadata": {
            "tags": []
          },
          "execution_count": 3
        }
      ]
    },
    {
      "cell_type": "code",
      "metadata": {
        "colab": {
          "base_uri": "https://localhost:8080/",
          "height": 35
        },
        "id": "1QtlgJvvXh6l",
        "outputId": "55b1a122-525c-4819-edd4-f6309743ea4d"
      },
      "source": [
        "format(100000,',')"
      ],
      "execution_count": null,
      "outputs": [
        {
          "output_type": "execute_result",
          "data": {
            "application/vnd.google.colaboratory.intrinsic+json": {
              "type": "string"
            },
            "text/plain": [
              "'100,000'"
            ]
          },
          "metadata": {
            "tags": []
          },
          "execution_count": 4
        }
      ]
    },
    {
      "cell_type": "code",
      "metadata": {
        "colab": {
          "base_uri": "https://localhost:8080/",
          "height": 35
        },
        "id": "exds2rMHXooZ",
        "outputId": "d11d9668-ec23-455b-9f17-88b288df103b"
      },
      "source": [
        "format(100000,'e')"
      ],
      "execution_count": null,
      "outputs": [
        {
          "output_type": "execute_result",
          "data": {
            "application/vnd.google.colaboratory.intrinsic+json": {
              "type": "string"
            },
            "text/plain": [
              "'1.000000e+05'"
            ]
          },
          "metadata": {
            "tags": []
          },
          "execution_count": 5
        }
      ]
    },
    {
      "cell_type": "code",
      "metadata": {
        "colab": {
          "base_uri": "https://localhost:8080/",
          "height": 35
        },
        "id": "tlW51xqMXqCv",
        "outputId": "1c38ed28-b90c-4e24-df1d-2d2978aee8b6"
      },
      "source": [
        "format(10000,'x')"
      ],
      "execution_count": null,
      "outputs": [
        {
          "output_type": "execute_result",
          "data": {
            "application/vnd.google.colaboratory.intrinsic+json": {
              "type": "string"
            },
            "text/plain": [
              "'2710'"
            ]
          },
          "metadata": {
            "tags": []
          },
          "execution_count": 6
        }
      ]
    },
    {
      "cell_type": "code",
      "metadata": {
        "colab": {
          "base_uri": "https://localhost:8080/",
          "height": 35
        },
        "id": "gkpla7ypXqzM",
        "outputId": "46445fcc-6aae-4178-f7f7-03c5f68fbbc2"
      },
      "source": [
        "format(1000, '!>-020,.4f') # 오른쪽에 맞춰서 부호를 표시하고 10자리를 맞추고 소수점4자리로 표현해라\r\n"
      ],
      "execution_count": null,
      "outputs": [
        {
          "output_type": "execute_result",
          "data": {
            "application/vnd.google.colaboratory.intrinsic+json": {
              "type": "string"
            },
            "text/plain": [
              "'!!!!!!!!!!1,000.0000'"
            ]
          },
          "metadata": {
            "tags": []
          },
          "execution_count": 11
        }
      ]
    },
    {
      "cell_type": "code",
      "metadata": {
        "colab": {
          "base_uri": "https://localhost:8080/"
        },
        "id": "KWUm708KX16W",
        "outputId": "4958cbe5-e0d0-414c-fca7-6e37afebf873"
      },
      "source": [
        "def jw(value):\r\n",
        "  if value % 2 ==0:\r\n",
        "    return True\r\n",
        "  else:\r\n",
        "    return False\r\n",
        "\r\n",
        "\r\n",
        "list(filter(jw,range(20))) #함수에 조건에 맞는 애들을 출력해주는 filter\r\n"
      ],
      "execution_count": null,
      "outputs": [
        {
          "output_type": "execute_result",
          "data": {
            "text/plain": [
              "[0, 2, 4, 6, 8, 10, 12, 14, 16, 18]"
            ]
          },
          "metadata": {
            "tags": []
          },
          "execution_count": 15
        }
      ]
    },
    {
      "cell_type": "code",
      "metadata": {
        "colab": {
          "base_uri": "https://localhost:8080/"
        },
        "id": "uudIr5RhYJZA",
        "outputId": "71474577-c7eb-47fa-fc87-b5ac49c716d6"
      },
      "source": [
        "list(filter(lambda x: x%2==0,range(20)))"
      ],
      "execution_count": null,
      "outputs": [
        {
          "output_type": "execute_result",
          "data": {
            "text/plain": [
              "[0, 2, 4, 6, 8, 10, 12, 14, 16, 18]"
            ]
          },
          "metadata": {
            "tags": []
          },
          "execution_count": 14
        }
      ]
    },
    {
      "cell_type": "code",
      "metadata": {
        "colab": {
          "base_uri": "https://localhost:8080/"
        },
        "id": "2t1O6C26YTC-",
        "outputId": "269d151b-9152-4f0f-e555-0e50d3acb9a5"
      },
      "source": [
        "[i for i in range(20) if i % 2 ==0]"
      ],
      "execution_count": null,
      "outputs": [
        {
          "output_type": "execute_result",
          "data": {
            "text/plain": [
              "[0, 2, 4, 6, 8, 10, 12, 14, 16, 18]"
            ]
          },
          "metadata": {
            "tags": []
          },
          "execution_count": 17
        }
      ]
    },
    {
      "cell_type": "code",
      "metadata": {
        "colab": {
          "base_uri": "https://localhost:8080/"
        },
        "id": "gWyy31SuYfyE",
        "outputId": "6aecb057-33ae-4ad1-81da-0504fc39c02e"
      },
      "source": [
        "len([2,3,4,5])"
      ],
      "execution_count": null,
      "outputs": [
        {
          "output_type": "execute_result",
          "data": {
            "text/plain": [
              "4"
            ]
          },
          "metadata": {
            "tags": []
          },
          "execution_count": 18
        }
      ]
    },
    {
      "cell_type": "code",
      "metadata": {
        "colab": {
          "base_uri": "https://localhost:8080/"
        },
        "id": "uhrHurJ7YoQY",
        "outputId": "3d2f023c-cd05-438b-88da-0c4ea0365b9d"
      },
      "source": [
        "print(list(map(jw,range(20))))\r\n",
        "print(list(map(lambda x: x%2==0,range(20))))"
      ],
      "execution_count": null,
      "outputs": [
        {
          "output_type": "stream",
          "text": [
            "[True, False, True, False, True, False, True, False, True, False, True, False, True, False, True, False, True, False, True, False]\n",
            "[True, False, True, False, True, False, True, False, True, False, True, False, True, False, True, False, True, False, True, False]\n"
          ],
          "name": "stdout"
        }
      ]
    },
    {
      "cell_type": "code",
      "metadata": {
        "colab": {
          "base_uri": "https://localhost:8080/"
        },
        "id": "zdSgCsidYr_l",
        "outputId": "5b86edea-f591-4278-9b40-1c360124ca5d"
      },
      "source": [
        "list(zip(['a','b','c','d'],[1,2,3,4],[10,20,30,40],'ABCD'))"
      ],
      "execution_count": null,
      "outputs": [
        {
          "output_type": "execute_result",
          "data": {
            "text/plain": [
              "[('a', 1, 10, 'A'), ('b', 2, 20, 'B'), ('c', 3, 30, 'C'), ('d', 4, 40, 'D')]"
            ]
          },
          "metadata": {
            "tags": []
          },
          "execution_count": 23
        }
      ]
    },
    {
      "cell_type": "code",
      "metadata": {
        "colab": {
          "base_uri": "https://localhost:8080/",
          "height": 191
        },
        "id": "78dKTNgFY4lf",
        "outputId": "4a9b84ec-c0de-4545-a822-1c2fae9af8fa"
      },
      "source": [
        "#reversed()\r\n",
        "sorted()"
      ],
      "execution_count": null,
      "outputs": [
        {
          "output_type": "error",
          "ename": "TypeError",
          "evalue": "ignored",
          "traceback": [
            "\u001b[0;31m---------------------------------------------------------------------------\u001b[0m",
            "\u001b[0;31mTypeError\u001b[0m                                 Traceback (most recent call last)",
            "\u001b[0;32m<ipython-input-24-6f834fa3a519>\u001b[0m in \u001b[0;36m<module>\u001b[0;34m()\u001b[0m\n\u001b[1;32m      1\u001b[0m \u001b[0;31m#reversed()\u001b[0m\u001b[0;34m\u001b[0m\u001b[0;34m\u001b[0m\u001b[0;34m\u001b[0m\u001b[0m\n\u001b[0;32m----> 2\u001b[0;31m \u001b[0msorted\u001b[0m\u001b[0;34m(\u001b[0m\u001b[0;34m)\u001b[0m\u001b[0;34m\u001b[0m\u001b[0;34m\u001b[0m\u001b[0m\n\u001b[0m",
            "\u001b[0;31mTypeError\u001b[0m: Function takes at least 1 positional arguments (0 given)"
          ]
        }
      ]
    },
    {
      "cell_type": "code",
      "metadata": {
        "colab": {
          "base_uri": "https://localhost:8080/"
        },
        "id": "31qr7UtwZHYh",
        "outputId": "0a91098c-ed39-464e-9b7b-7764fc2466c2"
      },
      "source": [
        "l = [10,5,4,3,7,6]\r\n",
        "l.sort() #return값만 정렬된 값 반환\r\n",
        "l"
      ],
      "execution_count": null,
      "outputs": [
        {
          "output_type": "execute_result",
          "data": {
            "text/plain": [
              "[3, 4, 5, 6, 7, 10]"
            ]
          },
          "metadata": {
            "tags": []
          },
          "execution_count": 26
        }
      ]
    },
    {
      "cell_type": "code",
      "metadata": {
        "colab": {
          "base_uri": "https://localhost:8080/"
        },
        "id": "9zjhDkSvZKZ3",
        "outputId": "b1903af7-d5fc-44d2-ee33-af3afcf532db"
      },
      "source": [
        "testCase1 = ['abc','def','heloo world','hello','python']\r\n",
        "testCase2 = 'Life is too short, You need Python'.split()\r\n",
        "testCase3 = list(zip('anvfe',[5,4,3,2,1]))\r\n",
        "sorted(testCase1, key=len, reverse=True)\r\n",
        "sorted(testCase2, key=str.lower)\r\n",
        "print(testCase3)\r\n",
        "sorted(testCase3, key=lambda x :x[1])\r\n",
        "sorted(testCase3, key=lambda x :x[0])\r\n",
        "#딕셔너리 정렬하고 싶을 때 쓸 수 있다는거!\r\n",
        "#리스트의 튜플구조이니까!!"
      ],
      "execution_count": null,
      "outputs": [
        {
          "output_type": "stream",
          "text": [
            "[('a', 5), ('n', 4), ('v', 3), ('f', 2), ('e', 1)]\n"
          ],
          "name": "stdout"
        },
        {
          "output_type": "execute_result",
          "data": {
            "text/plain": [
              "[('a', 5), ('e', 1), ('f', 2), ('n', 4), ('v', 3)]"
            ]
          },
          "metadata": {
            "tags": []
          },
          "execution_count": 38
        }
      ]
    },
    {
      "cell_type": "code",
      "metadata": {
        "colab": {
          "base_uri": "https://localhost:8080/"
        },
        "id": "O8W6Rm8MZhHg",
        "outputId": "d71b9456-83a6-4863-83c6-d084203e7764"
      },
      "source": [
        "5 not in [1,2,4]\r\n",
        "5 in [1,2,4]"
      ],
      "execution_count": null,
      "outputs": [
        {
          "output_type": "execute_result",
          "data": {
            "text/plain": [
              "False"
            ]
          },
          "metadata": {
            "tags": []
          },
          "execution_count": 41
        }
      ]
    },
    {
      "cell_type": "code",
      "metadata": {
        "colab": {
          "base_uri": "https://localhost:8080/"
        },
        "id": "w-IYePclcqP3",
        "outputId": "7f94b0e3-f25c-4301-df33-6138cb76c0a2"
      },
      "source": [
        "l = [1,2,3,4,5]\r\n",
        "dir(l)\r\n",
        "# 'append', #요소 추가\r\n",
        "#  'clear', #다 없애는거\r\n",
        "#  'copy', #복사(리스트를 functino에 넘길때 원래값 유지할때)\r\n",
        "#  'count', #갯수\r\n",
        "#  'extend',#요소 많이 추가할 때\r\n",
        "#  'index', #어떤 요소 찾을 때\r\n",
        "#  'insert',#해당 자리에 요소 넣을 때\r\n",
        "#  'pop', #뒤에서 값 꺼낼때\r\n",
        "#  'remove', #어떠 요소 지울때(del로 지우는게 낫다)\r\n",
        "#  'reverse', #역순\r\n",
        "#  'sort' #섞기"
      ],
      "execution_count": null,
      "outputs": [
        {
          "output_type": "execute_result",
          "data": {
            "text/plain": [
              "['__add__',\n",
              " '__class__',\n",
              " '__contains__',\n",
              " '__delattr__',\n",
              " '__delitem__',\n",
              " '__dir__',\n",
              " '__doc__',\n",
              " '__eq__',\n",
              " '__format__',\n",
              " '__ge__',\n",
              " '__getattribute__',\n",
              " '__getitem__',\n",
              " '__gt__',\n",
              " '__hash__',\n",
              " '__iadd__',\n",
              " '__imul__',\n",
              " '__init__',\n",
              " '__init_subclass__',\n",
              " '__iter__',\n",
              " '__le__',\n",
              " '__len__',\n",
              " '__lt__',\n",
              " '__mul__',\n",
              " '__ne__',\n",
              " '__new__',\n",
              " '__reduce__',\n",
              " '__reduce_ex__',\n",
              " '__repr__',\n",
              " '__reversed__',\n",
              " '__rmul__',\n",
              " '__setattr__',\n",
              " '__setitem__',\n",
              " '__sizeof__',\n",
              " '__str__',\n",
              " '__subclasshook__',\n",
              " 'append',\n",
              " 'clear',\n",
              " 'copy',\n",
              " 'count',\n",
              " 'extend',\n",
              " 'index',\n",
              " 'insert',\n",
              " 'pop',\n",
              " 'remove',\n",
              " 'reverse',\n",
              " 'sort']"
            ]
          },
          "metadata": {
            "tags": []
          },
          "execution_count": 43
        }
      ]
    },
    {
      "cell_type": "code",
      "metadata": {
        "colab": {
          "base_uri": "https://localhost:8080/"
        },
        "id": "LOPmfUlcct2J",
        "outputId": "8cb66aeb-38b6-41b1-f59b-7c5b5d17f99c"
      },
      "source": [
        "#큐 - 뒤에서부터 빼고\r\n",
        "l = []\r\n",
        "\r\n",
        "l.append(10)\r\n",
        "l.append(20)\r\n",
        "l.append(30)\r\n",
        "l.pop(0)\r\n",
        "l\r\n",
        "\r\n"
      ],
      "execution_count": null,
      "outputs": [
        {
          "output_type": "execute_result",
          "data": {
            "text/plain": [
              "[20, 30]"
            ]
          },
          "metadata": {
            "tags": []
          },
          "execution_count": 47
        }
      ]
    },
    {
      "cell_type": "code",
      "metadata": {
        "colab": {
          "base_uri": "https://localhost:8080/"
        },
        "id": "mhMFK9-8dVIH",
        "outputId": "8a8e2adf-47cd-4357-a645-e5d386c071c8"
      },
      "source": [
        "#스택 - 앞에서 빼고\r\n",
        "l = []\r\n",
        "\r\n",
        "l.append(10)\r\n",
        "l.append(20)\r\n",
        "l.append(30)\r\n",
        "l.pop()\r\n",
        "l"
      ],
      "execution_count": null,
      "outputs": [
        {
          "output_type": "execute_result",
          "data": {
            "text/plain": [
              "[10, 20]"
            ]
          },
          "metadata": {
            "tags": []
          },
          "execution_count": 48
        }
      ]
    },
    {
      "cell_type": "code",
      "metadata": {
        "colab": {
          "base_uri": "https://localhost:8080/"
        },
        "id": "S8AcAeAgdoqz",
        "outputId": "c0c625be-4f1e-4a4a-dbe4-d96737a69f72"
      },
      "source": [
        "d = {'one':'하나','two':'둘'}\r\n",
        "dir(d)\r\n",
        "\r\n",
        "# 'clear',\r\n",
        "#  'copy',\r\n",
        "#  'fromkeys',\r\n",
        "#  'get',\r\n",
        "#  'items',\r\n",
        "#  'keys',\r\n",
        "#  'pop',\r\n",
        "#  'popitem',\r\n",
        "#  'setdefault',\r\n",
        "#  'update',\r\n",
        "#  'values']\r\n",
        "\r\n",
        "d.keys()\r\n",
        "d.values()\r\n",
        "d.items()"
      ],
      "execution_count": null,
      "outputs": [
        {
          "output_type": "execute_result",
          "data": {
            "text/plain": [
              "dict_items([('one', '하나'), ('two', '둘')])"
            ]
          },
          "metadata": {
            "tags": []
          },
          "execution_count": 50
        }
      ]
    },
    {
      "cell_type": "code",
      "metadata": {
        "colab": {
          "base_uri": "https://localhost:8080/"
        },
        "id": "PLAvKi4PdzL0",
        "outputId": "9f86740a-13bf-4102-c883-074f02bcfb26"
      },
      "source": [
        "del d['one']\r\n",
        "d"
      ],
      "execution_count": null,
      "outputs": [
        {
          "output_type": "execute_result",
          "data": {
            "text/plain": [
              "{'two': '둘'}"
            ]
          },
          "metadata": {
            "tags": []
          },
          "execution_count": 51
        }
      ]
    },
    {
      "cell_type": "code",
      "metadata": {
        "id": "gWF8ACLod9c3"
      },
      "source": [
        "d['one'] = '하나'"
      ],
      "execution_count": null,
      "outputs": []
    },
    {
      "cell_type": "code",
      "metadata": {
        "colab": {
          "base_uri": "https://localhost:8080/"
        },
        "id": "6DZzvol5d_zJ",
        "outputId": "6f443e43-9c8c-40ad-d050-fc5c67ed21a5"
      },
      "source": [
        "s = set('111222333445677')\r\n",
        "s"
      ],
      "execution_count": null,
      "outputs": [
        {
          "output_type": "execute_result",
          "data": {
            "text/plain": [
              "{'1', '2', '3', '4', '5', '6', '7'}"
            ]
          },
          "metadata": {
            "tags": []
          },
          "execution_count": 54
        }
      ]
    },
    {
      "cell_type": "code",
      "metadata": {
        "colab": {
          "base_uri": "https://localhost:8080/"
        },
        "id": "fB6de7HfeC1j",
        "outputId": "2a2636d0-26e7-464a-d12b-8cee9d54164f"
      },
      "source": [
        "dir(s)\r\n",
        "# 'add',\r\n",
        "#  'clear',\r\n",
        "#  'copy',\r\n",
        "#  'difference', #차집합 집합1.difference(집할2)\r\n",
        "#  'difference_update',\r\n",
        "#  'discard',\r\n",
        "#  'intersection',\r\n",
        "#  'intersection_update',\r\n",
        "#  'isdisjoint',\r\n",
        "#  'issubset',\r\n",
        "#  'issuperset',\r\n",
        "#  'pop',\r\n",
        "#  'remove',\r\n",
        "#  'symmetric_difference',\r\n",
        "#  'symmetric_difference_update',\r\n",
        "#  'union',\r\n",
        "#  'update' #한꺼번에 여러개 업데이트하고 싶을 때\r\n",
        "\r\n",
        "s.add(7)\r\n",
        "s.discard(7)"
      ],
      "execution_count": null,
      "outputs": [
        {
          "output_type": "execute_result",
          "data": {
            "text/plain": [
              "['__and__',\n",
              " '__class__',\n",
              " '__contains__',\n",
              " '__delattr__',\n",
              " '__dir__',\n",
              " '__doc__',\n",
              " '__eq__',\n",
              " '__format__',\n",
              " '__ge__',\n",
              " '__getattribute__',\n",
              " '__gt__',\n",
              " '__hash__',\n",
              " '__iand__',\n",
              " '__init__',\n",
              " '__init_subclass__',\n",
              " '__ior__',\n",
              " '__isub__',\n",
              " '__iter__',\n",
              " '__ixor__',\n",
              " '__le__',\n",
              " '__len__',\n",
              " '__lt__',\n",
              " '__ne__',\n",
              " '__new__',\n",
              " '__or__',\n",
              " '__rand__',\n",
              " '__reduce__',\n",
              " '__reduce_ex__',\n",
              " '__repr__',\n",
              " '__ror__',\n",
              " '__rsub__',\n",
              " '__rxor__',\n",
              " '__setattr__',\n",
              " '__sizeof__',\n",
              " '__str__',\n",
              " '__sub__',\n",
              " '__subclasshook__',\n",
              " '__xor__',\n",
              " 'add',\n",
              " 'clear',\n",
              " 'copy',\n",
              " 'difference',\n",
              " 'difference_update',\n",
              " 'discard',\n",
              " 'intersection',\n",
              " 'intersection_update',\n",
              " 'isdisjoint',\n",
              " 'issubset',\n",
              " 'issuperset',\n",
              " 'pop',\n",
              " 'remove',\n",
              " 'symmetric_difference',\n",
              " 'symmetric_difference_update',\n",
              " 'union',\n",
              " 'update']"
            ]
          },
          "metadata": {
            "tags": []
          },
          "execution_count": 55
        }
      ]
    },
    {
      "cell_type": "code",
      "metadata": {
        "colab": {
          "base_uri": "https://localhost:8080/"
        },
        "id": "O83TDTLOeFyG",
        "outputId": "175d6916-2a4c-4f91-b9ac-9f2d00cf2878"
      },
      "source": [
        "판콜에이 = {'A','B','C'}\r\n",
        "타이레놀 = {'A','B','D'}\r\n",
        "\r\n",
        "print(판콜에이.difference(타이레놀)) #차집합\r\n",
        "print(판콜에이.intersection(타이레놀)) #교집합\r\n",
        "print(len(판콜에이.intersection(타이레놀))) #교집합\r\n",
        "print(판콜에이.union(타이레놀)) #합집합"
      ],
      "execution_count": null,
      "outputs": [
        {
          "output_type": "stream",
          "text": [
            "{'C'}\n",
            "{'A', 'B'}\n",
            "2\n",
            "{'A', 'B', 'C', 'D'}\n"
          ],
          "name": "stdout"
        }
      ]
    },
    {
      "cell_type": "code",
      "metadata": {
        "colab": {
          "base_uri": "https://localhost:8080/"
        },
        "id": "XxHAkpzsegWh",
        "outputId": "1ee3cbc4-0c65-4cf4-a202-eadca7632f72"
      },
      "source": [
        "serverData = '아야 어여 우유 이이 아아 후후 개리 개리 라이캣 자바독 자바독 파이 썬'\r\n",
        "len(set(serverData.split()))\r\n",
        "\r\n",
        "d = {}\r\n",
        "for i in set(serverData.split()):\r\n",
        "  print(i, serverData.split().count(i))\r\n",
        "  d[i] = serverData.split().count(i)\r\n",
        "d"
      ],
      "execution_count": null,
      "outputs": [
        {
          "output_type": "stream",
          "text": [
            "어여 1\n",
            "아야 1\n",
            "파이 1\n",
            "라이캣 1\n",
            "우유 1\n",
            "썬 1\n",
            "후후 1\n",
            "개리 2\n",
            "이이 1\n",
            "자바독 2\n",
            "아아 1\n"
          ],
          "name": "stdout"
        },
        {
          "output_type": "execute_result",
          "data": {
            "text/plain": [
              "{'개리': 2,\n",
              " '라이캣': 1,\n",
              " '썬': 1,\n",
              " '아아': 1,\n",
              " '아야': 1,\n",
              " '어여': 1,\n",
              " '우유': 1,\n",
              " '이이': 1,\n",
              " '자바독': 2,\n",
              " '파이': 1,\n",
              " '후후': 1}"
            ]
          },
          "metadata": {
            "tags": []
          },
          "execution_count": 69
        }
      ]
    },
    {
      "cell_type": "code",
      "metadata": {
        "colab": {
          "base_uri": "https://localhost:8080/"
        },
        "id": "e8xGKRVnek4i",
        "outputId": "6440a494-1adb-4988-cd24-e69f22d364b5"
      },
      "source": [
        "for i in '1 2 3 4 5 6'.split():\r\n",
        "  print(int(i))\r\n",
        "\r\n",
        "print([int(i) for i in '1 2 3 4 5 6'.split()])\r\n",
        "\r\n",
        "print(list(map(int,'1 2 3 4 5 6'.split())))"
      ],
      "execution_count": null,
      "outputs": [
        {
          "output_type": "stream",
          "text": [
            "1\n",
            "2\n",
            "3\n",
            "4\n",
            "5\n",
            "6\n",
            "[1, 2, 3, 4, 5, 6]\n",
            "[1, 2, 3, 4, 5, 6]\n"
          ],
          "name": "stdout"
        }
      ]
    },
    {
      "cell_type": "code",
      "metadata": {
        "id": "KCgf5gTXfdH8"
      },
      "source": [
        ""
      ],
      "execution_count": null,
      "outputs": []
    }
  ]
}