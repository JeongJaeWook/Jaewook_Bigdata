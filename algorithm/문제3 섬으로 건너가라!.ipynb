{
 "cells": [
  {
   "cell_type": "markdown",
   "metadata": {},
   "source": [
    "1. 한 배에는  탈 수 있는 인원이 정시에는 25명, 10분마다 15명씩 탈 수 있습니다.\n",
    "2. 배는 매일 9시부터 21시 전까지(21시를 포함하지 않습니다) 10분단위로 들어옵니다. \n",
    "3. 전체 대기 인원은 14,000,605명입니다. 우리는 14,000,606번째와 14,000,607번째에 배를 타게 됩니다. 앞사람이 아프거나, 대기를 못하고 빠질 경우 대기인원이 줄어들 수도 있습니다. **라이캣과 자바독이 다른 배를 타야 할 경우에는 뒷배를 타야 합니다.**\n",
    "4. 1월은 1024일, 2월은 512일, 3월은 256일, 4월은 128일, 5월은 64일, 6월은 32일, 7월은 16일, 8월은 8일, 9월은 4일, 10월은 2일이며, 10월까지밖에 없습니다.\n",
    "5. 시간의 개념은 동일합니다. (하루는 24시간, 1시간 60분, 1분 60초)\n",
    "    - **현재 날짜는 2020년 1월 1일 입니다.**\n",
    "6. 배에 타는 순간 자바독이 화장실이 급하다 하여 화장실에 갔으며, 현재시간에 '분'만큼 배 출발이 늦어졌습니다.\n",
    "7. 배는 휴일도 동일하게 운항됩니다. 배는 천재지변에 영향을 받지 않습니다. 마법으로 날아다니거든요.\n",
    "8. **라이캣과 자바독이 배에 타는 날짜를 구하세요.**\n",
    "\n",
    "    ```python\n",
    "    **입력**\n",
    "    대기인원 = 14000605\n",
    "\n",
    "    **출력**\n",
    "    2025년 2월 413일 11시 0분 출발\n",
    "\n",
    "    **입력**\n",
    "    대기인원 = 1200202\n",
    "\n",
    "    **출력**\n",
    "    2020년 1월 1000일 11시 0분 출발\n",
    "\n",
    "    ```"
   ]
  },
  {
   "cell_type": "code",
   "execution_count": null,
   "metadata": {},
   "outputs": [],
   "source": [
    "대기인원 = 14000605\n",
    "\n",
    "9시 00분 25  25\n",
    "9시 10분 15  40\n",
    "9시 20분 15  55\n",
    "9시 30분 15  70\n",
    "9시 40분 15  85\n",
    "9시 50분 15  100\n",
    "\n",
    "#1시간에 100명씩 -- 12시간- > 1200명\n",
    "\n",
    "\n"
   ]
  },
  {
   "cell_type": "code",
   "execution_count": null,
   "metadata": {},
   "outputs": [],
   "source": [
    "일수를 구하기 위해 :대기인원 //1200"
   ]
  },
  {
   "cell_type": "code",
   "execution_count": 4,
   "metadata": {},
   "outputs": [
    {
     "name": "stdout",
     "output_type": "stream",
     "text": [
      "1024\n",
      "512\n",
      "256\n",
      "128\n",
      "64\n",
      "32\n",
      "16\n",
      "8\n",
      "4\n",
      "2\n"
     ]
    },
    {
     "data": {
      "text/plain": [
       "2046"
      ]
     },
     "execution_count": 4,
     "metadata": {},
     "output_type": "execute_result"
    }
   ],
   "source": [
    "일년일수 = 0\n",
    "for i in range(10,0,-1):\n",
    "    print(2**i)\n",
    "    일년일수 += 2**i\n",
    "\n",
    "일년일수"
   ]
  },
  {
   "cell_type": "code",
   "execution_count": 7,
   "metadata": {},
   "outputs": [
    {
     "data": {
      "text/plain": [
       "5"
      ]
     },
     "execution_count": 7,
     "metadata": {},
     "output_type": "execute_result"
    }
   ],
   "source": [
    "대기인원 = 14000605\n",
    "대기일 = 대기인원 //1200\n",
    "대기일 // 일년일수\n",
    "## 5년이 걸린다."
   ]
  },
  {
   "cell_type": "code",
   "execution_count": 10,
   "metadata": {},
   "outputs": [],
   "source": [
    "남은일수 =대기일 % 일년일수\n",
    "#몇일 -> 1월/2일의 100일정도?"
   ]
  },
  {
   "cell_type": "code",
   "execution_count": 12,
   "metadata": {},
   "outputs": [
    {
     "data": {
      "text/plain": [
       "413"
      ]
     },
     "execution_count": 12,
     "metadata": {},
     "output_type": "execute_result"
    }
   ],
   "source": [
    "월별일수누적값 = 0\n",
    "월 = 0\n",
    "for i in range(10,0,-1):\n",
    "    차감일 = 월별일수누적값\n",
    "    월별일수누적값 += 2**i\n",
    "    월 += 1\n",
    "    if 월별일수누적값 > 남은일수:\n",
    "        break\n",
    "월\n",
    "남은일수 - 차감일"
   ]
  },
  {
   "cell_type": "code",
   "execution_count": 15,
   "metadata": {},
   "outputs": [
    {
     "data": {
      "text/plain": [
       "11"
      ]
     },
     "execution_count": 15,
     "metadata": {},
     "output_type": "execute_result"
    }
   ],
   "source": [
    "최종남은인원 = 대기인원 % 1200 \n",
    "최종남은인원//100 + 9 #시간 계산\n",
    "#100으로 나눈것에 9시를 더하면 우리가 출발할 시간을 구할 수 있다."
   ]
  },
  {
   "cell_type": "code",
   "execution_count": 16,
   "metadata": {},
   "outputs": [
    {
     "data": {
      "text/plain": [
       "0"
      ]
     },
     "execution_count": 16,
     "metadata": {},
     "output_type": "execute_result"
    }
   ],
   "source": [
    "출발분 = [25,40,55,70,85,100]\n",
    "몇분에탈지계산 = 최종남은인원 % 100\n",
    "for i in 출발분:\n",
    "    if i >몇분에탈지계산:\n",
    "        당일출발_분 = 출발분.index(i) * 10\n",
    "        break\n",
    "\n",
    "당일출발_분"
   ]
  },
  {
   "cell_type": "code",
   "execution_count": 17,
   "metadata": {},
   "outputs": [
    {
     "data": {
      "text/plain": [
       "datetime.datetime(2021, 1, 11, 21, 22, 42, 223323)"
      ]
     },
     "execution_count": 17,
     "metadata": {},
     "output_type": "execute_result"
    }
   ],
   "source": [
    "import datetime\n",
    "\n",
    "오늘시간 = datetime.datetime.today()\n",
    "오늘시간"
   ]
  },
  {
   "cell_type": "code",
   "execution_count": 18,
   "metadata": {},
   "outputs": [
    {
     "data": {
      "text/plain": [
       "2021"
      ]
     },
     "execution_count": 18,
     "metadata": {},
     "output_type": "execute_result"
    }
   ],
   "source": [
    "오늘시간.year"
   ]
  },
  {
   "cell_type": "code",
   "execution_count": 19,
   "metadata": {},
   "outputs": [
    {
     "data": {
      "text/plain": [
       "22"
      ]
     },
     "execution_count": 19,
     "metadata": {},
     "output_type": "execute_result"
    }
   ],
   "source": [
    "오늘시간.minute"
   ]
  },
  {
   "cell_type": "code",
   "execution_count": 28,
   "metadata": {},
   "outputs": [],
   "source": [
    "# 01:01분ㅇ?\n",
    "시간 =1\n",
    "분 = 1\n",
    "\n",
    "f'{시간:0>2}:{분:0>2}'\n",
    "    \n",
    "대기인원 = 14000605"
   ]
  },
  {
   "cell_type": "code",
   "execution_count": 47,
   "metadata": {},
   "outputs": [],
   "source": [
    "import datetime\n",
    "오늘시간 = datetime.datetime.today()\n",
    "\n",
    "대기인원 = 14000605\n",
    "\n",
    "def solution(대기인원):\n",
    "    일년일수 = 0\n",
    "    for i in range(10,0,-1):\n",
    "#         print(2**i)\n",
    "        일년일수 += 2**i\n",
    "    년 = (대기인원 // 1200) // 일년일수\n",
    "    \n",
    "    남은일수 = (대기인원 // 1200) % 일년일수\n",
    "    \n",
    "    월별일수누적값 = 0\n",
    "    월 = 0\n",
    "    for i in range(10,0,-1):\n",
    "        차감일 = 월별일수누적값\n",
    "        월별일수누적값 += 2**i\n",
    "        월 += 1\n",
    "        if 월별일수누적값 > 남은일수:\n",
    "            break\n",
    "    \n",
    "    일 = 남은일수 - 차감일\n",
    "    \n",
    "    \n",
    "    최종남은인원 = 대기인원 % 1200\n",
    "    시 = 최종남은인원 //100 + 9 #9시를왜더하지\n",
    "    \n",
    "    출발분 = [25,40,55,70,85,100]\n",
    "    해당시간에남은인원 = 최종남은인원 % 100 + 1\n",
    "    for i in 출발분:\n",
    "        if i > 해당시간에남은인원:\n",
    "            분 = 출발분.index(i) * 10\n",
    "            break\n",
    "\n",
    "    if 최종남은인원 % 100 == 99: \n",
    "        시 += 1\n",
    "        분 = 0\n",
    "    if(오늘시간.minute + 분 > 60):\n",
    "        분 = (오늘시간.minute + 분) - 60\n",
    "        시 += 1\n",
    "        \n",
    "       \n",
    "    \n",
    "    return f'{년+2020}년 {월}년 {일}일 {시}시 {분}분 출발'\n"
   ]
  },
  {
   "cell_type": "code",
   "execution_count": 48,
   "metadata": {},
   "outputs": [
    {
     "data": {
      "text/plain": [
       "'2025년 2년 413일 11시 0분 출발'"
      ]
     },
     "execution_count": 48,
     "metadata": {},
     "output_type": "execute_result"
    }
   ],
   "source": [
    "solution(대기인원)"
   ]
  },
  {
   "cell_type": "code",
   "execution_count": null,
   "metadata": {},
   "outputs": [],
   "source": []
  }
 ],
 "metadata": {
  "kernelspec": {
   "display_name": "Python 3",
   "language": "python",
   "name": "python3"
  },
  "language_info": {
   "codemirror_mode": {
    "name": "ipython",
    "version": 3
   },
   "file_extension": ".py",
   "mimetype": "text/x-python",
   "name": "python",
   "nbconvert_exporter": "python",
   "pygments_lexer": "ipython3",
   "version": "3.6.12"
  },
  "latex_envs": {
   "LaTeX_envs_menu_present": true,
   "autoclose": false,
   "autocomplete": true,
   "bibliofile": "biblio.bib",
   "cite_by": "apalike",
   "current_citInitial": 1,
   "eqLabelWithNumbers": true,
   "eqNumInitial": 1,
   "hotkeys": {
    "equation": "Ctrl-E",
    "itemize": "Ctrl-I"
   },
   "labels_anchors": false,
   "latex_user_defs": false,
   "report_style_numbering": false,
   "user_envs_cfg": false
  },
  "varInspector": {
   "cols": {
    "lenName": 16,
    "lenType": 16,
    "lenVar": 40
   },
   "kernels_config": {
    "python": {
     "delete_cmd_postfix": "",
     "delete_cmd_prefix": "del ",
     "library": "var_list.py",
     "varRefreshCmd": "print(var_dic_list())"
    },
    "r": {
     "delete_cmd_postfix": ") ",
     "delete_cmd_prefix": "rm(",
     "library": "var_list.r",
     "varRefreshCmd": "cat(var_dic_list()) "
    }
   },
   "types_to_exclude": [
    "module",
    "function",
    "builtin_function_or_method",
    "instance",
    "_Feature"
   ],
   "window_display": false
  }
 },
 "nbformat": 4,
 "nbformat_minor": 4
}
